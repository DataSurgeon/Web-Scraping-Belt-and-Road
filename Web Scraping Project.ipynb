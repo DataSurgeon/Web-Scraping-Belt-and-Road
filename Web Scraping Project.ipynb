{
 "cells": [
  {
   "cell_type": "code",
   "execution_count": 99,
   "metadata": {},
   "outputs": [
    {
     "data": {
      "text/plain": [
       "\"\\nIntro: In the following series of cells I will explore atlas data to compare GDP around the world. \\nI will be paying particular attention to Nations that have pledged themselves to China's One Belt, One Road Initiative,\\nalso known as the Belt and Road Initiative (BRI), by signing what is refered to as an official Memorandum of Understanding.\\n\\nFurthermore, I will be comparing nations that were rated poorly on the 2019 World justice Project Rule of Law index \\nas well as the AI Global Surveillance Index to draw comparisons and derive insights.\\n\\nPredictions: I predict that Nations ranked poorly on these two indeces are also likely to be authoritatian regimes that\\nare subscribing to oppressive surveillance meausures using technology acquired as part of the Belt and Road Initiative\\n\""
      ]
     },
     "execution_count": 99,
     "metadata": {},
     "output_type": "execute_result"
    }
   ],
   "source": [
    "'''\n",
    "Intro: In the following series of cells I will explore atlas data to compare GDP around the world. \n",
    "I will be paying particular attention to Nations that have pledged themselves to China's One Belt, One Road Initiative,\n",
    "also known as the Belt and Road Initiative (BRI), by signing what is refered to as an official Memorandum of Understanding.\n",
    "\n",
    "Furthermore, I will be comparing nations that were rated poorly on the 2019 World justice Project Rule of Law index \n",
    "as well as the AI Global Surveillance Index to draw comparisons and derive insights.\n",
    "\n",
    "Predictions: I predict that Nations ranked poorly on these two indeces are also likely to be authoritatian regimes that\n",
    "are subscribing to oppressive surveillance meausures using technology acquired as part of the Belt and Road Initiative\n",
    "'''"
   ]
  },
  {
   "cell_type": "code",
   "execution_count": 100,
   "metadata": {},
   "outputs": [],
   "source": [
    "# Import libraries\n",
    "import requests\n",
    "import bs4\n",
    "from bs4 import BeautifulSoup\n",
    "import pandas as pd\n",
    "import matplotlib.pyplot as plt\n",
    "import seaborn as sns"
   ]
  },
  {
   "cell_type": "code",
   "execution_count": 101,
   "metadata": {},
   "outputs": [],
   "source": [
    "atlas_result = requests.get(\"https://www.worldatlas.com/aatlas/ctycodes.htm\")"
   ]
  },
  {
   "cell_type": "markdown",
   "metadata": {},
   "source": [
    "### HTML Data Exploration: World Atlas Data ###"
   ]
  },
  {
   "cell_type": "code",
   "execution_count": 102,
   "metadata": {},
   "outputs": [
    {
     "name": "stdout",
     "output_type": "stream",
     "text": [
      "200\n"
     ]
    }
   ],
   "source": [
    "# Status: Successful\n",
    "print(atlas_result.status_code)"
   ]
  },
  {
   "cell_type": "code",
   "execution_count": 103,
   "metadata": {},
   "outputs": [
    {
     "name": "stdout",
     "output_type": "stream",
     "text": [
      "{'Server': 'nginx/1.13.12', 'Date': 'Wed, 19 Aug 2020 18:11:38 GMT', 'Content-Type': 'text/html; charset=utf-8', 'Transfer-Encoding': 'chunked', 'Connection': 'keep-alive', 'X-Powered-By': 'PHP/7.3.5', 'X-Content-Type-Options': 'nosniff', 'X-XSS-Protection': '1; mode=block', 'X-Frame-Options': 'SAMEORIGIN', 'Content-Encoding': 'gzip'}\n"
     ]
    }
   ],
   "source": [
    "print(atlas_result.headers)"
   ]
  },
  {
   "cell_type": "code",
   "execution_count": 104,
   "metadata": {},
   "outputs": [],
   "source": [
    "atlas_src = atlas_result.content"
   ]
  },
  {
   "cell_type": "code",
   "execution_count": 105,
   "metadata": {
    "scrolled": true
   },
   "outputs": [
    {
     "name": "stdout",
     "output_type": "stream",
     "text": [
      "b'<!DOCTYPE html>\\n<html lang=\"en\">\\n<head>\\n    \\n            <title>2-Letter, 3-Letter, Country Codes for All Countries in the World</title>        <meta charset=\"utf-8\">\\n<meta name=\"description\" content=\"2-letter country codes, 3-letter country codes and a world atlas of facts flags and maps including every continent, country, dependency, exotic destination, island, major city, ocean, province, state &amp; territory on the planet!\" >\\n        <meta property=\"fb:app_id\" content=\"1534891833401557\">\\n        <meta property=\"fb:admins\" content=\"518129666\">\\n        <meta property=\"fb:admins\" content=\"100004698243421\">\\n        <meta property=\"fb:pages\" content=\"150031197968\">\\n        <meta name=\"viewport\" content=\"width=device-width, initial-scale=1\">\\n        <meta name=\"msvalidate.01\" content=\"88D149050818A728069F2C509B73C38B\" />\\n        \\n                \\n                \\n        <link rel=\"preload\" href=\"/javascript/lazyLoading.min.js\" as=\"script\">\\n        <link rel=\"preload\" href=\"/javascript/menu.min.js?version=2\" as=\"script\">    \\n        \\n                \\t<link rel=\"preload\" href=\"/javascript/functions-desktop.js?1002\" as=\"script\">\\n                \\n                \\n                \\n                \\n                            <link href=\"https://www.worldatlas.com/aatlas/ctycodes.htm\" rel=\"canonical\" >\\n    \\n    \\t    \\t\\t<script src=\"//ajax.googleapis.com/ajax/libs/jquery/1.11.3/jquery.min.js\"></script>\\n    \\t\\n                                   \\n\\n        <script>\\n            var isMobile = !1;\\n                            function setupImageMapSizes(){var a=document.getElementById(\"mapCont-lv1\")||null,b=document.getElementById(\"image-map-left\")||null,c=document.getElementById(\"image-map-right\")||null;if(null!==b&&null!==c&&a){var d=a.clientWidth,e=382;a.className&&/(^|\\\\s)wide(\\\\s|$)/.test(a.className)&&(e=500);var f=b.getAttribute(\"width\"),a=c.getAttribute(\"width\"),b=b.getAttribute(\"height\"),c=c.getAttribute(\"height\");0!=b&&0!=c&&(f/=b,a/=c,d=Math.min(Math.floor((d-30)/(f+a)),e),e=Math.floor(f*d),a=Math.floor(a*d),document.getElementById(\"mapLeft\").style.width=e+\"px\",document.getElementById(\"mapRight\").style.width=a+\"px\",document.getElementById(\"mapLeft\").style.height=document.getElementById(\"mapRight\").height=d+\"px\",document.getElementById(\"mapLeft\").style.display=\"block\",document.getElementById(\"mapRight\").style.display=\"block\")}}\\n                            function setupImageMapSizes2(){ var a=document.getElementById(\"mapCont-lv1\")||null,b=document.getElementById(\"image-map-left\")||null,c=document.getElementById(\"image-map-right\")||null;if(null!==b&&null!==c&&a){var d=a.clientWidth,e=720;var f=b.getAttribute(\"width\"),b=b.getAttribute(\"height\");0!=b&&(f/=b,d=Math.min(Math.floor((d)/(f)),e),e=Math.floor(f*d),a=Math.floor(a*d),document.getElementById(\"mapLeft\").style.width=e+\"px\",document.getElementById(\"mapRight\").height=d+\"px\",document.getElementById(\"mapLeft\").style.display=\"block\",document.getElementById(\"mapRight\").style.display=\"block\")}}\\n        </script>\\n                                \\n            <link href=\"/style/desktop/desktop.css?id=100242\"  rel=\"stylesheet\" type=\"text/css\">\\n        <link href=\"/style/desktop/media.css?id=100242\"  rel=\"stylesheet\" type=\"text/css\">\\n\\n        \\n    \\n    \\t<link rel=\"icon\" href=\"/favicon.png\" type=\"image/x-icon\">\\n\\n    \\n            <script>\\n            (function(i,s,o,g,r,a,m){i[\\'GoogleAnalyticsObject\\']=r;i[r]=i[r]||function(){\\n            (i[r].q=i[r].q||[]).push(arguments)},i[r].l=1*new Date();a=s.createElement(o),\\n            m=s.getElementsByTagName(o)[0];a.async=1;a.src=g;m.parentNode.insertBefore(a,m)\\n            })(window,document,\\'script\\',\\'//www.google-analytics.com/analytics.js\\',\\'ga\\');\\n            ga(\\'create\\', \\'UA-54278971-1\\', \\'auto\\');\\n    \\n            ga(\\'set\\', \\'dimension1\\', \\'true\\');\\nga(\\'set\\', \\'contentGroup1\\', \\'Legacy Content\\');\\nga(\\'set\\', \\'contentGroup2\\', \\'Reference/Miscellaneous - Legacy\\');\\n            ga(\\'send\\', \\'pageview\\');\\n        </script>\\n\\n\\t\\n                                <script async src=\"//js-sec.indexww.com/ht/p/185608-236800388660207.js\"></script>\\n            \\n                        <script async src=\"//cdn.districtm.ca/merge/merge.v4.2.103743.js\"></script>\\n        \\n                            \\t<script async src=\\'https://securepubads.g.doubleclick.net/tag/js/gpt.js\\'></script>\\n            \\t\\n                        <script type=\\'text/javascript\\'>\\n                function reloadAd() {\\n                    googletag.pubads().refresh([reloadSlot], {changeCorrelator: true});\\n            \\t}\\n            </script>\\n            \\n            <script type=\\'text/javascript\\'>\\n                dfpAdSlots = [\\n                                    {\\n                      slotID: \\'div-gpt-ad-1466105005014-0\\',\\n                      slotName: \\'/60277011/WA_Undertone_PageGrab\\',\\n                      sizes: [[1, 1]]\\n                    },\\n                                            {\\n                          slotID: \\'div-gpt-ad-1534784194224-0\\',\\n                          slotName: \\'/60277011/WA_Undertone_PageGrab_2.0\\',\\n                          sizes: [[1, 1]]\\n                        },\\n                                    \\n\\t\\t\\t\\t                 \\n                \\n                {\\n    slotID: \\'div-gpt-ad-1463171380981-2\\',\\n    slotName: \\'/60277011/WA_D_Countries_InContent1_300x250\\',\\n    sizes: [[300, 250]]\\n},\\n{\\n    slotID: \\'div-gpt-ad-1463171380981-3\\',\\n    slotName: \\'/60277011/WA_D_Countries_InContent2_300x250\\',\\n    sizes: [[300, 250]]\\n},\\n{\\n    slotID: \\'div-gpt-ad-1459364180249-3\\',\\n    slotName: \\'/60277011/WA_D_Articles_SideBar1_300x250\\',\\n    sizes: [[300, 250]]\\n},\\n{\\n    slotID: \\'div-gpt-ad-1463171380981-4\\',\\n    slotName: \\'/60277011/WA_D_Countries_SideBarSticky_300x250\\',\\n    sizes: [[300, 250]]\\n},\\n\\t\\t\\t\\t                \\n                ];\\n\\n                window.googletag = window.googletag || {cmd: []};\\n            \\tgoogletag.cmd.push(function() {\\n                                                                    \\tgoogletag.defineSlot(\\'/60277011/WA_Undertone_PageGrab\\', [1, 1], \\'div-gpt-ad-1466105005014-0\\').addService(googletag.pubads());\\n                                                        \\tgoogletag.defineSlot(\\'/60277011/WA_Undertone_PageGrab_2.0\\', [1, 1], \\'div-gpt-ad-1534784194224-0\\').addService(googletag.pubads());\\n                                                                            \\n                                            \\n    \\t\\t\\t\\t                     \\n\\n                                        googletag.defineSlot(\\'/60277011/WA_D_Countries_InContent1_300x250\\', [300, 250], \\'div-gpt-ad-1463171380981-2\\').addService(googletag.pubads());\\ngoogletag.defineSlot(\\'/60277011/WA_D_Countries_InContent2_300x250\\', [300, 250], \\'div-gpt-ad-1463171380981-3\\').addService(googletag.pubads());\\ngoogletag.defineSlot(\\'/60277011/WA_D_Articles_SideBar1_300x250\\', [300, 250], \\'div-gpt-ad-1459364180249-3\\').addService(googletag.pubads());\\ngoogletag.defineSlot(\\'/60277011/WA_D_Countries_SideBarSticky_300x250\\', [300, 250], \\'div-gpt-ad-1463171380981-4\\').addService(googletag.pubads());\\n                                        \\n    \\t\\t\\t\\t\\n    \\t\\t        googletag.pubads().enableLazyLoad({\\n    \\t\\t          fetchMarginPercent: 300,\\n    \\t\\t          renderMarginPercent: 100,\\n    \\t\\t          mobileScaling: 2.0\\n    \\t\\t        });    \\t\\t\\t\\t\\n\\n                    googletag.pubads().enableSingleRequest();\\n                    googletag.pubads().disableInitialLoad();\\n                    googletag.enableServices();\\n                });\\n            </script>\\n            \\n                        <script>\\n                //load the apstag.js library\\n                !function(a9,a,p,s,t,A,g){if(a[a9])return;function q(c,r){a[a9]._Q.push([c,r])}a[a9]={init:function(){q(\"i\",arguments)},fetchBids:function(){q(\"f\",arguments)},setDisplayBids:function(){},targetingKeys:function(){return[]},_Q:[]};A=p.createElement(s);A.async=!0;A.src=t;g=p.getElementsByTagName(s)[0];g.parentNode.insertBefore(A,g)}(\"apstag\",window,document,\"script\",\"//c.amazon-adsystem.com/aax2/apstag.js\");\\n                \\n                //initialize the apstag.js library on the page to allow bidding\\n                apstag.init({\\n                    pubID: \\'69898d08-0b79-4fb2-9bd6-14ccf4690357\\', //enter your pub ID here as shown above, it must within quotes\\n                    adServer: \\'googletag\\'\\n                });\\n                apstag.fetchBids({\\n                    slots: dfpAdSlots,\\n                    timeout: 2e3\\n                }, function(bids) {\\n                    // set apstag targeting on googletag, then trigger the first DFP request in googletag\\'s disableInitialLoad integration\\n                    googletag.cmd.push(function(){\\n                        apstag.setDisplayBids();\\n                        googletag.pubads().refresh();\\n                    });\\t\\n                });\\n            </script>\\n                                                \\n                          \\n        \\n                \\t<script src=\"/javascript/imageMapResizer.min.js\"></script>\\n                \\n        <script async src=\"https://cse.google.com/cse.js?cx=012615875315318150057:d6wqshz7z60\"></script>\\n        \\n                \\n                \\t<script src=\"/javascript/lib/jquery.rwdImageMaps.js\"></script>\\n                \\n                \\n                \\n                \\n         \\n        \\n        \\n<script id=\"oil-configuration\" type=\"application/configuration\">\\n        {\\n        \"config_version\": 1,\\n        \"publicPath\": \"/javascript/gdpr/\",\\n        \"timeout\": 0,\\n        \"cookie_expires_in_days\": 365,\\n        \"theme\": \"small\",\\n        \"default_to_optin\": true,\\n        \"locale\": {\\n          \"localeId\": \"enEN_01\",\\n          \"version\": \"1\",\\n          \"texts\": {\\n            \"label_intro\": \"This website uses cookies to better your experience.\"\\n          }\\n        }\\n      }\\n    </script>\\n\\n<script>\\n    !function(e){var n={};function t(o){if(n[o])return n[o].exports;var r=n[o]={i:o,l:!1,exports:{}};return e[o].call(r.exports,r,r.exports,t),r.l=!0,r.exports}t.m=e,t.c=n,t.d=function(e,n,o){t.o(e,n)||Object.defineProperty(e,n,{configurable:!1,enumerable:!0,get:o})},t.r=function(e){Object.defineProperty(e,\"__esModule\",{value:!0})},t.n=function(e){var n=e&&e.__esModule?function(){return e.default}:function(){return e};return t.d(n,\"a\",n),n},t.o=function(e,n){return Object.prototype.hasOwnProperty.call(e,n)},t.p=\"/\",t(t.s=115)}({115:function(e,n,t){\"use strict\";!function(e,n){e.__cmp||(e.__cmp=function(){function t(e){if(e){var t=!0,r=n.querySelector(\\'script[type=\"application/configuration\"]#oil-configuration\\');if(null!==r&&r.text)try{var a=JSON.parse(r.text);a&&a.hasOwnProperty(\"gdpr_applies_globally\")&&(t=a.gdpr_applies_globally)}catch(e){}e({gdprAppliesGlobally:t,cmpLoaded:o()},!0)}}function o(){return!(!e.AS_OIL||!e.AS_OIL.commandCollectionExecutor)}var r=[],a=function(n,a,c){if(\"ping\"===n)t(c);else{var i={command:n,parameter:a,callback:c};r.push(i),o()&&e.AS_OIL.commandCollectionExecutor(i)}};return a.commandCollection=r,a.receiveMessage=function(n){var a=n&&n.data&&n.data.__cmpCall;if(a)if(\"ping\"===a.command)t(function(e,t){var o={__cmpReturn:{returnValue:e,success:t,callId:a.callId}};n.source.postMessage(o,n.origin)});else{var c={callId:a.callId,command:a.command,parameter:a.parameter,event:n};r.push(c),o()&&e.AS_OIL.commandCollectionExecutor(c)}},function(n){(e.attachEvent||e.addEventListener)(\"message\",function(e){n.receiveMessage(e)},!1)}(a),function e(){if(!(n.getElementsByName(\"__cmpLocator\").length>0))if(n.body){var t=n.createElement(\"iframe\");t.style.display=\"none\",t.name=\"__cmpLocator\",n.body.appendChild(t)}else setTimeout(e,5)}(),a}())}(window,document)}});\\n</script>\\n\\n<script type=\"text/javascript\" src=\"/javascript/gdpr/oil.1.3.5-RELEASE.min.js\"></script>\\n\\n<script>\\n    function cookiesMoreInfo(){\\n        // expand the div amd make it scrollable\\n        document.getElementsByClassName(\\'as-oil-content-overlay\\')[0].style.height = \\'100%\\';\\n        document.getElementsByClassName(\\'as-oil-content-overlay\\')[0].style.overflow = \\'auto\\';\\n        // remove both inner div of heading and text\\n        document.getElementsByClassName(\\'as-oil-l-wrapper-layout-max-width\\')[0].style.display=\\'none\\'\\n        // add the privacy policy content div\\n        document.getElementById(\\'policyContent\\').style.display=\\'block\\';\\n        document.getElementsByClassName(\\'as-oil-content-overlay\\')[0].appendChild(document.getElementById(\\'policyContent\\'));\\n    }\\n    function acceptCookies() {\\n        window.AS_OIL.triggerOptIn();\\n        document.cookie = \"user_gdpr_optedout=;Expires=Thu, 01 Jan 1970 00:00:01 GMT; path=/\";\\n        if(document.getElementsByClassName(\\'as-oil\\')[0]){\\n            document.getElementsByClassName(\\'as-oil\\')[0].style.display = \\'none\\';\\n        }\\n        // to hide accept button on privacy page\\n        if(document.getElementsByClassName(\\'yes\\')[0]){\\n            document.getElementsByClassName(\\'yes\\')[0].style.display=\\'none\\';\\n        }\\n\\n    }\\n    function rejectCookies(){\\n        window.AS_OIL.triggerOptOut();\\n        document.cookie = \"user_gdpr_optedout=true;path=/\";\\n        // on Opt out reset oil div to orginal bottom bar\\n        if(document.getElementsByClassName(\\'as-oil\\')[0]) {\\n            document.getElementsByClassName(\\'as-oil\\')[0].style.display = \\'none\\';\\n            document.getElementsByClassName(\\'as-oil-l-wrapper-layout-max-width\\')[0].style.display = \\'flex\\';\\n            document.getElementsByClassName(\\'as-oil-content-overlay\\')[0].style.overflow = \\'inherit\\';\\n            document.getElementById(\\'policyContent\\').style.display = \\'none\\';\\n            document.getElementsByClassName(\\'as-oil-content-overlay\\')[0].style.height = null;\\n        }\\n        // to show accept button on privacy page\\n        if(document.getElementsByClassName(\\'yes\\')[0]){\\n            document.getElementsByClassName(\\'yes\\')[0].style.display=\\'block\\';\\n        }\\n    }\\n    function loadLibraray() {\\n        document.getElementsByClassName(\\'as-oil\\')[0].style.display = \\'block\\';\\n    }\\n    window.onload = function () {\\n        if(document.getElementsByClassName(\\'as-oil__btn-optin as-js-optin\\')[0]) {\\n            document.getElementsByClassName(\\'as-oil__btn-optin as-js-optin\\')[0].addEventListener(\\'click\\', function () {\\n                document.cookie = \"user_gdpr_optedout=;Expires=Thu, 01 Jan 1970 00:00:01 GMT;path=/\";\\n            })\\n        }\\n    }\\n</script>\\n\\n\\n\\n                                                                                        \\n</head>\\n\\n\\n<body>\\n\\n<div id=\"fb-root\"></div>\\n            <!-- /60277011/WA_Undertone_PageGrab -->\\n        <div id=\\'div-gpt-ad-1466105005014-0\\' style=\\'height:0px; width:1px;\\'>\\n        <script type=\\'text/javascript\\'>\\n        googletag.cmd.push(function() { googletag.display(\\'div-gpt-ad-1466105005014-0\\'); });\\n        </script>\\n        </div>\\n\\n                    <!-- /60277011/WA_Undertone_PageGrab_2.0 -->\\n            <div id=\\'div-gpt-ad-1534784194224-0\\' style=\\'height:1px; width:1px;\\'>\\n            <script>\\n            googletag.cmd.push(function() { googletag.display(\\'div-gpt-ad-1534784194224-0\\'); });\\n            </script>\\n            </div>\\n            \\n\\t \\n\\n<script>\\nfunction loadFBSDK() {\\n    (function(d, s, id) {\\n        var js, fjs = d.getElementsByTagName(s)[0];\\n        if (d.getElementById(id)) return;\\n        js = d.createElement(s); js.id = id;\\n        js.src = \"//connect.facebook.net/en_US/sdk.js#xfbml=1&version=v2.8&appId=1534891833401557\";\\n        fjs.parentNode.insertBefore(js, fjs);\\n    }(document, \\'script\\', \\'facebook-jssdk\\'));\\n}\\n</script>\\n\\n    \\n    <div id=\"container\">\\n    \\t<main class=\"w-main\" role=\"main\">\\n    <ol class=\"bread\" itemscope itemtype=\"https://schema.org/BreadcrumbList\">\\n        <li itemprop=\"itemListElement\" itemscope itemtype=\"https://schema.org/ListItem\">\\n            <a itemprop=\"item\" href=\"/aatlas/world.htm\"><span class=\"icon-earth\"></span><span itemprop=\"name\">World Map</span><meta itemprop=\"position\" content=\"1\" /></a><span class=\"breadSep\">/</span>\\n        </li>\\n                    <li itemprop=\"itemListElement\" itemscope itemtype=\"https://schema.org/ListItem\">\\n                <a itemprop=\"item\" class=\"brActive\" href=\"\"><span itemprop=\"name\">Complete List of Country &amp; Dialing Codes </span><meta itemprop=\"position\" content=\"2\" /></a>\\n            </li>\\n            </ol>\\n    <div class=\"flexBoxRightSticky\">\\n        <article class=\"misc-content\" >\\n            <header>\\n                                <h1 id=\"title-primary\" itemprop=\"name\">Complete List of Country &amp; Dialing Codes </h1>\\n                            </header>\\n\\n            <div class=\"miscTxt\">\\n                <p>\\tThe 2-letter codes shown below are supplied by the ISO ( \\t<i>International Organization for Standardization</i>). It bases its list of country names and abbreviations on the list of names published by the United Nations. The UN also uses 3-letter codes, and numerical codes to identify nations, and those are shown below.\\r\\n\\n                        <div id=\\'\\' class=\\'ad300x250 marginBelow clear\\'>\\n                            <!-- /60277011/WA_D_Countries_InContent1_300x250 -->\\n                            <div id=\\'div-gpt-ad-1463171380981-2\\' >\\n                            <script type=\\'text/javascript\\'>\\n                            googletag.cmd.push(function() { googletag.display(\\'div-gpt-ad-1463171380981-2\\'); });\\n                            </script>\\n                            </div>\\n                        </div>\\n                     <p>\\r\\n<p>\\tInternational Dialing Codes for making overseas phone calls are also listed below.\\r\\n</p>\\r\\n<p>\\t<strong>Note: If the columns don\\'t align correctly, please increase the font size in your browser.</strong></p><table>   <colgroup><col>  <col>  <col>  </colgroup><tbody><tr>   <td>COUNTRY</td>   <td>A2 (ISO)</td>   <td>A3 (UN)</td>   <td>NUM (UN)</td>   <td>DIALING CODE</td>  </tr>  <tr>   <td>Afghanistan</td>   <td>AF</td>   <td>AFG</td>   <td>4</td>   <td>93</td>  </tr>  <tr>   <td>Albania</td>   <td>AL</td>   <td>ALB</td>   <td>8</td>   <td>355</td>  </tr>  <tr>   <td>Algeria</td>   <td>DZ</td>   <td>DZA</td>   <td>12</td>   <td>213</td>  </tr>  <tr>   <td>American Samoa</td>   <td>AS</td>   <td>ASM</td>   <td>16</td>   <td>1-684</td>  </tr>  <tr>   <td>Andorra</td>   <td>AD</td>   <td>AND</td>   <td>20</td>   <td>376</td>  </tr>  <tr>   <td>Angola</td>   <td>AO</td>   <td>AGO</td>   <td>24</td>   <td>244</td>  </tr>  <tr>   <td>Anguilla</td>   <td>AI</td>   <td>AIA</td>   <td>660</td>   <td>1-264</td>  </tr>  <tr>   <td>Antarctica</td>   <td>AQ</td>   <td>ATA</td>   <td>10</td>   <td>672</td>  </tr>  <tr>   <td>Antigua and Barbuda</td>   <td>AG</td>   <td>ATG</td>   <td>28</td>   <td>1-268</td>  </tr>  <tr>   <td>Argentina</td>   <td>AR</td>   <td>ARG</td>   <td>32</td>   <td>54</td>  </tr>  <tr>   <td>Armenia</td>   <td>AM</td>   <td>ARM</td>   <td>51</td>   <td>374</td>  </tr>  <tr>   <td>Aruba</td>   <td>AW</td>   <td>ABW</td>   <td>533</td>   <td>297</td>  </tr>  <tr>   <td>Australia</td>   <td>AU</td>   <td>AUS</td>   <td>36</td>   <td>61</td>  </tr>  <tr>   <td>Austria</td>   <td>AT</td>   <td>AUT</td>   <td>40</td>   <td>43</td>  </tr>  <tr>   <td>Azerbaijan</td>   <td>AZ</td>   <td>AZE</td>   <td>31</td>   <td>994</td>  </tr>  <tr>   <td>Bahamas</td>   <td>BS</td>   <td>BHS</td>   <td>44</td>   <td>1-242</td>  </tr>  <tr>   <td>Bahrain</td>   <td>BH</td>   <td>BHR</td>   <td>48</td>   <td>973</td>  </tr>  <tr>   <td>Bangladesh</td>   <td>BD</td>   <td>BGD</td>   <td>50</td>   <td>880</td>  </tr>  <tr>   <td>Barbados</td>   <td>BB</td>   <td>BRB</td>   <td>52</td>   <td>1-246</td>  </tr>  <tr>   <td>Belarus</td>   <td>BY</td>   <td>BLR</td>   <td>112</td>   <td>375</td>  </tr>  <tr>   <td>Belgium</td>   <td>BE</td>   <td>BEL</td>   <td>56</td>   <td>32</td>  </tr>  <tr>   <td>Belize</td>   <td>BZ</td>   <td>BLZ</td>   <td>84</td>   <td>501</td>  </tr>  <tr>   <td>Benin</td>   <td>BJ</td>   <td>BEN</td>   <td>204</td>   <td>229</td>  </tr>  <tr>   <td>Bermuda</td>   <td>BM</td>   <td>BMU</td>   <td>60</td>   <td>1-441</td>  </tr>  <tr>   <td>Bhutan</td>   <td>BT</td>   <td>BTN</td>   <td>64</td>   <td>975</td>  </tr>  <tr>   <td>Bolivia</td>   <td>BO</td>   <td>BOL</td>   <td>68</td>   <td>591</td>  </tr>  <tr>   <td>Bonaire</td>   <td>BQ</td>   <td>BES</td>   <td>535</td>   <td>599</td>  </tr>  <tr>   <td>Bosnia and Herzegovina</td>   <td>BA</td>   <td>BIH</td>   <td>70</td>   <td>387</td>  </tr>  <tr>   <td>Botswana</td>   <td>BW</td>   <td>BWA</td>   <td>72</td>   <td>267</td>  </tr>  <tr>   <td>Bouvet Island</td>   <td>BV</td>   <td>BVT</td>   <td>74</td>   <td>47</td>  </tr>  <tr>   <td>Brazil</td>   <td>BR</td>   <td>BRA</td>   <td>76</td>   <td>55</td>  </tr>  <tr>   <td>British Indian Ocean Territory</td>   <td>IO</td>   <td>IOT</td>   <td>86</td>   <td>246</td>  </tr>  <tr>   <td>Brunei Darussalam</td>   <td>BN</td>   <td>BRN</td>   <td>96</td>   <td>673</td>  </tr>  <tr>   <td>Bulgaria</td>   <td>BG</td>   <td>BGR</td>   <td>100</td>   <td>359</td>  </tr>  <tr>   <td>Burkina Faso</td>   <td>BF</td>   <td>BFA</td>   <td>854</td>   <td>226</td>  </tr>  <tr>   <td>Burundi</td>   <td>BI</td>   <td>BDI</td>   <td>108</td>   <td>257</td>  </tr>  <tr>   <td>Cambodia</td>   <td>KH</td>   <td>KHM</td>   <td>116</td>   <td>855</td>  </tr>  <tr>   <td>Cameroon</td>   <td>CM</td>   <td>CMR</td>   <td>120</td>   <td>237</td>  </tr>  <tr>   <td>Canada</td>   <td>CA</td>   <td>CAN</td>   <td>124</td>   <td>1</td>  </tr>  <tr>   <td>Cape Verde</td>   <td>CV</td>   <td>CPV</td>   <td>132</td>   <td>238</td>  </tr>  <tr>   <td>Cayman Islands</td>   <td>KY</td>   <td>CYM</td>   <td>136</td>   <td>1-345</td>  </tr>  <tr>   <td>Central African Republic</td>   <td>CF</td>   <td>CAF</td>   <td>140</td>   <td>236</td>  </tr>  <tr>   <td>Chad</td>   <td>TD</td>   <td>TCD</td>   <td>148</td>   <td>235</td>  </tr>  <tr>   <td>Chile</td>   <td>CL</td>   <td>CHL</td>   <td>152</td>   <td>56</td>  </tr>  <tr>   <td>China</td>   <td>CN</td>   <td>CHN</td>   <td>156</td>   <td>86</td>  </tr>  <tr>   <td>Christmas Island</td>   <td>CX</td>   <td>CXR</td>   <td>162</td>   <td>61</td>  </tr>  <tr>   <td>Cocos (Keeling) Islands</td>   <td>CC</td>   <td>CCK</td>   <td>166</td>   <td>61</td>  </tr>  <tr>   <td>Colombia</td>   <td>CO</td>   <td>COL</td>   <td>170</td>   <td>57</td>  </tr>  <tr>   <td>Comoros</td>   <td>KM</td>   <td>COM</td>   <td>174</td>   <td>269</td>  </tr>  <tr>   <td>Congo</td>   <td>CG</td>   <td>COG</td>   <td>178</td>   <td>242</td>  </tr>  <tr>   <td>Democratic Republic of the Congo</td>   <td>CD</td>   <td>COD</td>   <td>180</td>   <td>243</td>  </tr>  <tr>   <td>Cook Islands</td>   <td>CK</td>   <td>COK</td>   <td>184</td>   <td>682</td>  </tr>  <tr>   <td>Costa Rica</td>   <td>CR</td>   <td>CRI</td>   <td>188</td>   <td>506</td>  </tr>  <tr>   <td>Croatia</td>   <td>HR</td>   <td>HRV</td>   <td>191</td>   <td>385</td>  </tr>  <tr>   <td>Cuba</td>   <td>CU</td>   <td>CUB</td>   <td>192</td>   <td>53</td>  </tr>  <tr>   <td>Curacao</td>   <td>CW</td>   <td>CUW</td>   <td>531</td>   <td>599</td>  </tr>  <tr>   <td>Cyprus</td>   <td>CY</td>   <td>CYP</td>   <td>196</td>   <td>357</td>  </tr>  <tr>   <td>Czech Republic</td>   <td>CZ</td>   <td>CZE</td>   <td>203</td>   <td>420</td>  </tr>  <tr>   <td>Cote d\\'Ivoire</td>   <td>CI</td>   <td>CIV</td>   <td>384</td>   <td>225</td>  </tr>  <tr>   <td>Denmark</td>   <td>DK</td>   <td>DNK</td>   <td>208</td>   <td>45</td>  </tr>  <tr>   <td>Djibouti</td>   <td>DJ</td>   <td>DJI</td>   <td>262</td>   <td>253</td>  </tr>  <tr>   <td>Dominica</td>   <td>DM</td>   <td>DMA</td>   <td>212</td>   <td>1-767</td>  </tr>  <tr>   <td>Dominican Republic</td>   <td>DO</td>   <td>DOM</td>   <td>214</td>   <td>1-809,1-829,1-849</td>  </tr>  <tr>   <td>Ecuador</td>   <td>EC</td>   <td>ECU</td>   <td>218</td>   <td>593</td>  </tr>  <tr>   <td>Egypt</td>   <td>EG</td>   <td>EGY</td>   <td>818</td>   <td>20</td>  </tr>  <tr>   <td>El Salvador</td>   <td>SV</td>   <td>SLV</td>   <td>222</td>   <td>503</td>  </tr>  <tr>   <td>Equatorial Guinea</td>   <td>GQ</td>   <td>GNQ</td>   <td>226</td>   <td>240</td>  </tr>  <tr>   <td>Eritrea</td>   <td>ER</td>   <td>ERI</td>   <td>232</td>   <td>291</td>  </tr>  <tr>   <td>Estonia</td>   <td>EE</td>   <td>EST</td>   <td>233</td>   <td>372</td>  </tr>  <tr>   <td>Ethiopia</td>   <td>ET</td>   <td>ETH</td>   <td>231</td>   <td>251</td>  </tr>  <tr>   <td>Falkland Islands (Malvinas)</td>   <td>FK</td>   <td>FLK</td>   <td>238</td>   <td>500</td>  </tr>  <tr>   <td>Faroe Islands</td>   <td>FO</td>   <td>FRO</td>   <td>234</td>   <td>298</td>  </tr>  <tr>   <td>Fiji</td>   <td>FJ</td>   <td>FJI</td>   <td>242</td>   <td>679</td>  </tr>  <tr>   <td>Finland</td>   <td>FI</td>   <td>FIN</td>   <td>246</td>   <td>358</td>  </tr>  <tr>   <td>France</td>   <td>FR</td>   <td>FRA</td>   <td>250</td>   <td>33</td>  </tr>  <tr>   <td>French Guiana</td>   <td>GF</td>   <td>GUF</td>   <td>254</td>   <td>594</td>  </tr>  <tr>   <td>French Polynesia</td>   <td>PF</td>   <td>PYF</td>   <td>258</td>   <td>689</td>  </tr>  <tr>   <td>French Southern Territories</td>   <td>TF</td>   <td>ATF</td>   <td>260</td>   <td>262</td>  </tr>  <tr>   <td>Gabon</td>   <td>GA</td>   <td>GAB</td>   <td>266</td>   <td>241</td>  </tr>  <tr>   <td>Gambia</td>   <td>GM</td>   <td>GMB</td>   <td>270</td>   <td>220</td>  </tr>  <tr>   <td>Georgia</td>   <td>GE</td>   <td>GEO</td>   <td>268</td>   <td>995</td>  </tr>  <tr>   <td>Germany</td>   <td>DE</td>   <td>DEU</td>   <td>276</td>   <td>49</td>  </tr>  <tr>   <td>Ghana</td>   <td>GH</td>   <td>GHA</td>   <td>288</td>   <td>233</td>  </tr>  <tr>   <td>Gibraltar</td>   <td>GI</td>   <td>GIB</td>   <td>292</td>   <td>350</td>  </tr>  <tr>   <td>Greece</td>   <td>GR</td>   <td>GRC</td>   <td>300</td>   <td>30</td>  </tr>  <tr>   <td>Greenland</td>   <td>GL</td>   <td>GRL</td>   <td>304</td>   <td>299</td>  </tr>  <tr>   <td>Grenada</td>   <td>GD</td>   <td>GRD</td>   <td>308</td>   <td>1-473</td>  </tr>  <tr>   <td>Guadeloupe</td>   <td>GP</td>   <td>GLP</td>   <td>312</td>   <td>590</td>  </tr>  <tr>   <td>Guam</td>   <td>GU</td>   <td>GUM</td>   <td>316</td>   <td>1-671</td>  </tr>  <tr>   <td>Guatemala</td>   <td>GT</td>   <td>GTM</td>   <td>320</td>   <td>502</td>  </tr>  <tr>   <td>Guernsey</td>   <td>GG</td>   <td>GGY</td>   <td>831</td>   <td>44</td>  </tr>  <tr>   <td>Guinea</td>   <td>GN</td>   <td>GIN</td>   <td>324</td>   <td>224</td>  </tr>  <tr>   <td>Guinea-Bissau</td>   <td>GW</td>   <td>GNB</td>   <td>624</td>   <td>245</td>  </tr>  <tr>   <td>Guyana</td>   <td>GY</td>   <td>GUY</td>   <td>328</td>   <td>592</td>  </tr>  <tr>   <td>Haiti</td>   <td>HT</td>   <td>HTI</td>   <td>332</td>   <td>509</td>  </tr>  <tr>   <td>Heard Island and McDonald&nbsp;Islands</td>   <td>HM</td>   <td>HMD</td>   <td>334</td>   <td>672</td>  </tr>  <tr>   <td>Holy See (Vatican City State)</td>   <td>VA</td>   <td>VAT</td>   <td>336</td>   <td>379</td>  </tr>  <tr>   <td>Honduras</td>   <td>HN</td>   <td>HND</td>   <td>340</td>   <td>504</td>  </tr>  <tr>   <td>Hong Kong</td>   <td>HK</td>   <td>HKG</td>   <td>344</td>   <td>852</td>  </tr>  <tr>   <td>Hungary</td>   <td>HU</td>   <td>HUN</td>   <td>348</td>   <td>36</td>  </tr>  <tr>   <td>Iceland</td>   <td>IS</td>   <td>ISL</td>   <td>352</td>   <td>354</td>  </tr>  <tr>   <td>India</td>   <td>IN</td>   <td>IND</td>   <td>356</td>   <td>91</td>  </tr>  <tr>   <td>Indonesia</td>   <td>ID</td>   <td>IDN</td>   <td>360</td>   <td>62</td>  </tr>  <tr>   <td>Iran, Islamic Republic of</td>   <td>IR</td>   <td>IRN</td>   <td>364</td>   <td>98</td>  </tr>  <tr>   <td>Iraq</td>   <td>IQ</td>   <td>IRQ</td>   <td>368</td>   <td>964</td>  </tr>  <tr>   <td>Ireland</td>   <td>IE</td>   <td>IRL</td>   <td>372</td>   <td>353</td>  </tr>  <tr>   <td>Isle of Man</td>   <td>IM</td>   <td>IMN</td>   <td>833</td>   <td>44</td>  </tr>  <tr>   <td>Israel</td>   <td>IL</td>   <td>ISR</td>   <td>376</td>   <td>972</td>  </tr>  <tr>   <td>Italy</td>   <td>IT</td>   <td>ITA</td>   <td>380</td>   <td>39</td>  </tr>  <tr>   <td>Jamaica</td>   <td>JM</td>   <td>JAM</td>   <td>388</td>   <td>1-876</td>  </tr>  <tr>   <td>Japan</td>   <td>JP</td>   <td>JPN</td>   <td>392</td>   <td>81</td>  </tr>  <tr>   <td>Jersey</td>   <td>JE</td>   <td>JEY</td>   <td>832</td>   <td>44</td>  </tr>  <tr>   <td>Jordan</td>   <td>JO</td>   <td>JOR</td>   <td>400</td>   <td>962</td>  </tr>  <tr>   <td>Kazakhstan</td>   <td>KZ</td>   <td>KAZ</td>   <td>398</td>   <td>7</td>  </tr>  <tr>   <td>Kenya</td>   <td>KE</td>   <td>KEN</td>   <td>404</td>   <td>254</td>  </tr>  <tr>   <td>Kiribati</td>   <td>KI</td>   <td>KIR</td>   <td>296</td>   <td>686</td>  </tr>  <tr>   <td>Korea, Democratic People\\'s Republic of</td>   <td>KP</td>   <td>PRK</td>   <td>408</td>   <td>850</td>  </tr>  <tr>   <td>Korea, Republic of</td>   <td>KR</td>   <td>KOR</td>   <td>410</td>   <td>82</td>  </tr>  <tr>   <td>Kuwait</td>   <td>KW</td>   <td>KWT</td>   <td>414</td>   <td>965</td>  </tr>  <tr>   <td>Kyrgyzstan</td>   <td>KG</td>   <td>KGZ</td>   <td>417</td>   <td>996</td>  </tr>  <tr>   <td>Lao People\\'s Democratic Republic</td>   <td>LA</td>   <td>LAO</td>   <td>418</td>   <td>856</td>  </tr>  <tr>   <td>Latvia</td>   <td>LV</td>   <td>LVA</td>   <td>428</td>   <td>371</td>  </tr>  <tr>   <td>Lebanon</td>   <td>LB</td>   <td>LBN</td>   <td>422</td>   <td>961</td>  </tr>  <tr>   <td>Lesotho</td>   <td>LS</td>   <td>LSO</td>   <td>426</td>   <td>266</td>  </tr>  <tr>   <td>Liberia</td>   <td>LR</td>   <td>LBR</td>   <td>430</td>   <td>231</td>  </tr>  <tr>   <td>Libya</td>   <td>LY</td>   <td>LBY</td>   <td>434</td>   <td>218</td>  </tr>  <tr>   <td>Liechtenstein</td>   <td>LI</td>   <td>LIE</td>   <td>438</td>   <td>423</td>  </tr>  <tr>   <td>Lithuania</td>   <td>LT</td>   <td>LTU</td>   <td>440</td>   <td>370</td>  </tr>  <tr>   <td>Luxembourg</td>   <td>LU</td>   <td>LUX</td>   <td>442</td>   <td>352</td>  </tr>  <tr>   <td>Macao</td>   <td>MO</td>   <td>MAC</td>   <td>446</td>   <td>853</td>  </tr>  <tr>   <td>Macedonia, the Former Yugoslav Republic of</td>   <td>MK</td>   <td>MKD</td>   <td>807</td>   <td>389</td>  </tr>  <tr>   <td>Madagascar</td>   <td>MG</td>   <td>MDG</td>   <td>450</td>   <td>261</td>  </tr>  <tr>   <td>Malawi</td>   <td>MW</td>   <td>MWI</td>   <td>454</td>   <td>265</td>  </tr>  <tr>   <td>Malaysia</td>   <td>MY</td>   <td>MYS</td>   <td>458</td>   <td>60</td>  </tr>  <tr>   <td>Maldives</td>   <td>MV</td>   <td>MDV</td>   <td>462</td>   <td>960</td>  </tr>  <tr>   <td>Mali</td>   <td>ML</td>   <td>MLI</td>   <td>466</td>   <td>223</td>  </tr>  <tr>   <td>Malta</td>   <td>MT</td>   <td>MLT</td>   <td>470</td>   <td>356</td>  </tr>  <tr>   <td>Marshall Islands</td>   <td>MH</td>   <td>MHL</td>   <td>584</td>   <td>692</td>  </tr>  <tr>   <td>Martinique</td>   <td>MQ</td>   <td>MTQ</td>   <td>474</td>   <td>596</td>  </tr>  <tr>   <td>Mauritania</td>   <td>MR</td>   <td>MRT</td>   <td>478</td>   <td>222</td>  </tr>  <tr>   <td>Mauritius</td>   <td>MU</td>   <td>MUS</td>   <td>480</td>   <td>230</td>  </tr>  <tr>   <td>Mayotte</td>   <td>YT</td>   <td>MYT</td>   <td>175</td>   <td>262</td>  </tr>  <tr>   <td>Mexico</td>   <td>MX</td>   <td>MEX</td>   <td>484</td>   <td>52</td>  </tr>  <tr>   <td>Micronesia, Federated States of</td>   <td>FM</td>   <td>FSM</td>   <td>583</td>   <td>691</td>  </tr>  <tr>   <td>Moldova, Republic of</td>   <td>MD</td>   <td>MDA</td>   <td>498</td>   <td>373</td>  </tr>  <tr>   <td>Monaco</td>   <td>MC</td>   <td>MCO</td>   <td>492</td>   <td>377</td>  </tr>  <tr>   <td>Mongolia</td>   <td>MN</td>   <td>MNG</td>   <td>496</td>   <td>976</td>  </tr>  <tr>   <td>Montenegro</td>   <td>ME</td>   <td>MNE</td>   <td>499</td>   <td>382</td>  </tr>  <tr>   <td>Montserrat</td>   <td>MS</td>   <td>MSR</td>   <td>500</td>   <td>1-664</td>  </tr>  <tr>   <td>Morocco</td>   <td>MA</td>   <td>MAR</td>   <td>504</td>   <td>212</td>  </tr>  <tr>   <td>Mozambique</td>   <td>MZ</td>   <td>MOZ</td>   <td>508</td>   <td>258</td>  </tr>  <tr>   <td>Myanmar</td>   <td>MM</td>   <td>MMR</td>   <td>104</td>   <td>95</td>  </tr>  <tr>   <td>Namibia</td>   <td>NA</td>   <td>NAM</td>   <td>516</td>   <td>264</td>  </tr>  <tr>   <td>Nauru</td>   <td>NR</td>   <td>NRU</td>   <td>520</td>   <td>674</td>  </tr>  <tr>   <td>Nepal</td>   <td>NP</td>   <td>NPL</td>   <td>524</td>   <td>977</td>  </tr>  <tr>   <td>Netherlands</td>   <td>NL</td>   <td>NLD</td>   <td>528</td>   <td>31</td>  </tr>  <tr>   <td>New Caledonia</td>   <td>NC</td>   <td>NCL</td>   <td>540</td>   <td>687</td>  </tr>  <tr>   <td>New Zealand</td>   <td>NZ</td>   <td>NZL</td>   <td>554</td>   <td>64</td>  </tr>  <tr>   <td>Nicaragua</td>   <td>NI</td>   <td>NIC</td>   <td>558</td>   <td>505</td>  </tr>  <tr>   <td>Niger</td>   <td>NE</td>   <td>NER</td>   <td>562</td>   <td>227</td>  </tr>  <tr>   <td>Nigeria</td>   <td>NG</td>   <td>NGA</td>   <td>566</td>   <td>234</td>  </tr>  <tr>   <td>Niue</td>   <td>NU</td>   <td>NIU</td>   <td>570</td>   <td>683</td>  </tr>  <tr>   <td>Norfolk Island</td>   <td>NF</td>   <td>NFK</td>   <td>574</td>   <td>672</td>  </tr>  <tr>   <td>Northern Mariana Islands</td>   <td>MP</td>   <td>MNP</td>   <td>580</td>   <td>1-670</td>  </tr>  <tr>   <td>Norway</td>   <td>NO</td>   <td>NOR</td>   <td>578</td>   <td>47</td>  </tr>  <tr>   <td>Oman</td>   <td>OM</td>   <td>OMN</td>   <td>512</td>   <td>968</td>  </tr>  <tr>   <td>Pakistan</td>   <td>PK</td>   <td>PAK</td>   <td>586</td>   <td>92</td>  </tr>  <tr>   <td>Palau</td>   <td>PW</td>   <td>PLW</td>   <td>585</td>   <td>680</td>  </tr>  <tr>   <td>Palestine, State of</td>   <td>PS</td>   <td>PSE</td>   <td>275</td>   <td>970</td>  </tr>  <tr>   <td>Panama</td>   <td>PA</td>   <td>PAN</td>   <td>591</td>   <td>507</td>  </tr>  <tr>   <td>Papua New Guinea</td>   <td>PG</td>   <td>PNG</td>   <td>598</td>   <td>675</td>  </tr>  <tr>   <td>Paraguay</td>   <td>PY</td>   <td>PRY</td>   <td>600</td>   <td>595</td>  </tr>  <tr>   <td>Peru</td>   <td>PE</td>   <td>PER</td>   <td>604</td>   <td>51</td>  </tr>  <tr>   <td>Philippines</td>   <td>PH</td>   <td>PHL</td>   <td>608</td>   <td>63</td>  </tr>  <tr>   <td>Pitcairn</td>   <td>PN</td>   <td>PCN</td>   <td>612</td>   <td>870</td>  </tr>  <tr>   <td>Poland</td>   <td>PL</td>   <td>POL</td>   <td>616</td>   <td>48</td>  </tr>  <tr>   <td>Portugal</td>   <td>PT</td>   <td>PRT</td>   <td>620</td>   <td>351</td>  </tr>  <tr>   <td>Puerto Rico</td>   <td>PR</td>   <td>PRI</td>   <td>630</td>   <td>1</td>  </tr>  <tr>   <td>Qatar</td>   <td>QA</td>   <td>QAT</td>   <td>634</td>   <td>974</td>  </tr>  <tr>   <td>Romania</td>   <td>RO</td>   <td>ROU</td>   <td>642</td>   <td>40</td>  </tr>  <tr>   <td>Russian Federation</td>   <td>RU</td>   <td>RUS</td>   <td>643</td>   <td>7</td>  </tr>  <tr>   <td>Rwanda</td>   <td>RW</td>   <td>RWA</td>   <td>646</td>   <td>250</td>  </tr>  <tr>   <td>Reunion</td>   <td>RE</td>   <td>REU</td>   <td>638</td>   <td>262</td>  </tr>  <tr>   <td>Saint Barthelemy</td>   <td>BL</td>   <td>BLM</td>   <td>652</td>   <td>590</td>  </tr>  <tr>   <td>Saint Helena</td>   <td>SH</td>   <td>SHN</td>   <td>654</td>   <td>290</td>  </tr>  <tr>   <td>Saint Kitts and Nevis</td>   <td>KN</td>   <td>KNA</td>   <td>659</td>   <td>1-869</td>  </tr>  <tr>   <td>Saint Lucia</td>   <td>LC</td>   <td>LCA</td>   <td>662</td>   <td>1-758</td>  </tr>  <tr>   <td>Saint Martin (French part)</td>   <td>MF</td>   <td>MAF</td>   <td>663</td>   <td>590</td>  </tr>  <tr>   <td>Saint Pierre and Miquelon</td>   <td>PM</td>   <td>SPM</td>   <td>666</td>   <td>508</td>  </tr>  <tr>   <td>Saint Vincent and the Grenadines</td>   <td>VC</td>   <td>VCT</td>   <td>670</td>   <td>1-784</td>  </tr>  <tr>   <td>Samoa</td>   <td>WS</td>   <td>WSM</td>   <td>882</td>   <td>685</td>  </tr>  <tr>   <td>San Marino</td>   <td>SM</td>   <td>SMR</td>   <td>674</td>   <td>378</td>  </tr>  <tr>   <td>Sao Tome and Principe</td>   <td>ST</td>   <td>STP</td>   <td>678</td>   <td>239</td>  </tr>  <tr>   <td>Saudi Arabia</td>   <td>SA</td>   <td>SAU</td>   <td>682</td>   <td>966</td>  </tr>  <tr>   <td>Senegal</td>   <td>SN</td>   <td>SEN</td>   <td>686</td>   <td>221</td>  </tr>  <tr>   <td>Serbia</td>   <td>RS</td>   <td>SRB</td>   <td>688</td>   <td>381</td>  </tr>  <tr>   <td>Seychelles</td>   <td>SC</td>   <td>SYC</td>   <td>690</td>   <td>248</td>  </tr>  <tr>   <td>Sierra Leone</td>   <td>SL</td>   <td>SLE</td>   <td>694</td>   <td>232</td>  </tr>  <tr>   <td>Singapore</td>   <td>SG</td>   <td>SGP</td>   <td>702</td>   <td>65</td>  </tr>  <tr>   <td>Sint Maarten (Dutch part)</td>   <td>SX</td>   <td>SXM</td>   <td>534</td>   <td>1-721</td>  </tr>  <tr>   <td>Slovakia</td>   <td>SK</td>   <td>SVK</td>   <td>703</td>   <td>421</td>  </tr>  <tr>   <td>Slovenia</td>   <td>SI</td>   <td>SVN</td>   <td>705</td>   <td>386</td>  </tr>  <tr>   <td>Solomon Islands</td>   <td>SB</td>   <td>SLB</td>   <td>90</td>   <td>677</td>  </tr>  <tr>   <td>Somalia</td>   <td>SO</td>   <td>SOM</td>   <td>706</td>   <td>252</td>  </tr>  <tr>   <td>South Africa</td>   <td>ZA</td>   <td>ZAF</td>   <td>710</td>   <td>27</td>  </tr>  <tr>   <td>South Georgia and the South Sandwich Islands</td>   <td>GS</td>   <td>SGS</td>   <td>239</td>   <td>500</td>  </tr>  <tr>   <td>South Sudan</td>   <td>SS</td>   <td>SSD</td>   <td>728</td>   <td>211</td>  </tr>  <tr>   <td>Spain</td>   <td>ES</td>   <td>ESP</td>   <td>724</td>   <td>34</td>  </tr>  <tr>   <td>Sri Lanka</td>   <td>LK</td>   <td>LKA</td>   <td>144</td>   <td>94</td>  </tr>  <tr>   <td>Sudan</td>   <td>SD</td>   <td>SDN</td>   <td>729</td>   <td>249</td>  </tr>  <tr>   <td>Suriname</td>   <td>SR</td>   <td>SUR</td>   <td>740</td>   <td>597</td>  </tr>  <tr>   <td>Svalbard and Jan Mayen</td>   <td>SJ</td>   <td>SJM</td>   <td>744</td>   <td>47</td>  </tr>  <tr>   <td>Swaziland</td>   <td>SZ</td>   <td>SWZ</td>   <td>748</td>   <td>268</td>  </tr>  <tr>   <td>Sweden</td>   <td>SE</td>   <td>SWE</td>   <td>752</td>   <td>46</td>  </tr>  <tr>   <td>Switzerland</td>   <td>CH</td>   <td>CHE</td>   <td>756</td>   <td>41</td>  </tr>  <tr>   <td>Syrian Arab Republic</td>   <td>SY</td>   <td>SYR</td>   <td>760</td>   <td>963</td>  </tr>  <tr>   <td>Taiwan</td>   <td>TW</td>   <td>TWN</td>   <td>158</td>   <td>886</td>  </tr>  <tr>   <td>Tajikistan</td>   <td>TJ</td>   <td>TJK</td>   <td>762</td>   <td>992</td>  </tr>  <tr>   <td>United Republic of Tanzania</td>   <td>TZ</td>   <td>TZA</td>   <td>834</td>   <td>255</td>  </tr>  <tr>   <td>Thailand</td>   <td>TH</td>   <td>THA</td>   <td>764</td>   <td>66</td>  </tr>  <tr>   <td>Timor-Leste</td>   <td>TL</td>   <td>TLS</td>   <td>626</td>   <td>670</td>  </tr>  <tr>   <td>Togo</td>   <td>TG</td>   <td>TGO</td>   <td>768</td>   <td>228</td>  </tr>  <tr>   <td>Tokelau</td>   <td>TK</td>   <td>TKL</td>   <td>772</td>   <td>690</td>  </tr>  <tr>   <td>Tonga</td>   <td>TO</td>   <td>TON</td>   <td>776</td>   <td>676</td>  </tr>  <tr>   <td>Trinidad and Tobago</td>   <td>TT</td>   <td>TTO</td>   <td>780</td>   <td>1-868</td>  </tr>  <tr>   <td>Tunisia</td>   <td>TN</td>   <td>TUN</td>   <td>788</td>   <td>216</td>  </tr>  <tr>   <td>Turkey</td>   <td>TR</td>   <td>TUR</td>   <td>792</td>   <td>90</td>  </tr>  <tr>   <td>Turkmenistan</td>   <td>TM</td>   <td>TKM</td>   <td>795</td>   <td>993</td>  </tr>  <tr>   <td>Turks and Caicos Islands</td>   <td>TC</td>   <td>TCA</td>   <td>796</td>   <td>1-649</td>  </tr>  <tr>   <td>Tuvalu</td>   <td>TV</td>   <td>TUV</td>   <td>798</td>   <td>688</td>  </tr>  <tr>   <td>Uganda</td>   <td>UG</td>   <td>UGA</td>   <td>800</td>   <td>256</td>  </tr>  <tr>   <td>Ukraine</td>   <td>UA</td>   <td>UKR</td>   <td>804</td>   <td>380</td>  </tr>  <tr>   <td>United Arab Emirates</td>   <td>AE</td>   <td>ARE</td>   <td>784</td>   <td>971</td>  </tr>  <tr>   <td>United Kingdom</td>   <td>GB</td>   <td>GBR</td>   <td>826</td>   <td>44</td>  </tr>  <tr>   <td>United States</td>   <td>US</td>   <td>USA</td>   <td>840</td>   <td>1</td>  </tr>  <tr>   <td>United States Minor Outlying Islands</td>   <td>UM</td>   <td>UMI</td>   <td>581</td>   <td>1</td>  </tr>  <tr>   <td>Uruguay</td>   <td>UY</td>   <td>URY</td>   <td>858</td>   <td>598</td>  </tr>  <tr>   <td>Uzbekistan</td>   <td>UZ</td>   <td>UZB</td>   <td>860</td>   <td>998</td>  </tr>  <tr>   <td>Vanuatu</td>   <td>VU</td>   <td>VUT</td>   <td>548</td>   <td>678</td>  </tr>  <tr>   <td>Venezuela</td>   <td>VE</td>   <td>VEN</td>   <td>862</td>   <td>58</td>  </tr>  <tr>   <td>Viet Nam</td>   <td>VN</td>   <td>VNM</td>   <td>704</td>   <td>84</td>  </tr>  <tr>   <td>British Virgin Islands</td>   <td>VG</td>   <td>VGB</td>   <td>92</td>   <td>1-284</td>  </tr>  <tr>   <td>US Virgin Islands</td>   <td>VI</td>   <td>VIR</td>   <td>850</td>   <td>1-340</td>  </tr>  <tr>   <td>Wallis and Futuna</td>   <td>WF</td>   <td>WLF</td>   <td>876</td>   <td>681</td>  </tr>  <tr>   <td>Western Sahara</td>   <td>EH</td>   <td>ESH</td>   <td>732</td>   <td>212</td>  </tr>  <tr>   <td>Yemen</td>   <td>YE</td>   <td>YEM</td>   <td>887</td>   <td>967</td>  </tr>  <tr>   <td>Zambia</td>   <td>ZM</td>   <td>ZMB</td>   <td>894</td>   <td>260</td>  </tr>  <tr>   <td>Zimbabwe</td>   <td>ZW</td>   <td>ZWE</td>   <td>716</td>   <td>263</td>  </tr></tbody></table><b>Source:</b> worldatlas.com                                <div id=\"images\">\\n                                    </div>\\n                                <div class=\"misc-related\">\\n                    <h3>Other helpful pages on WorldAtlas</h3>\\n                    <ul>\\n                                                <li>\\n                            <article>\\n                                <a href=\"/webimage/flags/flagcnty.htm\">Country Flags List</a>\\n                            </article>\\n                        </li>\\n                                                <li>\\n                            <article>\\n                                <a href=\"/webimage/countrys/namerica/usstates/lgcolor/lvhotels.htm\">Map of Las Vegas Hotels and Casinos</a>\\n                            </article>\\n                        </li>\\n                                                <li>\\n                            <article>\\n                                <a href=\"/aatlas/imageg.htm\">Latitude and Longitude Facts</a>\\n                            </article>\\n                        </li>\\n                                                <li>\\n                            <article>\\n                                <a href=\"/aatlas/ctycodes.htm\">Complete List of Country & Dialing Codes </a>\\n                            </article>\\n                        </li>\\n                                            </ul>\\n                </div>\\n                \\n\\t\\t\\t\\t                <section class=\"article-relatedInfo\">\\n    <h2 class=\"article-trending\">Trending on WorldAtlas</h2>\\n    <ul class=\"browseArt-grid\" itemscope itemtype=\"https://schema.org/WebPage\">\\n            <li>\\n            <article>\\n                <a class=\"browseArt-grid-img\" href=\"/articles/which-eye-color-is-the-most-common-in-the-world.html\">\\n                    <img src=\"/r/w346-h203-c346x203/upload/d8/17/c1/shutterstock-394292725.jpg\" alt=\"The World\\'s Population By Eye Color Percentages\">\\n                </a>\\n                <a class=\"browseArt-grid-txt\" href=\"/articles/which-eye-color-is-the-most-common-in-the-world.html\" itemprop=\"relatedLink\">\\n                    The World\\'s Population By Eye Color Percentages                </a>\\n            </article>\\n        </li>\\n                <li>\\n            <article>\\n                <a class=\"browseArt-grid-img\" href=\"/articles/10-of-the-most-beautiful-countries-in-the-world.html\">\\n                    <img src=\"/r/w346-h203-c346x203/upload/31/4c/3d/beautiful-new-zealand.jpg\" alt=\"10 of the Most Beautiful Countries in the World\">\\n                </a>\\n                <a class=\"browseArt-grid-txt\" href=\"/articles/10-of-the-most-beautiful-countries-in-the-world.html\" itemprop=\"relatedLink\">\\n                    10 of the Most Beautiful Countries in the World                </a>\\n            </article>\\n        </li>\\n                <li>\\n            <article>\\n                <a class=\"browseArt-grid-img\" href=\"/articles/the-7-wonders-of-the-world.html\">\\n                    <img src=\"/r/w346-h203-c346x203/upload/f4/c9/87/shutterstock-168497345-1-min.jpg\" alt=\"The New 7 Wonders of the World\">\\n                </a>\\n                <a class=\"browseArt-grid-txt\" href=\"/articles/the-7-wonders-of-the-world.html\" itemprop=\"relatedLink\">\\n                    The New 7 Wonders of the World                </a>\\n            </article>\\n        </li>\\n                <li>\\n            <article>\\n                <a class=\"browseArt-grid-img\" href=\"/articles/the-10-states-safest-from-natural-disasters.html\">\\n                    <img src=\"/r/w346-h203-c346x203/upload/ec/fe/ec/shutterstock-79379917.jpg\" alt=\"The 10 States Safest From Natural Disasters\">\\n                </a>\\n                <a class=\"browseArt-grid-txt\" href=\"/articles/the-10-states-safest-from-natural-disasters.html\" itemprop=\"relatedLink\">\\n                    The 10 States Safest From Natural Disasters                </a>\\n            </article>\\n        </li>\\n                <li>\\n            <article>\\n                <a class=\"browseArt-grid-img\" href=\"/articles/the-largest-countries-in-the-world-the-biggest-nations-as-determined-by-total-land-area.html\">\\n                    <img src=\"/r/w346-h203-c346x203/upload/5b/87/fa/transsiberianrailroad-ss.jpg\" alt=\"The Largest Countries in the World\">\\n                </a>\\n                <a class=\"browseArt-grid-txt\" href=\"/articles/the-largest-countries-in-the-world-the-biggest-nations-as-determined-by-total-land-area.html\" itemprop=\"relatedLink\">\\n                    The Largest Countries in the World                </a>\\n            </article>\\n        </li>\\n                <li>\\n            <article>\\n                <a class=\"browseArt-grid-img\" href=\"/articles/states-that-have-voted-republican-in-the-most-consecutive-u-s-presidential-elections.html\">\\n                    <img src=\"/r/w346-h203-c346x203/upload/56/56/27/shutterstock-402776554.jpg\" alt=\"List of Red States (Republican States)\">\\n                </a>\\n                <a class=\"browseArt-grid-txt\" href=\"/articles/states-that-have-voted-republican-in-the-most-consecutive-u-s-presidential-elections.html\" itemprop=\"relatedLink\">\\n                    List of Red States (Republican States)                </a>\\n            </article>\\n        </li>\\n                <li>\\n            <article>\\n                <a class=\"browseArt-grid-img\" href=\"/articles/the-most-dangerous-cities-in-the-world.html\">\\n                    <img src=\"/r/w346-h203-c346x203/upload/a3/42/8d/shutterstock-420540280.jpg\" alt=\"The Most Dangerous Cities In The World\">\\n                </a>\\n                <a class=\"browseArt-grid-txt\" href=\"/articles/the-most-dangerous-cities-in-the-world.html\" itemprop=\"relatedLink\">\\n                    The Most Dangerous Cities In The World                </a>\\n            </article>\\n        </li>\\n                <li>\\n            <article>\\n                <a class=\"browseArt-grid-img\" href=\"/articles/which-are-the-biggest-industries-in-the-united-states.html\">\\n                    <img src=\"/r/w346-h203-c346x203/upload/ec/9d/19/shutterstock-275646686.jpg\" alt=\"The Biggest Industries In The United States\">\\n                </a>\\n                <a class=\"browseArt-grid-txt\" href=\"/articles/which-are-the-biggest-industries-in-the-united-states.html\" itemprop=\"relatedLink\">\\n                    The Biggest Industries In The United States                </a>\\n            </article>\\n        </li>\\n                <li>\\n            <article>\\n                <a class=\"browseArt-grid-img\" href=\"/articles/what-are-the-most-popular-sports-in-the-world.html\">\\n                    <img src=\"/r/w346-h203-c346x203/upload/7d/04/86/shutterstock-370423346.jpg\" alt=\"The Most Popular Sports in the World\">\\n                </a>\\n                <a class=\"browseArt-grid-txt\" href=\"/articles/what-are-the-most-popular-sports-in-the-world.html\" itemprop=\"relatedLink\">\\n                    The Most Popular Sports in the World                </a>\\n            </article>\\n        </li>\\n            </ul>\\n</section>            </div>\\n\\n            <div id=\"latestUpdate\">This page was last updated on <strong itemtype=\"https://schema.org/DateTime\" itemprop=\"dateModified\">June 15, 2018</strong>.</div>        </article>\\n        <aside id=\"aside-misc\" class=\"wa-stickyAsideParent\"  role=\"complementary\" >\\n                <div id=\\'\\' class=\"adWrap push-bot15\">\\n                    <div class=\"ad300x250\">\\n                        <!-- /60277011/WA_D_Articles_SideBar1_300x250 -->\\n                        <div id=\\'div-gpt-ad-1459364180249-3\\' >\\n                        <script type=\\'text/javascript\\'>\\n                        googletag.cmd.push(function() { googletag.display(\\'div-gpt-ad-1459364180249-3\\'); });\\n                        </script>\\n                        </div>\\n                    </div>\\n                </div>\\n            <section>\\n                <h2>Featured On WorldAtlas</h2>\\n                <ul class=\"browseArt-reg\" itemscope itemtype=\"https://schema.org/WebPage\">\\n                                                                    <li>\\n                            <article>\\n                                <a class=\"artSidebar-img\" href=\"/articles/the-world-s-most-war-torn-countries.html\">\\n                                    <div class=\"browseArt-reg-img\">\\n                                        <img src=\"/r/w135-h79-c135x79/upload/b6/df/ab/shutterstock-161912165.jpg\" alt=\"The World\\'s Most War-Torn Countries\">\\n                                    </div>\\n                                    <div class=\"browseArt-reg-text\">\\n                                        <h3>The World\\'s Most War-Torn Countries</h3>\\n                                    </div>\\n                                </a>\\n                            </article>\\n                        </li>\\n                                                <li>\\n                            <article>\\n                                <a class=\"artSidebar-img\" href=\"/articles/least-densely-populated-u-s-states.html\">\\n                                    <div class=\"browseArt-reg-img\">\\n                                        <img src=\"/r/w135-h79-c135x79/upload/d0/74/ae/anchorage-on-an-april-evening.jpg\" alt=\"Least Densely Populated U.S. States\">\\n                                    </div>\\n                                    <div class=\"browseArt-reg-text\">\\n                                        <h3>Least Densely Populated U.S. States</h3>\\n                                    </div>\\n                                </a>\\n                            </article>\\n                        </li>\\n                                                <li>\\n                            <article>\\n                                <a class=\"artSidebar-img\" href=\"/articles/when-did-women-get-the-right-to-vote.html\">\\n                                    <div class=\"browseArt-reg-img\">\\n                                        <img src=\"/r/w135-h79-c135x79/upload/11/ff/74/shutterstock-242818741.jpg\" alt=\"When Did Women Get the Right to Vote in the US?\">\\n                                    </div>\\n                                    <div class=\"browseArt-reg-text\">\\n                                        <h3>When Did Women Get the Right to Vote in the US?</h3>\\n                                    </div>\\n                                </a>\\n                            </article>\\n                        </li>\\n                                                <li>\\n                            <article>\\n                                <a class=\"artSidebar-img\" href=\"/articles/great-inventions-of-the-19th-century.html\">\\n                                    <div class=\"browseArt-reg-img\">\\n                                        <img src=\"/r/w135-h79-c135x79/upload/e6/dd/4d/shutterstock-790042159.jpg\" alt=\"Great Inventions of the 19th Century\">\\n                                    </div>\\n                                    <div class=\"browseArt-reg-text\">\\n                                        <h3>Great Inventions of the 19th Century</h3>\\n                                    </div>\\n                                </a>\\n                            </article>\\n                        </li>\\n                                        </ul>\\n            </section>\\n            <section>\\n    <h2 class=\"title-secondary\">Curious About The World?</h2>\\n    <ul class=\"browseArt-reg\" itemscope itemtype=\"https://schema.org/WebPage\">\\n            <li>\\n            <article>\\n                <a href=\"https://www.worldatlas.com/geography.html\">\\n                    <div class=\"browseArt-reg-img lazyLoadContainer lazyLoadPadSmall\">\\n                        <img data-src=\"/r/w135-h79-c135x79/upload/83/db/8f/geography.jpg\" class=\"lazyload\">\\n                    </div>\\n                    <div class=\"browseArt-reg-text\">\\n                        <h3>What Is Geography?</h3>\\n                    </div>\\n                </a>\\n            </article>\\n        </li>\\n        <li>\\n            <article>\\n                <a href=\"https://www.worldatlas.com/the-five-themes-in-geography.html\">\\n                    <div class=\"browseArt-reg-img lazyLoadContainer lazyLoadPadSmall\">\\n                        <img data-src=\"/r/w135-h79-c135x79/upload/2b/b4/ca/geography-998334-960-720.jpg\" class=\"lazyload\">\\n                    </div>\\n                    <div class=\"browseArt-reg-text\">\\n                        <h3>The Five Themes In Geography</h3>\\n                    </div>\\n                </a>\\n            </article>\\n        </li>\\n                    <li>\\n                <article>\\n                    <a href=\"/what-is-a-tide-pool.html\">\\n                        <div class=\"browseArt-reg-img lazyLoadContainer lazyLoadPadSmall\">\\n                            <img data-src=\"/r/w135-h79-c135x79/upload/22/98/a8/tide-pools.jpg\" class=\"lazyload\" alt=\"What Is a Tide Pool?\">\\n                        </div>\\n                        <div class=\"browseArt-reg-text\">\\n                            <h3>What Is a Tide Pool?</h3>\\n                        </div>\\n                    </a>\\n                </article>\\n            </li>\\n                    <li>\\n                <article>\\n                    <a href=\"/what-is-cultural-appropriation.html\">\\n                        <div class=\"browseArt-reg-img lazyLoadContainer lazyLoadPadSmall\">\\n                            <img data-src=\"/r/w135-h79-c135x79/upload/22/92/9b/shutterstock-1036614544.jpg\" class=\"lazyload\" alt=\"What is Cultural Appropriation?\">\\n                        </div>\\n                        <div class=\"browseArt-reg-text\">\\n                            <h3>What is Cultural Appropriation?</h3>\\n                        </div>\\n                    </a>\\n                </article>\\n            </li>\\n                    <li>\\n                <article>\\n                    <a href=\"/what-is-regionalism.html\">\\n                        <div class=\"browseArt-reg-img lazyLoadContainer lazyLoadPadSmall\">\\n                            <img data-src=\"/r/w135-h79-c135x79/upload/ca/29/88/shutterstock-310129217.jpg\" class=\"lazyload\" alt=\"What is Regionalism?\">\\n                        </div>\\n                        <div class=\"browseArt-reg-text\">\\n                            <h3>What is Regionalism?</h3>\\n                        </div>\\n                    </a>\\n                </article>\\n            </li>\\n                    <li>\\n                <article>\\n                    <a href=\"/what-is-the-clash-of-civilizations.html\">\\n                        <div class=\"browseArt-reg-img lazyLoadContainer lazyLoadPadSmall\">\\n                            <img data-src=\"/r/w135-h79-c135x79/upload/7f/9f/e1/shutterstock-1038295480.jpg\" class=\"lazyload\" alt=\"What is the Clash of Civilizations?\">\\n                        </div>\\n                        <div class=\"browseArt-reg-text\">\\n                            <h3>What is the Clash of Civilizations?</h3>\\n                        </div>\\n                    </a>\\n                </article>\\n            </li>\\n                    <li>\\n                <article>\\n                    <a href=\"/what-are-hieroglyphics.html\">\\n                        <div class=\"browseArt-reg-img lazyLoadContainer lazyLoadPadSmall\">\\n                            <img data-src=\"/r/w135-h79-c135x79/upload/97/84/ad/shutterstock-546677377.jpg\" class=\"lazyload\" alt=\"What are Hieroglyphics?\">\\n                        </div>\\n                        <div class=\"browseArt-reg-text\">\\n                            <h3>What are Hieroglyphics?</h3>\\n                        </div>\\n                    </a>\\n                </article>\\n            </li>\\n                    <li>\\n                <article>\\n                    <a href=\"/what-is-a-kleptocracy.html\">\\n                        <div class=\"browseArt-reg-img lazyLoadContainer lazyLoadPadSmall\">\\n                            <img data-src=\"/r/w135-h79-c135x79/upload/63/75/bb/shutterstock-715579408.jpg\" class=\"lazyload\" alt=\"What is a Kleptocracy?\">\\n                        </div>\\n                        <div class=\"browseArt-reg-text\">\\n                            <h3>What is a Kleptocracy?</h3>\\n                        </div>\\n                    </a>\\n                </article>\\n            </li>\\n            </ul>\\n</section>\\n            <div ></div>\\n\\n            <section id=\"adStickyAside\" class=\"asideStickyAd \" >\\n                <div id=\\'\\' class=\"adWrap push-bot15\">\\n                    <div class=\"ad300x250\">\\n                        <!-- /60277011/WA_D_Countries_SideBarSticky_300x250 -->\\n                        <div class=\"wa-ad-reload\" id=\\'div-gpt-ad-1463171380981-4\\' >\\n                        <script type=\\'text/javascript\\'>\\n                        googletag.cmd.push(function() { googletag.display(\\'div-gpt-ad-1463171380981-4\\'); });\\n                        </script>\\n                        </div>\\n                    </div>\\n                </div>\\n\\n                <h2>Popular On WorldAtlas</h2>\\n                <ul class=\"browseArt-reg\" itemscope itemtype=\"https://schema.org/WebPage\">\\n                                            <li>\\n                        <article>\\n                            <a class=\"artSidebar-img\" href=\"/articles/how-many-oceans-are-there-in-the-world.html\">\\n                                <div class=\"browseArt-reg-img\">\\n                                    <img src=\"/r/w135-h79-c135x79/upload/4d/f6/fa/shutterstock-767755444.jpg\" alt=\"How Many Oceans Are There In The World?\">\\n                                </div>\\n                                <div class=\"browseArt-reg-text\">\\n                                    <h3>How Many Oceans Are There In The World?</h3>\\n                                </div>\\n                            </a>\\n                        </article>\\n                        </li>\\n                                            <li>\\n                        <article>\\n                            <a class=\"artSidebar-img\" href=\"/articles/how-many-time-zones-does-the-world-have.html\">\\n                                <div class=\"browseArt-reg-img\">\\n                                    <img src=\"/r/w135-h79-c135x79/upload/68/50/6d/shutterstock-113385088.jpg\" alt=\"How Many Time Zones Does the World Have?\">\\n                                </div>\\n                                <div class=\"browseArt-reg-text\">\\n                                    <h3>How Many Time Zones Does the World Have?</h3>\\n                                </div>\\n                            </a>\\n                        </article>\\n                        </li>\\n                                            <li>\\n                        <article>\\n                            <a class=\"artSidebar-img\" href=\"/articles/incarceration-rates-by-race-ethnicity-and-gender-in-the-u-s.html\">\\n                                <div class=\"browseArt-reg-img\">\\n                                    <img src=\"/r/w135-h79-c135x79/upload/6e/11/cd/shutterstock-724345753.jpg\" alt=\"US Prison Population By Race\">\\n                                </div>\\n                                <div class=\"browseArt-reg-text\">\\n                                    <h3>US Prison Population By Race</h3>\\n                                </div>\\n                            </a>\\n                        </article>\\n                        </li>\\n                                    </ul>\\n            </section>\\n        </aside>\\n    </div>\\n</main>\\n\\n\\n    </div>\\n\\n            <script>setupImageMapSizes();</script>\\n    \\n\\n            <header class=\"header_nav\">\\n                <nav itemscope itemtype=\"http://www.schema.org/SiteNavigationElement\">\\n                    <input id=\"nav_check_category_wrapper\" class=\"hide\" type=\"checkbox\">\\n                    <div class=\"nav_left\">\\n                        <label id=\"nav_menu_drawer\" class=\"nav_menu_item icon-menu\" for=\"nav_check_category_wrapper\" aria-label=\"Toggle the WorldAtlas Menu\"></label>\\n                        <a href=\"/\" class=\"nav_logo\" aria-label=\"WorldAtlas Logo\" itemprop=\"url\">\\n                            <svg id=\"wa_nav_logo\" data-name=\"wa_nav_logo\" xmlns=\"http://www.w3.org/2000/svg\" viewBox=\"0 0 233.68 35.39\"><defs><style>.cls-1,.cls-2{fill:#fff;}.cls-1{stroke:#fff;stroke-miterlimit:10;}</style></defs><path class=\"cls-1\" d=\"M127.15,199.67a17.2,17.2,0,1,0-17.52,17.52A17.25,17.25,0,0,0,127.15,199.67Zm-5.88-10.23c-.29.16-.58.3-.88.45s-.7.33-1.06.48-.73.3-1.1.43-.74.26-1.11.38-.76.22-1.15.32-.77.19-1.16.27-.79.15-1.19.21-.8.12-1.2.16-.81.07-1.22.09h-.38v-7.69A15.39,15.39,0,0,1,121.27,189.44Zm-12.17-4.89v7.69h-.38q-.61,0-1.23-.09c-.4,0-.8-.1-1.2-.16s-.79-.13-1.19-.21-.78-.17-1.16-.27-.77-.2-1.14-.32-.75-.24-1.12-.38-.74-.28-1.1-.43-.71-.31-1.06-.48-.59-.29-.88-.45A15.44,15.44,0,0,1,109.1,184.55Zm0,30.9a15.44,15.44,0,0,1-10.46-4.89c.29-.16.58-.3.88-.45s.7-.33,1.06-.48.73-.3,1.1-.43.74-.26,1.12-.38.75-.22,1.14-.32.77-.19,1.16-.27.79-.15,1.19-.21.8-.12,1.2-.16.82-.07,1.23-.09h.38Zm0-9.42-.47,0c-.44,0-.88.06-1.31.1s-.87.1-1.29.17-.85.14-1.27.22l-1.25.29c-.41.11-.82.22-1.22.35s-.81.26-1.2.4-.79.3-1.17.47-.77.33-1.15.51l-1.11.57-.14.08a15.39,15.39,0,0,1-3-8.35h14.6Zm-14.6-6.89a15.39,15.39,0,0,1,3-8.35l.14.08,1.11.57c.38.18.76.35,1.15.51s.77.32,1.17.47.79.28,1.2.4.81.24,1.22.35l1.25.29c.42.08.84.16,1.27.22s.86.12,1.29.17.87.08,1.31.1l.47,0v5.17Zm16.32,16.31v-7.69h.38c.41,0,.81,0,1.22.09s.8.1,1.2.16.8.13,1.19.21.78.17,1.16.27.77.2,1.15.32.75.24,1.11.38.74.28,1.1.43.71.31,1.06.48.59.29.88.45A15.39,15.39,0,0,1,110.82,215.45Zm11.57-6.24-.14-.08q-.54-.3-1.11-.57t-1.14-.51c-.39-.17-.78-.32-1.17-.47s-.8-.28-1.2-.4-.81-.24-1.23-.35l-1.25-.29c-.41-.08-.84-.16-1.27-.22s-.85-.12-1.29-.17-.87-.08-1.31-.1l-.46,0v-5.17h14.59A15.39,15.39,0,0,1,122.39,209.21Zm-11.57-10.07V194l.46,0c.44,0,.88-.06,1.31-.1s.87-.1,1.29-.17.86-.14,1.27-.22l1.25-.29c.42-.11.82-.22,1.23-.35s.8-.26,1.2-.4.78-.3,1.17-.47.76-.33,1.14-.51.75-.37,1.11-.57l.14-.08a15.39,15.39,0,0,1,3,8.35Z\" transform=\"translate(-92.26 -182.3)\"/><path class=\"cls-2\" d=\"M154.82,208.94l-4.22-15.66-4.28,15.66c-.33,1.19-.6,2-.79,2.56a3.39,3.39,0,0,1-1,1.39,2.91,2.91,0,0,1-1.94.62,3.22,3.22,0,0,1-1.61-.37,2.75,2.75,0,0,1-1-1,6.85,6.85,0,0,1-.64-1.59c-.17-.61-.31-1.18-.44-1.7l-4.35-17.59a10.34,10.34,0,0,1-.39-2.33,2.26,2.26,0,0,1,.71-1.71,2.43,2.43,0,0,1,1.76-.7,2,2,0,0,1,1.94.93,10.28,10.28,0,0,1,.88,2.69l3.42,15.25,3.83-14.27a21,21,0,0,1,.77-2.49,3.51,3.51,0,0,1,1.1-1.48,3.2,3.2,0,0,1,2.09-.63,3,3,0,0,1,2.07.65,3.76,3.76,0,0,1,1,1.42c.18.51.44,1.36.76,2.53l3.87,14.27,3.42-15.25a16.67,16.67,0,0,1,.47-1.87A3,3,0,0,1,163,187a2.12,2.12,0,0,1,1.57-.54,2.45,2.45,0,0,1,1.76.69,2.28,2.28,0,0,1,.72,1.72,11.17,11.17,0,0,1-.39,2.33l-4.35,17.59c-.3,1.19-.54,2.06-.74,2.61a3.39,3.39,0,0,1-1,1.45,2.87,2.87,0,0,1-2,.63,3,3,0,0,1-2-.61,3.32,3.32,0,0,1-1-1.36C155.43,211,155.16,210.17,154.82,208.94Z\" transform=\"translate(-92.26 -182.3)\"/><path class=\"cls-2\" d=\"M187.51,203.62a11.56,11.56,0,0,1-.67,4,9.08,9.08,0,0,1-2,3.15,8.69,8.69,0,0,1-3.07,2,10.81,10.81,0,0,1-4,.71,10.4,10.4,0,0,1-4-.72,8.65,8.65,0,0,1-3.06-2,8.88,8.88,0,0,1-2-3.13,12.34,12.34,0,0,1,0-8.05,8.77,8.77,0,0,1,1.94-3.13,8.62,8.62,0,0,1,3.07-2,10.78,10.78,0,0,1,4-.7,10.93,10.93,0,0,1,4,.71,8.61,8.61,0,0,1,5,5.17A11.44,11.44,0,0,1,187.51,203.62Zm-4.88,0a7.34,7.34,0,0,0-1.31-4.64,4.6,4.6,0,0,0-6-.91,4.7,4.7,0,0,0-1.68,2.18,8.91,8.91,0,0,0-.58,3.37,8.73,8.73,0,0,0,.58,3.33,4.69,4.69,0,0,0,1.65,2.18,4.58,4.58,0,0,0,6.06-.91A7.27,7.27,0,0,0,182.63,203.62Z\" transform=\"translate(-92.26 -182.3)\"/><path class=\"cls-2\" d=\"M196.17,206.48v4.07a3.17,3.17,0,0,1-.69,2.22,2.34,2.34,0,0,1-1.77.74,2.24,2.24,0,0,1-1.73-.75,3.21,3.21,0,0,1-.67-2.21V197c0-2.19.79-3.28,2.37-3.28a2,2,0,0,1,1.74.76,4.16,4.16,0,0,1,.59,2.27,8.51,8.51,0,0,1,1.79-2.27,3.7,3.7,0,0,1,2.45-.76,6.29,6.29,0,0,1,3,.76,2.29,2.29,0,0,1,1.44,2,2,2,0,0,1-1.94,2,6,6,0,0,1-1.29-.33,6,6,0,0,0-1.81-.32,2.63,2.63,0,0,0-1.75.56,3.61,3.61,0,0,0-1,1.66,11.87,11.87,0,0,0-.52,2.63C196.22,203.79,196.17,205,196.17,206.48Z\" transform=\"translate(-92.26 -182.3)\"/><path class=\"cls-2\" d=\"M206.84,210.55v-21.1a3.31,3.31,0,0,1,.65-2.21,2.22,2.22,0,0,1,1.76-.75,2.3,2.3,0,0,1,1.78.74,3.22,3.22,0,0,1,.68,2.22v21.1a3.17,3.17,0,0,1-.69,2.22,2.32,2.32,0,0,1-1.77.74,2.22,2.22,0,0,1-1.74-.77A3.26,3.26,0,0,1,206.84,210.55Z\" transform=\"translate(-92.26 -182.3)\"/><path class=\"cls-2\" d=\"M230.06,210.73v-.49a12.44,12.44,0,0,1-1.93,1.83,7.28,7.28,0,0,1-2.07,1.07,7.84,7.84,0,0,1-2.43.37,7.24,7.24,0,0,1-3.24-.74,7.55,7.55,0,0,1-2.57-2.12,9.81,9.81,0,0,1-1.65-3.22,13.93,13.93,0,0,1-.56-4,10.43,10.43,0,0,1,2.23-7.11,7.4,7.4,0,0,1,5.86-2.55,7.73,7.73,0,0,1,3.54.73,9.81,9.81,0,0,1,2.82,2.21v-7.18a3.63,3.63,0,0,1,.6-2.26,2,2,0,0,1,1.7-.77,2.12,2.12,0,0,1,1.7.71,3.12,3.12,0,0,1,.6,2.07v21.46a3,3,0,0,1-.64,2.08,2.17,2.17,0,0,1-1.66.7,2.12,2.12,0,0,1-1.65-.73A3,3,0,0,1,230.06,210.73Zm-9.57-7.15a8.31,8.31,0,0,0,.62,3.37,4.73,4.73,0,0,0,1.68,2.09,4.15,4.15,0,0,0,2.33.71,4.37,4.37,0,0,0,2.35-.67,4.65,4.65,0,0,0,1.69-2.05,8.31,8.31,0,0,0,.63-3.45,8.09,8.09,0,0,0-.63-3.34,5.06,5.06,0,0,0-1.71-2.14,4.12,4.12,0,0,0-2.36-.74,4,4,0,0,0-2.39.76,4.94,4.94,0,0,0-1.63,2.17A8.78,8.78,0,0,0,220.49,203.58Z\" transform=\"translate(-92.26 -182.3)\"/><path class=\"cls-2\" d=\"M256.59,210.1l-1.25-3.28H244.72l-1.24,3.35a12.08,12.08,0,0,1-1.25,2.65,2,2,0,0,1-1.69.69,2.48,2.48,0,0,1-1.77-.74,2.2,2.2,0,0,1-.76-1.65,4,4,0,0,1,.17-1.11c.12-.38.32-.91.59-1.58l6.68-17,.69-1.76A8.65,8.65,0,0,1,247,188a3.5,3.5,0,0,1,1.19-1.1,3.63,3.63,0,0,1,1.82-.42,3.7,3.7,0,0,1,1.85.42,3.54,3.54,0,0,1,1.19,1.08,7.19,7.19,0,0,1,.77,1.42c.21.5.47,1.18.79,2l6.83,16.86a8.54,8.54,0,0,1,.8,2.79,2.31,2.31,0,0,1-.76,1.67,2.5,2.5,0,0,1-1.83.76,2.3,2.3,0,0,1-1.06-.23,2.21,2.21,0,0,1-.75-.6,5.29,5.29,0,0,1-.65-1.18C257,211,256.76,210.51,256.59,210.1Zm-10.48-7.25h7.81L250,192.07Z\" transform=\"translate(-92.26 -182.3)\"/><path class=\"cls-2\" d=\"M266.05,194.16h.54v-2.93c0-.78,0-1.4.06-1.84a2.68,2.68,0,0,1,.35-1.15,2.13,2.13,0,0,1,.82-.81,2.27,2.27,0,0,1,1.19-.31,2.4,2.4,0,0,1,1.67.69,2,2,0,0,1,.64,1.13,10.32,10.32,0,0,1,.13,1.9v3.32h1.78a2.27,2.27,0,0,1,1.58.49,1.6,1.6,0,0,1,.54,1.25,1.4,1.4,0,0,1-.77,1.37,4.92,4.92,0,0,1-2.22.4h-.91v8.94a15.19,15.19,0,0,0,.08,1.75,1.74,1.74,0,0,0,.43,1,1.45,1.45,0,0,0,1.13.39,5.59,5.59,0,0,0,1.16-.16,5.93,5.93,0,0,1,1.14-.15,1.47,1.47,0,0,1,1.06.48,1.58,1.58,0,0,1,.47,1.16,2,2,0,0,1-1.28,1.8,8.63,8.63,0,0,1-3.69.63,6.4,6.4,0,0,1-3.46-.77,3.56,3.56,0,0,1-1.54-2.12,14.59,14.59,0,0,1-.36-3.62v-9.33h-.65a2.32,2.32,0,0,1-1.6-.5,1.64,1.64,0,0,1-.55-1.27,1.54,1.54,0,0,1,.58-1.25A2.5,2.5,0,0,1,266.05,194.16Z\" transform=\"translate(-92.26 -182.3)\"/><path class=\"cls-2\" d=\"M278.7,210.55v-21.1a3.31,3.31,0,0,1,.65-2.21,2.22,2.22,0,0,1,1.76-.75,2.32,2.32,0,0,1,1.78.74,3.22,3.22,0,0,1,.68,2.22v21.1a3.17,3.17,0,0,1-.69,2.22,2.32,2.32,0,0,1-1.77.74,2.19,2.19,0,0,1-1.74-.77A3.21,3.21,0,0,1,278.7,210.55Z\" transform=\"translate(-92.26 -182.3)\"/><path class=\"cls-2\" d=\"M300.88,210.76a14.82,14.82,0,0,1-3.41,2.06,9.49,9.49,0,0,1-3.7.69,7,7,0,0,1-3.28-.74,5.45,5.45,0,0,1-2.18-2,5.12,5.12,0,0,1-.77-2.74,4.94,4.94,0,0,1,1.26-3.41,6.41,6.41,0,0,1,3.48-1.88c.31-.08,1.07-.24,2.3-.49s2.27-.47,3.14-.68,1.82-.46,2.84-.76a5.05,5.05,0,0,0-.77-2.82c-.46-.6-1.41-.9-2.84-.9a6,6,0,0,0-2.79.51,4.65,4.65,0,0,0-1.61,1.55c-.44.69-.76,1.15-.94,1.37a1.54,1.54,0,0,1-1.18.33,2.08,2.08,0,0,1-1.42-.53,1.71,1.71,0,0,1-.6-1.34,4.1,4.1,0,0,1,.91-2.5,6.48,6.48,0,0,1,2.83-2,12.65,12.65,0,0,1,4.8-.79,13.46,13.46,0,0,1,5,.76,4.64,4.64,0,0,1,2.59,2.4,10.36,10.36,0,0,1,.76,4.34c0,1.14,0,2.11,0,2.91s0,1.68,0,2.65a9.53,9.53,0,0,0,.46,2.86,9,9,0,0,1,.45,1.92,1.78,1.78,0,0,1-.7,1.36,2.37,2.37,0,0,1-1.6.62,2.16,2.16,0,0,1-1.48-.71A10.93,10.93,0,0,1,300.88,210.76Zm-.32-7a24.39,24.39,0,0,1-3.11.83c-1.36.29-2.3.51-2.82.64a4.06,4.06,0,0,0-1.5.8,2.08,2.08,0,0,0-.71,1.67,2.46,2.46,0,0,0,.84,1.88,3.09,3.09,0,0,0,2.19.78,5.59,5.59,0,0,0,2.66-.64,4.14,4.14,0,0,0,1.79-1.63,7.39,7.39,0,0,0,.66-3.63Z\" transform=\"translate(-92.26 -182.3)\"/><path class=\"cls-2\" d=\"M325.93,207.14a5.89,5.89,0,0,1-1,3.45,6,6,0,0,1-2.89,2.18,13.05,13.05,0,0,1-4.66.74,11.26,11.26,0,0,1-4.49-.81,6.46,6.46,0,0,1-2.76-2,4,4,0,0,1-.89-2.41,1.88,1.88,0,0,1,.57-1.38,2,2,0,0,1,1.44-.57,1.71,1.71,0,0,1,1.18.38,4.21,4.21,0,0,1,.78,1.05,4.67,4.67,0,0,0,4.63,2.58,4.12,4.12,0,0,0,2.4-.65,1.84,1.84,0,0,0,.94-1.49,2,2,0,0,0-1-1.87,12.11,12.11,0,0,0-3.19-1.12,26.46,26.46,0,0,1-4.09-1.31,6.68,6.68,0,0,1-2.52-1.81,4.15,4.15,0,0,1-.95-2.76,4.89,4.89,0,0,1,.87-2.76,6,6,0,0,1,2.58-2.08,10,10,0,0,1,4.11-.77,13.55,13.55,0,0,1,3.39.39,8.43,8.43,0,0,1,2.51,1,5.25,5.25,0,0,1,1.53,1.46,2.89,2.89,0,0,1,.53,1.57,1.81,1.81,0,0,1-.56,1.37,2.21,2.21,0,0,1-1.6.54,2,2,0,0,1-1.27-.43,8.56,8.56,0,0,1-1.2-1.28,4.26,4.26,0,0,0-1.3-1.14,4.79,4.79,0,0,0-4.23.13,1.63,1.63,0,0,0-.87,1.4,1.51,1.51,0,0,0,.64,1.25,5.47,5.47,0,0,0,1.73.82c.73.21,1.72.47,3,.78A16.17,16.17,0,0,1,323,203a6,6,0,0,1,2.17,1.81A3.93,3.93,0,0,1,325.93,207.14Z\" transform=\"translate(-92.26 -182.3)\"/></svg>\\n                        </a>\\n                    </div>\\n                    <label id=\"nav_overlay_drawer\" for=\"nav_check_category_wrapper\" aria-label=\"Toggle the WorldAtlas Menu\"></label>\\n                    <div class=\"nav_category_wrapper\">\\n                        <ul class=\"nav_category_list\">\\n                            <li class=\"nav_category_parent_wrapper\">\\n                                <input id=\"nav_check_continents\" class=\"hide\" type=\"checkbox\">\\n                                <label class=\"nav_category_parent nav_menu_item\" for=\"nav_check_continents\">Continents</label>\\n                                <div class=\"nav_category_child\">\\n                                    <ul>\\n                                        <li itemprop=\"name\"><a href=\"/continents\" itemprop=\"url\">Continents</a></li>\\n                                        <li itemprop=\"name\"><a href=\"/webimage/countrys/na.htm\" itemprop=\"url\">North America</a></li>\\n                                        <li itemprop=\"name\"><a href=\"/webimage/countrys/carib.htm\" itemprop=\"url\">Caribbean</a></li>\\n                                        <li itemprop=\"name\"><a href=\"/webimage/countrys/camerica.htm\" itemprop=\"url\">Central America</a></li>\\n                                        <li itemprop=\"name\"><a href=\"/continents/south-america.html\" itemprop=\"url\">South America</a></li>\\n                                        <li itemprop=\"name\"><a href=\"/webimage/countrys/eu.htm\" itemprop=\"url\">Europe</a></li>\\n                                        <li itemprop=\"name\"><a href=\"/webimage/countrys/af.htm\" itemprop=\"url\">Africa</a></li>\\n                                        <li itemprop=\"name\"><a href=\"/webimage/countrys/me.htm\" itemprop=\"url\">Middle East</a></li>\\n                                        <li itemprop=\"name\"><a href=\"/webimage/countrys/as.htm\" itemprop=\"url\">Asia</a></li>\\n                                        <li itemprop=\"name\"><a href=\"/webimage/countrys/au.htm\" itemprop=\"url\">Oceania</a></li>\\n                                        <li itemprop=\"name\"><a href=\"/webimage/countrys/polar/arctic.htm\" itemprop=\"url\">Arctic</a></li>\\n                                        <li itemprop=\"name\"><a href=\"/webimage/countrys/an.htm\" itemprop=\"url\">Antarctica</a></li>\\n                                    </ul>\\n                                </div>\\n                            </li>\\n                            <li class=\"nav_category_parent_wrapper\">\\n                                <input id=\"nav_check_countries\" class=\"hide\" type=\"checkbox\">\\n                                <label class=\"nav_category_parent nav_menu_item\" for=\"nav_check_countries\">Countries</label>\\n                                <div class=\"nav_category_child\">\\n                                    <ul>\\n                                        <li itemprop=\"name\"><a href=\"/countries\" itemprop=\"url\">List of All Countries</a></li>\\n                                        <li itemprop=\"name\"><a href=\"/maps/united-states.html\" itemprop=\"url\">US Maps</a></li>\\n                                        <li itemprop=\"name\"><a href=\"/maps/philippines.html\" itemprop=\"url\">Philippines Maps</a></li>\\n                                        <li itemprop=\"name\"><a href=\"/maps/colombia.html\" itemprop=\"url\">Colombia Maps</a></li>\\n                                        <li itemprop=\"name\"><a href=\"/countries/spain.html\" itemprop=\"url\">Spain</a></li>\\n                                        <li itemprop=\"name\"><a href=\"/countries/portugal.html\" itemprop=\"url\">Portugal</a></li>\\n                                        <li itemprop=\"name\"><a href=\"/aatlas/ctycodes.htm\" itemprop=\"url\">Country Codes</a></li>\\n                                    </ul>\\n                                </div>\\n                            </li>\\n                            <li class=\"nav_category_parent_wrapper\">\\n                                <input id=\"nav_check_world\" class=\"hide\" type=\"checkbox\">\\n                                <label class=\"nav_category_parent nav_menu_item\" for=\"nav_check_world\">World</label>\\n                                <div class=\"nav_category_child\">\\n                                    <ul>\\n                                        <li itemprop=\"name\"><a href=\"/environment/\" itemprop=\"url\">Environment</a></li>\\n                                        <li itemprop=\"name\"><a href=\"/world-facts/\" itemprop=\"url\">World Facts</a></li>\\n                                        <li itemprop=\"name\"><a href=\"/travel/\" itemprop=\"url\">Travel</a></li>\\n                                        <li itemprop=\"name\"><a href=\"/geography/\" itemprop=\"url\">Geography</a></li>\\n                                        <li itemprop=\"name\"><a href=\"/did-you-know/\" itemprop=\"url\">Did You Know?</a></li>\\n                                    </ul>\\n                                </div>\\n                            </li>\\n                            <li class=\"nav_category_parent_wrapper\">\\n                                <input id=\"nav_check_education\" class=\"hide\" type=\"checkbox\">\\n                                <label class=\"nav_category_parent nav_menu_item\" for=\"nav_check_education\">Education</label>\\n                                <div class=\"nav_category_child\">\\n                                    <ul>\\n                                        <li itemprop=\"name\"><a href=\"/history/\" itemprop=\"url\">History</a></li>\\n                                        <li itemprop=\"name\"><a href=\"/science/\" itemprop=\"url\">Science</a></li>\\n                                        <li itemprop=\"name\"><a href=\"/answers/\" itemprop=\"url\">Quick Facts</a></li>\\n                                        <li itemprop=\"name\"><a href=\"/feature/\" itemprop=\"url\">Featured</a></li>\\n                                    </ul>\\n                                </div>\\n                            </li>\\n                            <li class=\"nav_category_parent_wrapper\">\\n                                <input id=\"nav_check_socialscience\" class=\"hide\" type=\"checkbox\">\\n                                <label class=\"nav_category_parent nav_menu_item\" for=\"nav_check_socialscience\">Social Science</label>\\n                                <div class=\"nav_category_child\">\\n                                    <ul>\\n                                        <li itemprop=\"name\"><a href=\"/economics/\" itemprop=\"url\">Economics</a></li>\\n                                        <li itemprop=\"name\"><a href=\"/politics/\" itemprop=\"url\">Politics</a></li>\\n                                        <li itemprop=\"name\"><a href=\"/society/\" itemprop=\"url\">Society</a></li>\\n                                    </ul>\\n                                </div>\\n                            </li>\\n                        </ul>\\n                        <ul class=\"nav_resource_list\">\\n                            <li itemprop=\"name\"><a href=\"/about\" itemprop=\"url\">About Us</a></li>\\n                            <li itemprop=\"name\"><a href=\"/contact\" itemprop=\"url\">Contact Us</a></li>\\n                            <li itemprop=\"name\"><a href=\"/privacy-policy\" itemprop=\"url\">Privacy</a></li>\\n                            <li itemprop=\"name\"><a href=\"/copyright\" itemprop=\"url\">Copyright</a></li>\\n                        </ul>\\n                        <ul class=\"nav_social_list\">\\n    <li><a class=\"wa_badge_md icon-facebook\" href=\"https://www.facebook.com/worldatlas\" rel=\"noopener noreferrer\" aria-label=\"Visit us on Facebook\"></a></li>\\n    <li><a class=\"wa_badge_md icon-twitter\" href=\"https://twitter.com/worldatlas\" rel=\"noopener noreferrer\" aria-label=\"Visit us on Twitter\"></a></li>\\n    <li><a class=\"wa_badge_md icon-pinterest\" href=\"https://www.pinterest.ca/worldatlas/\" rel=\"noopener noreferrer\" aria-label=\"Visit us on Pinterest\"></a></li>\\n    <li><a class=\"wa_badge_md icon-linkedin\" href=\"https://www.linkedin.com/company/world-atlas\" rel=\"noopener noreferrer\" aria-label=\"Visit us on LinkedIn\"></a></li>\\n</ul>                    </div>\\n                    <div class=\"nav_right\">\\n                        <label id=\"nav_menu_search\" class=\"nav_menu_item icon-search\" for=\"nav_check_search\" aria-label=\"WorldAtlas Search\"></label>\\n                        <input id=\"nav_check_search\" class=\"hide\" type=\"checkbox\">\\n                        <div id=\"nav_drawer_search\">\\n                            <label id=\"nav_menu_search_close\" class=\"icon-cancel\" for=\"nav_check_search\" aria-label=\"Close WorldAtlas Search\"></label>\\n                            <div class=\"drawer_search_form\">\\n                                <label id=\"drawer_search_label\" for=\"drawer_search_input\">Search WorldAtlas</label>\\n                                <input id=\"drawer_search_input\" type=\"text\" class=\"navSearchBox\" placeholder=\"Search\">\\n                                <button id=\"drawer_search_button\" class=\"icon-search\" onclick=\"findPage(\\'drawer_search_input\\')\" aria-label=\"Search\"></button>\\n                            </div>\\n                        </div>\\n                    </div>\\n                </nav>\\n            </header>\\n  \\n    \\n    <div class=\"w-footer clear\">\\n        <footer class=\"footer\">\\n            <div class=\"footer-lv1\">\\n                <div class=\"footerLv1-sec fs1\">\\n                    <h3>Popular Atlas Pages</h3>\\n                    <ul>\\n                        <li><a href=\"/webimage/countrys/af.htm\">Africa</a></li>\\n                        <li><a href=\"/webimage/countrys/an.htm\">Antarctica</a></li>\\n                        <li><a href=\"/webimage/countrys/as.htm\">Asia</a></li>\\n                        <li><a href=\"/webimage/countrys/au.htm\">Oceania</a></li>\\n                        <li><a href=\"/webimage/countrys/carib.htm\">Caribbean</a></li>\\n                        <li><a href=\"/webimage/countrys/camerica.htm\">Central America</a></li>\\n                        <li><a href=\"/webimage/countrys/eu.htm\">Europe</a></li>\\n                        <li><a href=\"/webimage/countrys/me.htm\">Middle East</a></li>\\n                        <li><a href=\"/webimage/countrys/na.htm\">North America</a></li>\\n                        <li><a href=\"/continents/south-america.html\">South America</a></li>\\n                        <li><a href=\"/webimage/countrys/polar/arctic.htm\">Arctic</a></li>\\n                        <li><a href=\"/webimage/countrys/io.htm\">Islands</a></li>\\n                        <li><a href=\"/webimage/countrys/namerica/us.htm\">USA</a></li>\\n                        <li><a href=\"/webimage/countrys/namerica/ca.htm\">Canada</a></li>\\n                        <li><a href=\"/geography.html\">Definition of Geography</a></li>\\n                        <li><a href=\"/the-five-themes-in-geography.html\">5 Themes of Geography</a></li>\\n                        <li><a href=\"/what-is-cartography.html\">What Is Cartography?</a></li>\\n                        <li><a href=\"/what-is-a-leap-year.html\">What Is a Leap Year?</a></li>\\n                        <li><a href=\"https://www.worldatlas.com/quizzes/\">Quizzes</a></li>\\n                        <li><a href=\"/maps/united-states.html\">US Map</a></li>\\n                        <li><a href=\"/maps/philippines.html\">Philippines Map</a></li>\\n                        <li><a href=\"/maps/colombia.html\">Colombia Map</a></li>\\n                    </ul>\\n                </div>\\n                <div class=\"footerLv1-sec fs2\">\\n                    <h3>Popular Reference Pages</h3>\\n                    <ul>\\n                        <li><a href=\"/did-you-know/\">Did You Know?</a></li>\\n                        <li><a href=\"/aatlas/lista.htm\">Bodies of Water</a></li>\\n                        <li><a href=\"/aatlas/infopage/contnent.htm\">Continents</a></li>\\n                        <li><a href=\"/nations.htm\">Countries (a list)</a></li>\\n                        <li><a href=\"/aatlas/ctycodes.htm\">Country Codes (all)</a></li>\\n                        <li><a href=\"/aatlas/infopage/currconv.htm\">Currency Conversion</a></li>\\n                        <li><a href=\"/webimage/countrys/time.htm\"> Current Time (anywhere)</a></li>\\n                        <li><a href=\"/aatlas/infopage/distance_between_cities.htm\">Distances</a></li>\\n                        <li><a href=\"/aatlas/imagee.htm\">Equator</a></li>\\n                        <li><a href=\"/webimage/flags/flags.htm\">Flags</a></li>\\n                        <li><a href=\"/aatlas/imageh.htm\">Hemispheres</a></li>\\n                        <li><a href=\"/aatlas/imageg.htm\">Latitude and Longitude</a></li>\\n                        <li><a href=\"/webimage/testmaps/maps.htm\">Map Tests</a></li>\\n                        <li><a href=\"/aatlas/infopage/oceans.htm\">Oceans (all)</a></li>\\n                        <li><a href=\"/webimage/testmaps/maps.htm\">Outline Maps</a></li>\\n                        <li><a href=\"/aatlas/populations/ctypopls.htm\">Populations (cities & countries)</a></li>\\n                        <li><a href=\"/aatlas/imagee.htm\">Prime Meridian</a></li>\\n                        <li><a href=\"/webimage/countrys/namerica/usstates/timezone.htm\">USA Times</a></li>\\n                        <li><a href=\"/aatlas/moremaps.htm\">World Maps</a></li>\\n                        <li><a href=\"/na/us/area-codes.html\">United States Area Codes</a></li>\\n                    </ul>\\n                </div>\\n                <div class=\"footerLv1-sec fs3\">\\n                    <h3>General Information</h3>\\n                    <ul>\\n                        <li><a href=\"/contact/wa_ratecard_2014.pdf\">Advertise with us</a></li>\\n                        <li><a href=\"/contact/contact.htm\">Contact Us</a></li>\\n                        <li><a href=\"/about\">About Us</a></li>\\n                        <li><a href=\"/policy.htm\">Privacy Statement</a></li>\\n                        <li><a href=\"/copyright.htm\">Copyright information</a></li>\\n                        <li><a href=\"/photos/photo.htm\">Featured Photos</a></li>\\n                        <li><a href=\"https://admin.worldatlas.com\">Want to Become a Writer?</a></li>\\n                    </ul>\\n                </div>\\n            </div>\\n            <div class=\"footer-lv2\">\\n                <p>All maps, graphics, flags, photos and original descriptions &copy; 2020 worldatlas.com</p>\\n                <ul class=\"footer-social\">\\n                    <li><a class=\"icon-facebook\" href=\"https://www.facebook.com/worldatlas\" target=\"_blank\"><span class=\"htx\">Worldatlas on Facebook</span></a></li>\\n                </ul>\\n            </div>\\n        </footer>\\n    </div>\\n\\n    \\n\\t    \\n    \\t<script src=\"/javascript/timeJS.js\"></script>\\n\\t\\n    <script src=\"/javascript/lazyLoading.min.js\"></script>\\n\\n        \\t<script src=\"/javascript/functions-desktop.js?1002\"></script>\\n\\t\\n\\t\\n    \\n    \\t\\t<script defer src=\"/javascript/resize-image-map.js\"></script>\\n\\t\\n    <script>\\n    \\tfunction findPage(id) {\\n    \\t    let inputElement = document.getElementById(id);\\n    \\t    let searchTerm = document.getElementById(\"se_input\").value;\\n\\n    \\t    if(searchTerm) {\\n    \\t        window.location.replace(\"/search?q=\" + encodeURI(searchTerm.trim()));\\n    \\t    }\\n    \\t}\\n    \\t\\n        function emailCurrentPage(){\\n            window.location.href=\"mailto:?subject=\"+document.title+\"&body=\"+escape(window.location.href);\\n        }\\n    </script>\\n</body>\\n</html>\\n'\n"
     ]
    }
   ],
   "source": [
    "print(atlas_src)"
   ]
  },
  {
   "cell_type": "code",
   "execution_count": 106,
   "metadata": {
    "scrolled": true
   },
   "outputs": [],
   "source": [
    "atlas_soup = BeautifulSoup(atlas_src, \"lxml\")"
   ]
  },
  {
   "cell_type": "code",
   "execution_count": 107,
   "metadata": {},
   "outputs": [],
   "source": [
    "atlas_tables = atlas_soup.find_all(\"table\")"
   ]
  },
  {
   "cell_type": "code",
   "execution_count": 108,
   "metadata": {},
   "outputs": [],
   "source": [
    "# Table Contents\n",
    "tbody = atlas_soup.find_all(\"tbody\")"
   ]
  },
  {
   "cell_type": "code",
   "execution_count": 109,
   "metadata": {
    "scrolled": true
   },
   "outputs": [
    {
     "name": "stdout",
     "output_type": "stream",
     "text": [
      " COUNTRY A2 (ISO) A3 (UN) NUM (UN) DIALING CODE \n",
      " Afghanistan AF AFG 4 93 \n",
      " Albania AL ALB 8 355 \n",
      " Algeria DZ DZA 12 213 \n",
      " American Samoa AS ASM 16 1-684 \n",
      " Andorra AD AND 20 376 \n",
      " Angola AO AGO 24 244 \n",
      " Anguilla AI AIA 660 1-264 \n",
      " Antarctica AQ ATA 10 672 \n",
      " Antigua and Barbuda AG ATG 28 1-268 \n",
      " Argentina AR ARG 32 54 \n",
      " Armenia AM ARM 51 374 \n",
      " Aruba AW ABW 533 297 \n",
      " Australia AU AUS 36 61 \n",
      " Austria AT AUT 40 43 \n",
      " Azerbaijan AZ AZE 31 994 \n",
      " Bahamas BS BHS 44 1-242 \n",
      " Bahrain BH BHR 48 973 \n",
      " Bangladesh BD BGD 50 880 \n",
      " Barbados BB BRB 52 1-246 \n",
      " Belarus BY BLR 112 375 \n",
      " Belgium BE BEL 56 32 \n",
      " Belize BZ BLZ 84 501 \n",
      " Benin BJ BEN 204 229 \n",
      " Bermuda BM BMU 60 1-441 \n",
      " Bhutan BT BTN 64 975 \n",
      " Bolivia BO BOL 68 591 \n",
      " Bonaire BQ BES 535 599 \n",
      " Bosnia and Herzegovina BA BIH 70 387 \n",
      " Botswana BW BWA 72 267 \n",
      " Bouvet Island BV BVT 74 47 \n",
      " Brazil BR BRA 76 55 \n",
      " British Indian Ocean Territory IO IOT 86 246 \n",
      " Brunei Darussalam BN BRN 96 673 \n",
      " Bulgaria BG BGR 100 359 \n",
      " Burkina Faso BF BFA 854 226 \n",
      " Burundi BI BDI 108 257 \n",
      " Cambodia KH KHM 116 855 \n",
      " Cameroon CM CMR 120 237 \n",
      " Canada CA CAN 124 1 \n",
      " Cape Verde CV CPV 132 238 \n",
      " Cayman Islands KY CYM 136 1-345 \n",
      " Central African Republic CF CAF 140 236 \n",
      " Chad TD TCD 148 235 \n",
      " Chile CL CHL 152 56 \n",
      " China CN CHN 156 86 \n",
      " Christmas Island CX CXR 162 61 \n",
      " Cocos (Keeling) Islands CC CCK 166 61 \n",
      " Colombia CO COL 170 57 \n",
      " Comoros KM COM 174 269 \n",
      " Congo CG COG 178 242 \n",
      " Democratic Republic of the Congo CD COD 180 243 \n",
      " Cook Islands CK COK 184 682 \n",
      " Costa Rica CR CRI 188 506 \n",
      " Croatia HR HRV 191 385 \n",
      " Cuba CU CUB 192 53 \n",
      " Curacao CW CUW 531 599 \n",
      " Cyprus CY CYP 196 357 \n",
      " Czech Republic CZ CZE 203 420 \n",
      " Cote d'Ivoire CI CIV 384 225 \n",
      " Denmark DK DNK 208 45 \n",
      " Djibouti DJ DJI 262 253 \n",
      " Dominica DM DMA 212 1-767 \n",
      " Dominican Republic DO DOM 214 1-809,1-829,1-849 \n",
      " Ecuador EC ECU 218 593 \n",
      " Egypt EG EGY 818 20 \n",
      " El Salvador SV SLV 222 503 \n",
      " Equatorial Guinea GQ GNQ 226 240 \n",
      " Eritrea ER ERI 232 291 \n",
      " Estonia EE EST 233 372 \n",
      " Ethiopia ET ETH 231 251 \n",
      " Falkland Islands (Malvinas) FK FLK 238 500 \n",
      " Faroe Islands FO FRO 234 298 \n",
      " Fiji FJ FJI 242 679 \n",
      " Finland FI FIN 246 358 \n",
      " France FR FRA 250 33 \n",
      " French Guiana GF GUF 254 594 \n",
      " French Polynesia PF PYF 258 689 \n",
      " French Southern Territories TF ATF 260 262 \n",
      " Gabon GA GAB 266 241 \n",
      " Gambia GM GMB 270 220 \n",
      " Georgia GE GEO 268 995 \n",
      " Germany DE DEU 276 49 \n",
      " Ghana GH GHA 288 233 \n",
      " Gibraltar GI GIB 292 350 \n",
      " Greece GR GRC 300 30 \n",
      " Greenland GL GRL 304 299 \n",
      " Grenada GD GRD 308 1-473 \n",
      " Guadeloupe GP GLP 312 590 \n",
      " Guam GU GUM 316 1-671 \n",
      " Guatemala GT GTM 320 502 \n",
      " Guernsey GG GGY 831 44 \n",
      " Guinea GN GIN 324 224 \n",
      " Guinea-Bissau GW GNB 624 245 \n",
      " Guyana GY GUY 328 592 \n",
      " Haiti HT HTI 332 509 \n",
      " Heard Island and McDonald Islands HM HMD 334 672 \n",
      " Holy See (Vatican City State) VA VAT 336 379 \n",
      " Honduras HN HND 340 504 \n",
      " Hong Kong HK HKG 344 852 \n",
      " Hungary HU HUN 348 36 \n",
      " Iceland IS ISL 352 354 \n",
      " India IN IND 356 91 \n",
      " Indonesia ID IDN 360 62 \n",
      " Iran, Islamic Republic of IR IRN 364 98 \n",
      " Iraq IQ IRQ 368 964 \n",
      " Ireland IE IRL 372 353 \n",
      " Isle of Man IM IMN 833 44 \n",
      " Israel IL ISR 376 972 \n",
      " Italy IT ITA 380 39 \n",
      " Jamaica JM JAM 388 1-876 \n",
      " Japan JP JPN 392 81 \n",
      " Jersey JE JEY 832 44 \n",
      " Jordan JO JOR 400 962 \n",
      " Kazakhstan KZ KAZ 398 7 \n",
      " Kenya KE KEN 404 254 \n",
      " Kiribati KI KIR 296 686 \n",
      " Korea, Democratic People's Republic of KP PRK 408 850 \n",
      " Korea, Republic of KR KOR 410 82 \n",
      " Kuwait KW KWT 414 965 \n",
      " Kyrgyzstan KG KGZ 417 996 \n",
      " Lao People's Democratic Republic LA LAO 418 856 \n",
      " Latvia LV LVA 428 371 \n",
      " Lebanon LB LBN 422 961 \n",
      " Lesotho LS LSO 426 266 \n",
      " Liberia LR LBR 430 231 \n",
      " Libya LY LBY 434 218 \n",
      " Liechtenstein LI LIE 438 423 \n",
      " Lithuania LT LTU 440 370 \n",
      " Luxembourg LU LUX 442 352 \n",
      " Macao MO MAC 446 853 \n",
      " Macedonia, the Former Yugoslav Republic of MK MKD 807 389 \n",
      " Madagascar MG MDG 450 261 \n",
      " Malawi MW MWI 454 265 \n",
      " Malaysia MY MYS 458 60 \n",
      " Maldives MV MDV 462 960 \n",
      " Mali ML MLI 466 223 \n",
      " Malta MT MLT 470 356 \n",
      " Marshall Islands MH MHL 584 692 \n",
      " Martinique MQ MTQ 474 596 \n",
      " Mauritania MR MRT 478 222 \n",
      " Mauritius MU MUS 480 230 \n",
      " Mayotte YT MYT 175 262 \n",
      " Mexico MX MEX 484 52 \n",
      " Micronesia, Federated States of FM FSM 583 691 \n",
      " Moldova, Republic of MD MDA 498 373 \n",
      " Monaco MC MCO 492 377 \n",
      " Mongolia MN MNG 496 976 \n",
      " Montenegro ME MNE 499 382 \n",
      " Montserrat MS MSR 500 1-664 \n",
      " Morocco MA MAR 504 212 \n",
      " Mozambique MZ MOZ 508 258 \n",
      " Myanmar MM MMR 104 95 \n",
      " Namibia NA NAM 516 264 \n",
      " Nauru NR NRU 520 674 \n",
      " Nepal NP NPL 524 977 \n",
      " Netherlands NL NLD 528 31 \n",
      " New Caledonia NC NCL 540 687 \n",
      " New Zealand NZ NZL 554 64 \n",
      " Nicaragua NI NIC 558 505 \n",
      " Niger NE NER 562 227 \n",
      " Nigeria NG NGA 566 234 \n",
      " Niue NU NIU 570 683 \n",
      " Norfolk Island NF NFK 574 672 \n",
      " Northern Mariana Islands MP MNP 580 1-670 \n",
      " Norway NO NOR 578 47 \n",
      " Oman OM OMN 512 968 \n",
      " Pakistan PK PAK 586 92 \n",
      " Palau PW PLW 585 680 \n",
      " Palestine, State of PS PSE 275 970 \n",
      " Panama PA PAN 591 507 \n",
      " Papua New Guinea PG PNG 598 675 \n",
      " Paraguay PY PRY 600 595 \n",
      " Peru PE PER 604 51 \n",
      " Philippines PH PHL 608 63 \n",
      " Pitcairn PN PCN 612 870 \n",
      " Poland PL POL 616 48 \n",
      " Portugal PT PRT 620 351 \n",
      " Puerto Rico PR PRI 630 1 \n",
      " Qatar QA QAT 634 974 \n",
      " Romania RO ROU 642 40 \n",
      " Russian Federation RU RUS 643 7 \n",
      " Rwanda RW RWA 646 250 \n",
      " Reunion RE REU 638 262 \n",
      " Saint Barthelemy BL BLM 652 590 \n",
      " Saint Helena SH SHN 654 290 \n",
      " Saint Kitts and Nevis KN KNA 659 1-869 \n",
      " Saint Lucia LC LCA 662 1-758 \n",
      " Saint Martin (French part) MF MAF 663 590 \n",
      " Saint Pierre and Miquelon PM SPM 666 508 \n",
      " Saint Vincent and the Grenadines VC VCT 670 1-784 \n",
      " Samoa WS WSM 882 685 \n",
      " San Marino SM SMR 674 378 \n",
      " Sao Tome and Principe ST STP 678 239 \n",
      " Saudi Arabia SA SAU 682 966 \n",
      " Senegal SN SEN 686 221 \n",
      " Serbia RS SRB 688 381 \n",
      " Seychelles SC SYC 690 248 \n",
      " Sierra Leone SL SLE 694 232 \n",
      " Singapore SG SGP 702 65 \n",
      " Sint Maarten (Dutch part) SX SXM 534 1-721 \n",
      " Slovakia SK SVK 703 421 \n",
      " Slovenia SI SVN 705 386 \n",
      " Solomon Islands SB SLB 90 677 \n",
      " Somalia SO SOM 706 252 \n",
      " South Africa ZA ZAF 710 27 \n",
      " South Georgia and the South Sandwich Islands GS SGS 239 500 \n",
      " South Sudan SS SSD 728 211 \n",
      " Spain ES ESP 724 34 \n",
      " Sri Lanka LK LKA 144 94 \n",
      " Sudan SD SDN 729 249 \n",
      " Suriname SR SUR 740 597 \n",
      " Svalbard and Jan Mayen SJ SJM 744 47 \n",
      " Swaziland SZ SWZ 748 268 \n",
      " Sweden SE SWE 752 46 \n",
      " Switzerland CH CHE 756 41 \n",
      " Syrian Arab Republic SY SYR 760 963 \n",
      " Taiwan TW TWN 158 886 \n",
      " Tajikistan TJ TJK 762 992 \n",
      " United Republic of Tanzania TZ TZA 834 255 \n",
      " Thailand TH THA 764 66 \n",
      " Timor-Leste TL TLS 626 670 \n",
      " Togo TG TGO 768 228 \n",
      " Tokelau TK TKL 772 690 \n",
      " Tonga TO TON 776 676 \n",
      " Trinidad and Tobago TT TTO 780 1-868 \n",
      " Tunisia TN TUN 788 216 \n",
      " Turkey TR TUR 792 90 \n",
      " Turkmenistan TM TKM 795 993 \n",
      " Turks and Caicos Islands TC TCA 796 1-649 \n",
      " Tuvalu TV TUV 798 688 \n",
      " Uganda UG UGA 800 256 \n",
      " Ukraine UA UKR 804 380 \n",
      " United Arab Emirates AE ARE 784 971 \n",
      " United Kingdom GB GBR 826 44 \n",
      " United States US USA 840 1 \n",
      " United States Minor Outlying Islands UM UMI 581 1 \n",
      " Uruguay UY URY 858 598 \n",
      " Uzbekistan UZ UZB 860 998 \n",
      " Vanuatu VU VUT 548 678 \n",
      " Venezuela VE VEN 862 58 \n",
      " Viet Nam VN VNM 704 84 \n",
      " British Virgin Islands VG VGB 92 1-284 \n",
      " US Virgin Islands VI VIR 850 1-340 \n",
      " Wallis and Futuna WF WLF 876 681 \n",
      " Western Sahara EH ESH 732 212 \n",
      " Yemen YE YEM 887 967 \n",
      " Zambia ZM ZMB 894 260 \n",
      " Zimbabwe ZW ZWE 716 263 \n",
      "\n",
      "\n"
     ]
    }
   ],
   "source": [
    "# View of the individual row elements in the countries table\n",
    "for tr in tbody:\n",
    "    for td in tr:\n",
    "        if type(td) == bs4.element.Tag:\n",
    "            print(td.text)\n",
    "    print('\\n')"
   ]
  },
  {
   "cell_type": "code",
   "execution_count": 110,
   "metadata": {},
   "outputs": [],
   "source": [
    "# Placing table contents from atlas_soup into a Pandas DataFrame\n",
    "atlas_df = pd.read_html(str(atlas_tables), header=0)[0]"
   ]
  },
  {
   "cell_type": "code",
   "execution_count": 111,
   "metadata": {},
   "outputs": [
    {
     "data": {
      "text/html": [
       "<div>\n",
       "<style scoped>\n",
       "    .dataframe tbody tr th:only-of-type {\n",
       "        vertical-align: middle;\n",
       "    }\n",
       "\n",
       "    .dataframe tbody tr th {\n",
       "        vertical-align: top;\n",
       "    }\n",
       "\n",
       "    .dataframe thead th {\n",
       "        text-align: right;\n",
       "    }\n",
       "</style>\n",
       "<table border=\"1\" class=\"dataframe\">\n",
       "  <thead>\n",
       "    <tr style=\"text-align: right;\">\n",
       "      <th></th>\n",
       "      <th>COUNTRY</th>\n",
       "      <th>A2 (ISO)</th>\n",
       "      <th>A3 (UN)</th>\n",
       "      <th>NUM (UN)</th>\n",
       "      <th>DIALING CODE</th>\n",
       "    </tr>\n",
       "  </thead>\n",
       "  <tbody>\n",
       "    <tr>\n",
       "      <th>0</th>\n",
       "      <td>Afghanistan</td>\n",
       "      <td>AF</td>\n",
       "      <td>AFG</td>\n",
       "      <td>4</td>\n",
       "      <td>93</td>\n",
       "    </tr>\n",
       "    <tr>\n",
       "      <th>1</th>\n",
       "      <td>Albania</td>\n",
       "      <td>AL</td>\n",
       "      <td>ALB</td>\n",
       "      <td>8</td>\n",
       "      <td>355</td>\n",
       "    </tr>\n",
       "    <tr>\n",
       "      <th>2</th>\n",
       "      <td>Algeria</td>\n",
       "      <td>DZ</td>\n",
       "      <td>DZA</td>\n",
       "      <td>12</td>\n",
       "      <td>213</td>\n",
       "    </tr>\n",
       "    <tr>\n",
       "      <th>3</th>\n",
       "      <td>American Samoa</td>\n",
       "      <td>AS</td>\n",
       "      <td>ASM</td>\n",
       "      <td>16</td>\n",
       "      <td>1-684</td>\n",
       "    </tr>\n",
       "    <tr>\n",
       "      <th>4</th>\n",
       "      <td>Andorra</td>\n",
       "      <td>AD</td>\n",
       "      <td>AND</td>\n",
       "      <td>20</td>\n",
       "      <td>376</td>\n",
       "    </tr>\n",
       "  </tbody>\n",
       "</table>\n",
       "</div>"
      ],
      "text/plain": [
       "          COUNTRY A2 (ISO) A3 (UN)  NUM (UN) DIALING CODE\n",
       "0     Afghanistan       AF     AFG         4           93\n",
       "1         Albania       AL     ALB         8          355\n",
       "2         Algeria       DZ     DZA        12          213\n",
       "3  American Samoa       AS     ASM        16        1-684\n",
       "4         Andorra       AD     AND        20          376"
      ]
     },
     "execution_count": 111,
     "metadata": {},
     "output_type": "execute_result"
    }
   ],
   "source": [
    "# Taking a peak at the data \n",
    "atlas_df.head()"
   ]
  },
  {
   "cell_type": "code",
   "execution_count": 112,
   "metadata": {},
   "outputs": [],
   "source": [
    "# Eliminating Unnecessary columns\n",
    "atlas_df.drop(columns=['A2 (ISO)','A3 (UN)','NUM (UN)','DIALING CODE'], inplace=True)"
   ]
  },
  {
   "cell_type": "code",
   "execution_count": 113,
   "metadata": {},
   "outputs": [
    {
     "data": {
      "text/html": [
       "<div>\n",
       "<style scoped>\n",
       "    .dataframe tbody tr th:only-of-type {\n",
       "        vertical-align: middle;\n",
       "    }\n",
       "\n",
       "    .dataframe tbody tr th {\n",
       "        vertical-align: top;\n",
       "    }\n",
       "\n",
       "    .dataframe thead th {\n",
       "        text-align: right;\n",
       "    }\n",
       "</style>\n",
       "<table border=\"1\" class=\"dataframe\">\n",
       "  <thead>\n",
       "    <tr style=\"text-align: right;\">\n",
       "      <th></th>\n",
       "      <th>COUNTRY</th>\n",
       "    </tr>\n",
       "  </thead>\n",
       "  <tbody>\n",
       "    <tr>\n",
       "      <th>0</th>\n",
       "      <td>Afghanistan</td>\n",
       "    </tr>\n",
       "    <tr>\n",
       "      <th>1</th>\n",
       "      <td>Albania</td>\n",
       "    </tr>\n",
       "    <tr>\n",
       "      <th>2</th>\n",
       "      <td>Algeria</td>\n",
       "    </tr>\n",
       "    <tr>\n",
       "      <th>3</th>\n",
       "      <td>American Samoa</td>\n",
       "    </tr>\n",
       "    <tr>\n",
       "      <th>4</th>\n",
       "      <td>Andorra</td>\n",
       "    </tr>\n",
       "  </tbody>\n",
       "</table>\n",
       "</div>"
      ],
      "text/plain": [
       "          COUNTRY\n",
       "0     Afghanistan\n",
       "1         Albania\n",
       "2         Algeria\n",
       "3  American Samoa\n",
       "4         Andorra"
      ]
     },
     "execution_count": 113,
     "metadata": {},
     "output_type": "execute_result"
    }
   ],
   "source": [
    "# Atlas Final\n",
    "atlas_df.head()"
   ]
  },
  {
   "cell_type": "code",
   "execution_count": 114,
   "metadata": {},
   "outputs": [],
   "source": [
    "# Saving for later use\n",
    "atlas_df.to_excel('data/atlas_countries_and_codes.xlsx', index=False)"
   ]
  },
  {
   "cell_type": "markdown",
   "metadata": {},
   "source": [
    "### Second Serving of Soup Data: ###"
   ]
  },
  {
   "cell_type": "code",
   "execution_count": 115,
   "metadata": {},
   "outputs": [],
   "source": [
    "# New Soup - BRI countries\n",
    "# Primary Source (In Chinese): https://www.yidaiyilu.gov.cn/info/iList.jsp?tm_id=126&cat_id=10122&info_id=77298\n",
    "bri_result = requests.get(\"https://green-bri.org/countries-of-the-belt-and-road-initiative-bri\") # secondary source\n",
    "bri_src = bri_result.content\n",
    "bri_soup = BeautifulSoup(bri_src, 'lxml')"
   ]
  },
  {
   "cell_type": "code",
   "execution_count": 116,
   "metadata": {},
   "outputs": [],
   "source": [
    "# honing in on our data\n",
    "bri_tables = bri_soup.find_all(\"table\")"
   ]
  },
  {
   "cell_type": "code",
   "execution_count": 117,
   "metadata": {},
   "outputs": [],
   "source": [
    "bri_df = pd.read_html(str(bri_tables), header=0)[0]"
   ]
  },
  {
   "cell_type": "code",
   "execution_count": 118,
   "metadata": {},
   "outputs": [
    {
     "data": {
      "text/html": [
       "<div>\n",
       "<style scoped>\n",
       "    .dataframe tbody tr th:only-of-type {\n",
       "        vertical-align: middle;\n",
       "    }\n",
       "\n",
       "    .dataframe tbody tr th {\n",
       "        vertical-align: top;\n",
       "    }\n",
       "\n",
       "    .dataframe thead th {\n",
       "        text-align: right;\n",
       "    }\n",
       "</style>\n",
       "<table border=\"1\" class=\"dataframe\">\n",
       "  <thead>\n",
       "    <tr style=\"text-align: right;\">\n",
       "      <th></th>\n",
       "      <th>Country</th>\n",
       "      <th>Region</th>\n",
       "      <th>IncomeGroup</th>\n",
       "    </tr>\n",
       "  </thead>\n",
       "  <tbody>\n",
       "    <tr>\n",
       "      <th>133</th>\n",
       "      <td>Venezuela, RB</td>\n",
       "      <td>Latin America &amp; Caribbean</td>\n",
       "      <td>Upper middle income</td>\n",
       "    </tr>\n",
       "    <tr>\n",
       "      <th>134</th>\n",
       "      <td>Vietnam</td>\n",
       "      <td>East Asia &amp; Pacific</td>\n",
       "      <td>Lower middle income</td>\n",
       "    </tr>\n",
       "    <tr>\n",
       "      <th>135</th>\n",
       "      <td>Yemen, Rep.</td>\n",
       "      <td>Middle East &amp; North Africa</td>\n",
       "      <td>Low income</td>\n",
       "    </tr>\n",
       "    <tr>\n",
       "      <th>136</th>\n",
       "      <td>Zambia</td>\n",
       "      <td>Sub-Saharan Africa</td>\n",
       "      <td>Lower middle income</td>\n",
       "    </tr>\n",
       "    <tr>\n",
       "      <th>137</th>\n",
       "      <td>Zimbabwe</td>\n",
       "      <td>Sub-Saharan Africa</td>\n",
       "      <td>Low income</td>\n",
       "    </tr>\n",
       "  </tbody>\n",
       "</table>\n",
       "</div>"
      ],
      "text/plain": [
       "           Country                      Region          IncomeGroup\n",
       "133  Venezuela, RB   Latin America & Caribbean  Upper middle income\n",
       "134        Vietnam         East Asia & Pacific  Lower middle income\n",
       "135    Yemen, Rep.  Middle East & North Africa           Low income\n",
       "136         Zambia          Sub-Saharan Africa  Lower middle income\n",
       "137       Zimbabwe          Sub-Saharan Africa           Low income"
      ]
     },
     "execution_count": 118,
     "metadata": {},
     "output_type": "execute_result"
    }
   ],
   "source": [
    "# Quick Peak at the last 5 rows in the table\n",
    "bri_df.tail()"
   ]
  },
  {
   "cell_type": "code",
   "execution_count": 119,
   "metadata": {},
   "outputs": [
    {
     "data": {
      "text/plain": [
       "6"
      ]
     },
     "execution_count": 119,
     "metadata": {},
     "output_type": "execute_result"
    }
   ],
   "source": [
    "# Preparing Histogram\n",
    "num_bins=len(bri_df['Region'].unique())\n",
    "num_bins"
   ]
  },
  {
   "cell_type": "code",
   "execution_count": 120,
   "metadata": {},
   "outputs": [
    {
     "data": {
      "text/plain": [
       "<AxesSubplot:xlabel='Region,IncomeGroup'>"
      ]
     },
     "execution_count": 120,
     "metadata": {},
     "output_type": "execute_result"
    },
    {
     "data": {
      "image/png": "[encoded data removed]",
      "text/plain": [
       "<Figure size 432x288 with 1 Axes>"
      ]
     },
     "metadata": {
      "needs_background": "light"
     },
     "output_type": "display_data"
    }
   ],
   "source": [
    "# Sorted by Region, subdivided by income group\n",
    "bri_df.groupby(['Region','IncomeGroup']).count().plot(kind='bar')"
   ]
  },
  {
   "cell_type": "code",
   "execution_count": 121,
   "metadata": {},
   "outputs": [
    {
     "data": {
      "text/plain": [
       "<AxesSubplot:xlabel='IncomeGroup,Region'>"
      ]
     },
     "execution_count": 121,
     "metadata": {},
     "output_type": "execute_result"
    },
    {
     "data": {
      "image/png": "[encoded data removed]",
      "text/plain": [
       "<Figure size 432x288 with 1 Axes>"
      ]
     },
     "metadata": {
      "needs_background": "light"
     },
     "output_type": "display_data"
    }
   ],
   "source": [
    "# Sorted by income groups, subdivided by region\n",
    "bri_df.groupby(['IncomeGroup','Region']).count().plot(kind='bar')"
   ]
  },
  {
   "cell_type": "code",
   "execution_count": 122,
   "metadata": {},
   "outputs": [
    {
     "data": {
      "text/html": [
       "<div>\n",
       "<style scoped>\n",
       "    .dataframe tbody tr th:only-of-type {\n",
       "        vertical-align: middle;\n",
       "    }\n",
       "\n",
       "    .dataframe tbody tr th {\n",
       "        vertical-align: top;\n",
       "    }\n",
       "\n",
       "    .dataframe thead th {\n",
       "        text-align: right;\n",
       "    }\n",
       "</style>\n",
       "<table border=\"1\" class=\"dataframe\">\n",
       "  <thead>\n",
       "    <tr style=\"text-align: right;\">\n",
       "      <th></th>\n",
       "      <th>Country</th>\n",
       "    </tr>\n",
       "  </thead>\n",
       "  <tbody>\n",
       "    <tr>\n",
       "      <th>0</th>\n",
       "      <td>Afghanistan</td>\n",
       "    </tr>\n",
       "    <tr>\n",
       "      <th>1</th>\n",
       "      <td>Albania</td>\n",
       "    </tr>\n",
       "    <tr>\n",
       "      <th>2</th>\n",
       "      <td>Algeria</td>\n",
       "    </tr>\n",
       "    <tr>\n",
       "      <th>3</th>\n",
       "      <td>Angola</td>\n",
       "    </tr>\n",
       "    <tr>\n",
       "      <th>4</th>\n",
       "      <td>Antigua and Barbuda</td>\n",
       "    </tr>\n",
       "  </tbody>\n",
       "</table>\n",
       "</div>"
      ],
      "text/plain": [
       "               Country\n",
       "0          Afghanistan\n",
       "1              Albania\n",
       "2              Algeria\n",
       "3               Angola\n",
       "4  Antigua and Barbuda"
      ]
     },
     "execution_count": 122,
     "metadata": {},
     "output_type": "execute_result"
    }
   ],
   "source": [
    "# Isolating the countries column of BRI participants to combine with atlas data\n",
    "bri_countries = bri_df.drop(columns=['Region','IncomeGroup'])\n",
    "# First 5 rows in the table\n",
    "bri_countries.head()"
   ]
  },
  {
   "cell_type": "markdown",
   "metadata": {},
   "source": [
    "### Uniting the two new DataFrames: ###"
   ]
  },
  {
   "cell_type": "code",
   "execution_count": 123,
   "metadata": {},
   "outputs": [],
   "source": [
    "# Joining the country col from the Atlas df and the Country col \n",
    "# from the BRI df to determine BRI membership of all nations around the world\n",
    "countries_mega_df = pd.concat([atlas_df, bri_countries], axis=1, sort=False)"
   ]
  },
  {
   "cell_type": "code",
   "execution_count": 124,
   "metadata": {},
   "outputs": [
    {
     "data": {
      "text/html": [
       "<div>\n",
       "<style scoped>\n",
       "    .dataframe tbody tr th:only-of-type {\n",
       "        vertical-align: middle;\n",
       "    }\n",
       "\n",
       "    .dataframe tbody tr th {\n",
       "        vertical-align: top;\n",
       "    }\n",
       "\n",
       "    .dataframe thead th {\n",
       "        text-align: right;\n",
       "    }\n",
       "</style>\n",
       "<table border=\"1\" class=\"dataframe\">\n",
       "  <thead>\n",
       "    <tr style=\"text-align: right;\">\n",
       "      <th></th>\n",
       "      <th>COUNTRY</th>\n",
       "      <th>Country</th>\n",
       "    </tr>\n",
       "  </thead>\n",
       "  <tbody>\n",
       "    <tr>\n",
       "      <th>0</th>\n",
       "      <td>Afghanistan</td>\n",
       "      <td>Afghanistan</td>\n",
       "    </tr>\n",
       "    <tr>\n",
       "      <th>1</th>\n",
       "      <td>Albania</td>\n",
       "      <td>Albania</td>\n",
       "    </tr>\n",
       "    <tr>\n",
       "      <th>2</th>\n",
       "      <td>Algeria</td>\n",
       "      <td>Algeria</td>\n",
       "    </tr>\n",
       "    <tr>\n",
       "      <th>3</th>\n",
       "      <td>American Samoa</td>\n",
       "      <td>Angola</td>\n",
       "    </tr>\n",
       "    <tr>\n",
       "      <th>4</th>\n",
       "      <td>Andorra</td>\n",
       "      <td>Antigua and Barbuda</td>\n",
       "    </tr>\n",
       "  </tbody>\n",
       "</table>\n",
       "</div>"
      ],
      "text/plain": [
       "          COUNTRY              Country\n",
       "0     Afghanistan          Afghanistan\n",
       "1         Albania              Albania\n",
       "2         Algeria              Algeria\n",
       "3  American Samoa               Angola\n",
       "4         Andorra  Antigua and Barbuda"
      ]
     },
     "execution_count": 124,
     "metadata": {},
     "output_type": "execute_result"
    }
   ],
   "source": [
    "# First 5 rows in the table\n",
    "countries_mega_df.head()"
   ]
  },
  {
   "cell_type": "markdown",
   "metadata": {},
   "source": [
    "### Data Cleaning Phase: ###"
   ]
  },
  {
   "cell_type": "code",
   "execution_count": 125,
   "metadata": {},
   "outputs": [],
   "source": [
    "countries_mega_df.rename(columns={'Country': 'BRI Countries'}, inplace=True)"
   ]
  },
  {
   "cell_type": "code",
   "execution_count": 126,
   "metadata": {},
   "outputs": [],
   "source": [
    "countries_mega_df.rename(columns={'COUNTRY': 'Country'}, inplace=True)"
   ]
  },
  {
   "cell_type": "code",
   "execution_count": 127,
   "metadata": {},
   "outputs": [
    {
     "data": {
      "text/html": [
       "<div>\n",
       "<style scoped>\n",
       "    .dataframe tbody tr th:only-of-type {\n",
       "        vertical-align: middle;\n",
       "    }\n",
       "\n",
       "    .dataframe tbody tr th {\n",
       "        vertical-align: top;\n",
       "    }\n",
       "\n",
       "    .dataframe thead th {\n",
       "        text-align: right;\n",
       "    }\n",
       "</style>\n",
       "<table border=\"1\" class=\"dataframe\">\n",
       "  <thead>\n",
       "    <tr style=\"text-align: right;\">\n",
       "      <th></th>\n",
       "      <th>Country</th>\n",
       "      <th>BRI Countries</th>\n",
       "    </tr>\n",
       "  </thead>\n",
       "  <tbody>\n",
       "    <tr>\n",
       "      <th>0</th>\n",
       "      <td>Afghanistan</td>\n",
       "      <td>Afghanistan</td>\n",
       "    </tr>\n",
       "    <tr>\n",
       "      <th>1</th>\n",
       "      <td>Albania</td>\n",
       "      <td>Albania</td>\n",
       "    </tr>\n",
       "    <tr>\n",
       "      <th>2</th>\n",
       "      <td>Algeria</td>\n",
       "      <td>Algeria</td>\n",
       "    </tr>\n",
       "    <tr>\n",
       "      <th>3</th>\n",
       "      <td>American Samoa</td>\n",
       "      <td>Angola</td>\n",
       "    </tr>\n",
       "    <tr>\n",
       "      <th>4</th>\n",
       "      <td>Andorra</td>\n",
       "      <td>Antigua and Barbuda</td>\n",
       "    </tr>\n",
       "  </tbody>\n",
       "</table>\n",
       "</div>"
      ],
      "text/plain": [
       "          Country        BRI Countries\n",
       "0     Afghanistan          Afghanistan\n",
       "1         Albania              Albania\n",
       "2         Algeria              Algeria\n",
       "3  American Samoa               Angola\n",
       "4         Andorra  Antigua and Barbuda"
      ]
     },
     "execution_count": 127,
     "metadata": {},
     "output_type": "execute_result"
    }
   ],
   "source": [
    "# First 5 rows in the table with more clear and distinctive columns\n",
    "countries_mega_df.head()"
   ]
  },
  {
   "cell_type": "code",
   "execution_count": 128,
   "metadata": {},
   "outputs": [],
   "source": [
    "# Merging into a single iterable string\n",
    "stringList = ' '.join([str(item) for item in countries_mega_df['BRI Countries'].dropna(axis=0)])"
   ]
  },
  {
   "cell_type": "code",
   "execution_count": 129,
   "metadata": {},
   "outputs": [
    {
     "data": {
      "text/plain": [
       "\"Afghanistan Albania Algeria Angola Antigua and Barbuda Armenia Austria* Azerbaijan Bahrain Bangladesh Barbados Belarus Benin* Bolivia Bosnia and Herzegovina Brunei Darussalam Bulgaria Burundi Cabo Verde Cambodia Cameroon Chad Chile China Cook Islands Comoros* Congo, Rep.* Costa Rica Côte d'Ivoire Croatia Cuba Cyprus Czech Republic Djibouti Dominica* Ecuador Egypt, Arab Rep. El Salvador Equatorial Guinea Estonia Ethiopia Fiji Gabon Gambia, The Georgia Ghana Greece Grenada Guinea Guyana Hungary Indonesia Iran, Islamic Rep. Iraq Italy Jamaica Kazakhstan Kenya Kiribati Korea, Rep. Kuwait Kyrgyz Republic Lao PDR Latvia Lebanon Lesotho Liberia Libya Lithuania Luxembourg Madagascar Malaysia Maldives Mali Malta Mauritania Micronesia, Fed. Sts. Moldova Mongolia Montenegro Morocco Mozambique Myanmar Namibia Nepal New Zealand Niger* Nigeria Niue North Macedonia Oman Pakistan Panama Papua New Guinea Peru Philippines Poland Portugal Qatar Romania Russian Federation* Rwanda Samoa Saudi Arabia Senegal Serbia Seychelles Sierra Leone Singapore Slovak Republic Slovenia Solomon Islands Somalia South Africa South Sudan Sri Lanka Sudan Suriname Tajikistan Tanzania Thailand Timor-Leste Togo Tonga Trinidad and Tobago Tunisia Turkey Uganda Ukraine United Arab Emirates Uruguay Uzbekistan Vanuatu Venezuela, RB Vietnam Yemen, Rep. Zambia Zimbabwe\""
      ]
     },
     "execution_count": 129,
     "metadata": {},
     "output_type": "execute_result"
    }
   ],
   "source": [
    "stringList"
   ]
  },
  {
   "cell_type": "code",
   "execution_count": 130,
   "metadata": {},
   "outputs": [
    {
     "name": "stdout",
     "output_type": "stream",
     "text": [
      "Afghanistan\n",
      " Was on the list\n",
      "Albania\n",
      " Was on the list\n",
      "Algeria\n",
      " Was on the list\n",
      "American Samoa\n",
      " Was not in the list\n",
      "Andorra\n",
      " Was not in the list\n",
      "Angola\n",
      " Was on the list\n",
      "Anguilla\n",
      " Was not in the list\n",
      "Antarctica\n",
      " Was not in the list\n",
      "Antigua and Barbuda\n",
      " Was on the list\n",
      "Argentina\n",
      " Was not in the list\n",
      "Armenia\n",
      " Was on the list\n",
      "Aruba\n",
      " Was not in the list\n",
      "Australia\n",
      " Was not in the list\n",
      "Austria\n",
      " Was on the list\n",
      "Azerbaijan\n",
      " Was on the list\n",
      "Bahamas\n",
      " Was not in the list\n",
      "Bahrain\n",
      " Was on the list\n",
      "Bangladesh\n",
      " Was on the list\n",
      "Barbados\n",
      " Was on the list\n",
      "Belarus\n",
      " Was on the list\n",
      "Belgium\n",
      " Was not in the list\n",
      "Belize\n",
      " Was not in the list\n",
      "Benin\n",
      " Was on the list\n",
      "Bermuda\n",
      " Was not in the list\n",
      "Bhutan\n",
      " Was not in the list\n",
      "Bolivia\n",
      " Was on the list\n",
      "Bonaire\n",
      " Was not in the list\n",
      "Bosnia and Herzegovina\n",
      " Was on the list\n",
      "Botswana\n",
      " Was not in the list\n",
      "Bouvet Island\n",
      " Was not in the list\n",
      "Brazil\n",
      " Was not in the list\n",
      "British Indian Ocean Territory\n",
      " Was not in the list\n",
      "Brunei Darussalam\n",
      " Was on the list\n",
      "Bulgaria\n",
      " Was on the list\n",
      "Burkina Faso\n",
      " Was not in the list\n",
      "Burundi\n",
      " Was on the list\n",
      "Cambodia\n",
      " Was on the list\n",
      "Cameroon\n",
      " Was on the list\n",
      "Canada\n",
      " Was not in the list\n",
      "Cape Verde\n",
      " Was not in the list\n",
      "Cayman Islands\n",
      " Was not in the list\n",
      "Central African Republic\n",
      " Was not in the list\n",
      "Chad\n",
      " Was on the list\n",
      "Chile\n",
      " Was on the list\n",
      "China\n",
      " Was on the list\n",
      "Christmas Island\n",
      " Was not in the list\n",
      "Cocos (Keeling) Islands\n",
      " Was not in the list\n",
      "Colombia\n",
      " Was not in the list\n",
      "Comoros\n",
      " Was on the list\n",
      "Congo\n",
      " Was on the list\n",
      "Democratic Republic of the Congo\n",
      " Was not in the list\n",
      "Cook Islands\n",
      " Was on the list\n",
      "Costa Rica\n",
      " Was on the list\n",
      "Croatia\n",
      " Was on the list\n",
      "Cuba\n",
      " Was on the list\n",
      "Curacao\n",
      " Was not in the list\n",
      "Cyprus\n",
      " Was on the list\n",
      "Czech Republic\n",
      " Was on the list\n",
      "Cote d'Ivoire\n",
      " Was not in the list\n",
      "Denmark\n",
      " Was not in the list\n",
      "Djibouti\n",
      " Was on the list\n",
      "Dominica\n",
      " Was on the list\n",
      "Dominican Republic\n",
      " Was not in the list\n",
      "Ecuador\n",
      " Was on the list\n",
      "Egypt\n",
      " Was on the list\n",
      "El Salvador\n",
      " Was on the list\n",
      "Equatorial Guinea\n",
      " Was on the list\n",
      "Eritrea\n",
      " Was not in the list\n",
      "Estonia\n",
      " Was on the list\n",
      "Ethiopia\n",
      " Was on the list\n",
      "Falkland Islands (Malvinas)\n",
      " Was not in the list\n",
      "Faroe Islands\n",
      " Was not in the list\n",
      "Fiji\n",
      " Was on the list\n",
      "Finland\n",
      " Was not in the list\n",
      "France\n",
      " Was not in the list\n",
      "French Guiana\n",
      " Was not in the list\n",
      "French Polynesia\n",
      " Was not in the list\n",
      "French Southern Territories\n",
      " Was not in the list\n",
      "Gabon\n",
      " Was on the list\n",
      "Gambia\n",
      " Was on the list\n",
      "Georgia\n",
      " Was on the list\n",
      "Germany\n",
      " Was not in the list\n",
      "Ghana\n",
      " Was on the list\n",
      "Gibraltar\n",
      " Was not in the list\n",
      "Greece\n",
      " Was on the list\n",
      "Greenland\n",
      " Was not in the list\n",
      "Grenada\n",
      " Was on the list\n",
      "Guadeloupe\n",
      " Was not in the list\n",
      "Guam\n",
      " Was not in the list\n",
      "Guatemala\n",
      " Was not in the list\n",
      "Guernsey\n",
      " Was not in the list\n",
      "Guinea\n",
      " Was on the list\n",
      "Guinea-Bissau\n",
      " Was not in the list\n",
      "Guyana\n",
      " Was on the list\n",
      "Haiti\n",
      " Was not in the list\n",
      "Heard Island and McDonald Islands\n",
      " Was not in the list\n",
      "Holy See (Vatican City State)\n",
      " Was not in the list\n",
      "Honduras\n",
      " Was not in the list\n",
      "Hong Kong\n",
      " Was not in the list\n",
      "Hungary\n",
      " Was on the list\n",
      "Iceland\n",
      " Was not in the list\n",
      "India\n",
      " Was not in the list\n",
      "Indonesia\n",
      " Was on the list\n",
      "Iran, Islamic Republic of\n",
      " Was not in the list\n",
      "Iraq\n",
      " Was on the list\n",
      "Ireland\n",
      " Was not in the list\n",
      "Isle of Man\n",
      " Was not in the list\n",
      "Israel\n",
      " Was not in the list\n",
      "Italy\n",
      " Was on the list\n",
      "Jamaica\n",
      " Was on the list\n",
      "Japan\n",
      " Was not in the list\n",
      "Jersey\n",
      " Was not in the list\n",
      "Jordan\n",
      " Was not in the list\n",
      "Kazakhstan\n",
      " Was on the list\n",
      "Kenya\n",
      " Was on the list\n",
      "Kiribati\n",
      " Was on the list\n",
      "Korea, Democratic People's Republic of\n",
      " Was not in the list\n",
      "Korea, Republic of\n",
      " Was not in the list\n",
      "Kuwait\n",
      " Was on the list\n",
      "Kyrgyzstan\n",
      " Was not in the list\n",
      "Lao People's Democratic Republic\n",
      " Was not in the list\n",
      "Latvia\n",
      " Was on the list\n",
      "Lebanon\n",
      " Was on the list\n",
      "Lesotho\n",
      " Was on the list\n",
      "Liberia\n",
      " Was on the list\n",
      "Libya\n",
      " Was on the list\n",
      "Liechtenstein\n",
      " Was not in the list\n",
      "Lithuania\n",
      " Was on the list\n",
      "Luxembourg\n",
      " Was on the list\n",
      "Macao\n",
      " Was not in the list\n",
      "Macedonia, the Former Yugoslav Republic of\n",
      " Was not in the list\n",
      "Madagascar\n",
      " Was on the list\n",
      "Malawi\n",
      " Was not in the list\n",
      "Malaysia\n",
      " Was on the list\n",
      "Maldives\n",
      " Was on the list\n",
      "Mali\n",
      " Was on the list\n",
      "Malta\n",
      " Was on the list\n",
      "Marshall Islands\n",
      " Was not in the list\n",
      "Martinique\n",
      " Was not in the list\n",
      "Mauritania\n",
      " Was on the list\n",
      "Mauritius\n",
      " Was not in the list\n",
      "Mayotte\n",
      " Was not in the list\n",
      "Mexico\n",
      " Was not in the list\n",
      "Micronesia, Federated States of\n",
      " Was not in the list\n",
      "Moldova, Republic of\n",
      " Was not in the list\n",
      "Monaco\n",
      " Was not in the list\n",
      "Mongolia\n",
      " Was on the list\n",
      "Montenegro\n",
      " Was on the list\n",
      "Montserrat\n",
      " Was not in the list\n",
      "Morocco\n",
      " Was on the list\n",
      "Mozambique\n",
      " Was on the list\n",
      "Myanmar\n",
      " Was on the list\n",
      "Namibia\n",
      " Was on the list\n",
      "Nauru\n",
      " Was not in the list\n",
      "Nepal\n",
      " Was on the list\n",
      "Netherlands\n",
      " Was not in the list\n",
      "New Caledonia\n",
      " Was not in the list\n",
      "New Zealand\n",
      " Was on the list\n",
      "Nicaragua\n",
      " Was not in the list\n",
      "Niger\n",
      " Was on the list\n",
      "Nigeria\n",
      " Was on the list\n",
      "Niue\n",
      " Was on the list\n",
      "Norfolk Island\n",
      " Was not in the list\n",
      "Northern Mariana Islands\n",
      " Was not in the list\n",
      "Norway\n",
      " Was not in the list\n",
      "Oman\n",
      " Was on the list\n",
      "Pakistan\n",
      " Was on the list\n",
      "Palau\n",
      " Was not in the list\n",
      "Palestine, State of\n",
      " Was not in the list\n",
      "Panama\n",
      " Was on the list\n",
      "Papua New Guinea\n",
      " Was on the list\n",
      "Paraguay\n",
      " Was not in the list\n",
      "Peru\n",
      " Was on the list\n",
      "Philippines\n",
      " Was on the list\n",
      "Pitcairn\n",
      " Was not in the list\n",
      "Poland\n",
      " Was on the list\n",
      "Portugal\n",
      " Was on the list\n",
      "Puerto Rico\n",
      " Was not in the list\n",
      "Qatar\n",
      " Was on the list\n",
      "Romania\n",
      " Was on the list\n",
      "Russian Federation\n",
      " Was on the list\n",
      "Rwanda\n",
      " Was on the list\n",
      "Reunion\n",
      " Was not in the list\n",
      "Saint Barthelemy\n",
      " Was not in the list\n",
      "Saint Helena\n",
      " Was not in the list\n",
      "Saint Kitts and Nevis\n",
      " Was not in the list\n",
      "Saint Lucia\n",
      " Was not in the list\n",
      "Saint Martin (French part)\n",
      " Was not in the list\n",
      "Saint Pierre and Miquelon\n",
      " Was not in the list\n",
      "Saint Vincent and the Grenadines\n",
      " Was not in the list\n",
      "Samoa\n",
      " Was on the list\n",
      "San Marino\n",
      " Was not in the list\n",
      "Sao Tome and Principe\n",
      " Was not in the list\n",
      "Saudi Arabia\n",
      " Was on the list\n",
      "Senegal\n",
      " Was on the list\n",
      "Serbia\n",
      " Was on the list\n",
      "Seychelles\n",
      " Was on the list\n",
      "Sierra Leone\n",
      " Was on the list\n",
      "Singapore\n",
      " Was on the list\n",
      "Sint Maarten (Dutch part)\n",
      " Was not in the list\n",
      "Slovakia\n",
      " Was not in the list\n",
      "Slovenia\n",
      " Was on the list\n",
      "Solomon Islands\n",
      " Was on the list\n",
      "Somalia\n",
      " Was on the list\n",
      "South Africa\n",
      " Was on the list\n",
      "South Georgia and the South Sandwich Islands\n",
      " Was not in the list\n",
      "South Sudan\n",
      " Was on the list\n",
      "Spain\n",
      " Was not in the list\n",
      "Sri Lanka\n",
      " Was on the list\n",
      "Sudan\n",
      " Was on the list\n",
      "Suriname\n",
      " Was on the list\n",
      "Svalbard and Jan Mayen\n",
      " Was not in the list\n",
      "Swaziland\n",
      " Was not in the list\n",
      "Sweden\n",
      " Was not in the list\n",
      "Switzerland\n",
      " Was not in the list\n",
      "Syrian Arab Republic\n",
      " Was not in the list\n",
      "Taiwan\n",
      " Was not in the list\n",
      "Tajikistan\n",
      " Was on the list\n",
      "United Republic of Tanzania\n",
      " Was not in the list\n",
      "Thailand\n",
      " Was on the list\n",
      "Timor-Leste\n",
      " Was on the list\n",
      "Togo\n",
      " Was on the list\n",
      "Tokelau\n",
      " Was not in the list\n",
      "Tonga\n",
      " Was on the list\n",
      "Trinidad and Tobago\n",
      " Was on the list\n",
      "Tunisia\n",
      " Was on the list\n",
      "Turkey\n",
      " Was on the list\n",
      "Turkmenistan\n",
      " Was not in the list\n",
      "Turks and Caicos Islands\n",
      " Was not in the list\n",
      "Tuvalu\n",
      " Was not in the list\n",
      "Uganda\n",
      " Was on the list\n",
      "Ukraine\n",
      " Was on the list\n",
      "United Arab Emirates\n",
      " Was on the list\n",
      "United Kingdom\n",
      " Was not in the list\n",
      "United States\n",
      " Was not in the list\n",
      "United States Minor Outlying Islands\n",
      " Was not in the list\n",
      "Uruguay\n",
      " Was on the list\n",
      "Uzbekistan\n",
      " Was on the list\n",
      "Vanuatu\n",
      " Was on the list\n",
      "Venezuela\n",
      " Was on the list\n",
      "Viet Nam\n",
      " Was not in the list\n",
      "British Virgin Islands\n",
      " Was not in the list\n",
      "US Virgin Islands\n",
      " Was not in the list\n",
      "Wallis and Futuna\n",
      " Was not in the list\n",
      "Western Sahara\n",
      " Was not in the list\n",
      "Yemen\n",
      " Was on the list\n",
      "Zambia\n",
      " Was on the list\n",
      "Zimbabwe\n",
      " Was on the list\n"
     ]
    }
   ],
   "source": [
    "# Attempt to distinguish countries on the list of BRI subscribers and Countries not on the BRI list\n",
    "#def separate(string, list)\n",
    "temp = []\n",
    "for i in countries_mega_df['Country']:\n",
    "    if (i in stringList):\n",
    "        print(i)\n",
    "        print(' Was on the list')\n",
    "    else:\n",
    "        # isolating the countries that are not BRI participants into temp\n",
    "        temp.append(i)\n",
    "        print(i)\n",
    "        print(' Was not in the list')\n",
    "        continue"
   ]
  },
  {
   "cell_type": "code",
   "execution_count": 131,
   "metadata": {},
   "outputs": [],
   "source": [
    "countries_mega_df['Non-BRI Countries'] = pd.Series(temp)"
   ]
  },
  {
   "cell_type": "code",
   "execution_count": 132,
   "metadata": {},
   "outputs": [
    {
     "data": {
      "text/html": [
       "<div>\n",
       "<style scoped>\n",
       "    .dataframe tbody tr th:only-of-type {\n",
       "        vertical-align: middle;\n",
       "    }\n",
       "\n",
       "    .dataframe tbody tr th {\n",
       "        vertical-align: top;\n",
       "    }\n",
       "\n",
       "    .dataframe thead th {\n",
       "        text-align: right;\n",
       "    }\n",
       "</style>\n",
       "<table border=\"1\" class=\"dataframe\">\n",
       "  <thead>\n",
       "    <tr style=\"text-align: right;\">\n",
       "      <th></th>\n",
       "      <th>Country</th>\n",
       "      <th>BRI Countries</th>\n",
       "      <th>Non-BRI Countries</th>\n",
       "    </tr>\n",
       "  </thead>\n",
       "  <tbody>\n",
       "    <tr>\n",
       "      <th>0</th>\n",
       "      <td>Afghanistan</td>\n",
       "      <td>Afghanistan</td>\n",
       "      <td>American Samoa</td>\n",
       "    </tr>\n",
       "    <tr>\n",
       "      <th>1</th>\n",
       "      <td>Albania</td>\n",
       "      <td>Albania</td>\n",
       "      <td>Andorra</td>\n",
       "    </tr>\n",
       "    <tr>\n",
       "      <th>2</th>\n",
       "      <td>Algeria</td>\n",
       "      <td>Algeria</td>\n",
       "      <td>Anguilla</td>\n",
       "    </tr>\n",
       "    <tr>\n",
       "      <th>3</th>\n",
       "      <td>American Samoa</td>\n",
       "      <td>Angola</td>\n",
       "      <td>Antarctica</td>\n",
       "    </tr>\n",
       "    <tr>\n",
       "      <th>4</th>\n",
       "      <td>Andorra</td>\n",
       "      <td>Antigua and Barbuda</td>\n",
       "      <td>Argentina</td>\n",
       "    </tr>\n",
       "  </tbody>\n",
       "</table>\n",
       "</div>"
      ],
      "text/plain": [
       "          Country        BRI Countries Non-BRI Countries\n",
       "0     Afghanistan          Afghanistan    American Samoa\n",
       "1         Albania              Albania           Andorra\n",
       "2         Algeria              Algeria          Anguilla\n",
       "3  American Samoa               Angola        Antarctica\n",
       "4         Andorra  Antigua and Barbuda         Argentina"
      ]
     },
     "execution_count": 132,
     "metadata": {},
     "output_type": "execute_result"
    }
   ],
   "source": [
    "# First 5 rows in the table\n",
    "countries_mega_df.head()"
   ]
  },
  {
   "cell_type": "code",
   "execution_count": 133,
   "metadata": {},
   "outputs": [],
   "source": [
    "# Assigning a numeric BRI status indicator:\n",
    "# (Subscribers and Non-Subscribers)\n",
    "status = []\n",
    "for country in countries_mega_df['Country']:\n",
    "    if country in stringList:\n",
    "        status.append(1)\n",
    "    else:\n",
    "        status.append(0)\n",
    "countries_mega_df['BRI Status'] = status"
   ]
  },
  {
   "cell_type": "code",
   "execution_count": 134,
   "metadata": {},
   "outputs": [
    {
     "data": {
      "text/html": [
       "<div>\n",
       "<style scoped>\n",
       "    .dataframe tbody tr th:only-of-type {\n",
       "        vertical-align: middle;\n",
       "    }\n",
       "\n",
       "    .dataframe tbody tr th {\n",
       "        vertical-align: top;\n",
       "    }\n",
       "\n",
       "    .dataframe thead th {\n",
       "        text-align: right;\n",
       "    }\n",
       "</style>\n",
       "<table border=\"1\" class=\"dataframe\">\n",
       "  <thead>\n",
       "    <tr style=\"text-align: right;\">\n",
       "      <th></th>\n",
       "      <th>Country</th>\n",
       "      <th>BRI Countries</th>\n",
       "      <th>Non-BRI Countries</th>\n",
       "      <th>BRI Status</th>\n",
       "    </tr>\n",
       "  </thead>\n",
       "  <tbody>\n",
       "    <tr>\n",
       "      <th>0</th>\n",
       "      <td>Afghanistan</td>\n",
       "      <td>Afghanistan</td>\n",
       "      <td>American Samoa</td>\n",
       "      <td>1</td>\n",
       "    </tr>\n",
       "    <tr>\n",
       "      <th>1</th>\n",
       "      <td>Albania</td>\n",
       "      <td>Albania</td>\n",
       "      <td>Andorra</td>\n",
       "      <td>1</td>\n",
       "    </tr>\n",
       "    <tr>\n",
       "      <th>2</th>\n",
       "      <td>Algeria</td>\n",
       "      <td>Algeria</td>\n",
       "      <td>Anguilla</td>\n",
       "      <td>1</td>\n",
       "    </tr>\n",
       "    <tr>\n",
       "      <th>3</th>\n",
       "      <td>American Samoa</td>\n",
       "      <td>Angola</td>\n",
       "      <td>Antarctica</td>\n",
       "      <td>0</td>\n",
       "    </tr>\n",
       "    <tr>\n",
       "      <th>4</th>\n",
       "      <td>Andorra</td>\n",
       "      <td>Antigua and Barbuda</td>\n",
       "      <td>Argentina</td>\n",
       "      <td>0</td>\n",
       "    </tr>\n",
       "  </tbody>\n",
       "</table>\n",
       "</div>"
      ],
      "text/plain": [
       "          Country        BRI Countries Non-BRI Countries  BRI Status\n",
       "0     Afghanistan          Afghanistan    American Samoa           1\n",
       "1         Albania              Albania           Andorra           1\n",
       "2         Algeria              Algeria          Anguilla           1\n",
       "3  American Samoa               Angola        Antarctica           0\n",
       "4         Andorra  Antigua and Barbuda         Argentina           0"
      ]
     },
     "execution_count": 134,
     "metadata": {},
     "output_type": "execute_result"
    }
   ],
   "source": [
    "countries_mega_df.head()"
   ]
  },
  {
   "cell_type": "code",
   "execution_count": 135,
   "metadata": {
    "scrolled": false
   },
   "outputs": [
    {
     "data": {
      "application/vnd.plotly.v1+json": {
       "config": {
        "plotlyServerURL": "https://plot.ly"
       },
       "data": [
        {
         "coloraxis": "coloraxis",
         "geo": "geo",
         "hovertemplate": "<b>%{hovertext}</b><br><br>Country=%{location}<br>BRI Status=%{z}<extra></extra>",
         "hovertext": [
          "Afghanistan",
          "Albania",
          "Algeria",
          "American Samoa",
          "Andorra",
          "Angola",
          "Anguilla",
          "Antarctica",
          "Antigua and Barbuda",
          "Argentina",
          "Armenia",
          "Aruba",
          "Australia",
          "Austria",
          "Azerbaijan",
          "Bahamas",
          "Bahrain",
          "Bangladesh",
          "Barbados",
          "Belarus",
          "Belgium",
          "Belize",
          "Benin",
          "Bermuda",
          "Bhutan",
          "Bolivia",
          "Bonaire",
          "Bosnia and Herzegovina",
          "Botswana",
          "Bouvet Island",
          "Brazil",
          "British Indian Ocean Territory",
          "Brunei Darussalam",
          "Bulgaria",
          "Burkina Faso",
          "Burundi",
          "Cambodia",
          "Cameroon",
          "Canada",
          "Cape Verde",
          "Cayman Islands",
          "Central African Republic",
          "Chad",
          "Chile",
          "China",
          "Christmas Island",
          "Cocos (Keeling) Islands",
          "Colombia",
          "Comoros",
          "Congo",
          "Democratic Republic of the Congo",
          "Cook Islands",
          "Costa Rica",
          "Croatia",
          "Cuba",
          "Curacao",
          "Cyprus",
          "Czech Republic",
          "Cote d'Ivoire",
          "Denmark",
          "Djibouti",
          "Dominica",
          "Dominican Republic",
          "Ecuador",
          "Egypt",
          "El Salvador",
          "Equatorial Guinea",
          "Eritrea",
          "Estonia",
          "Ethiopia",
          "Falkland Islands (Malvinas)",
          "Faroe Islands",
          "Fiji",
          "Finland",
          "France",
          "French Guiana",
          "French Polynesia",
          "French Southern Territories",
          "Gabon",
          "Gambia",
          "Georgia",
          "Germany",
          "Ghana",
          "Gibraltar",
          "Greece",
          "Greenland",
          "Grenada",
          "Guadeloupe",
          "Guam",
          "Guatemala",
          "Guernsey",
          "Guinea",
          "Guinea-Bissau",
          "Guyana",
          "Haiti",
          "Heard Island and McDonald Islands",
          "Holy See (Vatican City State)",
          "Honduras",
          "Hong Kong",
          "Hungary",
          "Iceland",
          "India",
          "Indonesia",
          "Iran, Islamic Republic of",
          "Iraq",
          "Ireland",
          "Isle of Man",
          "Israel",
          "Italy",
          "Jamaica",
          "Japan",
          "Jersey",
          "Jordan",
          "Kazakhstan",
          "Kenya",
          "Kiribati",
          "Korea, Democratic People's Republic of",
          "Korea, Republic of",
          "Kuwait",
          "Kyrgyzstan",
          "Lao People's Democratic Republic",
          "Latvia",
          "Lebanon",
          "Lesotho",
          "Liberia",
          "Libya",
          "Liechtenstein",
          "Lithuania",
          "Luxembourg",
          "Macao",
          "Macedonia, the Former Yugoslav Republic of",
          "Madagascar",
          "Malawi",
          "Malaysia",
          "Maldives",
          "Mali",
          "Malta",
          "Marshall Islands",
          "Martinique",
          "Mauritania",
          "Mauritius",
          "Mayotte",
          "Mexico",
          "Micronesia, Federated States of",
          "Moldova, Republic of",
          "Monaco",
          "Mongolia",
          "Montenegro",
          "Montserrat",
          "Morocco",
          "Mozambique",
          "Myanmar",
          "Namibia",
          "Nauru",
          "Nepal",
          "Netherlands",
          "New Caledonia",
          "New Zealand",
          "Nicaragua",
          "Niger",
          "Nigeria",
          "Niue",
          "Norfolk Island",
          "Northern Mariana Islands",
          "Norway",
          "Oman",
          "Pakistan",
          "Palau",
          "Palestine, State of",
          "Panama",
          "Papua New Guinea",
          "Paraguay",
          "Peru",
          "Philippines",
          "Pitcairn",
          "Poland",
          "Portugal",
          "Puerto Rico",
          "Qatar",
          "Romania",
          "Russian Federation",
          "Rwanda",
          "Reunion",
          "Saint Barthelemy",
          "Saint Helena",
          "Saint Kitts and Nevis",
          "Saint Lucia",
          "Saint Martin (French part)",
          "Saint Pierre and Miquelon",
          "Saint Vincent and the Grenadines",
          "Samoa",
          "San Marino",
          "Sao Tome and Principe",
          "Saudi Arabia",
          "Senegal",
          "Serbia",
          "Seychelles",
          "Sierra Leone",
          "Singapore",
          "Sint Maarten (Dutch part)",
          "Slovakia",
          "Slovenia",
          "Solomon Islands",
          "Somalia",
          "South Africa",
          "South Georgia and the South Sandwich Islands",
          "South Sudan",
          "Spain",
          "Sri Lanka",
          "Sudan",
          "Suriname",
          "Svalbard and Jan Mayen",
          "Swaziland",
          "Sweden",
          "Switzerland",
          "Syrian Arab Republic",
          "Taiwan",
          "Tajikistan",
          "United Republic of Tanzania",
          "Thailand",
          "Timor-Leste",
          "Togo",
          "Tokelau",
          "Tonga",
          "Trinidad and Tobago",
          "Tunisia",
          "Turkey",
          "Turkmenistan",
          "Turks and Caicos Islands",
          "Tuvalu",
          "Uganda",
          "Ukraine",
          "United Arab Emirates",
          "United Kingdom",
          "United States",
          "United States Minor Outlying Islands",
          "Uruguay",
          "Uzbekistan",
          "Vanuatu",
          "Venezuela",
          "Viet Nam",
          "British Virgin Islands",
          "US Virgin Islands",
          "Wallis and Futuna",
          "Western Sahara",
          "Yemen",
          "Zambia",
          "Zimbabwe"
         ],
         "locationmode": "country names",
         "locations": [
          "Afghanistan",
          "Albania",
          "Algeria",
          "American Samoa",
          "Andorra",
          "Angola",
          "Anguilla",
          "Antarctica",
          "Antigua and Barbuda",
          "Argentina",
          "Armenia",
          "Aruba",
          "Australia",
          "Austria",
          "Azerbaijan",
          "Bahamas",
          "Bahrain",
          "Bangladesh",
          "Barbados",
          "Belarus",
          "Belgium",
          "Belize",
          "Benin",
          "Bermuda",
          "Bhutan",
          "Bolivia",
          "Bonaire",
          "Bosnia and Herzegovina",
          "Botswana",
          "Bouvet Island",
          "Brazil",
          "British Indian Ocean Territory",
          "Brunei Darussalam",
          "Bulgaria",
          "Burkina Faso",
          "Burundi",
          "Cambodia",
          "Cameroon",
          "Canada",
          "Cape Verde",
          "Cayman Islands",
          "Central African Republic",
          "Chad",
          "Chile",
          "China",
          "Christmas Island",
          "Cocos (Keeling) Islands",
          "Colombia",
          "Comoros",
          "Congo",
          "Democratic Republic of the Congo",
          "Cook Islands",
          "Costa Rica",
          "Croatia",
          "Cuba",
          "Curacao",
          "Cyprus",
          "Czech Republic",
          "Cote d'Ivoire",
          "Denmark",
          "Djibouti",
          "Dominica",
          "Dominican Republic",
          "Ecuador",
          "Egypt",
          "El Salvador",
          "Equatorial Guinea",
          "Eritrea",
          "Estonia",
          "Ethiopia",
          "Falkland Islands (Malvinas)",
          "Faroe Islands",
          "Fiji",
          "Finland",
          "France",
          "French Guiana",
          "French Polynesia",
          "French Southern Territories",
          "Gabon",
          "Gambia",
          "Georgia",
          "Germany",
          "Ghana",
          "Gibraltar",
          "Greece",
          "Greenland",
          "Grenada",
          "Guadeloupe",
          "Guam",
          "Guatemala",
          "Guernsey",
          "Guinea",
          "Guinea-Bissau",
          "Guyana",
          "Haiti",
          "Heard Island and McDonald Islands",
          "Holy See (Vatican City State)",
          "Honduras",
          "Hong Kong",
          "Hungary",
          "Iceland",
          "India",
          "Indonesia",
          "Iran, Islamic Republic of",
          "Iraq",
          "Ireland",
          "Isle of Man",
          "Israel",
          "Italy",
          "Jamaica",
          "Japan",
          "Jersey",
          "Jordan",
          "Kazakhstan",
          "Kenya",
          "Kiribati",
          "Korea, Democratic People's Republic of",
          "Korea, Republic of",
          "Kuwait",
          "Kyrgyzstan",
          "Lao People's Democratic Republic",
          "Latvia",
          "Lebanon",
          "Lesotho",
          "Liberia",
          "Libya",
          "Liechtenstein",
          "Lithuania",
          "Luxembourg",
          "Macao",
          "Macedonia, the Former Yugoslav Republic of",
          "Madagascar",
          "Malawi",
          "Malaysia",
          "Maldives",
          "Mali",
          "Malta",
          "Marshall Islands",
          "Martinique",
          "Mauritania",
          "Mauritius",
          "Mayotte",
          "Mexico",
          "Micronesia, Federated States of",
          "Moldova, Republic of",
          "Monaco",
          "Mongolia",
          "Montenegro",
          "Montserrat",
          "Morocco",
          "Mozambique",
          "Myanmar",
          "Namibia",
          "Nauru",
          "Nepal",
          "Netherlands",
          "New Caledonia",
          "New Zealand",
          "Nicaragua",
          "Niger",
          "Nigeria",
          "Niue",
          "Norfolk Island",
          "Northern Mariana Islands",
          "Norway",
          "Oman",
          "Pakistan",
          "Palau",
          "Palestine, State of",
          "Panama",
          "Papua New Guinea",
          "Paraguay",
          "Peru",
          "Philippines",
          "Pitcairn",
          "Poland",
          "Portugal",
          "Puerto Rico",
          "Qatar",
          "Romania",
          "Russian Federation",
          "Rwanda",
          "Reunion",
          "Saint Barthelemy",
          "Saint Helena",
          "Saint Kitts and Nevis",
          "Saint Lucia",
          "Saint Martin (French part)",
          "Saint Pierre and Miquelon",
          "Saint Vincent and the Grenadines",
          "Samoa",
          "San Marino",
          "Sao Tome and Principe",
          "Saudi Arabia",
          "Senegal",
          "Serbia",
          "Seychelles",
          "Sierra Leone",
          "Singapore",
          "Sint Maarten (Dutch part)",
          "Slovakia",
          "Slovenia",
          "Solomon Islands",
          "Somalia",
          "South Africa",
          "South Georgia and the South Sandwich Islands",
          "South Sudan",
          "Spain",
          "Sri Lanka",
          "Sudan",
          "Suriname",
          "Svalbard and Jan Mayen",
          "Swaziland",
          "Sweden",
          "Switzerland",
          "Syrian Arab Republic",
          "Taiwan",
          "Tajikistan",
          "United Republic of Tanzania",
          "Thailand",
          "Timor-Leste",
          "Togo",
          "Tokelau",
          "Tonga",
          "Trinidad and Tobago",
          "Tunisia",
          "Turkey",
          "Turkmenistan",
          "Turks and Caicos Islands",
          "Tuvalu",
          "Uganda",
          "Ukraine",
          "United Arab Emirates",
          "United Kingdom",
          "United States",
          "United States Minor Outlying Islands",
          "Uruguay",
          "Uzbekistan",
          "Vanuatu",
          "Venezuela",
          "Viet Nam",
          "British Virgin Islands",
          "US Virgin Islands",
          "Wallis and Futuna",
          "Western Sahara",
          "Yemen",
          "Zambia",
          "Zimbabwe"
         ],
         "name": "",
         "type": "choropleth",
         "z": [
          1,
          1,
          1,
          0,
          0,
          1,
          0,
          0,
          1,
          0,
          1,
          0,
          0,
          1,
          1,
          0,
          1,
          1,
          1,
          1,
          0,
          0,
          1,
          0,
          0,
          1,
          0,
          1,
          0,
          0,
          0,
          0,
          1,
          1,
          0,
          1,
          1,
          1,
          0,
          0,
          0,
          0,
          1,
          1,
          1,
          0,
          0,
          0,
          1,
          1,
          0,
          1,
          1,
          1,
          1,
          0,
          1,
          1,
          0,
          0,
          1,
          1,
          0,
          1,
          1,
          1,
          1,
          0,
          1,
          1,
          0,
          0,
          1,
          0,
          0,
          0,
          0,
          0,
          1,
          1,
          1,
          0,
          1,
          0,
          1,
          0,
          1,
          0,
          0,
          0,
          0,
          1,
          0,
          1,
          0,
          0,
          0,
          0,
          0,
          1,
          0,
          0,
          1,
          0,
          1,
          0,
          0,
          0,
          1,
          1,
          0,
          0,
          0,
          1,
          1,
          1,
          0,
          0,
          1,
          0,
          0,
          1,
          1,
          1,
          1,
          1,
          0,
          1,
          1,
          0,
          0,
          1,
          0,
          1,
          1,
          1,
          1,
          0,
          0,
          1,
          0,
          0,
          0,
          0,
          0,
          0,
          1,
          1,
          0,
          1,
          1,
          1,
          1,
          0,
          1,
          0,
          0,
          1,
          0,
          1,
          1,
          1,
          0,
          0,
          0,
          1,
          1,
          0,
          0,
          1,
          1,
          0,
          1,
          1,
          0,
          1,
          1,
          0,
          1,
          1,
          1,
          1,
          0,
          0,
          0,
          0,
          0,
          0,
          0,
          0,
          1,
          0,
          0,
          1,
          1,
          1,
          1,
          1,
          1,
          0,
          0,
          1,
          1,
          1,
          1,
          0,
          1,
          0,
          1,
          1,
          1,
          0,
          0,
          0,
          0,
          0,
          0,
          1,
          0,
          1,
          1,
          1,
          0,
          1,
          1,
          1,
          1,
          0,
          0,
          0,
          1,
          1,
          1,
          0,
          0,
          0,
          1,
          1,
          1,
          1,
          0,
          0,
          0,
          0,
          0,
          1,
          1,
          1
         ]
        }
       ],
       "layout": {
        "coloraxis": {
         "colorbar": {
          "title": {
           "text": "BRI Status"
          }
         },
         "colorscale": [
          [
           0,
           "#0d0887"
          ],
          [
           0.1111111111111111,
           "#46039f"
          ],
          [
           0.2222222222222222,
           "#7201a8"
          ],
          [
           0.3333333333333333,
           "#9c179e"
          ],
          [
           0.4444444444444444,
           "#bd3786"
          ],
          [
           0.5555555555555556,
           "#d8576b"
          ],
          [
           0.6666666666666666,
           "#ed7953"
          ],
          [
           0.7777777777777778,
           "#fb9f3a"
          ],
          [
           0.8888888888888888,
           "#fdca26"
          ],
          [
           1,
           "#f0f921"
          ]
         ]
        },
        "geo": {
         "center": {},
         "domain": {
          "x": [
           0,
           1
          ],
          "y": [
           0,
           1
          ]
         }
        },
        "legend": {
         "tracegroupgap": 0
        },
        "margin": {
         "t": 60
        },
        "template": {
         "data": {
          "bar": [
           {
            "error_x": {
             "color": "#2a3f5f"
            },
            "error_y": {
             "color": "#2a3f5f"
            },
            "marker": {
             "line": {
              "color": "#E5ECF6",
              "width": 0.5
             }
            },
            "type": "bar"
           }
          ],
          "barpolar": [
           {
            "marker": {
             "line": {
              "color": "#E5ECF6",
              "width": 0.5
             }
            },
            "type": "barpolar"
           }
          ],
          "carpet": [
           {
            "aaxis": {
             "endlinecolor": "#2a3f5f",
             "gridcolor": "white",
             "linecolor": "white",
             "minorgridcolor": "white",
             "startlinecolor": "#2a3f5f"
            },
            "baxis": {
             "endlinecolor": "#2a3f5f",
             "gridcolor": "white",
             "linecolor": "white",
             "minorgridcolor": "white",
             "startlinecolor": "#2a3f5f"
            },
            "type": "carpet"
           }
          ],
          "choropleth": [
           {
            "colorbar": {
             "outlinewidth": 0,
             "ticks": ""
            },
            "type": "choropleth"
           }
          ],
          "contour": [
           {
            "colorbar": {
             "outlinewidth": 0,
             "ticks": ""
            },
            "colorscale": [
             [
              0,
              "#0d0887"
             ],
             [
              0.1111111111111111,
              "#46039f"
             ],
             [
              0.2222222222222222,
              "#7201a8"
             ],
             [
              0.3333333333333333,
              "#9c179e"
             ],
             [
              0.4444444444444444,
              "#bd3786"
             ],
             [
              0.5555555555555556,
              "#d8576b"
             ],
             [
              0.6666666666666666,
              "#ed7953"
             ],
             [
              0.7777777777777778,
              "#fb9f3a"
             ],
             [
              0.8888888888888888,
              "#fdca26"
             ],
             [
              1,
              "#f0f921"
             ]
            ],
            "type": "contour"
           }
          ],
          "contourcarpet": [
           {
            "colorbar": {
             "outlinewidth": 0,
             "ticks": ""
            },
            "type": "contourcarpet"
           }
          ],
          "heatmap": [
           {
            "colorbar": {
             "outlinewidth": 0,
             "ticks": ""
            },
            "colorscale": [
             [
              0,
              "#0d0887"
             ],
             [
              0.1111111111111111,
              "#46039f"
             ],
             [
              0.2222222222222222,
              "#7201a8"
             ],
             [
              0.3333333333333333,
              "#9c179e"
             ],
             [
              0.4444444444444444,
              "#bd3786"
             ],
             [
              0.5555555555555556,
              "#d8576b"
             ],
             [
              0.6666666666666666,
              "#ed7953"
             ],
             [
              0.7777777777777778,
              "#fb9f3a"
             ],
             [
              0.8888888888888888,
              "#fdca26"
             ],
             [
              1,
              "#f0f921"
             ]
            ],
            "type": "heatmap"
           }
          ],
          "heatmapgl": [
           {
            "colorbar": {
             "outlinewidth": 0,
             "ticks": ""
            },
            "colorscale": [
             [
              0,
              "#0d0887"
             ],
             [
              0.1111111111111111,
              "#46039f"
             ],
             [
              0.2222222222222222,
              "#7201a8"
             ],
             [
              0.3333333333333333,
              "#9c179e"
             ],
             [
              0.4444444444444444,
              "#bd3786"
             ],
             [
              0.5555555555555556,
              "#d8576b"
             ],
             [
              0.6666666666666666,
              "#ed7953"
             ],
             [
              0.7777777777777778,
              "#fb9f3a"
             ],
             [
              0.8888888888888888,
              "#fdca26"
             ],
             [
              1,
              "#f0f921"
             ]
            ],
            "type": "heatmapgl"
           }
          ],
          "histogram": [
           {
            "marker": {
             "colorbar": {
              "outlinewidth": 0,
              "ticks": ""
             }
            },
            "type": "histogram"
           }
          ],
          "histogram2d": [
           {
            "colorbar": {
             "outlinewidth": 0,
             "ticks": ""
            },
            "colorscale": [
             [
              0,
              "#0d0887"
             ],
             [
              0.1111111111111111,
              "#46039f"
             ],
             [
              0.2222222222222222,
              "#7201a8"
             ],
             [
              0.3333333333333333,
              "#9c179e"
             ],
             [
              0.4444444444444444,
              "#bd3786"
             ],
             [
              0.5555555555555556,
              "#d8576b"
             ],
             [
              0.6666666666666666,
              "#ed7953"
             ],
             [
              0.7777777777777778,
              "#fb9f3a"
             ],
             [
              0.8888888888888888,
              "#fdca26"
             ],
             [
              1,
              "#f0f921"
             ]
            ],
            "type": "histogram2d"
           }
          ],
          "histogram2dcontour": [
           {
            "colorbar": {
             "outlinewidth": 0,
             "ticks": ""
            },
            "colorscale": [
             [
              0,
              "#0d0887"
             ],
             [
              0.1111111111111111,
              "#46039f"
             ],
             [
              0.2222222222222222,
              "#7201a8"
             ],
             [
              0.3333333333333333,
              "#9c179e"
             ],
             [
              0.4444444444444444,
              "#bd3786"
             ],
             [
              0.5555555555555556,
              "#d8576b"
             ],
             [
              0.6666666666666666,
              "#ed7953"
             ],
             [
              0.7777777777777778,
              "#fb9f3a"
             ],
             [
              0.8888888888888888,
              "#fdca26"
             ],
             [
              1,
              "#f0f921"
             ]
            ],
            "type": "histogram2dcontour"
           }
          ],
          "mesh3d": [
           {
            "colorbar": {
             "outlinewidth": 0,
             "ticks": ""
            },
            "type": "mesh3d"
           }
          ],
          "parcoords": [
           {
            "line": {
             "colorbar": {
              "outlinewidth": 0,
              "ticks": ""
             }
            },
            "type": "parcoords"
           }
          ],
          "pie": [
           {
            "automargin": true,
            "type": "pie"
           }
          ],
          "scatter": [
           {
            "marker": {
             "colorbar": {
              "outlinewidth": 0,
              "ticks": ""
             }
            },
            "type": "scatter"
           }
          ],
          "scatter3d": [
           {
            "line": {
             "colorbar": {
              "outlinewidth": 0,
              "ticks": ""
             }
            },
            "marker": {
             "colorbar": {
              "outlinewidth": 0,
              "ticks": ""
             }
            },
            "type": "scatter3d"
           }
          ],
          "scattercarpet": [
           {
            "marker": {
             "colorbar": {
              "outlinewidth": 0,
              "ticks": ""
             }
            },
            "type": "scattercarpet"
           }
          ],
          "scattergeo": [
           {
            "marker": {
             "colorbar": {
              "outlinewidth": 0,
              "ticks": ""
             }
            },
            "type": "scattergeo"
           }
          ],
          "scattergl": [
           {
            "marker": {
             "colorbar": {
              "outlinewidth": 0,
              "ticks": ""
             }
            },
            "type": "scattergl"
           }
          ],
          "scattermapbox": [
           {
            "marker": {
             "colorbar": {
              "outlinewidth": 0,
              "ticks": ""
             }
            },
            "type": "scattermapbox"
           }
          ],
          "scatterpolar": [
           {
            "marker": {
             "colorbar": {
              "outlinewidth": 0,
              "ticks": ""
             }
            },
            "type": "scatterpolar"
           }
          ],
          "scatterpolargl": [
           {
            "marker": {
             "colorbar": {
              "outlinewidth": 0,
              "ticks": ""
             }
            },
            "type": "scatterpolargl"
           }
          ],
          "scatterternary": [
           {
            "marker": {
             "colorbar": {
              "outlinewidth": 0,
              "ticks": ""
             }
            },
            "type": "scatterternary"
           }
          ],
          "surface": [
           {
            "colorbar": {
             "outlinewidth": 0,
             "ticks": ""
            },
            "colorscale": [
             [
              0,
              "#0d0887"
             ],
             [
              0.1111111111111111,
              "#46039f"
             ],
             [
              0.2222222222222222,
              "#7201a8"
             ],
             [
              0.3333333333333333,
              "#9c179e"
             ],
             [
              0.4444444444444444,
              "#bd3786"
             ],
             [
              0.5555555555555556,
              "#d8576b"
             ],
             [
              0.6666666666666666,
              "#ed7953"
             ],
             [
              0.7777777777777778,
              "#fb9f3a"
             ],
             [
              0.8888888888888888,
              "#fdca26"
             ],
             [
              1,
              "#f0f921"
             ]
            ],
            "type": "surface"
           }
          ],
          "table": [
           {
            "cells": {
             "fill": {
              "color": "#EBF0F8"
             },
             "line": {
              "color": "white"
             }
            },
            "header": {
             "fill": {
              "color": "#C8D4E3"
             },
             "line": {
              "color": "white"
             }
            },
            "type": "table"
           }
          ]
         },
         "layout": {
          "annotationdefaults": {
           "arrowcolor": "#2a3f5f",
           "arrowhead": 0,
           "arrowwidth": 1
          },
          "coloraxis": {
           "colorbar": {
            "outlinewidth": 0,
            "ticks": ""
           }
          },
          "colorscale": {
           "diverging": [
            [
             0,
             "#8e0152"
            ],
            [
             0.1,
             "#c51b7d"
            ],
            [
             0.2,
             "#de77ae"
            ],
            [
             0.3,
             "#f1b6da"
            ],
            [
             0.4,
             "#fde0ef"
            ],
            [
             0.5,
             "#f7f7f7"
            ],
            [
             0.6,
             "#e6f5d0"
            ],
            [
             0.7,
             "#b8e186"
            ],
            [
             0.8,
             "#7fbc41"
            ],
            [
             0.9,
             "#4d9221"
            ],
            [
             1,
             "#276419"
            ]
           ],
           "sequential": [
            [
             0,
             "#0d0887"
            ],
            [
             0.1111111111111111,
             "#46039f"
            ],
            [
             0.2222222222222222,
             "#7201a8"
            ],
            [
             0.3333333333333333,
             "#9c179e"
            ],
            [
             0.4444444444444444,
             "#bd3786"
            ],
            [
             0.5555555555555556,
             "#d8576b"
            ],
            [
             0.6666666666666666,
             "#ed7953"
            ],
            [
             0.7777777777777778,
             "#fb9f3a"
            ],
            [
             0.8888888888888888,
             "#fdca26"
            ],
            [
             1,
             "#f0f921"
            ]
           ],
           "sequentialminus": [
            [
             0,
             "#0d0887"
            ],
            [
             0.1111111111111111,
             "#46039f"
            ],
            [
             0.2222222222222222,
             "#7201a8"
            ],
            [
             0.3333333333333333,
             "#9c179e"
            ],
            [
             0.4444444444444444,
             "#bd3786"
            ],
            [
             0.5555555555555556,
             "#d8576b"
            ],
            [
             0.6666666666666666,
             "#ed7953"
            ],
            [
             0.7777777777777778,
             "#fb9f3a"
            ],
            [
             0.8888888888888888,
             "#fdca26"
            ],
            [
             1,
             "#f0f921"
            ]
           ]
          },
          "colorway": [
           "#636efa",
           "#EF553B",
           "#00cc96",
           "#ab63fa",
           "#FFA15A",
           "#19d3f3",
           "#FF6692",
           "#B6E880",
           "#FF97FF",
           "#FECB52"
          ],
          "font": {
           "color": "#2a3f5f"
          },
          "geo": {
           "bgcolor": "white",
           "lakecolor": "white",
           "landcolor": "#E5ECF6",
           "showlakes": true,
           "showland": true,
           "subunitcolor": "white"
          },
          "hoverlabel": {
           "align": "left"
          },
          "hovermode": "closest",
          "mapbox": {
           "style": "light"
          },
          "paper_bgcolor": "white",
          "plot_bgcolor": "#E5ECF6",
          "polar": {
           "angularaxis": {
            "gridcolor": "white",
            "linecolor": "white",
            "ticks": ""
           },
           "bgcolor": "#E5ECF6",
           "radialaxis": {
            "gridcolor": "white",
            "linecolor": "white",
            "ticks": ""
           }
          },
          "scene": {
           "xaxis": {
            "backgroundcolor": "#E5ECF6",
            "gridcolor": "white",
            "gridwidth": 2,
            "linecolor": "white",
            "showbackground": true,
            "ticks": "",
            "zerolinecolor": "white"
           },
           "yaxis": {
            "backgroundcolor": "#E5ECF6",
            "gridcolor": "white",
            "gridwidth": 2,
            "linecolor": "white",
            "showbackground": true,
            "ticks": "",
            "zerolinecolor": "white"
           },
           "zaxis": {
            "backgroundcolor": "#E5ECF6",
            "gridcolor": "white",
            "gridwidth": 2,
            "linecolor": "white",
            "showbackground": true,
            "ticks": "",
            "zerolinecolor": "white"
           }
          },
          "shapedefaults": {
           "line": {
            "color": "#2a3f5f"
           }
          },
          "ternary": {
           "aaxis": {
            "gridcolor": "white",
            "linecolor": "white",
            "ticks": ""
           },
           "baxis": {
            "gridcolor": "white",
            "linecolor": "white",
            "ticks": ""
           },
           "bgcolor": "#E5ECF6",
           "caxis": {
            "gridcolor": "white",
            "linecolor": "white",
            "ticks": ""
           }
          },
          "title": {
           "x": 0.05
          },
          "xaxis": {
           "automargin": true,
           "gridcolor": "white",
           "linecolor": "white",
           "ticks": "",
           "title": {
            "standoff": 15
           },
           "zerolinecolor": "white",
           "zerolinewidth": 2
          },
          "yaxis": {
           "automargin": true,
           "gridcolor": "white",
           "linecolor": "white",
           "ticks": "",
           "title": {
            "standoff": 15
           },
           "zerolinecolor": "white",
           "zerolinewidth": 2
          }
         }
        },
        "title": {
         "text": "2019 Belt and Road Intitiative Subscriber Nations"
        }
       }
      },
      "text/html": [
       "<div>\n",
       "        \n",
       "        \n",
       "            <div id=\"6ef72bfb-98d5-4ce6-8f8b-82c385012b60\" class=\"plotly-graph-div\" style=\"height:525px; width:100%;\"></div>\n",
       "            <script type=\"text/javascript\">\n",
       "                require([\"plotly\"], function(Plotly) {\n",
       "                    window.PLOTLYENV=window.PLOTLYENV || {};\n",
       "                    \n",
       "                if (document.getElementById(\"6ef72bfb-98d5-4ce6-8f8b-82c385012b60\")) {\n",
       "                    Plotly.newPlot(\n",
       "                        '6ef72bfb-98d5-4ce6-8f8b-82c385012b60',\n",
       "                        [{\"coloraxis\": \"coloraxis\", \"geo\": \"geo\", \"hovertemplate\": \"<b>%{hovertext}</b><br><br>Country=%{location}<br>BRI Status=%{z}<extra></extra>\", \"hovertext\": [\"Afghanistan\", \"Albania\", \"Algeria\", \"American Samoa\", \"Andorra\", \"Angola\", \"Anguilla\", \"Antarctica\", \"Antigua and Barbuda\", \"Argentina\", \"Armenia\", \"Aruba\", \"Australia\", \"Austria\", \"Azerbaijan\", \"Bahamas\", \"Bahrain\", \"Bangladesh\", \"Barbados\", \"Belarus\", \"Belgium\", \"Belize\", \"Benin\", \"Bermuda\", \"Bhutan\", \"Bolivia\", \"Bonaire\", \"Bosnia and Herzegovina\", \"Botswana\", \"Bouvet Island\", \"Brazil\", \"British Indian Ocean Territory\", \"Brunei Darussalam\", \"Bulgaria\", \"Burkina Faso\", \"Burundi\", \"Cambodia\", \"Cameroon\", \"Canada\", \"Cape Verde\", \"Cayman Islands\", \"Central African Republic\", \"Chad\", \"Chile\", \"China\", \"Christmas Island\", \"Cocos (Keeling) Islands\", \"Colombia\", \"Comoros\", \"Congo\", \"Democratic Republic of the Congo\", \"Cook Islands\", \"Costa Rica\", \"Croatia\", \"Cuba\", \"Curacao\", \"Cyprus\", \"Czech Republic\", \"Cote d'Ivoire\", \"Denmark\", \"Djibouti\", \"Dominica\", \"Dominican Republic\", \"Ecuador\", \"Egypt\", \"El Salvador\", \"Equatorial Guinea\", \"Eritrea\", \"Estonia\", \"Ethiopia\", \"Falkland Islands (Malvinas)\", \"Faroe Islands\", \"Fiji\", \"Finland\", \"France\", \"French Guiana\", \"French Polynesia\", \"French Southern Territories\", \"Gabon\", \"Gambia\", \"Georgia\", \"Germany\", \"Ghana\", \"Gibraltar\", \"Greece\", \"Greenland\", \"Grenada\", \"Guadeloupe\", \"Guam\", \"Guatemala\", \"Guernsey\", \"Guinea\", \"Guinea-Bissau\", \"Guyana\", \"Haiti\", \"Heard Island and McDonald\\u00a0Islands\", \"Holy See (Vatican City State)\", \"Honduras\", \"Hong Kong\", \"Hungary\", \"Iceland\", \"India\", \"Indonesia\", \"Iran, Islamic Republic of\", \"Iraq\", \"Ireland\", \"Isle of Man\", \"Israel\", \"Italy\", \"Jamaica\", \"Japan\", \"Jersey\", \"Jordan\", \"Kazakhstan\", \"Kenya\", \"Kiribati\", \"Korea, Democratic People's Republic of\", \"Korea, Republic of\", \"Kuwait\", \"Kyrgyzstan\", \"Lao People's Democratic Republic\", \"Latvia\", \"Lebanon\", \"Lesotho\", \"Liberia\", \"Libya\", \"Liechtenstein\", \"Lithuania\", \"Luxembourg\", \"Macao\", \"Macedonia, the Former Yugoslav Republic of\", \"Madagascar\", \"Malawi\", \"Malaysia\", \"Maldives\", \"Mali\", \"Malta\", \"Marshall Islands\", \"Martinique\", \"Mauritania\", \"Mauritius\", \"Mayotte\", \"Mexico\", \"Micronesia, Federated States of\", \"Moldova, Republic of\", \"Monaco\", \"Mongolia\", \"Montenegro\", \"Montserrat\", \"Morocco\", \"Mozambique\", \"Myanmar\", \"Namibia\", \"Nauru\", \"Nepal\", \"Netherlands\", \"New Caledonia\", \"New Zealand\", \"Nicaragua\", \"Niger\", \"Nigeria\", \"Niue\", \"Norfolk Island\", \"Northern Mariana Islands\", \"Norway\", \"Oman\", \"Pakistan\", \"Palau\", \"Palestine, State of\", \"Panama\", \"Papua New Guinea\", \"Paraguay\", \"Peru\", \"Philippines\", \"Pitcairn\", \"Poland\", \"Portugal\", \"Puerto Rico\", \"Qatar\", \"Romania\", \"Russian Federation\", \"Rwanda\", \"Reunion\", \"Saint Barthelemy\", \"Saint Helena\", \"Saint Kitts and Nevis\", \"Saint Lucia\", \"Saint Martin (French part)\", \"Saint Pierre and Miquelon\", \"Saint Vincent and the Grenadines\", \"Samoa\", \"San Marino\", \"Sao Tome and Principe\", \"Saudi Arabia\", \"Senegal\", \"Serbia\", \"Seychelles\", \"Sierra Leone\", \"Singapore\", \"Sint Maarten (Dutch part)\", \"Slovakia\", \"Slovenia\", \"Solomon Islands\", \"Somalia\", \"South Africa\", \"South Georgia and the South Sandwich Islands\", \"South Sudan\", \"Spain\", \"Sri Lanka\", \"Sudan\", \"Suriname\", \"Svalbard and Jan Mayen\", \"Swaziland\", \"Sweden\", \"Switzerland\", \"Syrian Arab Republic\", \"Taiwan\", \"Tajikistan\", \"United Republic of Tanzania\", \"Thailand\", \"Timor-Leste\", \"Togo\", \"Tokelau\", \"Tonga\", \"Trinidad and Tobago\", \"Tunisia\", \"Turkey\", \"Turkmenistan\", \"Turks and Caicos Islands\", \"Tuvalu\", \"Uganda\", \"Ukraine\", \"United Arab Emirates\", \"United Kingdom\", \"United States\", \"United States Minor Outlying Islands\", \"Uruguay\", \"Uzbekistan\", \"Vanuatu\", \"Venezuela\", \"Viet Nam\", \"British Virgin Islands\", \"US Virgin Islands\", \"Wallis and Futuna\", \"Western Sahara\", \"Yemen\", \"Zambia\", \"Zimbabwe\"], \"locationmode\": \"country names\", \"locations\": [\"Afghanistan\", \"Albania\", \"Algeria\", \"American Samoa\", \"Andorra\", \"Angola\", \"Anguilla\", \"Antarctica\", \"Antigua and Barbuda\", \"Argentina\", \"Armenia\", \"Aruba\", \"Australia\", \"Austria\", \"Azerbaijan\", \"Bahamas\", \"Bahrain\", \"Bangladesh\", \"Barbados\", \"Belarus\", \"Belgium\", \"Belize\", \"Benin\", \"Bermuda\", \"Bhutan\", \"Bolivia\", \"Bonaire\", \"Bosnia and Herzegovina\", \"Botswana\", \"Bouvet Island\", \"Brazil\", \"British Indian Ocean Territory\", \"Brunei Darussalam\", \"Bulgaria\", \"Burkina Faso\", \"Burundi\", \"Cambodia\", \"Cameroon\", \"Canada\", \"Cape Verde\", \"Cayman Islands\", \"Central African Republic\", \"Chad\", \"Chile\", \"China\", \"Christmas Island\", \"Cocos (Keeling) Islands\", \"Colombia\", \"Comoros\", \"Congo\", \"Democratic Republic of the Congo\", \"Cook Islands\", \"Costa Rica\", \"Croatia\", \"Cuba\", \"Curacao\", \"Cyprus\", \"Czech Republic\", \"Cote d'Ivoire\", \"Denmark\", \"Djibouti\", \"Dominica\", \"Dominican Republic\", \"Ecuador\", \"Egypt\", \"El Salvador\", \"Equatorial Guinea\", \"Eritrea\", \"Estonia\", \"Ethiopia\", \"Falkland Islands (Malvinas)\", \"Faroe Islands\", \"Fiji\", \"Finland\", \"France\", \"French Guiana\", \"French Polynesia\", \"French Southern Territories\", \"Gabon\", \"Gambia\", \"Georgia\", \"Germany\", \"Ghana\", \"Gibraltar\", \"Greece\", \"Greenland\", \"Grenada\", \"Guadeloupe\", \"Guam\", \"Guatemala\", \"Guernsey\", \"Guinea\", \"Guinea-Bissau\", \"Guyana\", \"Haiti\", \"Heard Island and McDonald\\u00a0Islands\", \"Holy See (Vatican City State)\", \"Honduras\", \"Hong Kong\", \"Hungary\", \"Iceland\", \"India\", \"Indonesia\", \"Iran, Islamic Republic of\", \"Iraq\", \"Ireland\", \"Isle of Man\", \"Israel\", \"Italy\", \"Jamaica\", \"Japan\", \"Jersey\", \"Jordan\", \"Kazakhstan\", \"Kenya\", \"Kiribati\", \"Korea, Democratic People's Republic of\", \"Korea, Republic of\", \"Kuwait\", \"Kyrgyzstan\", \"Lao People's Democratic Republic\", \"Latvia\", \"Lebanon\", \"Lesotho\", \"Liberia\", \"Libya\", \"Liechtenstein\", \"Lithuania\", \"Luxembourg\", \"Macao\", \"Macedonia, the Former Yugoslav Republic of\", \"Madagascar\", \"Malawi\", \"Malaysia\", \"Maldives\", \"Mali\", \"Malta\", \"Marshall Islands\", \"Martinique\", \"Mauritania\", \"Mauritius\", \"Mayotte\", \"Mexico\", \"Micronesia, Federated States of\", \"Moldova, Republic of\", \"Monaco\", \"Mongolia\", \"Montenegro\", \"Montserrat\", \"Morocco\", \"Mozambique\", \"Myanmar\", \"Namibia\", \"Nauru\", \"Nepal\", \"Netherlands\", \"New Caledonia\", \"New Zealand\", \"Nicaragua\", \"Niger\", \"Nigeria\", \"Niue\", \"Norfolk Island\", \"Northern Mariana Islands\", \"Norway\", \"Oman\", \"Pakistan\", \"Palau\", \"Palestine, State of\", \"Panama\", \"Papua New Guinea\", \"Paraguay\", \"Peru\", \"Philippines\", \"Pitcairn\", \"Poland\", \"Portugal\", \"Puerto Rico\", \"Qatar\", \"Romania\", \"Russian Federation\", \"Rwanda\", \"Reunion\", \"Saint Barthelemy\", \"Saint Helena\", \"Saint Kitts and Nevis\", \"Saint Lucia\", \"Saint Martin (French part)\", \"Saint Pierre and Miquelon\", \"Saint Vincent and the Grenadines\", \"Samoa\", \"San Marino\", \"Sao Tome and Principe\", \"Saudi Arabia\", \"Senegal\", \"Serbia\", \"Seychelles\", \"Sierra Leone\", \"Singapore\", \"Sint Maarten (Dutch part)\", \"Slovakia\", \"Slovenia\", \"Solomon Islands\", \"Somalia\", \"South Africa\", \"South Georgia and the South Sandwich Islands\", \"South Sudan\", \"Spain\", \"Sri Lanka\", \"Sudan\", \"Suriname\", \"Svalbard and Jan Mayen\", \"Swaziland\", \"Sweden\", \"Switzerland\", \"Syrian Arab Republic\", \"Taiwan\", \"Tajikistan\", \"United Republic of Tanzania\", \"Thailand\", \"Timor-Leste\", \"Togo\", \"Tokelau\", \"Tonga\", \"Trinidad and Tobago\", \"Tunisia\", \"Turkey\", \"Turkmenistan\", \"Turks and Caicos Islands\", \"Tuvalu\", \"Uganda\", \"Ukraine\", \"United Arab Emirates\", \"United Kingdom\", \"United States\", \"United States Minor Outlying Islands\", \"Uruguay\", \"Uzbekistan\", \"Vanuatu\", \"Venezuela\", \"Viet Nam\", \"British Virgin Islands\", \"US Virgin Islands\", \"Wallis and Futuna\", \"Western Sahara\", \"Yemen\", \"Zambia\", \"Zimbabwe\"], \"name\": \"\", \"type\": \"choropleth\", \"z\": [1, 1, 1, 0, 0, 1, 0, 0, 1, 0, 1, 0, 0, 1, 1, 0, 1, 1, 1, 1, 0, 0, 1, 0, 0, 1, 0, 1, 0, 0, 0, 0, 1, 1, 0, 1, 1, 1, 0, 0, 0, 0, 1, 1, 1, 0, 0, 0, 1, 1, 0, 1, 1, 1, 1, 0, 1, 1, 0, 0, 1, 1, 0, 1, 1, 1, 1, 0, 1, 1, 0, 0, 1, 0, 0, 0, 0, 0, 1, 1, 1, 0, 1, 0, 1, 0, 1, 0, 0, 0, 0, 1, 0, 1, 0, 0, 0, 0, 0, 1, 0, 0, 1, 0, 1, 0, 0, 0, 1, 1, 0, 0, 0, 1, 1, 1, 0, 0, 1, 0, 0, 1, 1, 1, 1, 1, 0, 1, 1, 0, 0, 1, 0, 1, 1, 1, 1, 0, 0, 1, 0, 0, 0, 0, 0, 0, 1, 1, 0, 1, 1, 1, 1, 0, 1, 0, 0, 1, 0, 1, 1, 1, 0, 0, 0, 1, 1, 0, 0, 1, 1, 0, 1, 1, 0, 1, 1, 0, 1, 1, 1, 1, 0, 0, 0, 0, 0, 0, 0, 0, 1, 0, 0, 1, 1, 1, 1, 1, 1, 0, 0, 1, 1, 1, 1, 0, 1, 0, 1, 1, 1, 0, 0, 0, 0, 0, 0, 1, 0, 1, 1, 1, 0, 1, 1, 1, 1, 0, 0, 0, 1, 1, 1, 0, 0, 0, 1, 1, 1, 1, 0, 0, 0, 0, 0, 1, 1, 1]}],\n",
       "                        {\"coloraxis\": {\"colorbar\": {\"title\": {\"text\": \"BRI Status\"}}, \"colorscale\": [[0.0, \"#0d0887\"], [0.1111111111111111, \"#46039f\"], [0.2222222222222222, \"#7201a8\"], [0.3333333333333333, \"#9c179e\"], [0.4444444444444444, \"#bd3786\"], [0.5555555555555556, \"#d8576b\"], [0.6666666666666666, \"#ed7953\"], [0.7777777777777778, \"#fb9f3a\"], [0.8888888888888888, \"#fdca26\"], [1.0, \"#f0f921\"]]}, \"geo\": {\"center\": {}, \"domain\": {\"x\": [0.0, 1.0], \"y\": [0.0, 1.0]}}, \"legend\": {\"tracegroupgap\": 0}, \"margin\": {\"t\": 60}, \"template\": {\"data\": {\"bar\": [{\"error_x\": {\"color\": \"#2a3f5f\"}, \"error_y\": {\"color\": \"#2a3f5f\"}, \"marker\": {\"line\": {\"color\": \"#E5ECF6\", \"width\": 0.5}}, \"type\": \"bar\"}], \"barpolar\": [{\"marker\": {\"line\": {\"color\": \"#E5ECF6\", \"width\": 0.5}}, \"type\": \"barpolar\"}], \"carpet\": [{\"aaxis\": {\"endlinecolor\": \"#2a3f5f\", \"gridcolor\": \"white\", \"linecolor\": \"white\", \"minorgridcolor\": \"white\", \"startlinecolor\": \"#2a3f5f\"}, \"baxis\": {\"endlinecolor\": \"#2a3f5f\", \"gridcolor\": \"white\", \"linecolor\": \"white\", \"minorgridcolor\": \"white\", \"startlinecolor\": \"#2a3f5f\"}, \"type\": \"carpet\"}], \"choropleth\": [{\"colorbar\": {\"outlinewidth\": 0, \"ticks\": \"\"}, \"type\": \"choropleth\"}], \"contour\": [{\"colorbar\": {\"outlinewidth\": 0, \"ticks\": \"\"}, \"colorscale\": [[0.0, \"#0d0887\"], [0.1111111111111111, \"#46039f\"], [0.2222222222222222, \"#7201a8\"], [0.3333333333333333, \"#9c179e\"], [0.4444444444444444, \"#bd3786\"], [0.5555555555555556, \"#d8576b\"], [0.6666666666666666, \"#ed7953\"], [0.7777777777777778, \"#fb9f3a\"], [0.8888888888888888, \"#fdca26\"], [1.0, \"#f0f921\"]], \"type\": \"contour\"}], \"contourcarpet\": [{\"colorbar\": {\"outlinewidth\": 0, \"ticks\": \"\"}, \"type\": \"contourcarpet\"}], \"heatmap\": [{\"colorbar\": {\"outlinewidth\": 0, \"ticks\": \"\"}, \"colorscale\": [[0.0, \"#0d0887\"], [0.1111111111111111, \"#46039f\"], [0.2222222222222222, \"#7201a8\"], [0.3333333333333333, \"#9c179e\"], [0.4444444444444444, \"#bd3786\"], [0.5555555555555556, \"#d8576b\"], [0.6666666666666666, \"#ed7953\"], [0.7777777777777778, \"#fb9f3a\"], [0.8888888888888888, \"#fdca26\"], [1.0, \"#f0f921\"]], \"type\": \"heatmap\"}], \"heatmapgl\": [{\"colorbar\": {\"outlinewidth\": 0, \"ticks\": \"\"}, \"colorscale\": [[0.0, \"#0d0887\"], [0.1111111111111111, \"#46039f\"], [0.2222222222222222, \"#7201a8\"], [0.3333333333333333, \"#9c179e\"], [0.4444444444444444, \"#bd3786\"], [0.5555555555555556, \"#d8576b\"], [0.6666666666666666, \"#ed7953\"], [0.7777777777777778, \"#fb9f3a\"], [0.8888888888888888, \"#fdca26\"], [1.0, \"#f0f921\"]], \"type\": \"heatmapgl\"}], \"histogram\": [{\"marker\": {\"colorbar\": {\"outlinewidth\": 0, \"ticks\": \"\"}}, \"type\": \"histogram\"}], \"histogram2d\": [{\"colorbar\": {\"outlinewidth\": 0, \"ticks\": \"\"}, \"colorscale\": [[0.0, \"#0d0887\"], [0.1111111111111111, \"#46039f\"], [0.2222222222222222, \"#7201a8\"], [0.3333333333333333, \"#9c179e\"], [0.4444444444444444, \"#bd3786\"], [0.5555555555555556, \"#d8576b\"], [0.6666666666666666, \"#ed7953\"], [0.7777777777777778, \"#fb9f3a\"], [0.8888888888888888, \"#fdca26\"], [1.0, \"#f0f921\"]], \"type\": \"histogram2d\"}], \"histogram2dcontour\": [{\"colorbar\": {\"outlinewidth\": 0, \"ticks\": \"\"}, \"colorscale\": [[0.0, \"#0d0887\"], [0.1111111111111111, \"#46039f\"], [0.2222222222222222, \"#7201a8\"], [0.3333333333333333, \"#9c179e\"], [0.4444444444444444, \"#bd3786\"], [0.5555555555555556, \"#d8576b\"], [0.6666666666666666, \"#ed7953\"], [0.7777777777777778, \"#fb9f3a\"], [0.8888888888888888, \"#fdca26\"], [1.0, \"#f0f921\"]], \"type\": \"histogram2dcontour\"}], \"mesh3d\": [{\"colorbar\": {\"outlinewidth\": 0, \"ticks\": \"\"}, \"type\": \"mesh3d\"}], \"parcoords\": [{\"line\": {\"colorbar\": {\"outlinewidth\": 0, \"ticks\": \"\"}}, \"type\": \"parcoords\"}], \"pie\": [{\"automargin\": true, \"type\": \"pie\"}], \"scatter\": [{\"marker\": {\"colorbar\": {\"outlinewidth\": 0, \"ticks\": \"\"}}, \"type\": \"scatter\"}], \"scatter3d\": [{\"line\": {\"colorbar\": {\"outlinewidth\": 0, \"ticks\": \"\"}}, \"marker\": {\"colorbar\": {\"outlinewidth\": 0, \"ticks\": \"\"}}, \"type\": \"scatter3d\"}], \"scattercarpet\": [{\"marker\": {\"colorbar\": {\"outlinewidth\": 0, \"ticks\": \"\"}}, \"type\": \"scattercarpet\"}], \"scattergeo\": [{\"marker\": {\"colorbar\": {\"outlinewidth\": 0, \"ticks\": \"\"}}, \"type\": \"scattergeo\"}], \"scattergl\": [{\"marker\": {\"colorbar\": {\"outlinewidth\": 0, \"ticks\": \"\"}}, \"type\": \"scattergl\"}], \"scattermapbox\": [{\"marker\": {\"colorbar\": {\"outlinewidth\": 0, \"ticks\": \"\"}}, \"type\": \"scattermapbox\"}], \"scatterpolar\": [{\"marker\": {\"colorbar\": {\"outlinewidth\": 0, \"ticks\": \"\"}}, \"type\": \"scatterpolar\"}], \"scatterpolargl\": [{\"marker\": {\"colorbar\": {\"outlinewidth\": 0, \"ticks\": \"\"}}, \"type\": \"scatterpolargl\"}], \"scatterternary\": [{\"marker\": {\"colorbar\": {\"outlinewidth\": 0, \"ticks\": \"\"}}, \"type\": \"scatterternary\"}], \"surface\": [{\"colorbar\": {\"outlinewidth\": 0, \"ticks\": \"\"}, \"colorscale\": [[0.0, \"#0d0887\"], [0.1111111111111111, \"#46039f\"], [0.2222222222222222, \"#7201a8\"], [0.3333333333333333, \"#9c179e\"], [0.4444444444444444, \"#bd3786\"], [0.5555555555555556, \"#d8576b\"], [0.6666666666666666, \"#ed7953\"], [0.7777777777777778, \"#fb9f3a\"], [0.8888888888888888, \"#fdca26\"], [1.0, \"#f0f921\"]], \"type\": \"surface\"}], \"table\": [{\"cells\": {\"fill\": {\"color\": \"#EBF0F8\"}, \"line\": {\"color\": \"white\"}}, \"header\": {\"fill\": {\"color\": \"#C8D4E3\"}, \"line\": {\"color\": \"white\"}}, \"type\": \"table\"}]}, \"layout\": {\"annotationdefaults\": {\"arrowcolor\": \"#2a3f5f\", \"arrowhead\": 0, \"arrowwidth\": 1}, \"coloraxis\": {\"colorbar\": {\"outlinewidth\": 0, \"ticks\": \"\"}}, \"colorscale\": {\"diverging\": [[0, \"#8e0152\"], [0.1, \"#c51b7d\"], [0.2, \"#de77ae\"], [0.3, \"#f1b6da\"], [0.4, \"#fde0ef\"], [0.5, \"#f7f7f7\"], [0.6, \"#e6f5d0\"], [0.7, \"#b8e186\"], [0.8, \"#7fbc41\"], [0.9, \"#4d9221\"], [1, \"#276419\"]], \"sequential\": [[0.0, \"#0d0887\"], [0.1111111111111111, \"#46039f\"], [0.2222222222222222, \"#7201a8\"], [0.3333333333333333, \"#9c179e\"], [0.4444444444444444, \"#bd3786\"], [0.5555555555555556, \"#d8576b\"], [0.6666666666666666, \"#ed7953\"], [0.7777777777777778, \"#fb9f3a\"], [0.8888888888888888, \"#fdca26\"], [1.0, \"#f0f921\"]], \"sequentialminus\": [[0.0, \"#0d0887\"], [0.1111111111111111, \"#46039f\"], [0.2222222222222222, \"#7201a8\"], [0.3333333333333333, \"#9c179e\"], [0.4444444444444444, \"#bd3786\"], [0.5555555555555556, \"#d8576b\"], [0.6666666666666666, \"#ed7953\"], [0.7777777777777778, \"#fb9f3a\"], [0.8888888888888888, \"#fdca26\"], [1.0, \"#f0f921\"]]}, \"colorway\": [\"#636efa\", \"#EF553B\", \"#00cc96\", \"#ab63fa\", \"#FFA15A\", \"#19d3f3\", \"#FF6692\", \"#B6E880\", \"#FF97FF\", \"#FECB52\"], \"font\": {\"color\": \"#2a3f5f\"}, \"geo\": {\"bgcolor\": \"white\", \"lakecolor\": \"white\", \"landcolor\": \"#E5ECF6\", \"showlakes\": true, \"showland\": true, \"subunitcolor\": \"white\"}, \"hoverlabel\": {\"align\": \"left\"}, \"hovermode\": \"closest\", \"mapbox\": {\"style\": \"light\"}, \"paper_bgcolor\": \"white\", \"plot_bgcolor\": \"#E5ECF6\", \"polar\": {\"angularaxis\": {\"gridcolor\": \"white\", \"linecolor\": \"white\", \"ticks\": \"\"}, \"bgcolor\": \"#E5ECF6\", \"radialaxis\": {\"gridcolor\": \"white\", \"linecolor\": \"white\", \"ticks\": \"\"}}, \"scene\": {\"xaxis\": {\"backgroundcolor\": \"#E5ECF6\", \"gridcolor\": \"white\", \"gridwidth\": 2, \"linecolor\": \"white\", \"showbackground\": true, \"ticks\": \"\", \"zerolinecolor\": \"white\"}, \"yaxis\": {\"backgroundcolor\": \"#E5ECF6\", \"gridcolor\": \"white\", \"gridwidth\": 2, \"linecolor\": \"white\", \"showbackground\": true, \"ticks\": \"\", \"zerolinecolor\": \"white\"}, \"zaxis\": {\"backgroundcolor\": \"#E5ECF6\", \"gridcolor\": \"white\", \"gridwidth\": 2, \"linecolor\": \"white\", \"showbackground\": true, \"ticks\": \"\", \"zerolinecolor\": \"white\"}}, \"shapedefaults\": {\"line\": {\"color\": \"#2a3f5f\"}}, \"ternary\": {\"aaxis\": {\"gridcolor\": \"white\", \"linecolor\": \"white\", \"ticks\": \"\"}, \"baxis\": {\"gridcolor\": \"white\", \"linecolor\": \"white\", \"ticks\": \"\"}, \"bgcolor\": \"#E5ECF6\", \"caxis\": {\"gridcolor\": \"white\", \"linecolor\": \"white\", \"ticks\": \"\"}}, \"title\": {\"x\": 0.05}, \"xaxis\": {\"automargin\": true, \"gridcolor\": \"white\", \"linecolor\": \"white\", \"ticks\": \"\", \"title\": {\"standoff\": 15}, \"zerolinecolor\": \"white\", \"zerolinewidth\": 2}, \"yaxis\": {\"automargin\": true, \"gridcolor\": \"white\", \"linecolor\": \"white\", \"ticks\": \"\", \"title\": {\"standoff\": 15}, \"zerolinecolor\": \"white\", \"zerolinewidth\": 2}}}, \"title\": {\"text\": \"2019 Belt and Road Intitiative Subscriber Nations\"}},\n",
       "                        {\"responsive\": true}\n",
       "                    ).then(function(){\n",
       "                            \n",
       "var gd = document.getElementById('6ef72bfb-98d5-4ce6-8f8b-82c385012b60');\n",
       "var x = new MutationObserver(function (mutations, observer) {{\n",
       "        var display = window.getComputedStyle(gd).display;\n",
       "        if (!display || display === 'none') {{\n",
       "            console.log([gd, 'removed!']);\n",
       "            Plotly.purge(gd);\n",
       "            observer.disconnect();\n",
       "        }}\n",
       "}});\n",
       "\n",
       "// Listen for the removal of the full notebook cells\n",
       "var notebookContainer = gd.closest('#notebook-container');\n",
       "if (notebookContainer) {{\n",
       "    x.observe(notebookContainer, {childList: true});\n",
       "}}\n",
       "\n",
       "// Listen for the clearing of the current output cell\n",
       "var outputEl = gd.closest('.output');\n",
       "if (outputEl) {{\n",
       "    x.observe(outputEl, {childList: true});\n",
       "}}\n",
       "\n",
       "                        })\n",
       "                };\n",
       "                });\n",
       "            </script>\n",
       "        </div>"
      ]
     },
     "metadata": {},
     "output_type": "display_data"
    }
   ],
   "source": [
    "# Map of Countries according to thier membership status in the Belt and road Initiative as of April 19, 2019\n",
    "import plotly.express as px\n",
    "\n",
    "geo_df = countries_mega_df\n",
    "fig = px.choropleth(geo_df, locations=\"Country\",\n",
    "                    color=\"BRI Status\", # lifeExp is a column of gapminder\n",
    "                    hover_name=\"Country\", # column to add to hover information\n",
    "                    locationmode='country names')\n",
    "\n",
    "fig.update_layout(title_text='2019 Belt and Road Intitiative Subscriber Nations')\n",
    "fig.show()"
   ]
  },
  {
   "cell_type": "markdown",
   "metadata": {},
   "source": [
    "### Third Serving of Soup GDP - 2017: ###"
   ]
  },
  {
   "cell_type": "code",
   "execution_count": 136,
   "metadata": {},
   "outputs": [],
   "source": [
    "gdp_result = requests.get(\"https://www.worldometers.info/gdp/gdp-by-country/\")\n",
    "gdp_src = gdp_result.content\n",
    "gdp_soup = BeautifulSoup(gdp_src, 'lxml')\n",
    "gdp_tables = gdp_soup.find_all(\"table\")"
   ]
  },
  {
   "cell_type": "code",
   "execution_count": 137,
   "metadata": {
    "scrolled": true
   },
   "outputs": [
    {
     "data": {
      "text/html": [
       "<div>\n",
       "<style scoped>\n",
       "    .dataframe tbody tr th:only-of-type {\n",
       "        vertical-align: middle;\n",
       "    }\n",
       "\n",
       "    .dataframe tbody tr th {\n",
       "        vertical-align: top;\n",
       "    }\n",
       "\n",
       "    .dataframe thead th {\n",
       "        text-align: right;\n",
       "    }\n",
       "</style>\n",
       "<table border=\"1\" class=\"dataframe\">\n",
       "  <thead>\n",
       "    <tr style=\"text-align: right;\">\n",
       "      <th></th>\n",
       "      <th>#</th>\n",
       "      <th>Country</th>\n",
       "      <th>GDP (nominal, 2017)</th>\n",
       "      <th>GDP (abbrev.)</th>\n",
       "      <th>GDP growth</th>\n",
       "      <th>Population (2017)</th>\n",
       "      <th>GDP per capita</th>\n",
       "      <th>Share of World GDP</th>\n",
       "    </tr>\n",
       "  </thead>\n",
       "  <tbody>\n",
       "    <tr>\n",
       "      <th>0</th>\n",
       "      <td>1</td>\n",
       "      <td>United States</td>\n",
       "      <td>$19,485,394,000,000</td>\n",
       "      <td>$19.485 trillion</td>\n",
       "      <td>2.27%</td>\n",
       "      <td>325084756</td>\n",
       "      <td>$59,939</td>\n",
       "      <td>24.08%</td>\n",
       "    </tr>\n",
       "    <tr>\n",
       "      <th>1</th>\n",
       "      <td>2</td>\n",
       "      <td>China</td>\n",
       "      <td>$12,237,700,479,375</td>\n",
       "      <td>$12.238 trillion</td>\n",
       "      <td>6.90%</td>\n",
       "      <td>1421021791</td>\n",
       "      <td>$8,612</td>\n",
       "      <td>15.12%</td>\n",
       "    </tr>\n",
       "    <tr>\n",
       "      <th>2</th>\n",
       "      <td>3</td>\n",
       "      <td>Japan</td>\n",
       "      <td>$4,872,415,104,315</td>\n",
       "      <td>$4.872 trillion</td>\n",
       "      <td>1.71%</td>\n",
       "      <td>127502725</td>\n",
       "      <td>$38,214</td>\n",
       "      <td>6.02%</td>\n",
       "    </tr>\n",
       "    <tr>\n",
       "      <th>3</th>\n",
       "      <td>4</td>\n",
       "      <td>Germany</td>\n",
       "      <td>$3,693,204,332,230</td>\n",
       "      <td>$3.693 trillion</td>\n",
       "      <td>2.22%</td>\n",
       "      <td>82658409</td>\n",
       "      <td>$44,680</td>\n",
       "      <td>4.56%</td>\n",
       "    </tr>\n",
       "    <tr>\n",
       "      <th>4</th>\n",
       "      <td>5</td>\n",
       "      <td>India</td>\n",
       "      <td>$2,650,725,335,364</td>\n",
       "      <td>$2.651 trillion</td>\n",
       "      <td>6.68%</td>\n",
       "      <td>1338676785</td>\n",
       "      <td>$1,980</td>\n",
       "      <td>3.28%</td>\n",
       "    </tr>\n",
       "  </tbody>\n",
       "</table>\n",
       "</div>"
      ],
      "text/plain": [
       "   #        Country  GDP (nominal, 2017)     GDP (abbrev.) GDP growth  \\\n",
       "0  1  United States  $19,485,394,000,000  $19.485 trillion      2.27%   \n",
       "1  2          China  $12,237,700,479,375  $12.238 trillion      6.90%   \n",
       "2  3          Japan   $4,872,415,104,315   $4.872 trillion      1.71%   \n",
       "3  4        Germany   $3,693,204,332,230   $3.693 trillion      2.22%   \n",
       "4  5          India   $2,650,725,335,364   $2.651 trillion      6.68%   \n",
       "\n",
       "   Population (2017) GDP per capita Share of World GDP  \n",
       "0          325084756        $59,939             24.08%  \n",
       "1         1421021791         $8,612             15.12%  \n",
       "2          127502725        $38,214              6.02%  \n",
       "3           82658409        $44,680              4.56%  \n",
       "4         1338676785         $1,980              3.28%  "
      ]
     },
     "execution_count": 137,
     "metadata": {},
     "output_type": "execute_result"
    }
   ],
   "source": [
    "# From HTML Tables to DataFrame: Nominal GDP for 2017\n",
    "gdp_df = pd.read_html(str(gdp_tables), header=0)[0]\n",
    "# First 5 rows in the table\n",
    "gdp_df.head()"
   ]
  },
  {
   "cell_type": "code",
   "execution_count": 138,
   "metadata": {},
   "outputs": [],
   "source": [
    "bri_df0 = bri_df.set_index('Country')\n",
    "gdp_df0 = gdp_df.set_index('Country')"
   ]
  },
  {
   "cell_type": "code",
   "execution_count": 139,
   "metadata": {},
   "outputs": [],
   "source": [
    "bri_gdp_df = gdp_df0.join(other=[bri_df0])"
   ]
  },
  {
   "cell_type": "code",
   "execution_count": 140,
   "metadata": {},
   "outputs": [
    {
     "data": {
      "text/html": [
       "<div>\n",
       "<style scoped>\n",
       "    .dataframe tbody tr th:only-of-type {\n",
       "        vertical-align: middle;\n",
       "    }\n",
       "\n",
       "    .dataframe tbody tr th {\n",
       "        vertical-align: top;\n",
       "    }\n",
       "\n",
       "    .dataframe thead th {\n",
       "        text-align: right;\n",
       "    }\n",
       "</style>\n",
       "<table border=\"1\" class=\"dataframe\">\n",
       "  <thead>\n",
       "    <tr style=\"text-align: right;\">\n",
       "      <th></th>\n",
       "      <th>#</th>\n",
       "      <th>GDP (nominal, 2017)</th>\n",
       "      <th>GDP (abbrev.)</th>\n",
       "      <th>GDP growth</th>\n",
       "      <th>Population (2017)</th>\n",
       "      <th>GDP per capita</th>\n",
       "      <th>Share of World GDP</th>\n",
       "      <th>Region</th>\n",
       "      <th>IncomeGroup</th>\n",
       "    </tr>\n",
       "    <tr>\n",
       "      <th>Country</th>\n",
       "      <th></th>\n",
       "      <th></th>\n",
       "      <th></th>\n",
       "      <th></th>\n",
       "      <th></th>\n",
       "      <th></th>\n",
       "      <th></th>\n",
       "      <th></th>\n",
       "      <th></th>\n",
       "    </tr>\n",
       "  </thead>\n",
       "  <tbody>\n",
       "    <tr>\n",
       "      <th>United States</th>\n",
       "      <td>1.0</td>\n",
       "      <td>$19,485,394,000,000</td>\n",
       "      <td>$19.485 trillion</td>\n",
       "      <td>2.27%</td>\n",
       "      <td>3.250848e+08</td>\n",
       "      <td>$59,939</td>\n",
       "      <td>24.08%</td>\n",
       "      <td>NaN</td>\n",
       "      <td>NaN</td>\n",
       "    </tr>\n",
       "    <tr>\n",
       "      <th>China</th>\n",
       "      <td>2.0</td>\n",
       "      <td>$12,237,700,479,375</td>\n",
       "      <td>$12.238 trillion</td>\n",
       "      <td>6.90%</td>\n",
       "      <td>1.421022e+09</td>\n",
       "      <td>$8,612</td>\n",
       "      <td>15.12%</td>\n",
       "      <td>East Asia &amp; Pacific</td>\n",
       "      <td>Upper middle income</td>\n",
       "    </tr>\n",
       "    <tr>\n",
       "      <th>Japan</th>\n",
       "      <td>3.0</td>\n",
       "      <td>$4,872,415,104,315</td>\n",
       "      <td>$4.872 trillion</td>\n",
       "      <td>1.71%</td>\n",
       "      <td>1.275027e+08</td>\n",
       "      <td>$38,214</td>\n",
       "      <td>6.02%</td>\n",
       "      <td>NaN</td>\n",
       "      <td>NaN</td>\n",
       "    </tr>\n",
       "    <tr>\n",
       "      <th>Germany</th>\n",
       "      <td>4.0</td>\n",
       "      <td>$3,693,204,332,230</td>\n",
       "      <td>$3.693 trillion</td>\n",
       "      <td>2.22%</td>\n",
       "      <td>8.265841e+07</td>\n",
       "      <td>$44,680</td>\n",
       "      <td>4.56%</td>\n",
       "      <td>NaN</td>\n",
       "      <td>NaN</td>\n",
       "    </tr>\n",
       "    <tr>\n",
       "      <th>India</th>\n",
       "      <td>5.0</td>\n",
       "      <td>$2,650,725,335,364</td>\n",
       "      <td>$2.651 trillion</td>\n",
       "      <td>6.68%</td>\n",
       "      <td>1.338677e+09</td>\n",
       "      <td>$1,980</td>\n",
       "      <td>3.28%</td>\n",
       "      <td>NaN</td>\n",
       "      <td>NaN</td>\n",
       "    </tr>\n",
       "  </tbody>\n",
       "</table>\n",
       "</div>"
      ],
      "text/plain": [
       "                 #  GDP (nominal, 2017)     GDP (abbrev.) GDP growth  \\\n",
       "Country                                                                \n",
       "United States  1.0  $19,485,394,000,000  $19.485 trillion      2.27%   \n",
       "China          2.0  $12,237,700,479,375  $12.238 trillion      6.90%   \n",
       "Japan          3.0   $4,872,415,104,315   $4.872 trillion      1.71%   \n",
       "Germany        4.0   $3,693,204,332,230   $3.693 trillion      2.22%   \n",
       "India          5.0   $2,650,725,335,364   $2.651 trillion      6.68%   \n",
       "\n",
       "               Population (2017) GDP per capita Share of World GDP  \\\n",
       "Country                                                              \n",
       "United States       3.250848e+08        $59,939             24.08%   \n",
       "China               1.421022e+09         $8,612             15.12%   \n",
       "Japan               1.275027e+08        $38,214              6.02%   \n",
       "Germany             8.265841e+07        $44,680              4.56%   \n",
       "India               1.338677e+09         $1,980              3.28%   \n",
       "\n",
       "                            Region          IncomeGroup  \n",
       "Country                                                  \n",
       "United States                  NaN                  NaN  \n",
       "China          East Asia & Pacific  Upper middle income  \n",
       "Japan                          NaN                  NaN  \n",
       "Germany                        NaN                  NaN  \n",
       "India                          NaN                  NaN  "
      ]
     },
     "execution_count": 140,
     "metadata": {},
     "output_type": "execute_result"
    }
   ],
   "source": [
    "bri_gdp_df.head()"
   ]
  },
  {
   "cell_type": "code",
   "execution_count": 141,
   "metadata": {},
   "outputs": [
    {
     "data": {
      "text/html": [
       "<div>\n",
       "<style scoped>\n",
       "    .dataframe tbody tr th:only-of-type {\n",
       "        vertical-align: middle;\n",
       "    }\n",
       "\n",
       "    .dataframe tbody tr th {\n",
       "        vertical-align: top;\n",
       "    }\n",
       "\n",
       "    .dataframe thead th {\n",
       "        text-align: right;\n",
       "    }\n",
       "</style>\n",
       "<table border=\"1\" class=\"dataframe\">\n",
       "  <thead>\n",
       "    <tr style=\"text-align: right;\">\n",
       "      <th></th>\n",
       "      <th>#</th>\n",
       "      <th>GDP (nominal, 2017)</th>\n",
       "      <th>GDP (abbrev.)</th>\n",
       "      <th>GDP growth</th>\n",
       "      <th>Population (2017)</th>\n",
       "      <th>GDP per capita</th>\n",
       "      <th>Share of World GDP</th>\n",
       "      <th>Region</th>\n",
       "      <th>IncomeGroup</th>\n",
       "    </tr>\n",
       "    <tr>\n",
       "      <th>Country</th>\n",
       "      <th></th>\n",
       "      <th></th>\n",
       "      <th></th>\n",
       "      <th></th>\n",
       "      <th></th>\n",
       "      <th></th>\n",
       "      <th></th>\n",
       "      <th></th>\n",
       "      <th></th>\n",
       "    </tr>\n",
       "  </thead>\n",
       "  <tbody>\n",
       "    <tr>\n",
       "      <th>China</th>\n",
       "      <td>2.0</td>\n",
       "      <td>$12,237,700,479,375</td>\n",
       "      <td>$12.238 trillion</td>\n",
       "      <td>6.90%</td>\n",
       "      <td>1.421022e+09</td>\n",
       "      <td>$8,612</td>\n",
       "      <td>15.12%</td>\n",
       "      <td>East Asia &amp; Pacific</td>\n",
       "      <td>Upper middle income</td>\n",
       "    </tr>\n",
       "    <tr>\n",
       "      <th>Italy</th>\n",
       "      <td>9.0</td>\n",
       "      <td>$1,943,835,376,342</td>\n",
       "      <td>$1.944 trillion</td>\n",
       "      <td>1.50%</td>\n",
       "      <td>6.067370e+07</td>\n",
       "      <td>$32,038</td>\n",
       "      <td>2.40%</td>\n",
       "      <td>Europe &amp; Central Asia</td>\n",
       "      <td>High income</td>\n",
       "    </tr>\n",
       "    <tr>\n",
       "      <th>Indonesia</th>\n",
       "      <td>16.0</td>\n",
       "      <td>$1,015,420,587,285</td>\n",
       "      <td>$1.015 trillion</td>\n",
       "      <td>5.07%</td>\n",
       "      <td>2.646510e+08</td>\n",
       "      <td>$3,837</td>\n",
       "      <td>1.25%</td>\n",
       "      <td>East Asia &amp; Pacific</td>\n",
       "      <td>Lower middle income</td>\n",
       "    </tr>\n",
       "    <tr>\n",
       "      <th>Turkey</th>\n",
       "      <td>17.0</td>\n",
       "      <td>$851,549,299,635</td>\n",
       "      <td>$852 billion</td>\n",
       "      <td>7.44%</td>\n",
       "      <td>8.111645e+07</td>\n",
       "      <td>$10,498</td>\n",
       "      <td>1.05%</td>\n",
       "      <td>Europe &amp; Central Asia</td>\n",
       "      <td>Upper middle income</td>\n",
       "    </tr>\n",
       "    <tr>\n",
       "      <th>Saudi Arabia</th>\n",
       "      <td>19.0</td>\n",
       "      <td>$686,738,400,000</td>\n",
       "      <td>$687 billion</td>\n",
       "      <td>-0.86%</td>\n",
       "      <td>3.310118e+07</td>\n",
       "      <td>$20,747</td>\n",
       "      <td>0.85%</td>\n",
       "      <td>Middle East &amp; North Africa</td>\n",
       "      <td>High income</td>\n",
       "    </tr>\n",
       "  </tbody>\n",
       "</table>\n",
       "</div>"
      ],
      "text/plain": [
       "                 #  GDP (nominal, 2017)     GDP (abbrev.) GDP growth  \\\n",
       "Country                                                                \n",
       "China          2.0  $12,237,700,479,375  $12.238 trillion      6.90%   \n",
       "Italy          9.0   $1,943,835,376,342   $1.944 trillion      1.50%   \n",
       "Indonesia     16.0   $1,015,420,587,285   $1.015 trillion      5.07%   \n",
       "Turkey        17.0     $851,549,299,635      $852 billion      7.44%   \n",
       "Saudi Arabia  19.0     $686,738,400,000      $687 billion     -0.86%   \n",
       "\n",
       "              Population (2017) GDP per capita Share of World GDP  \\\n",
       "Country                                                             \n",
       "China              1.421022e+09         $8,612             15.12%   \n",
       "Italy              6.067370e+07        $32,038              2.40%   \n",
       "Indonesia          2.646510e+08         $3,837              1.25%   \n",
       "Turkey             8.111645e+07        $10,498              1.05%   \n",
       "Saudi Arabia       3.310118e+07        $20,747              0.85%   \n",
       "\n",
       "                                  Region          IncomeGroup  \n",
       "Country                                                        \n",
       "China                East Asia & Pacific  Upper middle income  \n",
       "Italy              Europe & Central Asia          High income  \n",
       "Indonesia            East Asia & Pacific  Lower middle income  \n",
       "Turkey             Europe & Central Asia  Upper middle income  \n",
       "Saudi Arabia  Middle East & North Africa          High income  "
      ]
     },
     "execution_count": 141,
     "metadata": {},
     "output_type": "execute_result"
    }
   ],
   "source": [
    "bri_gdp_df = bri_gdp_df.dropna(axis=0)\n",
    "bri_gdp_df.head()"
   ]
  },
  {
   "cell_type": "code",
   "execution_count": 142,
   "metadata": {},
   "outputs": [],
   "source": [
    "bri_gdp_df1 = bri_gdp_df.drop(columns=['#','GDP (nominal, 2017)','GDP growth','Population (2017)','IncomeGroup','GDP (abbrev.)','GDP per capita'])"
   ]
  },
  {
   "cell_type": "code",
   "execution_count": 143,
   "metadata": {},
   "outputs": [
    {
     "data": {
      "text/plain": [
       "<AxesSubplot:xlabel='Region'>"
      ]
     },
     "execution_count": 143,
     "metadata": {},
     "output_type": "execute_result"
    },
    {
     "data": {
      "image/png": "[encoded data removed]",
      "text/plain": [
       "<Figure size 432x288 with 1 Axes>"
      ]
     },
     "metadata": {
      "needs_background": "light"
     },
     "output_type": "display_data"
    }
   ],
   "source": [
    "bri_gdp_df1.groupby(['Region']).count().plot(kind='bar')"
   ]
  },
  {
   "cell_type": "markdown",
   "metadata": {},
   "source": [
    "### Fourth Serving of Soup GDP - 2019: ###"
   ]
  },
  {
   "cell_type": "code",
   "execution_count": 144,
   "metadata": {},
   "outputs": [],
   "source": [
    "# Estimated Projections of World GDP for 2019\n",
    "\n",
    "gdp_2019_result = requests.get(\"http://www.statisticstimes.com/economy/gdp-indicators-2019.php\")\n",
    "gdp_2019_src = gdp_2019_result.content\n",
    "gdp_2019_soup = BeautifulSoup(gdp_2019_src, 'lxml')\n",
    "gdp_2019_tables = gdp_2019_soup.find_all(\"table\")"
   ]
  },
  {
   "cell_type": "code",
   "execution_count": 145,
   "metadata": {},
   "outputs": [
    {
     "data": {
      "text/html": [
       "<div>\n",
       "<style scoped>\n",
       "    .dataframe tbody tr th:only-of-type {\n",
       "        vertical-align: middle;\n",
       "    }\n",
       "\n",
       "    .dataframe tbody tr th {\n",
       "        vertical-align: top;\n",
       "    }\n",
       "\n",
       "    .dataframe thead th {\n",
       "        text-align: right;\n",
       "    }\n",
       "</style>\n",
       "<table border=\"1\" class=\"dataframe\">\n",
       "  <thead>\n",
       "    <tr style=\"text-align: right;\">\n",
       "      <th></th>\n",
       "      <th>Country/Economy</th>\n",
       "      <th>Nominal</th>\n",
       "      <th>Rank</th>\n",
       "      <th>PPP</th>\n",
       "      <th>Rank.1</th>\n",
       "      <th>Nominal.1</th>\n",
       "      <th>Rank.2</th>\n",
       "      <th>PPP.1</th>\n",
       "      <th>Rank.3</th>\n",
       "      <th>2019</th>\n",
       "      <th>Rank.4</th>\n",
       "    </tr>\n",
       "  </thead>\n",
       "  <tbody>\n",
       "    <tr>\n",
       "      <th>0</th>\n",
       "      <td>Pakistan</td>\n",
       "      <td>298.310</td>\n",
       "      <td>43</td>\n",
       "      <td>1219.720</td>\n",
       "      <td>25</td>\n",
       "      <td>1457</td>\n",
       "      <td>156</td>\n",
       "      <td>5958</td>\n",
       "      <td>140</td>\n",
       "      <td>4.005</td>\n",
       "      <td>74</td>\n",
       "    </tr>\n",
       "    <tr>\n",
       "      <th>1</th>\n",
       "      <td>Somalia</td>\n",
       "      <td>7.822</td>\n",
       "      <td>147</td>\n",
       "      <td>22.794</td>\n",
       "      <td>144</td>\n",
       "      <td>-</td>\n",
       "      <td>-</td>\n",
       "      <td>-</td>\n",
       "      <td>-</td>\n",
       "      <td>3.500</td>\n",
       "      <td>95</td>\n",
       "    </tr>\n",
       "    <tr>\n",
       "      <th>2</th>\n",
       "      <td>Afghanistan</td>\n",
       "      <td>21.074</td>\n",
       "      <td>115</td>\n",
       "      <td>76.491</td>\n",
       "      <td>104</td>\n",
       "      <td>577</td>\n",
       "      <td>183</td>\n",
       "      <td>2095</td>\n",
       "      <td>176</td>\n",
       "      <td>3.024</td>\n",
       "      <td>120</td>\n",
       "    </tr>\n",
       "    <tr>\n",
       "      <th>3</th>\n",
       "      <td>Albania</td>\n",
       "      <td>15.635</td>\n",
       "      <td>123</td>\n",
       "      <td>40.586</td>\n",
       "      <td>121</td>\n",
       "      <td>5448</td>\n",
       "      <td>102</td>\n",
       "      <td>14143</td>\n",
       "      <td>97</td>\n",
       "      <td>3.719</td>\n",
       "      <td>81</td>\n",
       "    </tr>\n",
       "    <tr>\n",
       "      <th>4</th>\n",
       "      <td>Algeria</td>\n",
       "      <td>200.171</td>\n",
       "      <td>55</td>\n",
       "      <td>693.109</td>\n",
       "      <td>36</td>\n",
       "      <td>4646</td>\n",
       "      <td>109</td>\n",
       "      <td>16086</td>\n",
       "      <td>88</td>\n",
       "      <td>2.708</td>\n",
       "      <td>131</td>\n",
       "    </tr>\n",
       "  </tbody>\n",
       "</table>\n",
       "</div>"
      ],
      "text/plain": [
       "  Country/Economy  Nominal Rank       PPP Rank.1 Nominal.1 Rank.2  PPP.1  \\\n",
       "0        Pakistan  298.310   43  1219.720     25      1457    156   5958   \n",
       "1         Somalia    7.822  147    22.794    144         -      -      -   \n",
       "2     Afghanistan   21.074  115    76.491    104       577    183   2095   \n",
       "3         Albania   15.635  123    40.586    121      5448    102  14143   \n",
       "4         Algeria  200.171   55   693.109     36      4646    109  16086   \n",
       "\n",
       "  Rank.3   2019 Rank.4  \n",
       "0    140  4.005     74  \n",
       "1      -  3.500     95  \n",
       "2    176  3.024    120  \n",
       "3     97  3.719     81  \n",
       "4     88  2.708    131  "
      ]
     },
     "execution_count": 145,
     "metadata": {},
     "output_type": "execute_result"
    }
   ],
   "source": [
    "# From HTML Tables to DataFrame: Estimated GDP for 2019\n",
    "gdp_2019_df = pd.read_html(str(gdp_2019_tables), header=1)[1]\n",
    "gdp_2019_df.head()"
   ]
  },
  {
   "cell_type": "code",
   "execution_count": 146,
   "metadata": {},
   "outputs": [],
   "source": [
    "# Data Cleaning - drop rows with null values\n",
    "gdp_2019_df.dropna(inplace=True)"
   ]
  },
  {
   "cell_type": "code",
   "execution_count": 147,
   "metadata": {},
   "outputs": [],
   "source": [
    "# Data Cleaning - drop column with \"-\" values\n",
    "gdp_2019_df.drop(gdp_2019_df.index[[193]], inplace=True)"
   ]
  },
  {
   "cell_type": "code",
   "execution_count": 148,
   "metadata": {},
   "outputs": [],
   "source": [
    "gdp_2019_df.rename(columns={'2019': 'GDP Growth (%) 2019'}, inplace=True)"
   ]
  },
  {
   "cell_type": "code",
   "execution_count": 149,
   "metadata": {},
   "outputs": [],
   "source": [
    "gdp_2019_df.rename(columns={'Nominal': 'Estimated Nominal GDP 2019'}, inplace=True)"
   ]
  },
  {
   "cell_type": "code",
   "execution_count": 150,
   "metadata": {},
   "outputs": [],
   "source": [
    "gdp_2019_df.rename(columns={'Rank': 'GDP Rank'}, inplace=True)"
   ]
  },
  {
   "cell_type": "code",
   "execution_count": 151,
   "metadata": {},
   "outputs": [
    {
     "data": {
      "text/html": [
       "<div>\n",
       "<style scoped>\n",
       "    .dataframe tbody tr th:only-of-type {\n",
       "        vertical-align: middle;\n",
       "    }\n",
       "\n",
       "    .dataframe tbody tr th {\n",
       "        vertical-align: top;\n",
       "    }\n",
       "\n",
       "    .dataframe thead th {\n",
       "        text-align: right;\n",
       "    }\n",
       "</style>\n",
       "<table border=\"1\" class=\"dataframe\">\n",
       "  <thead>\n",
       "    <tr style=\"text-align: right;\">\n",
       "      <th></th>\n",
       "      <th>Country/Economy</th>\n",
       "      <th>Estimated Nominal GDP 2019</th>\n",
       "      <th>GDP Rank</th>\n",
       "      <th>PPP</th>\n",
       "      <th>Rank.1</th>\n",
       "      <th>Nominal.1</th>\n",
       "      <th>Rank.2</th>\n",
       "      <th>PPP.1</th>\n",
       "      <th>Rank.3</th>\n",
       "      <th>GDP Growth (%) 2019</th>\n",
       "      <th>Rank.4</th>\n",
       "    </tr>\n",
       "  </thead>\n",
       "  <tbody>\n",
       "    <tr>\n",
       "      <th>0</th>\n",
       "      <td>Pakistan</td>\n",
       "      <td>298.310</td>\n",
       "      <td>43</td>\n",
       "      <td>1219.720</td>\n",
       "      <td>25</td>\n",
       "      <td>1457</td>\n",
       "      <td>156</td>\n",
       "      <td>5958</td>\n",
       "      <td>140</td>\n",
       "      <td>4.005</td>\n",
       "      <td>74</td>\n",
       "    </tr>\n",
       "    <tr>\n",
       "      <th>1</th>\n",
       "      <td>Somalia</td>\n",
       "      <td>7.822</td>\n",
       "      <td>147</td>\n",
       "      <td>22.794</td>\n",
       "      <td>144</td>\n",
       "      <td>-</td>\n",
       "      <td>-</td>\n",
       "      <td>-</td>\n",
       "      <td>-</td>\n",
       "      <td>3.500</td>\n",
       "      <td>95</td>\n",
       "    </tr>\n",
       "    <tr>\n",
       "      <th>2</th>\n",
       "      <td>Afghanistan</td>\n",
       "      <td>21.074</td>\n",
       "      <td>115</td>\n",
       "      <td>76.491</td>\n",
       "      <td>104</td>\n",
       "      <td>577</td>\n",
       "      <td>183</td>\n",
       "      <td>2095</td>\n",
       "      <td>176</td>\n",
       "      <td>3.024</td>\n",
       "      <td>120</td>\n",
       "    </tr>\n",
       "    <tr>\n",
       "      <th>3</th>\n",
       "      <td>Albania</td>\n",
       "      <td>15.635</td>\n",
       "      <td>123</td>\n",
       "      <td>40.586</td>\n",
       "      <td>121</td>\n",
       "      <td>5448</td>\n",
       "      <td>102</td>\n",
       "      <td>14143</td>\n",
       "      <td>97</td>\n",
       "      <td>3.719</td>\n",
       "      <td>81</td>\n",
       "    </tr>\n",
       "    <tr>\n",
       "      <th>4</th>\n",
       "      <td>Algeria</td>\n",
       "      <td>200.171</td>\n",
       "      <td>55</td>\n",
       "      <td>693.109</td>\n",
       "      <td>36</td>\n",
       "      <td>4646</td>\n",
       "      <td>109</td>\n",
       "      <td>16086</td>\n",
       "      <td>88</td>\n",
       "      <td>2.708</td>\n",
       "      <td>131</td>\n",
       "    </tr>\n",
       "  </tbody>\n",
       "</table>\n",
       "</div>"
      ],
      "text/plain": [
       "  Country/Economy Estimated Nominal GDP 2019 GDP Rank       PPP Rank.1  \\\n",
       "0        Pakistan                    298.310       43  1219.720     25   \n",
       "1         Somalia                      7.822      147    22.794    144   \n",
       "2     Afghanistan                     21.074      115    76.491    104   \n",
       "3         Albania                     15.635      123    40.586    121   \n",
       "4         Algeria                    200.171       55   693.109     36   \n",
       "\n",
       "  Nominal.1 Rank.2  PPP.1 Rank.3 GDP Growth (%) 2019 Rank.4  \n",
       "0      1457    156   5958    140               4.005     74  \n",
       "1         -      -      -      -               3.500     95  \n",
       "2       577    183   2095    176               3.024    120  \n",
       "3      5448    102  14143     97               3.719     81  \n",
       "4      4646    109  16086     88               2.708    131  "
      ]
     },
     "execution_count": 151,
     "metadata": {},
     "output_type": "execute_result"
    }
   ],
   "source": [
    "gdp_2019_df.head()"
   ]
  },
  {
   "cell_type": "code",
   "execution_count": 152,
   "metadata": {},
   "outputs": [],
   "source": [
    "# Re-assigning according to Rank\n",
    "gdp_2019_df.index =[int(x) for x in gdp_2019_df['GDP Rank']]"
   ]
  },
  {
   "cell_type": "code",
   "execution_count": 153,
   "metadata": {},
   "outputs": [
    {
     "data": {
      "text/plain": [
       "Int64Index([ 43, 147, 115, 123,  55,  62, 175,  30, 134, 166,\n",
       "            ...\n",
       "              7,   1,  77,  86, 181,  68,  46, 101, 108, 113],\n",
       "           dtype='int64', length=193)"
      ]
     },
     "execution_count": 153,
     "metadata": {},
     "output_type": "execute_result"
    }
   ],
   "source": [
    "gdp_2019_df.index"
   ]
  },
  {
   "cell_type": "code",
   "execution_count": 154,
   "metadata": {},
   "outputs": [
    {
     "data": {
      "text/html": [
       "<div>\n",
       "<style scoped>\n",
       "    .dataframe tbody tr th:only-of-type {\n",
       "        vertical-align: middle;\n",
       "    }\n",
       "\n",
       "    .dataframe tbody tr th {\n",
       "        vertical-align: top;\n",
       "    }\n",
       "\n",
       "    .dataframe thead th {\n",
       "        text-align: right;\n",
       "    }\n",
       "</style>\n",
       "<table border=\"1\" class=\"dataframe\">\n",
       "  <thead>\n",
       "    <tr style=\"text-align: right;\">\n",
       "      <th></th>\n",
       "      <th>Country/Economy</th>\n",
       "      <th>Estimated Nominal GDP 2019</th>\n",
       "      <th>GDP Rank</th>\n",
       "      <th>PPP</th>\n",
       "      <th>Rank.1</th>\n",
       "      <th>Nominal.1</th>\n",
       "      <th>Rank.2</th>\n",
       "      <th>PPP.1</th>\n",
       "      <th>Rank.3</th>\n",
       "      <th>GDP Growth (%) 2019</th>\n",
       "      <th>Rank.4</th>\n",
       "    </tr>\n",
       "  </thead>\n",
       "  <tbody>\n",
       "    <tr>\n",
       "      <th>43</th>\n",
       "      <td>Pakistan</td>\n",
       "      <td>298.310</td>\n",
       "      <td>43</td>\n",
       "      <td>1219.720</td>\n",
       "      <td>25</td>\n",
       "      <td>1457</td>\n",
       "      <td>156</td>\n",
       "      <td>5958</td>\n",
       "      <td>140</td>\n",
       "      <td>4.005</td>\n",
       "      <td>74</td>\n",
       "    </tr>\n",
       "    <tr>\n",
       "      <th>147</th>\n",
       "      <td>Somalia</td>\n",
       "      <td>7.822</td>\n",
       "      <td>147</td>\n",
       "      <td>22.794</td>\n",
       "      <td>144</td>\n",
       "      <td>-</td>\n",
       "      <td>-</td>\n",
       "      <td>-</td>\n",
       "      <td>-</td>\n",
       "      <td>3.500</td>\n",
       "      <td>95</td>\n",
       "    </tr>\n",
       "    <tr>\n",
       "      <th>115</th>\n",
       "      <td>Afghanistan</td>\n",
       "      <td>21.074</td>\n",
       "      <td>115</td>\n",
       "      <td>76.491</td>\n",
       "      <td>104</td>\n",
       "      <td>577</td>\n",
       "      <td>183</td>\n",
       "      <td>2095</td>\n",
       "      <td>176</td>\n",
       "      <td>3.024</td>\n",
       "      <td>120</td>\n",
       "    </tr>\n",
       "    <tr>\n",
       "      <th>123</th>\n",
       "      <td>Albania</td>\n",
       "      <td>15.635</td>\n",
       "      <td>123</td>\n",
       "      <td>40.586</td>\n",
       "      <td>121</td>\n",
       "      <td>5448</td>\n",
       "      <td>102</td>\n",
       "      <td>14143</td>\n",
       "      <td>97</td>\n",
       "      <td>3.719</td>\n",
       "      <td>81</td>\n",
       "    </tr>\n",
       "    <tr>\n",
       "      <th>55</th>\n",
       "      <td>Algeria</td>\n",
       "      <td>200.171</td>\n",
       "      <td>55</td>\n",
       "      <td>693.109</td>\n",
       "      <td>36</td>\n",
       "      <td>4646</td>\n",
       "      <td>109</td>\n",
       "      <td>16086</td>\n",
       "      <td>88</td>\n",
       "      <td>2.708</td>\n",
       "      <td>131</td>\n",
       "    </tr>\n",
       "  </tbody>\n",
       "</table>\n",
       "</div>"
      ],
      "text/plain": [
       "    Country/Economy Estimated Nominal GDP 2019 GDP Rank       PPP Rank.1  \\\n",
       "43         Pakistan                    298.310       43  1219.720     25   \n",
       "147         Somalia                      7.822      147    22.794    144   \n",
       "115     Afghanistan                     21.074      115    76.491    104   \n",
       "123         Albania                     15.635      123    40.586    121   \n",
       "55          Algeria                    200.171       55   693.109     36   \n",
       "\n",
       "    Nominal.1 Rank.2  PPP.1 Rank.3 GDP Growth (%) 2019 Rank.4  \n",
       "43       1457    156   5958    140               4.005     74  \n",
       "147         -      -      -      -               3.500     95  \n",
       "115       577    183   2095    176               3.024    120  \n",
       "123      5448    102  14143     97               3.719     81  \n",
       "55       4646    109  16086     88               2.708    131  "
      ]
     },
     "execution_count": 154,
     "metadata": {},
     "output_type": "execute_result"
    }
   ],
   "source": [
    "gdp_2019_df.head()"
   ]
  },
  {
   "cell_type": "code",
   "execution_count": 155,
   "metadata": {},
   "outputs": [],
   "source": [
    "# Sorting new rank index\n",
    "gdp_2019_df.sort_index(inplace=True)"
   ]
  },
  {
   "cell_type": "code",
   "execution_count": 156,
   "metadata": {},
   "outputs": [],
   "source": [
    "# Eliminiating uneccessary columns\n",
    "gdp_2019_df.drop(columns=['PPP','Rank.1','Nominal.1','Rank.2','PPP.1', 'Rank.3','Rank.4'], inplace=True)"
   ]
  },
  {
   "cell_type": "code",
   "execution_count": 157,
   "metadata": {
    "scrolled": true
   },
   "outputs": [
    {
     "data": {
      "text/html": [
       "<div>\n",
       "<style scoped>\n",
       "    .dataframe tbody tr th:only-of-type {\n",
       "        vertical-align: middle;\n",
       "    }\n",
       "\n",
       "    .dataframe tbody tr th {\n",
       "        vertical-align: top;\n",
       "    }\n",
       "\n",
       "    .dataframe thead th {\n",
       "        text-align: right;\n",
       "    }\n",
       "</style>\n",
       "<table border=\"1\" class=\"dataframe\">\n",
       "  <thead>\n",
       "    <tr style=\"text-align: right;\">\n",
       "      <th></th>\n",
       "      <th>Country/Economy</th>\n",
       "      <th>Estimated Nominal GDP 2019</th>\n",
       "      <th>GDP Rank</th>\n",
       "      <th>GDP Growth (%) 2019</th>\n",
       "    </tr>\n",
       "  </thead>\n",
       "  <tbody>\n",
       "    <tr>\n",
       "      <th>1</th>\n",
       "      <td>United States</td>\n",
       "      <td>21482.410</td>\n",
       "      <td>1</td>\n",
       "      <td>2.541</td>\n",
       "    </tr>\n",
       "    <tr>\n",
       "      <th>2</th>\n",
       "      <td>China</td>\n",
       "      <td>14172.200</td>\n",
       "      <td>2</td>\n",
       "      <td>6.176</td>\n",
       "    </tr>\n",
       "    <tr>\n",
       "      <th>3</th>\n",
       "      <td>Japan</td>\n",
       "      <td>5220.570</td>\n",
       "      <td>3</td>\n",
       "      <td>0.943</td>\n",
       "    </tr>\n",
       "    <tr>\n",
       "      <th>4</th>\n",
       "      <td>Germany</td>\n",
       "      <td>4117.070</td>\n",
       "      <td>4</td>\n",
       "      <td>1.858</td>\n",
       "    </tr>\n",
       "    <tr>\n",
       "      <th>5</th>\n",
       "      <td>India</td>\n",
       "      <td>2957.720</td>\n",
       "      <td>5</td>\n",
       "      <td>7.436</td>\n",
       "    </tr>\n",
       "  </tbody>\n",
       "</table>\n",
       "</div>"
      ],
      "text/plain": [
       "  Country/Economy Estimated Nominal GDP 2019 GDP Rank GDP Growth (%) 2019\n",
       "1   United States                  21482.410        1               2.541\n",
       "2           China                  14172.200        2               6.176\n",
       "3           Japan                   5220.570        3               0.943\n",
       "4         Germany                   4117.070        4               1.858\n",
       "5           India                   2957.720        5               7.436"
      ]
     },
     "execution_count": 157,
     "metadata": {},
     "output_type": "execute_result"
    }
   ],
   "source": [
    "#gdp_2019_df.reset_index()\n",
    "gdp_2019_df.head()"
   ]
  },
  {
   "cell_type": "markdown",
   "metadata": {},
   "source": [
    "### Mapping the Global GDP for 2019###"
   ]
  },
  {
   "cell_type": "code",
   "execution_count": 158,
   "metadata": {},
   "outputs": [
    {
     "data": {
      "text/html": [
       "<div>\n",
       "<style scoped>\n",
       "    .dataframe tbody tr th:only-of-type {\n",
       "        vertical-align: middle;\n",
       "    }\n",
       "\n",
       "    .dataframe tbody tr th {\n",
       "        vertical-align: top;\n",
       "    }\n",
       "\n",
       "    .dataframe thead th {\n",
       "        text-align: right;\n",
       "    }\n",
       "</style>\n",
       "<table border=\"1\" class=\"dataframe\">\n",
       "  <thead>\n",
       "    <tr style=\"text-align: right;\">\n",
       "      <th></th>\n",
       "      <th>Country/Economy</th>\n",
       "      <th>Estimated Nominal GDP 2019</th>\n",
       "      <th>GDP Rank</th>\n",
       "      <th>GDP Growth (%) 2019</th>\n",
       "    </tr>\n",
       "  </thead>\n",
       "  <tbody>\n",
       "    <tr>\n",
       "      <th>count</th>\n",
       "      <td>193</td>\n",
       "      <td>193</td>\n",
       "      <td>193</td>\n",
       "      <td>193</td>\n",
       "    </tr>\n",
       "    <tr>\n",
       "      <th>unique</th>\n",
       "      <td>193</td>\n",
       "      <td>193</td>\n",
       "      <td>193</td>\n",
       "      <td>179</td>\n",
       "    </tr>\n",
       "    <tr>\n",
       "      <th>top</th>\n",
       "      <td>Sierra Leone</td>\n",
       "      <td>0.745</td>\n",
       "      <td>55</td>\n",
       "      <td>5.000</td>\n",
       "    </tr>\n",
       "    <tr>\n",
       "      <th>freq</th>\n",
       "      <td>1</td>\n",
       "      <td>1</td>\n",
       "      <td>1</td>\n",
       "      <td>4</td>\n",
       "    </tr>\n",
       "  </tbody>\n",
       "</table>\n",
       "</div>"
      ],
      "text/plain": [
       "       Country/Economy Estimated Nominal GDP 2019 GDP Rank GDP Growth (%) 2019\n",
       "count              193                        193      193                 193\n",
       "unique             193                        193      193                 179\n",
       "top       Sierra Leone                      0.745       55               5.000\n",
       "freq                 1                          1        1                   4"
      ]
     },
     "execution_count": 158,
     "metadata": {},
     "output_type": "execute_result"
    }
   ],
   "source": [
    "gdp_2019_df.describe()"
   ]
  },
  {
   "cell_type": "code",
   "execution_count": 159,
   "metadata": {},
   "outputs": [
    {
     "name": "stdout",
     "output_type": "stream",
     "text": [
      "<class 'str'>\n",
      "<class 'str'>\n",
      "<class 'str'>\n",
      "<class 'str'>\n"
     ]
    }
   ],
   "source": [
    "for col in gdp_2019_df:\n",
    "    print(type(col))"
   ]
  },
  {
   "cell_type": "code",
   "execution_count": 160,
   "metadata": {},
   "outputs": [],
   "source": [
    "gdp_2019_df[['Estimated Nominal GDP 2019', 'GDP Rank', 'GDP Growth (%) 2019']] = gdp_2019_df[['Estimated Nominal GDP 2019', 'GDP Rank', 'GDP Growth (%) 2019']].apply(pd.to_numeric)"
   ]
  },
  {
   "cell_type": "code",
   "execution_count": 161,
   "metadata": {},
   "outputs": [
    {
     "data": {
      "text/plain": [
       "<AxesSubplot:>"
      ]
     },
     "execution_count": 161,
     "metadata": {},
     "output_type": "execute_result"
    },
    {
     "data": {
      "image/png": "[encoded data removed]",
      "text/plain": [
       "<Figure size 432x288 with 1 Axes>"
      ]
     },
     "metadata": {
      "needs_background": "light"
     },
     "output_type": "display_data"
    }
   ],
   "source": [
    "# Two major Outliers: USA and China\n",
    "gdp_2019_df.boxplot(column=['Estimated Nominal GDP 2019','GDP Growth (%) 2019'])"
   ]
  },
  {
   "cell_type": "code",
   "execution_count": 162,
   "metadata": {
    "scrolled": false
   },
   "outputs": [
    {
     "data": {
      "application/vnd.plotly.v1+json": {
       "config": {
        "plotlyServerURL": "https://plot.ly"
       },
       "data": [
        {
         "coloraxis": "coloraxis",
         "geo": "geo",
         "hovertemplate": "<b>%{hovertext}</b><br><br>Country/Economy=%{location}<br>Estimated Nominal GDP 2019=%{z}<extra></extra>",
         "hovertext": [
          2.541,
          6.176,
          0.943,
          1.858,
          7.436,
          1.624,
          1.493,
          1.026,
          2.372,
          2.046,
          2.576,
          1.797,
          2.202,
          2.765,
          2.524,
          5.12,
          2.5980000000000003,
          2.428,
          1.8219999999999998,
          0.374,
          2.358,
          3.511,
          2.231,
          1.5390000000000001,
          3.859,
          2.15,
          3.662,
          2.0580000000000003,
          2.26,
          -1.619,
          1.4,
          2.928,
          4.007,
          3.4530000000000003,
          4.6,
          1.943,
          2.549,
          3.594,
          6.63,
          -3.611,
          7.097,
          3.406,
          4.005,
          5.4639999999999995,
          1.7630000000000001,
          6.5,
          3.0469999999999997,
          6.517,
          3.4330000000000003,
          1.8,
          4.115,
          2.351,
          3.036,
          2.8160000000000003,
          2.708,
          3.13,
          3.3,
          4.062,
          2.735,
          3.165,
          4.14,
          3.055,
          0.727,
          -1.147,
          6.1339999999999995,
          4.3,
          8.494,
          -5,
          5.045,
          4.984,
          3.431,
          6.795,
          6.8,
          3.511,
          3.1,
          3.3,
          3.2,
          2.6,
          6.6,
          3.0869999999999997,
          1.4,
          6.284,
          7.598,
          3.359,
          2.898,
          5,
          10.825,
          3.4989999999999997,
          7.031000000000001,
          3.6239999999999997,
          5.636,
          4.114,
          4.2,
          4.163,
          2.5,
          2.9,
          2.585,
          4.401,
          3.34,
          -1.8980000000000001,
          14.709000000000001,
          3.218,
          5.044,
          6.105,
          2.9419999999999997,
          2.3,
          6.778,
          4.478,
          6.715,
          4.204,
          3.6,
          0.884,
          4.202,
          3.764,
          3.0239999999999996,
          3.5,
          7.006,
          3.6069999999999998,
          4.83,
          4.781000000000001,
          3.4010000000000002,
          1.4809999999999999,
          3.719,
          4,
          6.03,
          5.058,
          4.586,
          4.011,
          3.0780000000000003,
          6.3,
          2.1,
          -1,
          5.412000000000001,
          4.8,
          -2.608,
          2.64,
          3.8,
          5.932,
          3.685,
          3.6,
          6.343,
          7.8,
          2.5,
          5.399,
          4.532,
          4,
          3.5,
          3.78,
          5,
          4.7,
          5.0489999999999995,
          2.509,
          3.4,
          5.237,
          -0.098,
          5.013,
          0.435,
          2.2,
          4.802,
          5.546,
          0.419,
          5,
          4.513,
          -4.61,
          1.2229999999999999,
          1,
          4.816,
          5.044,
          6.7,
          4.0089999999999995,
          2.006,
          3.636,
          0.9640000000000001,
          5.395,
          3,
          3.2969999999999997,
          5,
          2.8819999999999997,
          3.5839999999999996,
          3.5,
          3.5,
          3.158,
          2.265,
          2.7969999999999997,
          9.405,
          4.5,
          5.5,
          0.92,
          2.2,
          2.2119999999999997,
          2.414,
          -1.0190000000000001,
          4.072
         ],
         "locationmode": "country names",
         "locations": [
          "United States",
          "China",
          "Japan",
          "Germany",
          "India",
          "France",
          "United Kingdom",
          "Italy",
          "Brazil",
          "Canada",
          "Korea",
          "Russia",
          "Spain",
          "Australia",
          "Mexico",
          "Indonesia",
          "Netherlands",
          "Saudi Arabia",
          "Switzerland",
          "Turkey",
          "Taiwan Province of China",
          "Poland",
          "Sweden",
          "Belgium",
          "Thailand",
          "Austria",
          "United Arab Emirates",
          "Norway",
          "Nigeria",
          "Argentina",
          "South Africa",
          "Hong Kong SAR",
          "Ireland",
          "Israel",
          "Malaysia",
          "Denmark",
          "Singapore",
          "Colombia",
          "Philippines",
          "Islamic Republic of Iran",
          "Bangladesh",
          "Chile",
          "Pakistan",
          "Egypt",
          "Finland",
          "Vietnam",
          "Czech Republic",
          "Iraq",
          "Romania",
          "Portugal",
          "Peru",
          "Greece",
          "New Zealand",
          "Qatar",
          "Algeria",
          "Kazakhstan",
          "Hungary",
          "Kuwait",
          "Ukraine",
          "Morocco",
          "Slovak Republic",
          "Angola",
          "Ecuador",
          "Puerto Rico",
          "Kenya",
          "Sri Lanka",
          "Ethiopia",
          "Venezuela",
          "Oman",
          "Dominican Republic",
          "Guatemala",
          "Myanmar",
          "Panama",
          "Luxembourg",
          "Bulgaria",
          "Costa Rica",
          "Uruguay",
          "Croatia",
          "Tanzania",
          "Belarus",
          "Lebanon",
          "Macao SAR",
          "Ghana",
          "Slovenia",
          "Lithuania",
          "Uzbekistan",
          "Libya",
          "Serbia",
          "Côte d'Ivoire",
          "Azerbaijan",
          "Turkmenistan",
          "Democratic Republic of the Congo",
          "Bolivia",
          "Paraguay",
          "Jordan",
          "Tunisia",
          "Bahrain",
          "Cameroon",
          "Latvia",
          "Sudan",
          "Yemen",
          "Estonia",
          "Nepal",
          "Uganda",
          "Iceland",
          "El Salvador",
          "Cambodia",
          "Zambia",
          "Senegal",
          "Cyprus",
          "Honduras",
          "Trinidad and Tobago",
          "Zimbabwe",
          "Papua New Guinea",
          "Afghanistan",
          "Bosnia and Herzegovina",
          "Lao P.D.R.",
          "Botswana",
          "Mali",
          "Georgia",
          "Gabon",
          "Jamaica",
          "Albania",
          "Mozambique",
          "Burkina Faso",
          "Brunei Darussalam",
          "Malta",
          "Mauritius",
          "Namibia",
          "Mongolia",
          "The Bahamas",
          "Nicaragua",
          "Madagascar",
          "Armenia",
          "Equatorial Guinea",
          "FYR Macedonia",
          "Moldova",
          "Guinea",
          "Republic of Congo",
          "Chad",
          "Benin",
          "Rwanda",
          "Haiti",
          "Niger",
          "Kyrgyz Republic",
          "Kosovo",
          "Somalia",
          "Eritrea",
          "Tajikistan",
          "Malawi",
          "Togo",
          "Montenegro",
          "Fiji",
          "Mauritania",
          "Barbados",
          "Maldives",
          "Eswatini",
          "Suriname",
          "Guyana",
          "Sierra Leone",
          "Burundi",
          "Timor-Leste",
          "Liberia",
          "South Sudan",
          "Lesotho",
          "Aruba",
          "Bhutan",
          "Central African Republic",
          "Djibouti",
          "Cabo Verde",
          "Belize",
          "St. Lucia",
          "San Marino",
          "The Gambia",
          "Antigua and Barbuda",
          "Seychelles",
          "Guinea-Bissau",
          "Solomon Islands",
          "Grenada",
          "St. Kitts and Nevis",
          "Vanuatu",
          "Samoa",
          "St. Vincent and the Grenadines",
          "Comoros",
          "Dominica",
          "São Tomé and Príncipe",
          "Tonga",
          "Micronesia",
          "Palau",
          "Marshall Islands",
          "Kiribati",
          "Nauru",
          "Tuvalu"
         ],
         "name": "",
         "type": "choropleth",
         "z": [
          21482.41,
          14172.2,
          5220.57,
          4117.07,
          2957.72,
          2844.7,
          2809.91,
          2112.8,
          1929.71,
          1820.36,
          1699.68,
          1649.21,
          1474.12,
          1464.41,
          1242.39,
          1066.84,
          933.178,
          795.582,
          731.14,
          631.163,
          626.722,
          581.2919999999999,
          563.239,
          545.186,
          524.253,
          469.661,
          455.587,
          448.463,
          447.01300000000003,
          408.03,
          385.526,
          380.858,
          379.79900000000004,
          376.12699999999995,
          372.62800000000004,
          362.15,
          359.619,
          355.163,
          354.31300000000005,
          333.603,
          313.509,
          305.556,
          298.31,
          298.153,
          282.013,
          266.238,
          264.498,
          250.07,
          248.838,
          242.833,
          239.217,
          224.033,
          212.15400000000002,
          204.30599999999998,
          200.171,
          195.738,
          164.52700000000002,
          152.374,
          132.928,
          122.458,
          112.333,
          110.186,
          108.40100000000001,
          104.625,
          98.264,
          98.041,
          88.17,
          87.01,
          86.525,
          85.816,
          82.758,
          73.954,
          72.215,
          71.494,
          66.242,
          63.948,
          62.893,
          61.586000000000006,
          60.297,
          59.964,
          59.732,
          57.831,
          57.229,
          56.92,
          54.485,
          51.339,
          51.33,
          50.138999999999996,
          49.395,
          48.068999999999996,
          47.043,
          46.117,
          45.045,
          44.556999999999995,
          43.988,
          42.277,
          41.607,
          40.125,
          35.78,
          34.373000000000005,
          34.32,
          31.179000000000002,
          30.296999999999997,
          29.869,
          28.252,
          26.921,
          26.372,
          26.118000000000002,
          26.004,
          24.996,
          24.496,
          24.162,
          21.63,
          21.543000000000003,
          21.074,
          20.72,
          19.984,
          19.777,
          18.488,
          17.836,
          17.799,
          15.744000000000002,
          15.635,
          15.602,
          15.350999999999999,
          15.203,
          15.061,
          14.889000000000001,
          14.787,
          14.087,
          13.654000000000002,
          13.626,
          13.552999999999999,
          13.302,
          12.962,
          12.783,
          12.742,
          12.465,
          12.084000000000001,
          11.758,
          11.386,
          10.532,
          10.055,
          10.035,
          8.517999999999999,
          8.208,
          7.822,
          7.72,
          7.577000000000001,
          7.327000000000001,
          5.672999999999999,
          5.607,
          5.563,
          5.242999999999999,
          5.207000000000001,
          5.151,
          4.865,
          4.11,
          3.875,
          3.786,
          3.573,
          3.412,
          3.245,
          3.0069999999999997,
          2.964,
          2.852,
          2.839,
          2.536,
          2.392,
          2.0580000000000003,
          1.9869999999999999,
          1.875,
          1.786,
          1.704,
          1.693,
          1.6469999999999998,
          1.57,
          1.511,
          1.261,
          1.062,
          1.024,
          0.92,
          0.867,
          0.745,
          0.539,
          0.495,
          0.491,
          0.342,
          0.314,
          0.23800000000000002,
          0.21100000000000002,
          0.114,
          0.049
         ]
        }
       ],
       "layout": {
        "coloraxis": {
         "colorbar": {
          "title": {
           "text": "Estimated Nominal GDP 2019"
          }
         },
         "colorscale": [
          [
           0,
           "#000004"
          ],
          [
           0.1111111111111111,
           "#1b0c41"
          ],
          [
           0.2222222222222222,
           "#4a0c6b"
          ],
          [
           0.3333333333333333,
           "#781c6d"
          ],
          [
           0.4444444444444444,
           "#a52c60"
          ],
          [
           0.5555555555555556,
           "#cf4446"
          ],
          [
           0.6666666666666666,
           "#ed6925"
          ],
          [
           0.7777777777777778,
           "#fb9b06"
          ],
          [
           0.8888888888888888,
           "#f7d13d"
          ],
          [
           1,
           "#fcffa4"
          ]
         ]
        },
        "geo": {
         "center": {},
         "domain": {
          "x": [
           0,
           1
          ],
          "y": [
           0,
           1
          ]
         }
        },
        "legend": {
         "tracegroupgap": 0
        },
        "margin": {
         "t": 60
        },
        "template": {
         "data": {
          "bar": [
           {
            "error_x": {
             "color": "#2a3f5f"
            },
            "error_y": {
             "color": "#2a3f5f"
            },
            "marker": {
             "line": {
              "color": "#E5ECF6",
              "width": 0.5
             }
            },
            "type": "bar"
           }
          ],
          "barpolar": [
           {
            "marker": {
             "line": {
              "color": "#E5ECF6",
              "width": 0.5
             }
            },
            "type": "barpolar"
           }
          ],
          "carpet": [
           {
            "aaxis": {
             "endlinecolor": "#2a3f5f",
             "gridcolor": "white",
             "linecolor": "white",
             "minorgridcolor": "white",
             "startlinecolor": "#2a3f5f"
            },
            "baxis": {
             "endlinecolor": "#2a3f5f",
             "gridcolor": "white",
             "linecolor": "white",
             "minorgridcolor": "white",
             "startlinecolor": "#2a3f5f"
            },
            "type": "carpet"
           }
          ],
          "choropleth": [
           {
            "colorbar": {
             "outlinewidth": 0,
             "ticks": ""
            },
            "type": "choropleth"
           }
          ],
          "contour": [
           {
            "colorbar": {
             "outlinewidth": 0,
             "ticks": ""
            },
            "colorscale": [
             [
              0,
              "#0d0887"
             ],
             [
              0.1111111111111111,
              "#46039f"
             ],
             [
              0.2222222222222222,
              "#7201a8"
             ],
             [
              0.3333333333333333,
              "#9c179e"
             ],
             [
              0.4444444444444444,
              "#bd3786"
             ],
             [
              0.5555555555555556,
              "#d8576b"
             ],
             [
              0.6666666666666666,
              "#ed7953"
             ],
             [
              0.7777777777777778,
              "#fb9f3a"
             ],
             [
              0.8888888888888888,
              "#fdca26"
             ],
             [
              1,
              "#f0f921"
             ]
            ],
            "type": "contour"
           }
          ],
          "contourcarpet": [
           {
            "colorbar": {
             "outlinewidth": 0,
             "ticks": ""
            },
            "type": "contourcarpet"
           }
          ],
          "heatmap": [
           {
            "colorbar": {
             "outlinewidth": 0,
             "ticks": ""
            },
            "colorscale": [
             [
              0,
              "#0d0887"
             ],
             [
              0.1111111111111111,
              "#46039f"
             ],
             [
              0.2222222222222222,
              "#7201a8"
             ],
             [
              0.3333333333333333,
              "#9c179e"
             ],
             [
              0.4444444444444444,
              "#bd3786"
             ],
             [
              0.5555555555555556,
              "#d8576b"
             ],
             [
              0.6666666666666666,
              "#ed7953"
             ],
             [
              0.7777777777777778,
              "#fb9f3a"
             ],
             [
              0.8888888888888888,
              "#fdca26"
             ],
             [
              1,
              "#f0f921"
             ]
            ],
            "type": "heatmap"
           }
          ],
          "heatmapgl": [
           {
            "colorbar": {
             "outlinewidth": 0,
             "ticks": ""
            },
            "colorscale": [
             [
              0,
              "#0d0887"
             ],
             [
              0.1111111111111111,
              "#46039f"
             ],
             [
              0.2222222222222222,
              "#7201a8"
             ],
             [
              0.3333333333333333,
              "#9c179e"
             ],
             [
              0.4444444444444444,
              "#bd3786"
             ],
             [
              0.5555555555555556,
              "#d8576b"
             ],
             [
              0.6666666666666666,
              "#ed7953"
             ],
             [
              0.7777777777777778,
              "#fb9f3a"
             ],
             [
              0.8888888888888888,
              "#fdca26"
             ],
             [
              1,
              "#f0f921"
             ]
            ],
            "type": "heatmapgl"
           }
          ],
          "histogram": [
           {
            "marker": {
             "colorbar": {
              "outlinewidth": 0,
              "ticks": ""
             }
            },
            "type": "histogram"
           }
          ],
          "histogram2d": [
           {
            "colorbar": {
             "outlinewidth": 0,
             "ticks": ""
            },
            "colorscale": [
             [
              0,
              "#0d0887"
             ],
             [
              0.1111111111111111,
              "#46039f"
             ],
             [
              0.2222222222222222,
              "#7201a8"
             ],
             [
              0.3333333333333333,
              "#9c179e"
             ],
             [
              0.4444444444444444,
              "#bd3786"
             ],
             [
              0.5555555555555556,
              "#d8576b"
             ],
             [
              0.6666666666666666,
              "#ed7953"
             ],
             [
              0.7777777777777778,
              "#fb9f3a"
             ],
             [
              0.8888888888888888,
              "#fdca26"
             ],
             [
              1,
              "#f0f921"
             ]
            ],
            "type": "histogram2d"
           }
          ],
          "histogram2dcontour": [
           {
            "colorbar": {
             "outlinewidth": 0,
             "ticks": ""
            },
            "colorscale": [
             [
              0,
              "#0d0887"
             ],
             [
              0.1111111111111111,
              "#46039f"
             ],
             [
              0.2222222222222222,
              "#7201a8"
             ],
             [
              0.3333333333333333,
              "#9c179e"
             ],
             [
              0.4444444444444444,
              "#bd3786"
             ],
             [
              0.5555555555555556,
              "#d8576b"
             ],
             [
              0.6666666666666666,
              "#ed7953"
             ],
             [
              0.7777777777777778,
              "#fb9f3a"
             ],
             [
              0.8888888888888888,
              "#fdca26"
             ],
             [
              1,
              "#f0f921"
             ]
            ],
            "type": "histogram2dcontour"
           }
          ],
          "mesh3d": [
           {
            "colorbar": {
             "outlinewidth": 0,
             "ticks": ""
            },
            "type": "mesh3d"
           }
          ],
          "parcoords": [
           {
            "line": {
             "colorbar": {
              "outlinewidth": 0,
              "ticks": ""
             }
            },
            "type": "parcoords"
           }
          ],
          "pie": [
           {
            "automargin": true,
            "type": "pie"
           }
          ],
          "scatter": [
           {
            "marker": {
             "colorbar": {
              "outlinewidth": 0,
              "ticks": ""
             }
            },
            "type": "scatter"
           }
          ],
          "scatter3d": [
           {
            "line": {
             "colorbar": {
              "outlinewidth": 0,
              "ticks": ""
             }
            },
            "marker": {
             "colorbar": {
              "outlinewidth": 0,
              "ticks": ""
             }
            },
            "type": "scatter3d"
           }
          ],
          "scattercarpet": [
           {
            "marker": {
             "colorbar": {
              "outlinewidth": 0,
              "ticks": ""
             }
            },
            "type": "scattercarpet"
           }
          ],
          "scattergeo": [
           {
            "marker": {
             "colorbar": {
              "outlinewidth": 0,
              "ticks": ""
             }
            },
            "type": "scattergeo"
           }
          ],
          "scattergl": [
           {
            "marker": {
             "colorbar": {
              "outlinewidth": 0,
              "ticks": ""
             }
            },
            "type": "scattergl"
           }
          ],
          "scattermapbox": [
           {
            "marker": {
             "colorbar": {
              "outlinewidth": 0,
              "ticks": ""
             }
            },
            "type": "scattermapbox"
           }
          ],
          "scatterpolar": [
           {
            "marker": {
             "colorbar": {
              "outlinewidth": 0,
              "ticks": ""
             }
            },
            "type": "scatterpolar"
           }
          ],
          "scatterpolargl": [
           {
            "marker": {
             "colorbar": {
              "outlinewidth": 0,
              "ticks": ""
             }
            },
            "type": "scatterpolargl"
           }
          ],
          "scatterternary": [
           {
            "marker": {
             "colorbar": {
              "outlinewidth": 0,
              "ticks": ""
             }
            },
            "type": "scatterternary"
           }
          ],
          "surface": [
           {
            "colorbar": {
             "outlinewidth": 0,
             "ticks": ""
            },
            "colorscale": [
             [
              0,
              "#0d0887"
             ],
             [
              0.1111111111111111,
              "#46039f"
             ],
             [
              0.2222222222222222,
              "#7201a8"
             ],
             [
              0.3333333333333333,
              "#9c179e"
             ],
             [
              0.4444444444444444,
              "#bd3786"
             ],
             [
              0.5555555555555556,
              "#d8576b"
             ],
             [
              0.6666666666666666,
              "#ed7953"
             ],
             [
              0.7777777777777778,
              "#fb9f3a"
             ],
             [
              0.8888888888888888,
              "#fdca26"
             ],
             [
              1,
              "#f0f921"
             ]
            ],
            "type": "surface"
           }
          ],
          "table": [
           {
            "cells": {
             "fill": {
              "color": "#EBF0F8"
             },
             "line": {
              "color": "white"
             }
            },
            "header": {
             "fill": {
              "color": "#C8D4E3"
             },
             "line": {
              "color": "white"
             }
            },
            "type": "table"
           }
          ]
         },
         "layout": {
          "annotationdefaults": {
           "arrowcolor": "#2a3f5f",
           "arrowhead": 0,
           "arrowwidth": 1
          },
          "coloraxis": {
           "colorbar": {
            "outlinewidth": 0,
            "ticks": ""
           }
          },
          "colorscale": {
           "diverging": [
            [
             0,
             "#8e0152"
            ],
            [
             0.1,
             "#c51b7d"
            ],
            [
             0.2,
             "#de77ae"
            ],
            [
             0.3,
             "#f1b6da"
            ],
            [
             0.4,
             "#fde0ef"
            ],
            [
             0.5,
             "#f7f7f7"
            ],
            [
             0.6,
             "#e6f5d0"
            ],
            [
             0.7,
             "#b8e186"
            ],
            [
             0.8,
             "#7fbc41"
            ],
            [
             0.9,
             "#4d9221"
            ],
            [
             1,
             "#276419"
            ]
           ],
           "sequential": [
            [
             0,
             "#0d0887"
            ],
            [
             0.1111111111111111,
             "#46039f"
            ],
            [
             0.2222222222222222,
             "#7201a8"
            ],
            [
             0.3333333333333333,
             "#9c179e"
            ],
            [
             0.4444444444444444,
             "#bd3786"
            ],
            [
             0.5555555555555556,
             "#d8576b"
            ],
            [
             0.6666666666666666,
             "#ed7953"
            ],
            [
             0.7777777777777778,
             "#fb9f3a"
            ],
            [
             0.8888888888888888,
             "#fdca26"
            ],
            [
             1,
             "#f0f921"
            ]
           ],
           "sequentialminus": [
            [
             0,
             "#0d0887"
            ],
            [
             0.1111111111111111,
             "#46039f"
            ],
            [
             0.2222222222222222,
             "#7201a8"
            ],
            [
             0.3333333333333333,
             "#9c179e"
            ],
            [
             0.4444444444444444,
             "#bd3786"
            ],
            [
             0.5555555555555556,
             "#d8576b"
            ],
            [
             0.6666666666666666,
             "#ed7953"
            ],
            [
             0.7777777777777778,
             "#fb9f3a"
            ],
            [
             0.8888888888888888,
             "#fdca26"
            ],
            [
             1,
             "#f0f921"
            ]
           ]
          },
          "colorway": [
           "#636efa",
           "#EF553B",
           "#00cc96",
           "#ab63fa",
           "#FFA15A",
           "#19d3f3",
           "#FF6692",
           "#B6E880",
           "#FF97FF",
           "#FECB52"
          ],
          "font": {
           "color": "#2a3f5f"
          },
          "geo": {
           "bgcolor": "white",
           "lakecolor": "white",
           "landcolor": "#E5ECF6",
           "showlakes": true,
           "showland": true,
           "subunitcolor": "white"
          },
          "hoverlabel": {
           "align": "left"
          },
          "hovermode": "closest",
          "mapbox": {
           "style": "light"
          },
          "paper_bgcolor": "white",
          "plot_bgcolor": "#E5ECF6",
          "polar": {
           "angularaxis": {
            "gridcolor": "white",
            "linecolor": "white",
            "ticks": ""
           },
           "bgcolor": "#E5ECF6",
           "radialaxis": {
            "gridcolor": "white",
            "linecolor": "white",
            "ticks": ""
           }
          },
          "scene": {
           "xaxis": {
            "backgroundcolor": "#E5ECF6",
            "gridcolor": "white",
            "gridwidth": 2,
            "linecolor": "white",
            "showbackground": true,
            "ticks": "",
            "zerolinecolor": "white"
           },
           "yaxis": {
            "backgroundcolor": "#E5ECF6",
            "gridcolor": "white",
            "gridwidth": 2,
            "linecolor": "white",
            "showbackground": true,
            "ticks": "",
            "zerolinecolor": "white"
           },
           "zaxis": {
            "backgroundcolor": "#E5ECF6",
            "gridcolor": "white",
            "gridwidth": 2,
            "linecolor": "white",
            "showbackground": true,
            "ticks": "",
            "zerolinecolor": "white"
           }
          },
          "shapedefaults": {
           "line": {
            "color": "#2a3f5f"
           }
          },
          "ternary": {
           "aaxis": {
            "gridcolor": "white",
            "linecolor": "white",
            "ticks": ""
           },
           "baxis": {
            "gridcolor": "white",
            "linecolor": "white",
            "ticks": ""
           },
           "bgcolor": "#E5ECF6",
           "caxis": {
            "gridcolor": "white",
            "linecolor": "white",
            "ticks": ""
           }
          },
          "title": {
           "x": 0.05
          },
          "xaxis": {
           "automargin": true,
           "gridcolor": "white",
           "linecolor": "white",
           "ticks": "",
           "title": {
            "standoff": 15
           },
           "zerolinecolor": "white",
           "zerolinewidth": 2
          },
          "yaxis": {
           "automargin": true,
           "gridcolor": "white",
           "linecolor": "white",
           "ticks": "",
           "title": {
            "standoff": 15
           },
           "zerolinecolor": "white",
           "zerolinewidth": 2
          }
         }
        },
        "title": {
         "text": "2019 Estimated Global GDP"
        }
       }
      },
      "text/html": [
       "<div>\n",
       "        \n",
       "        \n",
       "            <div id=\"37d2a022-6564-454d-a1b6-a01db4a991f8\" class=\"plotly-graph-div\" style=\"height:525px; width:100%;\"></div>\n",
       "            <script type=\"text/javascript\">\n",
       "                require([\"plotly\"], function(Plotly) {\n",
       "                    window.PLOTLYENV=window.PLOTLYENV || {};\n",
       "                    \n",
       "                if (document.getElementById(\"37d2a022-6564-454d-a1b6-a01db4a991f8\")) {\n",
       "                    Plotly.newPlot(\n",
       "                        '37d2a022-6564-454d-a1b6-a01db4a991f8',\n",
       "                        [{\"coloraxis\": \"coloraxis\", \"geo\": \"geo\", \"hovertemplate\": \"<b>%{hovertext}</b><br><br>Country/Economy=%{location}<br>Estimated Nominal GDP 2019=%{z}<extra></extra>\", \"hovertext\": [2.541, 6.176, 0.943, 1.858, 7.436, 1.624, 1.493, 1.026, 2.372, 2.046, 2.576, 1.797, 2.202, 2.765, 2.524, 5.12, 2.5980000000000003, 2.428, 1.8219999999999998, 0.374, 2.358, 3.511, 2.231, 1.5390000000000001, 3.859, 2.15, 3.662, 2.0580000000000003, 2.26, -1.619, 1.4, 2.928, 4.007, 3.4530000000000003, 4.6, 1.943, 2.549, 3.594, 6.63, -3.611, 7.097, 3.406, 4.005, 5.4639999999999995, 1.7630000000000001, 6.5, 3.0469999999999997, 6.517, 3.4330000000000003, 1.8, 4.115, 2.351, 3.036, 2.8160000000000003, 2.708, 3.13, 3.3, 4.062, 2.735, 3.165, 4.14, 3.055, 0.727, -1.147, 6.1339999999999995, 4.3, 8.494, -5.0, 5.045, 4.984, 3.431, 6.795, 6.8, 3.511, 3.1, 3.3, 3.2, 2.6, 6.6, 3.0869999999999997, 1.4, 6.284, 7.598, 3.359, 2.898, 5.0, 10.825, 3.4989999999999997, 7.031000000000001, 3.6239999999999997, 5.636, 4.114, 4.2, 4.163, 2.5, 2.9, 2.585, 4.401, 3.34, -1.8980000000000001, 14.709000000000001, 3.218, 5.044, 6.105, 2.9419999999999997, 2.3, 6.778, 4.478, 6.715, 4.204, 3.6, 0.884, 4.202, 3.764, 3.0239999999999996, 3.5, 7.006, 3.6069999999999998, 4.83, 4.781000000000001, 3.4010000000000002, 1.4809999999999999, 3.719, 4.0, 6.03, 5.058, 4.586, 4.011, 3.0780000000000003, 6.3, 2.1, -1.0, 5.412000000000001, 4.8, -2.608, 2.64, 3.8, 5.932, 3.685, 3.6, 6.343, 7.8, 2.5, 5.399, 4.532, 4.0, 3.5, 3.78, 5.0, 4.7, 5.0489999999999995, 2.509, 3.4, 5.237, -0.098, 5.013, 0.435, 2.2, 4.802, 5.546, 0.419, 5.0, 4.513, -4.61, 1.2229999999999999, 1.0, 4.816, 5.044, 6.7, 4.0089999999999995, 2.006, 3.636, 0.9640000000000001, 5.395, 3.0, 3.2969999999999997, 5.0, 2.8819999999999997, 3.5839999999999996, 3.5, 3.5, 3.158, 2.265, 2.7969999999999997, 9.405, 4.5, 5.5, 0.92, 2.2, 2.2119999999999997, 2.414, -1.0190000000000001, 4.072], \"locationmode\": \"country names\", \"locations\": [\"United States\", \"China\", \"Japan\", \"Germany\", \"India\", \"France\", \"United Kingdom\", \"Italy\", \"Brazil\", \"Canada\", \"Korea\", \"Russia\", \"Spain\", \"Australia\", \"Mexico\", \"Indonesia\", \"Netherlands\", \"Saudi Arabia\", \"Switzerland\", \"Turkey\", \"Taiwan Province of China\", \"Poland\", \"Sweden\", \"Belgium\", \"Thailand\", \"Austria\", \"United Arab Emirates\", \"Norway\", \"Nigeria\", \"Argentina\", \"South Africa\", \"Hong Kong SAR\", \"Ireland\", \"Israel\", \"Malaysia\", \"Denmark\", \"Singapore\", \"Colombia\", \"Philippines\", \"Islamic Republic of Iran\", \"Bangladesh\", \"Chile\", \"Pakistan\", \"Egypt\", \"Finland\", \"Vietnam\", \"Czech Republic\", \"Iraq\", \"Romania\", \"Portugal\", \"Peru\", \"Greece\", \"New Zealand\", \"Qatar\", \"Algeria\", \"Kazakhstan\", \"Hungary\", \"Kuwait\", \"Ukraine\", \"Morocco\", \"Slovak Republic\", \"Angola\", \"Ecuador\", \"Puerto Rico\", \"Kenya\", \"Sri Lanka\", \"Ethiopia\", \"Venezuela\", \"Oman\", \"Dominican Republic\", \"Guatemala\", \"Myanmar\", \"Panama\", \"Luxembourg\", \"Bulgaria\", \"Costa Rica\", \"Uruguay\", \"Croatia\", \"Tanzania\", \"Belarus\", \"Lebanon\", \"Macao SAR\", \"Ghana\", \"Slovenia\", \"Lithuania\", \"Uzbekistan\", \"Libya\", \"Serbia\", \"C\\u00f4te d'Ivoire\", \"Azerbaijan\", \"Turkmenistan\", \"Democratic Republic of the Congo\", \"Bolivia\", \"Paraguay\", \"Jordan\", \"Tunisia\", \"Bahrain\", \"Cameroon\", \"Latvia\", \"Sudan\", \"Yemen\", \"Estonia\", \"Nepal\", \"Uganda\", \"Iceland\", \"El Salvador\", \"Cambodia\", \"Zambia\", \"Senegal\", \"Cyprus\", \"Honduras\", \"Trinidad and Tobago\", \"Zimbabwe\", \"Papua New Guinea\", \"Afghanistan\", \"Bosnia and Herzegovina\", \"Lao P.D.R.\", \"Botswana\", \"Mali\", \"Georgia\", \"Gabon\", \"Jamaica\", \"Albania\", \"Mozambique\", \"Burkina Faso\", \"Brunei Darussalam\", \"Malta\", \"Mauritius\", \"Namibia\", \"Mongolia\", \"The Bahamas\", \"Nicaragua\", \"Madagascar\", \"Armenia\", \"Equatorial Guinea\", \"FYR Macedonia\", \"Moldova\", \"Guinea\", \"Republic of Congo\", \"Chad\", \"Benin\", \"Rwanda\", \"Haiti\", \"Niger\", \"Kyrgyz Republic\", \"Kosovo\", \"Somalia\", \"Eritrea\", \"Tajikistan\", \"Malawi\", \"Togo\", \"Montenegro\", \"Fiji\", \"Mauritania\", \"Barbados\", \"Maldives\", \"Eswatini\", \"Suriname\", \"Guyana\", \"Sierra Leone\", \"Burundi\", \"Timor-Leste\", \"Liberia\", \"South Sudan\", \"Lesotho\", \"Aruba\", \"Bhutan\", \"Central African Republic\", \"Djibouti\", \"Cabo Verde\", \"Belize\", \"St. Lucia\", \"San Marino\", \"The Gambia\", \"Antigua and Barbuda\", \"Seychelles\", \"Guinea-Bissau\", \"Solomon Islands\", \"Grenada\", \"St. Kitts and Nevis\", \"Vanuatu\", \"Samoa\", \"St. Vincent and the Grenadines\", \"Comoros\", \"Dominica\", \"S\\u00e3o Tom\\u00e9 and Pr\\u00edncipe\", \"Tonga\", \"Micronesia\", \"Palau\", \"Marshall Islands\", \"Kiribati\", \"Nauru\", \"Tuvalu\"], \"name\": \"\", \"type\": \"choropleth\", \"z\": [21482.41, 14172.2, 5220.57, 4117.07, 2957.72, 2844.7, 2809.91, 2112.8, 1929.71, 1820.36, 1699.68, 1649.21, 1474.12, 1464.41, 1242.39, 1066.84, 933.178, 795.582, 731.14, 631.163, 626.722, 581.2919999999999, 563.239, 545.186, 524.253, 469.661, 455.587, 448.463, 447.01300000000003, 408.03, 385.526, 380.858, 379.79900000000004, 376.12699999999995, 372.62800000000004, 362.15, 359.619, 355.163, 354.31300000000005, 333.603, 313.509, 305.556, 298.31, 298.153, 282.013, 266.238, 264.498, 250.07, 248.838, 242.833, 239.217, 224.033, 212.15400000000002, 204.30599999999998, 200.171, 195.738, 164.52700000000002, 152.374, 132.928, 122.458, 112.333, 110.186, 108.40100000000001, 104.625, 98.264, 98.041, 88.17, 87.01, 86.525, 85.816, 82.758, 73.954, 72.215, 71.494, 66.242, 63.948, 62.893, 61.586000000000006, 60.297, 59.964, 59.732, 57.831, 57.229, 56.92, 54.485, 51.339, 51.33, 50.138999999999996, 49.395, 48.068999999999996, 47.043, 46.117, 45.045, 44.556999999999995, 43.988, 42.277, 41.607, 40.125, 35.78, 34.373000000000005, 34.32, 31.179000000000002, 30.296999999999997, 29.869, 28.252, 26.921, 26.372, 26.118000000000002, 26.004, 24.996, 24.496, 24.162, 21.63, 21.543000000000003, 21.074, 20.72, 19.984, 19.777, 18.488, 17.836, 17.799, 15.744000000000002, 15.635, 15.602, 15.350999999999999, 15.203, 15.061, 14.889000000000001, 14.787, 14.087, 13.654000000000002, 13.626, 13.552999999999999, 13.302, 12.962, 12.783, 12.742, 12.465, 12.084000000000001, 11.758, 11.386, 10.532, 10.055, 10.035, 8.517999999999999, 8.208, 7.822, 7.72, 7.577000000000001, 7.327000000000001, 5.672999999999999, 5.607, 5.563, 5.242999999999999, 5.207000000000001, 5.151, 4.865, 4.11, 3.875, 3.786, 3.573, 3.412, 3.245, 3.0069999999999997, 2.964, 2.852, 2.839, 2.536, 2.392, 2.0580000000000003, 1.9869999999999999, 1.875, 1.786, 1.704, 1.693, 1.6469999999999998, 1.57, 1.511, 1.261, 1.062, 1.024, 0.92, 0.867, 0.745, 0.539, 0.495, 0.491, 0.342, 0.314, 0.23800000000000002, 0.21100000000000002, 0.114, 0.049]}],\n",
       "                        {\"coloraxis\": {\"colorbar\": {\"title\": {\"text\": \"Estimated Nominal GDP 2019\"}}, \"colorscale\": [[0.0, \"#000004\"], [0.1111111111111111, \"#1b0c41\"], [0.2222222222222222, \"#4a0c6b\"], [0.3333333333333333, \"#781c6d\"], [0.4444444444444444, \"#a52c60\"], [0.5555555555555556, \"#cf4446\"], [0.6666666666666666, \"#ed6925\"], [0.7777777777777778, \"#fb9b06\"], [0.8888888888888888, \"#f7d13d\"], [1.0, \"#fcffa4\"]]}, \"geo\": {\"center\": {}, \"domain\": {\"x\": [0.0, 1.0], \"y\": [0.0, 1.0]}}, \"legend\": {\"tracegroupgap\": 0}, \"margin\": {\"t\": 60}, \"template\": {\"data\": {\"bar\": [{\"error_x\": {\"color\": \"#2a3f5f\"}, \"error_y\": {\"color\": \"#2a3f5f\"}, \"marker\": {\"line\": {\"color\": \"#E5ECF6\", \"width\": 0.5}}, \"type\": \"bar\"}], \"barpolar\": [{\"marker\": {\"line\": {\"color\": \"#E5ECF6\", \"width\": 0.5}}, \"type\": \"barpolar\"}], \"carpet\": [{\"aaxis\": {\"endlinecolor\": \"#2a3f5f\", \"gridcolor\": \"white\", \"linecolor\": \"white\", \"minorgridcolor\": \"white\", \"startlinecolor\": \"#2a3f5f\"}, \"baxis\": {\"endlinecolor\": \"#2a3f5f\", \"gridcolor\": \"white\", \"linecolor\": \"white\", \"minorgridcolor\": \"white\", \"startlinecolor\": \"#2a3f5f\"}, \"type\": \"carpet\"}], \"choropleth\": [{\"colorbar\": {\"outlinewidth\": 0, \"ticks\": \"\"}, \"type\": \"choropleth\"}], \"contour\": [{\"colorbar\": {\"outlinewidth\": 0, \"ticks\": \"\"}, \"colorscale\": [[0.0, \"#0d0887\"], [0.1111111111111111, \"#46039f\"], [0.2222222222222222, \"#7201a8\"], [0.3333333333333333, \"#9c179e\"], [0.4444444444444444, \"#bd3786\"], [0.5555555555555556, \"#d8576b\"], [0.6666666666666666, \"#ed7953\"], [0.7777777777777778, \"#fb9f3a\"], [0.8888888888888888, \"#fdca26\"], [1.0, \"#f0f921\"]], \"type\": \"contour\"}], \"contourcarpet\": [{\"colorbar\": {\"outlinewidth\": 0, \"ticks\": \"\"}, \"type\": \"contourcarpet\"}], \"heatmap\": [{\"colorbar\": {\"outlinewidth\": 0, \"ticks\": \"\"}, \"colorscale\": [[0.0, \"#0d0887\"], [0.1111111111111111, \"#46039f\"], [0.2222222222222222, \"#7201a8\"], [0.3333333333333333, \"#9c179e\"], [0.4444444444444444, \"#bd3786\"], [0.5555555555555556, \"#d8576b\"], [0.6666666666666666, \"#ed7953\"], [0.7777777777777778, \"#fb9f3a\"], [0.8888888888888888, \"#fdca26\"], [1.0, \"#f0f921\"]], \"type\": \"heatmap\"}], \"heatmapgl\": [{\"colorbar\": {\"outlinewidth\": 0, \"ticks\": \"\"}, \"colorscale\": [[0.0, \"#0d0887\"], [0.1111111111111111, \"#46039f\"], [0.2222222222222222, \"#7201a8\"], [0.3333333333333333, \"#9c179e\"], [0.4444444444444444, \"#bd3786\"], [0.5555555555555556, \"#d8576b\"], [0.6666666666666666, \"#ed7953\"], [0.7777777777777778, \"#fb9f3a\"], [0.8888888888888888, \"#fdca26\"], [1.0, \"#f0f921\"]], \"type\": \"heatmapgl\"}], \"histogram\": [{\"marker\": {\"colorbar\": {\"outlinewidth\": 0, \"ticks\": \"\"}}, \"type\": \"histogram\"}], \"histogram2d\": [{\"colorbar\": {\"outlinewidth\": 0, \"ticks\": \"\"}, \"colorscale\": [[0.0, \"#0d0887\"], [0.1111111111111111, \"#46039f\"], [0.2222222222222222, \"#7201a8\"], [0.3333333333333333, \"#9c179e\"], [0.4444444444444444, \"#bd3786\"], [0.5555555555555556, \"#d8576b\"], [0.6666666666666666, \"#ed7953\"], [0.7777777777777778, \"#fb9f3a\"], [0.8888888888888888, \"#fdca26\"], [1.0, \"#f0f921\"]], \"type\": \"histogram2d\"}], \"histogram2dcontour\": [{\"colorbar\": {\"outlinewidth\": 0, \"ticks\": \"\"}, \"colorscale\": [[0.0, \"#0d0887\"], [0.1111111111111111, \"#46039f\"], [0.2222222222222222, \"#7201a8\"], [0.3333333333333333, \"#9c179e\"], [0.4444444444444444, \"#bd3786\"], [0.5555555555555556, \"#d8576b\"], [0.6666666666666666, \"#ed7953\"], [0.7777777777777778, \"#fb9f3a\"], [0.8888888888888888, \"#fdca26\"], [1.0, \"#f0f921\"]], \"type\": \"histogram2dcontour\"}], \"mesh3d\": [{\"colorbar\": {\"outlinewidth\": 0, \"ticks\": \"\"}, \"type\": \"mesh3d\"}], \"parcoords\": [{\"line\": {\"colorbar\": {\"outlinewidth\": 0, \"ticks\": \"\"}}, \"type\": \"parcoords\"}], \"pie\": [{\"automargin\": true, \"type\": \"pie\"}], \"scatter\": [{\"marker\": {\"colorbar\": {\"outlinewidth\": 0, \"ticks\": \"\"}}, \"type\": \"scatter\"}], \"scatter3d\": [{\"line\": {\"colorbar\": {\"outlinewidth\": 0, \"ticks\": \"\"}}, \"marker\": {\"colorbar\": {\"outlinewidth\": 0, \"ticks\": \"\"}}, \"type\": \"scatter3d\"}], \"scattercarpet\": [{\"marker\": {\"colorbar\": {\"outlinewidth\": 0, \"ticks\": \"\"}}, \"type\": \"scattercarpet\"}], \"scattergeo\": [{\"marker\": {\"colorbar\": {\"outlinewidth\": 0, \"ticks\": \"\"}}, \"type\": \"scattergeo\"}], \"scattergl\": [{\"marker\": {\"colorbar\": {\"outlinewidth\": 0, \"ticks\": \"\"}}, \"type\": \"scattergl\"}], \"scattermapbox\": [{\"marker\": {\"colorbar\": {\"outlinewidth\": 0, \"ticks\": \"\"}}, \"type\": \"scattermapbox\"}], \"scatterpolar\": [{\"marker\": {\"colorbar\": {\"outlinewidth\": 0, \"ticks\": \"\"}}, \"type\": \"scatterpolar\"}], \"scatterpolargl\": [{\"marker\": {\"colorbar\": {\"outlinewidth\": 0, \"ticks\": \"\"}}, \"type\": \"scatterpolargl\"}], \"scatterternary\": [{\"marker\": {\"colorbar\": {\"outlinewidth\": 0, \"ticks\": \"\"}}, \"type\": \"scatterternary\"}], \"surface\": [{\"colorbar\": {\"outlinewidth\": 0, \"ticks\": \"\"}, \"colorscale\": [[0.0, \"#0d0887\"], [0.1111111111111111, \"#46039f\"], [0.2222222222222222, \"#7201a8\"], [0.3333333333333333, \"#9c179e\"], [0.4444444444444444, \"#bd3786\"], [0.5555555555555556, \"#d8576b\"], [0.6666666666666666, \"#ed7953\"], [0.7777777777777778, \"#fb9f3a\"], [0.8888888888888888, \"#fdca26\"], [1.0, \"#f0f921\"]], \"type\": \"surface\"}], \"table\": [{\"cells\": {\"fill\": {\"color\": \"#EBF0F8\"}, \"line\": {\"color\": \"white\"}}, \"header\": {\"fill\": {\"color\": \"#C8D4E3\"}, \"line\": {\"color\": \"white\"}}, \"type\": \"table\"}]}, \"layout\": {\"annotationdefaults\": {\"arrowcolor\": \"#2a3f5f\", \"arrowhead\": 0, \"arrowwidth\": 1}, \"coloraxis\": {\"colorbar\": {\"outlinewidth\": 0, \"ticks\": \"\"}}, \"colorscale\": {\"diverging\": [[0, \"#8e0152\"], [0.1, \"#c51b7d\"], [0.2, \"#de77ae\"], [0.3, \"#f1b6da\"], [0.4, \"#fde0ef\"], [0.5, \"#f7f7f7\"], [0.6, \"#e6f5d0\"], [0.7, \"#b8e186\"], [0.8, \"#7fbc41\"], [0.9, \"#4d9221\"], [1, \"#276419\"]], \"sequential\": [[0.0, \"#0d0887\"], [0.1111111111111111, \"#46039f\"], [0.2222222222222222, \"#7201a8\"], [0.3333333333333333, \"#9c179e\"], [0.4444444444444444, \"#bd3786\"], [0.5555555555555556, \"#d8576b\"], [0.6666666666666666, \"#ed7953\"], [0.7777777777777778, \"#fb9f3a\"], [0.8888888888888888, \"#fdca26\"], [1.0, \"#f0f921\"]], \"sequentialminus\": [[0.0, \"#0d0887\"], [0.1111111111111111, \"#46039f\"], [0.2222222222222222, \"#7201a8\"], [0.3333333333333333, \"#9c179e\"], [0.4444444444444444, \"#bd3786\"], [0.5555555555555556, \"#d8576b\"], [0.6666666666666666, \"#ed7953\"], [0.7777777777777778, \"#fb9f3a\"], [0.8888888888888888, \"#fdca26\"], [1.0, \"#f0f921\"]]}, \"colorway\": [\"#636efa\", \"#EF553B\", \"#00cc96\", \"#ab63fa\", \"#FFA15A\", \"#19d3f3\", \"#FF6692\", \"#B6E880\", \"#FF97FF\", \"#FECB52\"], \"font\": {\"color\": \"#2a3f5f\"}, \"geo\": {\"bgcolor\": \"white\", \"lakecolor\": \"white\", \"landcolor\": \"#E5ECF6\", \"showlakes\": true, \"showland\": true, \"subunitcolor\": \"white\"}, \"hoverlabel\": {\"align\": \"left\"}, \"hovermode\": \"closest\", \"mapbox\": {\"style\": \"light\"}, \"paper_bgcolor\": \"white\", \"plot_bgcolor\": \"#E5ECF6\", \"polar\": {\"angularaxis\": {\"gridcolor\": \"white\", \"linecolor\": \"white\", \"ticks\": \"\"}, \"bgcolor\": \"#E5ECF6\", \"radialaxis\": {\"gridcolor\": \"white\", \"linecolor\": \"white\", \"ticks\": \"\"}}, \"scene\": {\"xaxis\": {\"backgroundcolor\": \"#E5ECF6\", \"gridcolor\": \"white\", \"gridwidth\": 2, \"linecolor\": \"white\", \"showbackground\": true, \"ticks\": \"\", \"zerolinecolor\": \"white\"}, \"yaxis\": {\"backgroundcolor\": \"#E5ECF6\", \"gridcolor\": \"white\", \"gridwidth\": 2, \"linecolor\": \"white\", \"showbackground\": true, \"ticks\": \"\", \"zerolinecolor\": \"white\"}, \"zaxis\": {\"backgroundcolor\": \"#E5ECF6\", \"gridcolor\": \"white\", \"gridwidth\": 2, \"linecolor\": \"white\", \"showbackground\": true, \"ticks\": \"\", \"zerolinecolor\": \"white\"}}, \"shapedefaults\": {\"line\": {\"color\": \"#2a3f5f\"}}, \"ternary\": {\"aaxis\": {\"gridcolor\": \"white\", \"linecolor\": \"white\", \"ticks\": \"\"}, \"baxis\": {\"gridcolor\": \"white\", \"linecolor\": \"white\", \"ticks\": \"\"}, \"bgcolor\": \"#E5ECF6\", \"caxis\": {\"gridcolor\": \"white\", \"linecolor\": \"white\", \"ticks\": \"\"}}, \"title\": {\"x\": 0.05}, \"xaxis\": {\"automargin\": true, \"gridcolor\": \"white\", \"linecolor\": \"white\", \"ticks\": \"\", \"title\": {\"standoff\": 15}, \"zerolinecolor\": \"white\", \"zerolinewidth\": 2}, \"yaxis\": {\"automargin\": true, \"gridcolor\": \"white\", \"linecolor\": \"white\", \"ticks\": \"\", \"title\": {\"standoff\": 15}, \"zerolinecolor\": \"white\", \"zerolinewidth\": 2}}}, \"title\": {\"text\": \"2019 Estimated Global GDP\"}},\n",
       "                        {\"responsive\": true}\n",
       "                    ).then(function(){\n",
       "                            \n",
       "var gd = document.getElementById('37d2a022-6564-454d-a1b6-a01db4a991f8');\n",
       "var x = new MutationObserver(function (mutations, observer) {{\n",
       "        var display = window.getComputedStyle(gd).display;\n",
       "        if (!display || display === 'none') {{\n",
       "            console.log([gd, 'removed!']);\n",
       "            Plotly.purge(gd);\n",
       "            observer.disconnect();\n",
       "        }}\n",
       "}});\n",
       "\n",
       "// Listen for the removal of the full notebook cells\n",
       "var notebookContainer = gd.closest('#notebook-container');\n",
       "if (notebookContainer) {{\n",
       "    x.observe(notebookContainer, {childList: true});\n",
       "}}\n",
       "\n",
       "// Listen for the clearing of the current output cell\n",
       "var outputEl = gd.closest('.output');\n",
       "if (outputEl) {{\n",
       "    x.observe(outputEl, {childList: true});\n",
       "}}\n",
       "\n",
       "                        })\n",
       "                };\n",
       "                });\n",
       "            </script>\n",
       "        </div>"
      ]
     },
     "metadata": {},
     "output_type": "display_data"
    }
   ],
   "source": [
    "# Map of Countries according to thier Estimated GDP for 2019\n",
    "import plotly.express as px\n",
    "\n",
    "geo_df = gdp_2019_df\n",
    "\n",
    "fig = px.choropleth(geo_df, locations=\"Country/Economy\",\n",
    "                    color=\"Estimated Nominal GDP 2019\",\n",
    "                    #range_color=(0,21500.000),# add a scale/color scheme\n",
    "                    hover_name=\"GDP Growth (%) 2019\",\n",
    "                    color_continuous_scale='Inferno',# column to add to hover information\n",
    "                    locationmode='country names')\n",
    "\n",
    "fig.update_layout(title_text='2019 Estimated Global GDP')\n",
    "fig.show()"
   ]
  },
  {
   "cell_type": "markdown",
   "metadata": {},
   "source": [
    "### Global Threats and Final Conclusions ###"
   ]
  },
  {
   "cell_type": "code",
   "execution_count": 163,
   "metadata": {},
   "outputs": [],
   "source": [
    "# Hand-Crafted Excel Document of 30 lowest rated countries on the Global Surveillance Index\n",
    "AI_df = pd.read_excel('data/Top 30 A.I. Global Surveillance Index Worst Offenders.xlsx')\n",
    "# Credit to Stven Feldman and his team for gathering the data and making it public\n",
    "# Data Source: https://carnegieendowment.org/2019/09/17/global-expansion-of-ai-surveillance-pub-79847"
   ]
  },
  {
   "cell_type": "code",
   "execution_count": 164,
   "metadata": {},
   "outputs": [
    {
     "data": {
      "text/html": [
       "<div>\n",
       "<style scoped>\n",
       "    .dataframe tbody tr th:only-of-type {\n",
       "        vertical-align: middle;\n",
       "    }\n",
       "\n",
       "    .dataframe tbody tr th {\n",
       "        vertical-align: top;\n",
       "    }\n",
       "\n",
       "    .dataframe thead th {\n",
       "        text-align: right;\n",
       "    }\n",
       "</style>\n",
       "<table border=\"1\" class=\"dataframe\">\n",
       "  <thead>\n",
       "    <tr style=\"text-align: right;\">\n",
       "      <th></th>\n",
       "      <th>Country</th>\n",
       "      <th>Agg. AIGS Score</th>\n",
       "      <th>(BRI) Participant</th>\n",
       "      <th>Types of AI Surveillance</th>\n",
       "      <th>Powered by Chinese Tech</th>\n",
       "      <th>Powered by American Tech</th>\n",
       "    </tr>\n",
       "  </thead>\n",
       "  <tbody>\n",
       "    <tr>\n",
       "      <th>0</th>\n",
       "      <td>Saudi Arabia</td>\n",
       "      <td>0.97</td>\n",
       "      <td>1</td>\n",
       "      <td>3</td>\n",
       "      <td>1</td>\n",
       "      <td>1</td>\n",
       "    </tr>\n",
       "    <tr>\n",
       "      <th>1</th>\n",
       "      <td>Tajikistan</td>\n",
       "      <td>1.52</td>\n",
       "      <td>1</td>\n",
       "      <td>2</td>\n",
       "      <td>1</td>\n",
       "      <td>0</td>\n",
       "    </tr>\n",
       "    <tr>\n",
       "      <th>2</th>\n",
       "      <td>Uzbekistan</td>\n",
       "      <td>1.65</td>\n",
       "      <td>1</td>\n",
       "      <td>2</td>\n",
       "      <td>1</td>\n",
       "      <td>0</td>\n",
       "    </tr>\n",
       "    <tr>\n",
       "      <th>3</th>\n",
       "      <td>Bahrain</td>\n",
       "      <td>1.72</td>\n",
       "      <td>1</td>\n",
       "      <td>2</td>\n",
       "      <td>1</td>\n",
       "      <td>0</td>\n",
       "    </tr>\n",
       "    <tr>\n",
       "      <th>4</th>\n",
       "      <td>China</td>\n",
       "      <td>1.77</td>\n",
       "      <td>1</td>\n",
       "      <td>3</td>\n",
       "      <td>1</td>\n",
       "      <td>1</td>\n",
       "    </tr>\n",
       "  </tbody>\n",
       "</table>\n",
       "</div>"
      ],
      "text/plain": [
       "        Country  Agg. AIGS Score  (BRI) Participant  Types of AI Surveillance  \\\n",
       "0  Saudi Arabia             0.97                  1                         3   \n",
       "1    Tajikistan             1.52                  1                         2   \n",
       "2    Uzbekistan             1.65                  1                         2   \n",
       "3       Bahrain             1.72                  1                         2   \n",
       "4         China             1.77                  1                         3   \n",
       "\n",
       "   Powered by Chinese Tech  Powered by American Tech  \n",
       "0                        1                         1  \n",
       "1                        1                         0  \n",
       "2                        1                         0  \n",
       "3                        1                         0  \n",
       "4                        1                         1  "
      ]
     },
     "execution_count": 164,
     "metadata": {},
     "output_type": "execute_result"
    }
   ],
   "source": [
    "# Scores of Bolivia and Mexico were added for the sake of compatibility, these two are not amongst the top 30\n",
    "AI_df.head()"
   ]
  },
  {
   "cell_type": "code",
   "execution_count": 165,
   "metadata": {},
   "outputs": [
    {
     "data": {
      "text/plain": [
       "'More Information can be found at:\\n    https://carnegieendowment.org/2019/09/17/global-expansion-of-ai-surveillance-pub-79847'"
      ]
     },
     "execution_count": 165,
     "metadata": {},
     "output_type": "execute_result"
    }
   ],
   "source": [
    "### Types of Surveillance refers to the use of:\n",
    "# 1) Facial Recognition, \n",
    "# 2) Smart Cities/Safe City Tech and \n",
    "# 3) Smart Policing/Predictive Policing###\n",
    "'''These Technologies all have tremendous potential to be used for good or ill purposes. \n",
    "Utilization of this technology does not on its own indicate abuse, however taken in \n",
    "consideration with other factors it may be be indicative of a substantial risk of abuse.'''\n",
    "\n",
    "### Agg. AIGS Score refers to a weighted aggregate score that takes into consideration \n",
    "# a country's rank placement on the following indeces:\n",
    "# 2018 Freedom in the World Index, \n",
    "# 2018 EIU Democracy Index,\n",
    "# And the V-Dem Electoral Democracy Index\n",
    "\n",
    "'''More Information can be found at:\n",
    "    https://carnegieendowment.org/2019/09/17/global-expansion-of-ai-surveillance-pub-79847'''"
   ]
  },
  {
   "cell_type": "code",
   "execution_count": 166,
   "metadata": {},
   "outputs": [
    {
     "data": {
      "text/html": [
       "<div>\n",
       "<style scoped>\n",
       "    .dataframe tbody tr th:only-of-type {\n",
       "        vertical-align: middle;\n",
       "    }\n",
       "\n",
       "    .dataframe tbody tr th {\n",
       "        vertical-align: top;\n",
       "    }\n",
       "\n",
       "    .dataframe thead th {\n",
       "        text-align: right;\n",
       "    }\n",
       "</style>\n",
       "<table border=\"1\" class=\"dataframe\">\n",
       "  <thead>\n",
       "    <tr style=\"text-align: right;\">\n",
       "      <th></th>\n",
       "      <th>Agg. AIGS Score</th>\n",
       "      <th>(BRI) Participant</th>\n",
       "      <th>Types of AI Surveillance</th>\n",
       "      <th>Powered by Chinese Tech</th>\n",
       "      <th>Powered by American Tech</th>\n",
       "    </tr>\n",
       "  </thead>\n",
       "  <tbody>\n",
       "    <tr>\n",
       "      <th>Agg. AIGS Score</th>\n",
       "      <td>1.000000</td>\n",
       "      <td>-0.351355</td>\n",
       "      <td>0.015541</td>\n",
       "      <td>0.080290</td>\n",
       "      <td>-0.250020</td>\n",
       "    </tr>\n",
       "    <tr>\n",
       "      <th>(BRI) Participant</th>\n",
       "      <td>-0.351355</td>\n",
       "      <td>1.000000</td>\n",
       "      <td>0.408653</td>\n",
       "      <td>-0.111111</td>\n",
       "      <td>0.104447</td>\n",
       "    </tr>\n",
       "    <tr>\n",
       "      <th>Types of AI Surveillance</th>\n",
       "      <td>0.015541</td>\n",
       "      <td>0.408653</td>\n",
       "      <td>1.000000</td>\n",
       "      <td>-0.078731</td>\n",
       "      <td>0.393539</td>\n",
       "    </tr>\n",
       "    <tr>\n",
       "      <th>Powered by Chinese Tech</th>\n",
       "      <td>0.080290</td>\n",
       "      <td>-0.111111</td>\n",
       "      <td>-0.078731</td>\n",
       "      <td>1.000000</td>\n",
       "      <td>-0.104447</td>\n",
       "    </tr>\n",
       "    <tr>\n",
       "      <th>Powered by American Tech</th>\n",
       "      <td>-0.250020</td>\n",
       "      <td>0.104447</td>\n",
       "      <td>0.393539</td>\n",
       "      <td>-0.104447</td>\n",
       "      <td>1.000000</td>\n",
       "    </tr>\n",
       "  </tbody>\n",
       "</table>\n",
       "</div>"
      ],
      "text/plain": [
       "                          Agg. AIGS Score  (BRI) Participant  \\\n",
       "Agg. AIGS Score                  1.000000          -0.351355   \n",
       "(BRI) Participant               -0.351355           1.000000   \n",
       "Types of AI Surveillance         0.015541           0.408653   \n",
       "Powered by Chinese Tech          0.080290          -0.111111   \n",
       "Powered by American Tech        -0.250020           0.104447   \n",
       "\n",
       "                          Types of AI Surveillance  Powered by Chinese Tech  \\\n",
       "Agg. AIGS Score                           0.015541                 0.080290   \n",
       "(BRI) Participant                         0.408653                -0.111111   \n",
       "Types of AI Surveillance                  1.000000                -0.078731   \n",
       "Powered by Chinese Tech                  -0.078731                 1.000000   \n",
       "Powered by American Tech                  0.393539                -0.104447   \n",
       "\n",
       "                          Powered by American Tech  \n",
       "Agg. AIGS Score                          -0.250020  \n",
       "(BRI) Participant                         0.104447  \n",
       "Types of AI Surveillance                  0.393539  \n",
       "Powered by Chinese Tech                  -0.104447  \n",
       "Powered by American Tech                  1.000000  "
      ]
     },
     "execution_count": 166,
     "metadata": {},
     "output_type": "execute_result"
    }
   ],
   "source": [
    "# Correlation Matrix of all data attributes and how they relate to one another\n",
    "corr_mat = AI_df.corr()\n",
    "corr_mat"
   ]
  },
  {
   "cell_type": "code",
   "execution_count": 167,
   "metadata": {
    "scrolled": false
   },
   "outputs": [
    {
     "data": {
      "text/plain": [
       "<AxesSubplot:>"
      ]
     },
     "execution_count": 167,
     "metadata": {},
     "output_type": "execute_result"
    },
    {
     "data": {
      "image/png": "[encoded data removed]",
      "text/plain": [
       "<Figure size 432x288 with 2 Axes>"
      ]
     },
     "metadata": {
      "needs_background": "light"
     },
     "output_type": "display_data"
    }
   ],
   "source": [
    "'''A Value of one indicates perfect correlation, \n",
    "a value of 0 refers to a complete lack of a relationship, \n",
    "and a negative value indicates an inverse relationship.'''\n",
    "sns.heatmap(corr_mat)"
   ]
  },
  {
   "cell_type": "code",
   "execution_count": 168,
   "metadata": {
    "scrolled": true
   },
   "outputs": [],
   "source": [
    "#Source: https://worldjusticeproject.org/our-work/research-and-data/wjp-rule-law-index-2019\n",
    "ROL_df = pd.read_excel('data/Rule of Law Index 30 Worst Offenders.xlsx')"
   ]
  },
  {
   "cell_type": "code",
   "execution_count": 169,
   "metadata": {},
   "outputs": [
    {
     "data": {
      "text/html": [
       "<div>\n",
       "<style scoped>\n",
       "    .dataframe tbody tr th:only-of-type {\n",
       "        vertical-align: middle;\n",
       "    }\n",
       "\n",
       "    .dataframe tbody tr th {\n",
       "        vertical-align: top;\n",
       "    }\n",
       "\n",
       "    .dataframe thead th {\n",
       "        text-align: right;\n",
       "    }\n",
       "</style>\n",
       "<table border=\"1\" class=\"dataframe\">\n",
       "  <thead>\n",
       "    <tr style=\"text-align: right;\">\n",
       "      <th></th>\n",
       "      <th>2016</th>\n",
       "      <th>2017 - 2018</th>\n",
       "      <th>2019</th>\n",
       "    </tr>\n",
       "  </thead>\n",
       "  <tbody>\n",
       "    <tr>\n",
       "      <th>0</th>\n",
       "      <td>Venezuela</td>\n",
       "      <td>Venezuela</td>\n",
       "      <td>Venezuela</td>\n",
       "    </tr>\n",
       "    <tr>\n",
       "      <th>1</th>\n",
       "      <td>Cambodia</td>\n",
       "      <td>Cambodia</td>\n",
       "      <td>Cambodia</td>\n",
       "    </tr>\n",
       "    <tr>\n",
       "      <th>2</th>\n",
       "      <td>Afghanistan</td>\n",
       "      <td>Afghanistan</td>\n",
       "      <td>Congo</td>\n",
       "    </tr>\n",
       "    <tr>\n",
       "      <th>3</th>\n",
       "      <td>Egypt</td>\n",
       "      <td>Egypt</td>\n",
       "      <td>Afghanistan</td>\n",
       "    </tr>\n",
       "    <tr>\n",
       "      <th>4</th>\n",
       "      <td>Cameroon</td>\n",
       "      <td>Cameroon</td>\n",
       "      <td>Mauritania</td>\n",
       "    </tr>\n",
       "  </tbody>\n",
       "</table>\n",
       "</div>"
      ],
      "text/plain": [
       "          2016  2017 - 2018         2019\n",
       "0    Venezuela    Venezuela    Venezuela\n",
       "1     Cambodia     Cambodia     Cambodia\n",
       "2  Afghanistan  Afghanistan        Congo\n",
       "3        Egypt        Egypt  Afghanistan\n",
       "4     Cameroon     Cameroon   Mauritania"
      ]
     },
     "execution_count": 169,
     "metadata": {},
     "output_type": "execute_result"
    }
   ],
   "source": [
    "ROL_df.head()"
   ]
  },
  {
   "cell_type": "code",
   "execution_count": 170,
   "metadata": {},
   "outputs": [],
   "source": [
    "# Top 30 Rule of Law offender Nations of 2019\n",
    "ROL_df['Top 30 RoL Offendor Status'] = [1 for num in range(0,len(ROL_df[2019]))]"
   ]
  },
  {
   "cell_type": "code",
   "execution_count": 171,
   "metadata": {},
   "outputs": [],
   "source": [
    "ROL_df.drop(columns=[2016,'2017 - 2018'], inplace=True)"
   ]
  },
  {
   "cell_type": "code",
   "execution_count": 172,
   "metadata": {},
   "outputs": [
    {
     "data": {
      "text/html": [
       "<div>\n",
       "<style scoped>\n",
       "    .dataframe tbody tr th:only-of-type {\n",
       "        vertical-align: middle;\n",
       "    }\n",
       "\n",
       "    .dataframe tbody tr th {\n",
       "        vertical-align: top;\n",
       "    }\n",
       "\n",
       "    .dataframe thead th {\n",
       "        text-align: right;\n",
       "    }\n",
       "</style>\n",
       "<table border=\"1\" class=\"dataframe\">\n",
       "  <thead>\n",
       "    <tr style=\"text-align: right;\">\n",
       "      <th></th>\n",
       "      <th>2019</th>\n",
       "      <th>Top 30 RoL Offendor Status</th>\n",
       "    </tr>\n",
       "  </thead>\n",
       "  <tbody>\n",
       "    <tr>\n",
       "      <th>0</th>\n",
       "      <td>Venezuela</td>\n",
       "      <td>1</td>\n",
       "    </tr>\n",
       "    <tr>\n",
       "      <th>1</th>\n",
       "      <td>Cambodia</td>\n",
       "      <td>1</td>\n",
       "    </tr>\n",
       "    <tr>\n",
       "      <th>2</th>\n",
       "      <td>Congo</td>\n",
       "      <td>1</td>\n",
       "    </tr>\n",
       "    <tr>\n",
       "      <th>3</th>\n",
       "      <td>Afghanistan</td>\n",
       "      <td>1</td>\n",
       "    </tr>\n",
       "    <tr>\n",
       "      <th>4</th>\n",
       "      <td>Mauritania</td>\n",
       "      <td>1</td>\n",
       "    </tr>\n",
       "  </tbody>\n",
       "</table>\n",
       "</div>"
      ],
      "text/plain": [
       "          2019  Top 30 RoL Offendor Status\n",
       "0    Venezuela                           1\n",
       "1     Cambodia                           1\n",
       "2        Congo                           1\n",
       "3  Afghanistan                           1\n",
       "4   Mauritania                           1"
      ]
     },
     "execution_count": 172,
     "metadata": {},
     "output_type": "execute_result"
    }
   ],
   "source": [
    "ROL_df.head()"
   ]
  },
  {
   "cell_type": "markdown",
   "metadata": {},
   "source": [
    "### Cleaning Data for BRI Nations ###"
   ]
  },
  {
   "cell_type": "code",
   "execution_count": 173,
   "metadata": {},
   "outputs": [
    {
     "data": {
      "text/plain": [
       "\"Of the 138 alleged BRI nations, the membership status of 7 countries is currently disputed. \\nThese nations have neither confirmed nor denied claims of having signed a Memorandum of Understanding, \\nwhich is indicative of thier agreement to Join in the One Belt, One Road Initiative, also known as the\\nBelt and Road Initiative (BRI). These Nations are identified in the list of 138 countries by an '*' \\nsymbol the right-hand side of thier Country Names. These disputed nations include: Austria, Benin, Comoros,\\nthe Democratic Republic of Congo AKA Congo, Rep., Dominica, Niger, and The Russian Federation AKA Russia.\\n\\nNote: For the sake of completeness, these 7 countries are also included.\""
      ]
     },
     "execution_count": 173,
     "metadata": {},
     "output_type": "execute_result"
    }
   ],
   "source": [
    "'''Of the 138 alleged BRI nations, the membership status of 7 countries is currently disputed. \n",
    "These nations have neither confirmed nor denied claims of having signed a Memorandum of Understanding, \n",
    "which is indicative of thier agreement to Join in the One Belt, One Road Initiative, also known as the\n",
    "Belt and Road Initiative (BRI). These Nations are identified in the list of 138 countries by an '*' \n",
    "symbol the right-hand side of thier Country Names. These disputed nations include: Austria, Benin, Comoros,\n",
    "the Democratic Republic of Congo AKA Congo, Rep., Dominica, Niger, and The Russian Federation AKA Russia.\n",
    "\n",
    "Note: For the sake of completeness, these 7 countries are also included.'''"
   ]
  },
  {
   "cell_type": "code",
   "execution_count": 174,
   "metadata": {},
   "outputs": [
    {
     "data": {
      "text/plain": [
       "'Venezuela'"
      ]
     },
     "execution_count": 174,
     "metadata": {},
     "output_type": "execute_result"
    }
   ],
   "source": [
    "# Changing 'Venezuela, RB' to 'Venezuela' to match values in other tables\n",
    "bri_df['Country'][133] = 'Venezuela'\n",
    "bri_df['Country'][133]"
   ]
  },
  {
   "cell_type": "code",
   "execution_count": 175,
   "metadata": {},
   "outputs": [
    {
     "data": {
      "text/plain": [
       "'Congo'"
      ]
     },
     "execution_count": 175,
     "metadata": {},
     "output_type": "execute_result"
    }
   ],
   "source": [
    "# Changing 'Congo, Rep' to 'Congo' to match values in other tables\n",
    "bri_df['Country'][26] = 'Congo'\n",
    "bri_df['Country'][26]"
   ]
  },
  {
   "cell_type": "code",
   "execution_count": 176,
   "metadata": {},
   "outputs": [
    {
     "data": {
      "text/html": [
       "<div>\n",
       "<style scoped>\n",
       "    .dataframe tbody tr th:only-of-type {\n",
       "        vertical-align: middle;\n",
       "    }\n",
       "\n",
       "    .dataframe tbody tr th {\n",
       "        vertical-align: top;\n",
       "    }\n",
       "\n",
       "    .dataframe thead th {\n",
       "        text-align: right;\n",
       "    }\n",
       "</style>\n",
       "<table border=\"1\" class=\"dataframe\">\n",
       "  <thead>\n",
       "    <tr style=\"text-align: right;\">\n",
       "      <th></th>\n",
       "      <th>Country</th>\n",
       "      <th>Region</th>\n",
       "      <th>IncomeGroup</th>\n",
       "    </tr>\n",
       "  </thead>\n",
       "  <tbody>\n",
       "    <tr>\n",
       "      <th>0</th>\n",
       "      <td>Afghanistan</td>\n",
       "      <td>South Asia</td>\n",
       "      <td>Low income</td>\n",
       "    </tr>\n",
       "    <tr>\n",
       "      <th>1</th>\n",
       "      <td>Albania</td>\n",
       "      <td>Europe &amp; Central Asia</td>\n",
       "      <td>Upper middle income</td>\n",
       "    </tr>\n",
       "    <tr>\n",
       "      <th>2</th>\n",
       "      <td>Algeria</td>\n",
       "      <td>Middle East &amp; North Africa</td>\n",
       "      <td>Upper middle income</td>\n",
       "    </tr>\n",
       "    <tr>\n",
       "      <th>3</th>\n",
       "      <td>Angola</td>\n",
       "      <td>Sub-Saharan Africa</td>\n",
       "      <td>Lower middle income</td>\n",
       "    </tr>\n",
       "    <tr>\n",
       "      <th>4</th>\n",
       "      <td>Antigua and Barbuda</td>\n",
       "      <td>Latin America &amp; Caribbean</td>\n",
       "      <td>High income</td>\n",
       "    </tr>\n",
       "    <tr>\n",
       "      <th>5</th>\n",
       "      <td>Armenia</td>\n",
       "      <td>Europe &amp; Central Asia</td>\n",
       "      <td>Upper middle income</td>\n",
       "    </tr>\n",
       "    <tr>\n",
       "      <th>6</th>\n",
       "      <td>Austria</td>\n",
       "      <td>Europe &amp; Central Asia</td>\n",
       "      <td>High income</td>\n",
       "    </tr>\n",
       "    <tr>\n",
       "      <th>7</th>\n",
       "      <td>Azerbaijan</td>\n",
       "      <td>Europe &amp; Central Asia</td>\n",
       "      <td>Upper middle income</td>\n",
       "    </tr>\n",
       "    <tr>\n",
       "      <th>8</th>\n",
       "      <td>Bahrain</td>\n",
       "      <td>Middle East &amp; North Africa</td>\n",
       "      <td>High income</td>\n",
       "    </tr>\n",
       "    <tr>\n",
       "      <th>9</th>\n",
       "      <td>Bangladesh</td>\n",
       "      <td>South Asia</td>\n",
       "      <td>Lower middle income</td>\n",
       "    </tr>\n",
       "    <tr>\n",
       "      <th>10</th>\n",
       "      <td>Barbados</td>\n",
       "      <td>Latin America &amp; Caribbean</td>\n",
       "      <td>High income</td>\n",
       "    </tr>\n",
       "    <tr>\n",
       "      <th>11</th>\n",
       "      <td>Belarus</td>\n",
       "      <td>Europe &amp; Central Asia</td>\n",
       "      <td>Upper middle income</td>\n",
       "    </tr>\n",
       "    <tr>\n",
       "      <th>12</th>\n",
       "      <td>Benin</td>\n",
       "      <td>Sub-Saharan Africa</td>\n",
       "      <td>Low income</td>\n",
       "    </tr>\n",
       "    <tr>\n",
       "      <th>13</th>\n",
       "      <td>Bolivia</td>\n",
       "      <td>Latin America &amp; Caribbean</td>\n",
       "      <td>Lower middle income</td>\n",
       "    </tr>\n",
       "    <tr>\n",
       "      <th>14</th>\n",
       "      <td>Bosnia and Herzegovina</td>\n",
       "      <td>Europe &amp; Central Asia</td>\n",
       "      <td>Upper middle income</td>\n",
       "    </tr>\n",
       "  </tbody>\n",
       "</table>\n",
       "</div>"
      ],
      "text/plain": [
       "                   Country                      Region          IncomeGroup\n",
       "0              Afghanistan                  South Asia           Low income\n",
       "1                  Albania       Europe & Central Asia  Upper middle income\n",
       "2                  Algeria  Middle East & North Africa  Upper middle income\n",
       "3                   Angola          Sub-Saharan Africa  Lower middle income\n",
       "4      Antigua and Barbuda   Latin America & Caribbean          High income\n",
       "5                  Armenia       Europe & Central Asia  Upper middle income\n",
       "6                  Austria       Europe & Central Asia          High income\n",
       "7               Azerbaijan       Europe & Central Asia  Upper middle income\n",
       "8                  Bahrain  Middle East & North Africa          High income\n",
       "9               Bangladesh                  South Asia  Lower middle income\n",
       "10                Barbados   Latin America & Caribbean          High income\n",
       "11                 Belarus       Europe & Central Asia  Upper middle income\n",
       "12                   Benin          Sub-Saharan Africa           Low income\n",
       "13                 Bolivia   Latin America & Caribbean  Lower middle income\n",
       "14  Bosnia and Herzegovina       Europe & Central Asia  Upper middle income"
      ]
     },
     "execution_count": 176,
     "metadata": {},
     "output_type": "execute_result"
    }
   ],
   "source": [
    "# First Measure => Including disputed Nations; index values 6, 12, 25, 26, 34, 86, 100\n",
    "# Eliminate Trailing '*' in bri_df['Country']\n",
    "bri_df1 = bri_df\n",
    "bri_df1['Country'][6] = bri_df1['Country'][6].rstrip('*')\n",
    "bri_df1['Country'][12] = bri_df1['Country'][12].rstrip('*')\n",
    "bri_df1['Country'][25] = bri_df1['Country'][25].rstrip('*')\n",
    "bri_df1['Country'][26] = bri_df1['Country'][26].rstrip('*')\n",
    "bri_df1['Country'][34] = bri_df1['Country'][34].rstrip('*')\n",
    "bri_df1['Country'][86] = bri_df1['Country'][86].rstrip('*')\n",
    "bri_df1['Country'][100] = bri_df1['Country'][100].rstrip('*')\n",
    "bri_df1.head(15)"
   ]
  },
  {
   "cell_type": "code",
   "execution_count": 177,
   "metadata": {},
   "outputs": [],
   "source": [
    "# Preparing the join-keys for the table Join\n",
    "ROL_df.rename(columns={2019: 'Country'}, inplace=True)\n",
    "#  AI_df already has column 'Country'\n",
    "# bri_df already has column 'Country'\n",
    "gdp_2019_df.rename(columns={'Country/Economy': 'Country'}, inplace=True)"
   ]
  },
  {
   "cell_type": "code",
   "execution_count": 178,
   "metadata": {},
   "outputs": [
    {
     "name": "stderr",
     "output_type": "stream",
     "text": [
      "<ipython-input-178-132f44e601bb>:2: SettingWithCopyWarning:\n",
      "\n",
      "\n",
      "A value is trying to be set on a copy of a slice from a DataFrame\n",
      "\n",
      "See the caveats in the documentation: https://pandas.pydata.org/pandas-docs/stable/user_guide/indexing.html#returning-a-view-versus-a-copy\n",
      "\n"
     ]
    },
    {
     "data": {
      "text/plain": [
       "'Congo'"
      ]
     },
     "execution_count": 178,
     "metadata": {},
     "output_type": "execute_result"
    }
   ],
   "source": [
    "# Changing 'Republic of Congo' to 'Congo' to match values in other tables\n",
    "gdp_2019_df['Country'][26] = 'Congo'\n",
    "gdp_2019_df['Country'][26]"
   ]
  },
  {
   "cell_type": "code",
   "execution_count": 179,
   "metadata": {
    "scrolled": true
   },
   "outputs": [
    {
     "data": {
      "text/html": [
       "<div>\n",
       "<style scoped>\n",
       "    .dataframe tbody tr th:only-of-type {\n",
       "        vertical-align: middle;\n",
       "    }\n",
       "\n",
       "    .dataframe tbody tr th {\n",
       "        vertical-align: top;\n",
       "    }\n",
       "\n",
       "    .dataframe thead th {\n",
       "        text-align: right;\n",
       "    }\n",
       "</style>\n",
       "<table border=\"1\" class=\"dataframe\">\n",
       "  <thead>\n",
       "    <tr style=\"text-align: right;\">\n",
       "      <th></th>\n",
       "      <th>Top 30 RoL Offendor Status</th>\n",
       "    </tr>\n",
       "    <tr>\n",
       "      <th>Country</th>\n",
       "      <th></th>\n",
       "    </tr>\n",
       "  </thead>\n",
       "  <tbody>\n",
       "    <tr>\n",
       "      <th>Venezuela</th>\n",
       "      <td>1</td>\n",
       "    </tr>\n",
       "    <tr>\n",
       "      <th>Cambodia</th>\n",
       "      <td>1</td>\n",
       "    </tr>\n",
       "    <tr>\n",
       "      <th>Congo</th>\n",
       "      <td>1</td>\n",
       "    </tr>\n",
       "    <tr>\n",
       "      <th>Afghanistan</th>\n",
       "      <td>1</td>\n",
       "    </tr>\n",
       "    <tr>\n",
       "      <th>Mauritania</th>\n",
       "      <td>1</td>\n",
       "    </tr>\n",
       "  </tbody>\n",
       "</table>\n",
       "</div>"
      ],
      "text/plain": [
       "             Top 30 RoL Offendor Status\n",
       "Country                                \n",
       "Venezuela                             1\n",
       "Cambodia                              1\n",
       "Congo                                 1\n",
       "Afghanistan                           1\n",
       "Mauritania                            1"
      ]
     },
     "execution_count": 179,
     "metadata": {},
     "output_type": "execute_result"
    }
   ],
   "source": [
    "# Set Country to Index for Joining (Join only allowed on index)\n",
    "ROL_df1 = ROL_df.set_index('Country')\n",
    "AI_df1 = AI_df.set_index('Country')\n",
    "bri_df2 = bri_df1.set_index('Country')\n",
    "gdp_2019_df1 = gdp_2019_df.set_index('Country')\n",
    "ROL_df1.head()"
   ]
  },
  {
   "cell_type": "code",
   "execution_count": 180,
   "metadata": {},
   "outputs": [],
   "source": [
    "# Save for After Prep Work is done:\n",
    "Final_df1 = ROL_df1.join(other=[AI_df1, bri_df2, gdp_2019_df1])"
   ]
  },
  {
   "cell_type": "code",
   "execution_count": 181,
   "metadata": {
    "scrolled": false
   },
   "outputs": [
    {
     "data": {
      "text/html": [
       "<div>\n",
       "<style scoped>\n",
       "    .dataframe tbody tr th:only-of-type {\n",
       "        vertical-align: middle;\n",
       "    }\n",
       "\n",
       "    .dataframe tbody tr th {\n",
       "        vertical-align: top;\n",
       "    }\n",
       "\n",
       "    .dataframe thead th {\n",
       "        text-align: right;\n",
       "    }\n",
       "</style>\n",
       "<table border=\"1\" class=\"dataframe\">\n",
       "  <thead>\n",
       "    <tr style=\"text-align: right;\">\n",
       "      <th></th>\n",
       "      <th>Top 30 RoL Offendor Status</th>\n",
       "      <th>Agg. AIGS Score</th>\n",
       "      <th>(BRI) Participant</th>\n",
       "      <th>Types of AI Surveillance</th>\n",
       "      <th>Powered by Chinese Tech</th>\n",
       "      <th>Powered by American Tech</th>\n",
       "      <th>Region</th>\n",
       "      <th>IncomeGroup</th>\n",
       "      <th>Estimated Nominal GDP 2019</th>\n",
       "      <th>GDP Rank</th>\n",
       "      <th>GDP Growth (%) 2019</th>\n",
       "    </tr>\n",
       "    <tr>\n",
       "      <th>Country</th>\n",
       "      <th></th>\n",
       "      <th></th>\n",
       "      <th></th>\n",
       "      <th></th>\n",
       "      <th></th>\n",
       "      <th></th>\n",
       "      <th></th>\n",
       "      <th></th>\n",
       "      <th></th>\n",
       "      <th></th>\n",
       "      <th></th>\n",
       "    </tr>\n",
       "  </thead>\n",
       "  <tbody>\n",
       "    <tr>\n",
       "      <th>Venezuela</th>\n",
       "      <td>1.0</td>\n",
       "      <td>2.49</td>\n",
       "      <td>1.0</td>\n",
       "      <td>1.0</td>\n",
       "      <td>1.0</td>\n",
       "      <td>0.0</td>\n",
       "      <td>Latin America &amp; Caribbean</td>\n",
       "      <td>Upper middle income</td>\n",
       "      <td>87.010</td>\n",
       "      <td>68.0</td>\n",
       "      <td>-5.000</td>\n",
       "    </tr>\n",
       "    <tr>\n",
       "      <th>Cambodia</th>\n",
       "      <td>1.0</td>\n",
       "      <td>NaN</td>\n",
       "      <td>NaN</td>\n",
       "      <td>NaN</td>\n",
       "      <td>NaN</td>\n",
       "      <td>NaN</td>\n",
       "      <td>East Asia &amp; Pacific</td>\n",
       "      <td>Lower middle income</td>\n",
       "      <td>26.372</td>\n",
       "      <td>107.0</td>\n",
       "      <td>6.778</td>\n",
       "    </tr>\n",
       "    <tr>\n",
       "      <th>Congo</th>\n",
       "      <td>1.0</td>\n",
       "      <td>NaN</td>\n",
       "      <td>NaN</td>\n",
       "      <td>NaN</td>\n",
       "      <td>NaN</td>\n",
       "      <td>NaN</td>\n",
       "      <td>Sub-Saharan Africa</td>\n",
       "      <td>Lower middle income</td>\n",
       "      <td>469.661</td>\n",
       "      <td>26.0</td>\n",
       "      <td>2.150</td>\n",
       "    </tr>\n",
       "    <tr>\n",
       "      <th>Afghanistan</th>\n",
       "      <td>1.0</td>\n",
       "      <td>NaN</td>\n",
       "      <td>NaN</td>\n",
       "      <td>NaN</td>\n",
       "      <td>NaN</td>\n",
       "      <td>NaN</td>\n",
       "      <td>South Asia</td>\n",
       "      <td>Low income</td>\n",
       "      <td>21.074</td>\n",
       "      <td>115.0</td>\n",
       "      <td>3.024</td>\n",
       "    </tr>\n",
       "    <tr>\n",
       "      <th>Mauritania</th>\n",
       "      <td>1.0</td>\n",
       "      <td>NaN</td>\n",
       "      <td>NaN</td>\n",
       "      <td>NaN</td>\n",
       "      <td>NaN</td>\n",
       "      <td>NaN</td>\n",
       "      <td>Sub-Saharan Africa</td>\n",
       "      <td>Lower middle income</td>\n",
       "      <td>5.243</td>\n",
       "      <td>154.0</td>\n",
       "      <td>5.237</td>\n",
       "    </tr>\n",
       "    <tr>\n",
       "      <th>Egypt</th>\n",
       "      <td>1.0</td>\n",
       "      <td>2.56</td>\n",
       "      <td>1.0</td>\n",
       "      <td>3.0</td>\n",
       "      <td>1.0</td>\n",
       "      <td>1.0</td>\n",
       "      <td>NaN</td>\n",
       "      <td>NaN</td>\n",
       "      <td>298.153</td>\n",
       "      <td>44.0</td>\n",
       "      <td>5.464</td>\n",
       "    </tr>\n",
       "    <tr>\n",
       "      <th>Cameroon</th>\n",
       "      <td>1.0</td>\n",
       "      <td>NaN</td>\n",
       "      <td>NaN</td>\n",
       "      <td>NaN</td>\n",
       "      <td>NaN</td>\n",
       "      <td>NaN</td>\n",
       "      <td>Sub-Saharan Africa</td>\n",
       "      <td>Lower middle income</td>\n",
       "      <td>40.125</td>\n",
       "      <td>98.0</td>\n",
       "      <td>4.401</td>\n",
       "    </tr>\n",
       "    <tr>\n",
       "      <th>Bolivia</th>\n",
       "      <td>1.0</td>\n",
       "      <td>6.27</td>\n",
       "      <td>1.0</td>\n",
       "      <td>3.0</td>\n",
       "      <td>1.0</td>\n",
       "      <td>0.0</td>\n",
       "      <td>Latin America &amp; Caribbean</td>\n",
       "      <td>Lower middle income</td>\n",
       "      <td>45.045</td>\n",
       "      <td>93.0</td>\n",
       "      <td>4.200</td>\n",
       "    </tr>\n",
       "    <tr>\n",
       "      <th>Ethiopia</th>\n",
       "      <td>1.0</td>\n",
       "      <td>NaN</td>\n",
       "      <td>NaN</td>\n",
       "      <td>NaN</td>\n",
       "      <td>NaN</td>\n",
       "      <td>NaN</td>\n",
       "      <td>Sub-Saharan Africa</td>\n",
       "      <td>Low income</td>\n",
       "      <td>88.170</td>\n",
       "      <td>67.0</td>\n",
       "      <td>8.494</td>\n",
       "    </tr>\n",
       "    <tr>\n",
       "      <th>Pakistan</th>\n",
       "      <td>1.0</td>\n",
       "      <td>4.44</td>\n",
       "      <td>1.0</td>\n",
       "      <td>3.0</td>\n",
       "      <td>1.0</td>\n",
       "      <td>0.0</td>\n",
       "      <td>South Asia</td>\n",
       "      <td>Lower middle income</td>\n",
       "      <td>298.310</td>\n",
       "      <td>43.0</td>\n",
       "      <td>4.005</td>\n",
       "    </tr>\n",
       "    <tr>\n",
       "      <th>Zimbabwe</th>\n",
       "      <td>1.0</td>\n",
       "      <td>3.18</td>\n",
       "      <td>0.0</td>\n",
       "      <td>2.0</td>\n",
       "      <td>1.0</td>\n",
       "      <td>0.0</td>\n",
       "      <td>Sub-Saharan Africa</td>\n",
       "      <td>Low income</td>\n",
       "      <td>21.630</td>\n",
       "      <td>113.0</td>\n",
       "      <td>4.202</td>\n",
       "    </tr>\n",
       "    <tr>\n",
       "      <th>Honduras</th>\n",
       "      <td>1.0</td>\n",
       "      <td>NaN</td>\n",
       "      <td>NaN</td>\n",
       "      <td>NaN</td>\n",
       "      <td>NaN</td>\n",
       "      <td>NaN</td>\n",
       "      <td>NaN</td>\n",
       "      <td>NaN</td>\n",
       "      <td>24.496</td>\n",
       "      <td>111.0</td>\n",
       "      <td>3.600</td>\n",
       "    </tr>\n",
       "    <tr>\n",
       "      <th>Nicaragua</th>\n",
       "      <td>1.0</td>\n",
       "      <td>NaN</td>\n",
       "      <td>NaN</td>\n",
       "      <td>NaN</td>\n",
       "      <td>NaN</td>\n",
       "      <td>NaN</td>\n",
       "      <td>NaN</td>\n",
       "      <td>NaN</td>\n",
       "      <td>13.626</td>\n",
       "      <td>132.0</td>\n",
       "      <td>-1.000</td>\n",
       "    </tr>\n",
       "    <tr>\n",
       "      <th>Uganda</th>\n",
       "      <td>1.0</td>\n",
       "      <td>4.18</td>\n",
       "      <td>1.0</td>\n",
       "      <td>2.0</td>\n",
       "      <td>1.0</td>\n",
       "      <td>0.0</td>\n",
       "      <td>Sub-Saharan Africa</td>\n",
       "      <td>Low income</td>\n",
       "      <td>29.869</td>\n",
       "      <td>104.0</td>\n",
       "      <td>6.105</td>\n",
       "    </tr>\n",
       "    <tr>\n",
       "      <th>Bangladesh</th>\n",
       "      <td>1.0</td>\n",
       "      <td>4.36</td>\n",
       "      <td>1.0</td>\n",
       "      <td>3.0</td>\n",
       "      <td>1.0</td>\n",
       "      <td>0.0</td>\n",
       "      <td>South Asia</td>\n",
       "      <td>Lower middle income</td>\n",
       "      <td>313.509</td>\n",
       "      <td>41.0</td>\n",
       "      <td>7.097</td>\n",
       "    </tr>\n",
       "    <tr>\n",
       "      <th>Angola</th>\n",
       "      <td>1.0</td>\n",
       "      <td>NaN</td>\n",
       "      <td>NaN</td>\n",
       "      <td>NaN</td>\n",
       "      <td>NaN</td>\n",
       "      <td>NaN</td>\n",
       "      <td>Sub-Saharan Africa</td>\n",
       "      <td>Lower middle income</td>\n",
       "      <td>110.186</td>\n",
       "      <td>62.0</td>\n",
       "      <td>3.055</td>\n",
       "    </tr>\n",
       "    <tr>\n",
       "      <th>Myanmar</th>\n",
       "      <td>1.0</td>\n",
       "      <td>4.18</td>\n",
       "      <td>1.0</td>\n",
       "      <td>2.0</td>\n",
       "      <td>1.0</td>\n",
       "      <td>0.0</td>\n",
       "      <td>East Asia &amp; Pacific</td>\n",
       "      <td>Lower middle income</td>\n",
       "      <td>73.954</td>\n",
       "      <td>72.0</td>\n",
       "      <td>6.795</td>\n",
       "    </tr>\n",
       "    <tr>\n",
       "      <th>Turkey</th>\n",
       "      <td>1.0</td>\n",
       "      <td>3.65</td>\n",
       "      <td>1.0</td>\n",
       "      <td>2.0</td>\n",
       "      <td>1.0</td>\n",
       "      <td>1.0</td>\n",
       "      <td>Europe &amp; Central Asia</td>\n",
       "      <td>Upper middle income</td>\n",
       "      <td>631.163</td>\n",
       "      <td>20.0</td>\n",
       "      <td>0.374</td>\n",
       "    </tr>\n",
       "    <tr>\n",
       "      <th>Mozambique</th>\n",
       "      <td>1.0</td>\n",
       "      <td>NaN</td>\n",
       "      <td>NaN</td>\n",
       "      <td>NaN</td>\n",
       "      <td>NaN</td>\n",
       "      <td>NaN</td>\n",
       "      <td>Sub-Saharan Africa</td>\n",
       "      <td>Low income</td>\n",
       "      <td>15.602</td>\n",
       "      <td>124.0</td>\n",
       "      <td>4.000</td>\n",
       "    </tr>\n",
       "    <tr>\n",
       "      <th>Madagascar</th>\n",
       "      <td>1.0</td>\n",
       "      <td>NaN</td>\n",
       "      <td>NaN</td>\n",
       "      <td>NaN</td>\n",
       "      <td>NaN</td>\n",
       "      <td>NaN</td>\n",
       "      <td>Sub-Saharan Africa</td>\n",
       "      <td>Low income</td>\n",
       "      <td>13.553</td>\n",
       "      <td>133.0</td>\n",
       "      <td>5.412</td>\n",
       "    </tr>\n",
       "    <tr>\n",
       "      <th>Nigeria</th>\n",
       "      <td>1.0</td>\n",
       "      <td>4.47</td>\n",
       "      <td>0.0</td>\n",
       "      <td>1.0</td>\n",
       "      <td>1.0</td>\n",
       "      <td>0.0</td>\n",
       "      <td>Sub-Saharan Africa</td>\n",
       "      <td>Lower middle income</td>\n",
       "      <td>447.013</td>\n",
       "      <td>29.0</td>\n",
       "      <td>2.260</td>\n",
       "    </tr>\n",
       "    <tr>\n",
       "      <th>Guinea</th>\n",
       "      <td>1.0</td>\n",
       "      <td>NaN</td>\n",
       "      <td>NaN</td>\n",
       "      <td>NaN</td>\n",
       "      <td>NaN</td>\n",
       "      <td>NaN</td>\n",
       "      <td>Sub-Saharan Africa</td>\n",
       "      <td>Low income</td>\n",
       "      <td>12.465</td>\n",
       "      <td>138.0</td>\n",
       "      <td>5.932</td>\n",
       "    </tr>\n",
       "    <tr>\n",
       "      <th>Niger</th>\n",
       "      <td>1.0</td>\n",
       "      <td>NaN</td>\n",
       "      <td>NaN</td>\n",
       "      <td>NaN</td>\n",
       "      <td>NaN</td>\n",
       "      <td>NaN</td>\n",
       "      <td>Sub-Saharan Africa</td>\n",
       "      <td>Low income</td>\n",
       "      <td>10.035</td>\n",
       "      <td>144.0</td>\n",
       "      <td>5.399</td>\n",
       "    </tr>\n",
       "    <tr>\n",
       "      <th>Mali</th>\n",
       "      <td>1.0</td>\n",
       "      <td>NaN</td>\n",
       "      <td>NaN</td>\n",
       "      <td>NaN</td>\n",
       "      <td>NaN</td>\n",
       "      <td>NaN</td>\n",
       "      <td>Sub-Saharan Africa</td>\n",
       "      <td>Low income</td>\n",
       "      <td>18.488</td>\n",
       "      <td>119.0</td>\n",
       "      <td>4.830</td>\n",
       "    </tr>\n",
       "    <tr>\n",
       "      <th>Iran</th>\n",
       "      <td>1.0</td>\n",
       "      <td>3.57</td>\n",
       "      <td>1.0</td>\n",
       "      <td>3.0</td>\n",
       "      <td>1.0</td>\n",
       "      <td>0.0</td>\n",
       "      <td>NaN</td>\n",
       "      <td>NaN</td>\n",
       "      <td>NaN</td>\n",
       "      <td>NaN</td>\n",
       "      <td>NaN</td>\n",
       "    </tr>\n",
       "    <tr>\n",
       "      <th>Kenya</th>\n",
       "      <td>1.0</td>\n",
       "      <td>3.93</td>\n",
       "      <td>1.0</td>\n",
       "      <td>3.0</td>\n",
       "      <td>1.0</td>\n",
       "      <td>0.0</td>\n",
       "      <td>Sub-Saharan Africa</td>\n",
       "      <td>Lower middle income</td>\n",
       "      <td>98.264</td>\n",
       "      <td>65.0</td>\n",
       "      <td>6.134</td>\n",
       "    </tr>\n",
       "    <tr>\n",
       "      <th>Togo</th>\n",
       "      <td>1.0</td>\n",
       "      <td>NaN</td>\n",
       "      <td>NaN</td>\n",
       "      <td>NaN</td>\n",
       "      <td>NaN</td>\n",
       "      <td>NaN</td>\n",
       "      <td>Sub-Saharan Africa</td>\n",
       "      <td>Low income</td>\n",
       "      <td>5.673</td>\n",
       "      <td>151.0</td>\n",
       "      <td>5.049</td>\n",
       "    </tr>\n",
       "    <tr>\n",
       "      <th>Mexico</th>\n",
       "      <td>1.0</td>\n",
       "      <td>5.93</td>\n",
       "      <td>0.0</td>\n",
       "      <td>3.0</td>\n",
       "      <td>1.0</td>\n",
       "      <td>1.0</td>\n",
       "      <td>NaN</td>\n",
       "      <td>NaN</td>\n",
       "      <td>1242.390</td>\n",
       "      <td>15.0</td>\n",
       "      <td>2.524</td>\n",
       "    </tr>\n",
       "    <tr>\n",
       "      <th>Sierra Leone</th>\n",
       "      <td>1.0</td>\n",
       "      <td>NaN</td>\n",
       "      <td>NaN</td>\n",
       "      <td>NaN</td>\n",
       "      <td>NaN</td>\n",
       "      <td>NaN</td>\n",
       "      <td>Sub-Saharan Africa</td>\n",
       "      <td>Low income</td>\n",
       "      <td>3.786</td>\n",
       "      <td>160.0</td>\n",
       "      <td>5.546</td>\n",
       "    </tr>\n",
       "    <tr>\n",
       "      <th>Liberia</th>\n",
       "      <td>1.0</td>\n",
       "      <td>NaN</td>\n",
       "      <td>NaN</td>\n",
       "      <td>NaN</td>\n",
       "      <td>NaN</td>\n",
       "      <td>NaN</td>\n",
       "      <td>Sub-Saharan Africa</td>\n",
       "      <td>Low income</td>\n",
       "      <td>3.245</td>\n",
       "      <td>163.0</td>\n",
       "      <td>4.513</td>\n",
       "    </tr>\n",
       "  </tbody>\n",
       "</table>\n",
       "</div>"
      ],
      "text/plain": [
       "              Top 30 RoL Offendor Status  Agg. AIGS Score  (BRI) Participant  \\\n",
       "Country                                                                        \n",
       "Venezuela                            1.0             2.49                1.0   \n",
       "Cambodia                             1.0              NaN                NaN   \n",
       "Congo                                1.0              NaN                NaN   \n",
       "Afghanistan                          1.0              NaN                NaN   \n",
       "Mauritania                           1.0              NaN                NaN   \n",
       "Egypt                                1.0             2.56                1.0   \n",
       "Cameroon                             1.0              NaN                NaN   \n",
       "Bolivia                              1.0             6.27                1.0   \n",
       "Ethiopia                             1.0              NaN                NaN   \n",
       "Pakistan                             1.0             4.44                1.0   \n",
       "Zimbabwe                             1.0             3.18                0.0   \n",
       "Honduras                             1.0              NaN                NaN   \n",
       "Nicaragua                            1.0              NaN                NaN   \n",
       "Uganda                               1.0             4.18                1.0   \n",
       "Bangladesh                           1.0             4.36                1.0   \n",
       "Angola                               1.0              NaN                NaN   \n",
       "Myanmar                              1.0             4.18                1.0   \n",
       "Turkey                               1.0             3.65                1.0   \n",
       "Mozambique                           1.0              NaN                NaN   \n",
       "Madagascar                           1.0              NaN                NaN   \n",
       "Nigeria                              1.0             4.47                0.0   \n",
       "Guinea                               1.0              NaN                NaN   \n",
       "Niger                                1.0              NaN                NaN   \n",
       "Mali                                 1.0              NaN                NaN   \n",
       "Iran                                 1.0             3.57                1.0   \n",
       "Kenya                                1.0             3.93                1.0   \n",
       "Togo                                 1.0              NaN                NaN   \n",
       "Mexico                               1.0             5.93                0.0   \n",
       "Sierra Leone                         1.0              NaN                NaN   \n",
       "Liberia                              1.0              NaN                NaN   \n",
       "\n",
       "              Types of AI Surveillance  Powered by Chinese Tech  \\\n",
       "Country                                                           \n",
       "Venezuela                          1.0                      1.0   \n",
       "Cambodia                           NaN                      NaN   \n",
       "Congo                              NaN                      NaN   \n",
       "Afghanistan                        NaN                      NaN   \n",
       "Mauritania                         NaN                      NaN   \n",
       "Egypt                              3.0                      1.0   \n",
       "Cameroon                           NaN                      NaN   \n",
       "Bolivia                            3.0                      1.0   \n",
       "Ethiopia                           NaN                      NaN   \n",
       "Pakistan                           3.0                      1.0   \n",
       "Zimbabwe                           2.0                      1.0   \n",
       "Honduras                           NaN                      NaN   \n",
       "Nicaragua                          NaN                      NaN   \n",
       "Uganda                             2.0                      1.0   \n",
       "Bangladesh                         3.0                      1.0   \n",
       "Angola                             NaN                      NaN   \n",
       "Myanmar                            2.0                      1.0   \n",
       "Turkey                             2.0                      1.0   \n",
       "Mozambique                         NaN                      NaN   \n",
       "Madagascar                         NaN                      NaN   \n",
       "Nigeria                            1.0                      1.0   \n",
       "Guinea                             NaN                      NaN   \n",
       "Niger                              NaN                      NaN   \n",
       "Mali                               NaN                      NaN   \n",
       "Iran                               3.0                      1.0   \n",
       "Kenya                              3.0                      1.0   \n",
       "Togo                               NaN                      NaN   \n",
       "Mexico                             3.0                      1.0   \n",
       "Sierra Leone                       NaN                      NaN   \n",
       "Liberia                            NaN                      NaN   \n",
       "\n",
       "              Powered by American Tech                     Region  \\\n",
       "Country                                                             \n",
       "Venezuela                          0.0  Latin America & Caribbean   \n",
       "Cambodia                           NaN        East Asia & Pacific   \n",
       "Congo                              NaN         Sub-Saharan Africa   \n",
       "Afghanistan                        NaN                 South Asia   \n",
       "Mauritania                         NaN         Sub-Saharan Africa   \n",
       "Egypt                              1.0                        NaN   \n",
       "Cameroon                           NaN         Sub-Saharan Africa   \n",
       "Bolivia                            0.0  Latin America & Caribbean   \n",
       "Ethiopia                           NaN         Sub-Saharan Africa   \n",
       "Pakistan                           0.0                 South Asia   \n",
       "Zimbabwe                           0.0         Sub-Saharan Africa   \n",
       "Honduras                           NaN                        NaN   \n",
       "Nicaragua                          NaN                        NaN   \n",
       "Uganda                             0.0         Sub-Saharan Africa   \n",
       "Bangladesh                         0.0                 South Asia   \n",
       "Angola                             NaN         Sub-Saharan Africa   \n",
       "Myanmar                            0.0        East Asia & Pacific   \n",
       "Turkey                             1.0      Europe & Central Asia   \n",
       "Mozambique                         NaN         Sub-Saharan Africa   \n",
       "Madagascar                         NaN         Sub-Saharan Africa   \n",
       "Nigeria                            0.0         Sub-Saharan Africa   \n",
       "Guinea                             NaN         Sub-Saharan Africa   \n",
       "Niger                              NaN         Sub-Saharan Africa   \n",
       "Mali                               NaN         Sub-Saharan Africa   \n",
       "Iran                               0.0                        NaN   \n",
       "Kenya                              0.0         Sub-Saharan Africa   \n",
       "Togo                               NaN         Sub-Saharan Africa   \n",
       "Mexico                             1.0                        NaN   \n",
       "Sierra Leone                       NaN         Sub-Saharan Africa   \n",
       "Liberia                            NaN         Sub-Saharan Africa   \n",
       "\n",
       "                      IncomeGroup  Estimated Nominal GDP 2019  GDP Rank  \\\n",
       "Country                                                                   \n",
       "Venezuela     Upper middle income                      87.010      68.0   \n",
       "Cambodia      Lower middle income                      26.372     107.0   \n",
       "Congo         Lower middle income                     469.661      26.0   \n",
       "Afghanistan            Low income                      21.074     115.0   \n",
       "Mauritania    Lower middle income                       5.243     154.0   \n",
       "Egypt                         NaN                     298.153      44.0   \n",
       "Cameroon      Lower middle income                      40.125      98.0   \n",
       "Bolivia       Lower middle income                      45.045      93.0   \n",
       "Ethiopia               Low income                      88.170      67.0   \n",
       "Pakistan      Lower middle income                     298.310      43.0   \n",
       "Zimbabwe               Low income                      21.630     113.0   \n",
       "Honduras                      NaN                      24.496     111.0   \n",
       "Nicaragua                     NaN                      13.626     132.0   \n",
       "Uganda                 Low income                      29.869     104.0   \n",
       "Bangladesh    Lower middle income                     313.509      41.0   \n",
       "Angola        Lower middle income                     110.186      62.0   \n",
       "Myanmar       Lower middle income                      73.954      72.0   \n",
       "Turkey        Upper middle income                     631.163      20.0   \n",
       "Mozambique             Low income                      15.602     124.0   \n",
       "Madagascar             Low income                      13.553     133.0   \n",
       "Nigeria       Lower middle income                     447.013      29.0   \n",
       "Guinea                 Low income                      12.465     138.0   \n",
       "Niger                  Low income                      10.035     144.0   \n",
       "Mali                   Low income                      18.488     119.0   \n",
       "Iran                          NaN                         NaN       NaN   \n",
       "Kenya         Lower middle income                      98.264      65.0   \n",
       "Togo                   Low income                       5.673     151.0   \n",
       "Mexico                        NaN                    1242.390      15.0   \n",
       "Sierra Leone           Low income                       3.786     160.0   \n",
       "Liberia                Low income                       3.245     163.0   \n",
       "\n",
       "              GDP Growth (%) 2019  \n",
       "Country                            \n",
       "Venezuela                  -5.000  \n",
       "Cambodia                    6.778  \n",
       "Congo                       2.150  \n",
       "Afghanistan                 3.024  \n",
       "Mauritania                  5.237  \n",
       "Egypt                       5.464  \n",
       "Cameroon                    4.401  \n",
       "Bolivia                     4.200  \n",
       "Ethiopia                    8.494  \n",
       "Pakistan                    4.005  \n",
       "Zimbabwe                    4.202  \n",
       "Honduras                    3.600  \n",
       "Nicaragua                  -1.000  \n",
       "Uganda                      6.105  \n",
       "Bangladesh                  7.097  \n",
       "Angola                      3.055  \n",
       "Myanmar                     6.795  \n",
       "Turkey                      0.374  \n",
       "Mozambique                  4.000  \n",
       "Madagascar                  5.412  \n",
       "Nigeria                     2.260  \n",
       "Guinea                      5.932  \n",
       "Niger                       5.399  \n",
       "Mali                        4.830  \n",
       "Iran                          NaN  \n",
       "Kenya                       6.134  \n",
       "Togo                        5.049  \n",
       "Mexico                      2.524  \n",
       "Sierra Leone                5.546  \n",
       "Liberia                     4.513  "
      ]
     },
     "execution_count": 181,
     "metadata": {},
     "output_type": "execute_result"
    }
   ],
   "source": [
    "Final_df1"
   ]
  },
  {
   "cell_type": "code",
   "execution_count": 182,
   "metadata": {},
   "outputs": [],
   "source": [
    "# Filling Null Values with the average of the corresponding column\n",
    "Final_df1['Agg. AIGS Score'].fillna(value=Final_df1['Agg. AIGS Score'].mean(), inplace=True)\n",
    "Final_df1['(BRI) Participant'].fillna(value=1.0, inplace=True) # All in BRI 138 list except for Honduras and Nicaragua; \n",
    "# Niger is the only country amongst the disputed 7 that is included in this set\n",
    "Final_df1['Types of AI Surveillance'].fillna(value=Final_df1['Types of AI Surveillance'].mean(), inplace=True)\n",
    "Final_df1['Powered by Chinese Tech'].fillna(value=0.5, inplace=True) # Not confirmed one way or another so 50/50 chance of 1 or 0\n",
    "Final_df1['Powered by American Tech'].fillna(value=0.5, inplace=True) # Not confirmed one way or another so 50/50 chance of 1 or 0"
   ]
  },
  {
   "cell_type": "code",
   "execution_count": 183,
   "metadata": {},
   "outputs": [
    {
     "name": "stderr",
     "output_type": "stream",
     "text": [
      "<ipython-input-183-978a99647e35>:1: SettingWithCopyWarning:\n",
      "\n",
      "\n",
      "A value is trying to be set on a copy of a slice from a DataFrame\n",
      "\n",
      "See the caveats in the documentation: https://pandas.pydata.org/pandas-docs/stable/user_guide/indexing.html#returning-a-view-versus-a-copy\n",
      "\n",
      "<ipython-input-183-978a99647e35>:2: SettingWithCopyWarning:\n",
      "\n",
      "\n",
      "A value is trying to be set on a copy of a slice from a DataFrame\n",
      "\n",
      "See the caveats in the documentation: https://pandas.pydata.org/pandas-docs/stable/user_guide/indexing.html#returning-a-view-versus-a-copy\n",
      "\n"
     ]
    }
   ],
   "source": [
    "Final_df1['(BRI) Participant'][12] = 0 # Honduras\n",
    "Final_df1['(BRI) Participant'][12] = 0 # Nicaragua"
   ]
  },
  {
   "cell_type": "code",
   "execution_count": 184,
   "metadata": {},
   "outputs": [
    {
     "data": {
      "text/html": [
       "<div>\n",
       "<style scoped>\n",
       "    .dataframe tbody tr th:only-of-type {\n",
       "        vertical-align: middle;\n",
       "    }\n",
       "\n",
       "    .dataframe tbody tr th {\n",
       "        vertical-align: top;\n",
       "    }\n",
       "\n",
       "    .dataframe thead th {\n",
       "        text-align: right;\n",
       "    }\n",
       "</style>\n",
       "<table border=\"1\" class=\"dataframe\">\n",
       "  <thead>\n",
       "    <tr style=\"text-align: right;\">\n",
       "      <th></th>\n",
       "      <th>Top 30 RoL Offendor Status</th>\n",
       "      <th>Agg. AIGS Score</th>\n",
       "      <th>(BRI) Participant</th>\n",
       "      <th>Types of AI Surveillance</th>\n",
       "      <th>Powered by Chinese Tech</th>\n",
       "      <th>Powered by American Tech</th>\n",
       "      <th>Region</th>\n",
       "      <th>IncomeGroup</th>\n",
       "      <th>Estimated Nominal GDP 2019</th>\n",
       "      <th>GDP Rank</th>\n",
       "      <th>GDP Growth (%) 2019</th>\n",
       "    </tr>\n",
       "    <tr>\n",
       "      <th>Country</th>\n",
       "      <th></th>\n",
       "      <th></th>\n",
       "      <th></th>\n",
       "      <th></th>\n",
       "      <th></th>\n",
       "      <th></th>\n",
       "      <th></th>\n",
       "      <th></th>\n",
       "      <th></th>\n",
       "      <th></th>\n",
       "      <th></th>\n",
       "    </tr>\n",
       "  </thead>\n",
       "  <tbody>\n",
       "    <tr>\n",
       "      <th>Venezuela</th>\n",
       "      <td>1.0</td>\n",
       "      <td>2.490000</td>\n",
       "      <td>1.0</td>\n",
       "      <td>1.000000</td>\n",
       "      <td>1.0</td>\n",
       "      <td>0.0</td>\n",
       "      <td>Latin America &amp; Caribbean</td>\n",
       "      <td>Upper middle income</td>\n",
       "      <td>87.010</td>\n",
       "      <td>68.0</td>\n",
       "      <td>-5.000</td>\n",
       "    </tr>\n",
       "    <tr>\n",
       "      <th>Cambodia</th>\n",
       "      <td>1.0</td>\n",
       "      <td>4.093077</td>\n",
       "      <td>1.0</td>\n",
       "      <td>2.384615</td>\n",
       "      <td>0.5</td>\n",
       "      <td>0.5</td>\n",
       "      <td>East Asia &amp; Pacific</td>\n",
       "      <td>Lower middle income</td>\n",
       "      <td>26.372</td>\n",
       "      <td>107.0</td>\n",
       "      <td>6.778</td>\n",
       "    </tr>\n",
       "    <tr>\n",
       "      <th>Congo</th>\n",
       "      <td>1.0</td>\n",
       "      <td>4.093077</td>\n",
       "      <td>1.0</td>\n",
       "      <td>2.384615</td>\n",
       "      <td>0.5</td>\n",
       "      <td>0.5</td>\n",
       "      <td>Sub-Saharan Africa</td>\n",
       "      <td>Lower middle income</td>\n",
       "      <td>469.661</td>\n",
       "      <td>26.0</td>\n",
       "      <td>2.150</td>\n",
       "    </tr>\n",
       "    <tr>\n",
       "      <th>Afghanistan</th>\n",
       "      <td>1.0</td>\n",
       "      <td>4.093077</td>\n",
       "      <td>1.0</td>\n",
       "      <td>2.384615</td>\n",
       "      <td>0.5</td>\n",
       "      <td>0.5</td>\n",
       "      <td>South Asia</td>\n",
       "      <td>Low income</td>\n",
       "      <td>21.074</td>\n",
       "      <td>115.0</td>\n",
       "      <td>3.024</td>\n",
       "    </tr>\n",
       "    <tr>\n",
       "      <th>Mauritania</th>\n",
       "      <td>1.0</td>\n",
       "      <td>4.093077</td>\n",
       "      <td>1.0</td>\n",
       "      <td>2.384615</td>\n",
       "      <td>0.5</td>\n",
       "      <td>0.5</td>\n",
       "      <td>Sub-Saharan Africa</td>\n",
       "      <td>Lower middle income</td>\n",
       "      <td>5.243</td>\n",
       "      <td>154.0</td>\n",
       "      <td>5.237</td>\n",
       "    </tr>\n",
       "    <tr>\n",
       "      <th>Egypt</th>\n",
       "      <td>1.0</td>\n",
       "      <td>2.560000</td>\n",
       "      <td>1.0</td>\n",
       "      <td>3.000000</td>\n",
       "      <td>1.0</td>\n",
       "      <td>1.0</td>\n",
       "      <td>NaN</td>\n",
       "      <td>NaN</td>\n",
       "      <td>298.153</td>\n",
       "      <td>44.0</td>\n",
       "      <td>5.464</td>\n",
       "    </tr>\n",
       "    <tr>\n",
       "      <th>Cameroon</th>\n",
       "      <td>1.0</td>\n",
       "      <td>4.093077</td>\n",
       "      <td>1.0</td>\n",
       "      <td>2.384615</td>\n",
       "      <td>0.5</td>\n",
       "      <td>0.5</td>\n",
       "      <td>Sub-Saharan Africa</td>\n",
       "      <td>Lower middle income</td>\n",
       "      <td>40.125</td>\n",
       "      <td>98.0</td>\n",
       "      <td>4.401</td>\n",
       "    </tr>\n",
       "    <tr>\n",
       "      <th>Bolivia</th>\n",
       "      <td>1.0</td>\n",
       "      <td>6.270000</td>\n",
       "      <td>1.0</td>\n",
       "      <td>3.000000</td>\n",
       "      <td>1.0</td>\n",
       "      <td>0.0</td>\n",
       "      <td>Latin America &amp; Caribbean</td>\n",
       "      <td>Lower middle income</td>\n",
       "      <td>45.045</td>\n",
       "      <td>93.0</td>\n",
       "      <td>4.200</td>\n",
       "    </tr>\n",
       "    <tr>\n",
       "      <th>Ethiopia</th>\n",
       "      <td>1.0</td>\n",
       "      <td>4.093077</td>\n",
       "      <td>1.0</td>\n",
       "      <td>2.384615</td>\n",
       "      <td>0.5</td>\n",
       "      <td>0.5</td>\n",
       "      <td>Sub-Saharan Africa</td>\n",
       "      <td>Low income</td>\n",
       "      <td>88.170</td>\n",
       "      <td>67.0</td>\n",
       "      <td>8.494</td>\n",
       "    </tr>\n",
       "    <tr>\n",
       "      <th>Pakistan</th>\n",
       "      <td>1.0</td>\n",
       "      <td>4.440000</td>\n",
       "      <td>1.0</td>\n",
       "      <td>3.000000</td>\n",
       "      <td>1.0</td>\n",
       "      <td>0.0</td>\n",
       "      <td>South Asia</td>\n",
       "      <td>Lower middle income</td>\n",
       "      <td>298.310</td>\n",
       "      <td>43.0</td>\n",
       "      <td>4.005</td>\n",
       "    </tr>\n",
       "    <tr>\n",
       "      <th>Zimbabwe</th>\n",
       "      <td>1.0</td>\n",
       "      <td>3.180000</td>\n",
       "      <td>0.0</td>\n",
       "      <td>2.000000</td>\n",
       "      <td>1.0</td>\n",
       "      <td>0.0</td>\n",
       "      <td>Sub-Saharan Africa</td>\n",
       "      <td>Low income</td>\n",
       "      <td>21.630</td>\n",
       "      <td>113.0</td>\n",
       "      <td>4.202</td>\n",
       "    </tr>\n",
       "    <tr>\n",
       "      <th>Honduras</th>\n",
       "      <td>1.0</td>\n",
       "      <td>4.093077</td>\n",
       "      <td>1.0</td>\n",
       "      <td>2.384615</td>\n",
       "      <td>0.5</td>\n",
       "      <td>0.5</td>\n",
       "      <td>NaN</td>\n",
       "      <td>NaN</td>\n",
       "      <td>24.496</td>\n",
       "      <td>111.0</td>\n",
       "      <td>3.600</td>\n",
       "    </tr>\n",
       "    <tr>\n",
       "      <th>Nicaragua</th>\n",
       "      <td>1.0</td>\n",
       "      <td>4.093077</td>\n",
       "      <td>0.0</td>\n",
       "      <td>2.384615</td>\n",
       "      <td>0.5</td>\n",
       "      <td>0.5</td>\n",
       "      <td>NaN</td>\n",
       "      <td>NaN</td>\n",
       "      <td>13.626</td>\n",
       "      <td>132.0</td>\n",
       "      <td>-1.000</td>\n",
       "    </tr>\n",
       "    <tr>\n",
       "      <th>Uganda</th>\n",
       "      <td>1.0</td>\n",
       "      <td>4.180000</td>\n",
       "      <td>1.0</td>\n",
       "      <td>2.000000</td>\n",
       "      <td>1.0</td>\n",
       "      <td>0.0</td>\n",
       "      <td>Sub-Saharan Africa</td>\n",
       "      <td>Low income</td>\n",
       "      <td>29.869</td>\n",
       "      <td>104.0</td>\n",
       "      <td>6.105</td>\n",
       "    </tr>\n",
       "    <tr>\n",
       "      <th>Bangladesh</th>\n",
       "      <td>1.0</td>\n",
       "      <td>4.360000</td>\n",
       "      <td>1.0</td>\n",
       "      <td>3.000000</td>\n",
       "      <td>1.0</td>\n",
       "      <td>0.0</td>\n",
       "      <td>South Asia</td>\n",
       "      <td>Lower middle income</td>\n",
       "      <td>313.509</td>\n",
       "      <td>41.0</td>\n",
       "      <td>7.097</td>\n",
       "    </tr>\n",
       "    <tr>\n",
       "      <th>Angola</th>\n",
       "      <td>1.0</td>\n",
       "      <td>4.093077</td>\n",
       "      <td>1.0</td>\n",
       "      <td>2.384615</td>\n",
       "      <td>0.5</td>\n",
       "      <td>0.5</td>\n",
       "      <td>Sub-Saharan Africa</td>\n",
       "      <td>Lower middle income</td>\n",
       "      <td>110.186</td>\n",
       "      <td>62.0</td>\n",
       "      <td>3.055</td>\n",
       "    </tr>\n",
       "    <tr>\n",
       "      <th>Myanmar</th>\n",
       "      <td>1.0</td>\n",
       "      <td>4.180000</td>\n",
       "      <td>1.0</td>\n",
       "      <td>2.000000</td>\n",
       "      <td>1.0</td>\n",
       "      <td>0.0</td>\n",
       "      <td>East Asia &amp; Pacific</td>\n",
       "      <td>Lower middle income</td>\n",
       "      <td>73.954</td>\n",
       "      <td>72.0</td>\n",
       "      <td>6.795</td>\n",
       "    </tr>\n",
       "    <tr>\n",
       "      <th>Turkey</th>\n",
       "      <td>1.0</td>\n",
       "      <td>3.650000</td>\n",
       "      <td>1.0</td>\n",
       "      <td>2.000000</td>\n",
       "      <td>1.0</td>\n",
       "      <td>1.0</td>\n",
       "      <td>Europe &amp; Central Asia</td>\n",
       "      <td>Upper middle income</td>\n",
       "      <td>631.163</td>\n",
       "      <td>20.0</td>\n",
       "      <td>0.374</td>\n",
       "    </tr>\n",
       "    <tr>\n",
       "      <th>Mozambique</th>\n",
       "      <td>1.0</td>\n",
       "      <td>4.093077</td>\n",
       "      <td>1.0</td>\n",
       "      <td>2.384615</td>\n",
       "      <td>0.5</td>\n",
       "      <td>0.5</td>\n",
       "      <td>Sub-Saharan Africa</td>\n",
       "      <td>Low income</td>\n",
       "      <td>15.602</td>\n",
       "      <td>124.0</td>\n",
       "      <td>4.000</td>\n",
       "    </tr>\n",
       "    <tr>\n",
       "      <th>Madagascar</th>\n",
       "      <td>1.0</td>\n",
       "      <td>4.093077</td>\n",
       "      <td>1.0</td>\n",
       "      <td>2.384615</td>\n",
       "      <td>0.5</td>\n",
       "      <td>0.5</td>\n",
       "      <td>Sub-Saharan Africa</td>\n",
       "      <td>Low income</td>\n",
       "      <td>13.553</td>\n",
       "      <td>133.0</td>\n",
       "      <td>5.412</td>\n",
       "    </tr>\n",
       "    <tr>\n",
       "      <th>Nigeria</th>\n",
       "      <td>1.0</td>\n",
       "      <td>4.470000</td>\n",
       "      <td>0.0</td>\n",
       "      <td>1.000000</td>\n",
       "      <td>1.0</td>\n",
       "      <td>0.0</td>\n",
       "      <td>Sub-Saharan Africa</td>\n",
       "      <td>Lower middle income</td>\n",
       "      <td>447.013</td>\n",
       "      <td>29.0</td>\n",
       "      <td>2.260</td>\n",
       "    </tr>\n",
       "    <tr>\n",
       "      <th>Guinea</th>\n",
       "      <td>1.0</td>\n",
       "      <td>4.093077</td>\n",
       "      <td>1.0</td>\n",
       "      <td>2.384615</td>\n",
       "      <td>0.5</td>\n",
       "      <td>0.5</td>\n",
       "      <td>Sub-Saharan Africa</td>\n",
       "      <td>Low income</td>\n",
       "      <td>12.465</td>\n",
       "      <td>138.0</td>\n",
       "      <td>5.932</td>\n",
       "    </tr>\n",
       "    <tr>\n",
       "      <th>Niger</th>\n",
       "      <td>1.0</td>\n",
       "      <td>4.093077</td>\n",
       "      <td>1.0</td>\n",
       "      <td>2.384615</td>\n",
       "      <td>0.5</td>\n",
       "      <td>0.5</td>\n",
       "      <td>Sub-Saharan Africa</td>\n",
       "      <td>Low income</td>\n",
       "      <td>10.035</td>\n",
       "      <td>144.0</td>\n",
       "      <td>5.399</td>\n",
       "    </tr>\n",
       "    <tr>\n",
       "      <th>Mali</th>\n",
       "      <td>1.0</td>\n",
       "      <td>4.093077</td>\n",
       "      <td>1.0</td>\n",
       "      <td>2.384615</td>\n",
       "      <td>0.5</td>\n",
       "      <td>0.5</td>\n",
       "      <td>Sub-Saharan Africa</td>\n",
       "      <td>Low income</td>\n",
       "      <td>18.488</td>\n",
       "      <td>119.0</td>\n",
       "      <td>4.830</td>\n",
       "    </tr>\n",
       "    <tr>\n",
       "      <th>Iran</th>\n",
       "      <td>1.0</td>\n",
       "      <td>3.570000</td>\n",
       "      <td>1.0</td>\n",
       "      <td>3.000000</td>\n",
       "      <td>1.0</td>\n",
       "      <td>0.0</td>\n",
       "      <td>NaN</td>\n",
       "      <td>NaN</td>\n",
       "      <td>NaN</td>\n",
       "      <td>NaN</td>\n",
       "      <td>NaN</td>\n",
       "    </tr>\n",
       "    <tr>\n",
       "      <th>Kenya</th>\n",
       "      <td>1.0</td>\n",
       "      <td>3.930000</td>\n",
       "      <td>1.0</td>\n",
       "      <td>3.000000</td>\n",
       "      <td>1.0</td>\n",
       "      <td>0.0</td>\n",
       "      <td>Sub-Saharan Africa</td>\n",
       "      <td>Lower middle income</td>\n",
       "      <td>98.264</td>\n",
       "      <td>65.0</td>\n",
       "      <td>6.134</td>\n",
       "    </tr>\n",
       "    <tr>\n",
       "      <th>Togo</th>\n",
       "      <td>1.0</td>\n",
       "      <td>4.093077</td>\n",
       "      <td>1.0</td>\n",
       "      <td>2.384615</td>\n",
       "      <td>0.5</td>\n",
       "      <td>0.5</td>\n",
       "      <td>Sub-Saharan Africa</td>\n",
       "      <td>Low income</td>\n",
       "      <td>5.673</td>\n",
       "      <td>151.0</td>\n",
       "      <td>5.049</td>\n",
       "    </tr>\n",
       "    <tr>\n",
       "      <th>Mexico</th>\n",
       "      <td>1.0</td>\n",
       "      <td>5.930000</td>\n",
       "      <td>0.0</td>\n",
       "      <td>3.000000</td>\n",
       "      <td>1.0</td>\n",
       "      <td>1.0</td>\n",
       "      <td>NaN</td>\n",
       "      <td>NaN</td>\n",
       "      <td>1242.390</td>\n",
       "      <td>15.0</td>\n",
       "      <td>2.524</td>\n",
       "    </tr>\n",
       "    <tr>\n",
       "      <th>Sierra Leone</th>\n",
       "      <td>1.0</td>\n",
       "      <td>4.093077</td>\n",
       "      <td>1.0</td>\n",
       "      <td>2.384615</td>\n",
       "      <td>0.5</td>\n",
       "      <td>0.5</td>\n",
       "      <td>Sub-Saharan Africa</td>\n",
       "      <td>Low income</td>\n",
       "      <td>3.786</td>\n",
       "      <td>160.0</td>\n",
       "      <td>5.546</td>\n",
       "    </tr>\n",
       "    <tr>\n",
       "      <th>Liberia</th>\n",
       "      <td>1.0</td>\n",
       "      <td>4.093077</td>\n",
       "      <td>1.0</td>\n",
       "      <td>2.384615</td>\n",
       "      <td>0.5</td>\n",
       "      <td>0.5</td>\n",
       "      <td>Sub-Saharan Africa</td>\n",
       "      <td>Low income</td>\n",
       "      <td>3.245</td>\n",
       "      <td>163.0</td>\n",
       "      <td>4.513</td>\n",
       "    </tr>\n",
       "  </tbody>\n",
       "</table>\n",
       "</div>"
      ],
      "text/plain": [
       "              Top 30 RoL Offendor Status  Agg. AIGS Score  (BRI) Participant  \\\n",
       "Country                                                                        \n",
       "Venezuela                            1.0         2.490000                1.0   \n",
       "Cambodia                             1.0         4.093077                1.0   \n",
       "Congo                                1.0         4.093077                1.0   \n",
       "Afghanistan                          1.0         4.093077                1.0   \n",
       "Mauritania                           1.0         4.093077                1.0   \n",
       "Egypt                                1.0         2.560000                1.0   \n",
       "Cameroon                             1.0         4.093077                1.0   \n",
       "Bolivia                              1.0         6.270000                1.0   \n",
       "Ethiopia                             1.0         4.093077                1.0   \n",
       "Pakistan                             1.0         4.440000                1.0   \n",
       "Zimbabwe                             1.0         3.180000                0.0   \n",
       "Honduras                             1.0         4.093077                1.0   \n",
       "Nicaragua                            1.0         4.093077                0.0   \n",
       "Uganda                               1.0         4.180000                1.0   \n",
       "Bangladesh                           1.0         4.360000                1.0   \n",
       "Angola                               1.0         4.093077                1.0   \n",
       "Myanmar                              1.0         4.180000                1.0   \n",
       "Turkey                               1.0         3.650000                1.0   \n",
       "Mozambique                           1.0         4.093077                1.0   \n",
       "Madagascar                           1.0         4.093077                1.0   \n",
       "Nigeria                              1.0         4.470000                0.0   \n",
       "Guinea                               1.0         4.093077                1.0   \n",
       "Niger                                1.0         4.093077                1.0   \n",
       "Mali                                 1.0         4.093077                1.0   \n",
       "Iran                                 1.0         3.570000                1.0   \n",
       "Kenya                                1.0         3.930000                1.0   \n",
       "Togo                                 1.0         4.093077                1.0   \n",
       "Mexico                               1.0         5.930000                0.0   \n",
       "Sierra Leone                         1.0         4.093077                1.0   \n",
       "Liberia                              1.0         4.093077                1.0   \n",
       "\n",
       "              Types of AI Surveillance  Powered by Chinese Tech  \\\n",
       "Country                                                           \n",
       "Venezuela                     1.000000                      1.0   \n",
       "Cambodia                      2.384615                      0.5   \n",
       "Congo                         2.384615                      0.5   \n",
       "Afghanistan                   2.384615                      0.5   \n",
       "Mauritania                    2.384615                      0.5   \n",
       "Egypt                         3.000000                      1.0   \n",
       "Cameroon                      2.384615                      0.5   \n",
       "Bolivia                       3.000000                      1.0   \n",
       "Ethiopia                      2.384615                      0.5   \n",
       "Pakistan                      3.000000                      1.0   \n",
       "Zimbabwe                      2.000000                      1.0   \n",
       "Honduras                      2.384615                      0.5   \n",
       "Nicaragua                     2.384615                      0.5   \n",
       "Uganda                        2.000000                      1.0   \n",
       "Bangladesh                    3.000000                      1.0   \n",
       "Angola                        2.384615                      0.5   \n",
       "Myanmar                       2.000000                      1.0   \n",
       "Turkey                        2.000000                      1.0   \n",
       "Mozambique                    2.384615                      0.5   \n",
       "Madagascar                    2.384615                      0.5   \n",
       "Nigeria                       1.000000                      1.0   \n",
       "Guinea                        2.384615                      0.5   \n",
       "Niger                         2.384615                      0.5   \n",
       "Mali                          2.384615                      0.5   \n",
       "Iran                          3.000000                      1.0   \n",
       "Kenya                         3.000000                      1.0   \n",
       "Togo                          2.384615                      0.5   \n",
       "Mexico                        3.000000                      1.0   \n",
       "Sierra Leone                  2.384615                      0.5   \n",
       "Liberia                       2.384615                      0.5   \n",
       "\n",
       "              Powered by American Tech                     Region  \\\n",
       "Country                                                             \n",
       "Venezuela                          0.0  Latin America & Caribbean   \n",
       "Cambodia                           0.5        East Asia & Pacific   \n",
       "Congo                              0.5         Sub-Saharan Africa   \n",
       "Afghanistan                        0.5                 South Asia   \n",
       "Mauritania                         0.5         Sub-Saharan Africa   \n",
       "Egypt                              1.0                        NaN   \n",
       "Cameroon                           0.5         Sub-Saharan Africa   \n",
       "Bolivia                            0.0  Latin America & Caribbean   \n",
       "Ethiopia                           0.5         Sub-Saharan Africa   \n",
       "Pakistan                           0.0                 South Asia   \n",
       "Zimbabwe                           0.0         Sub-Saharan Africa   \n",
       "Honduras                           0.5                        NaN   \n",
       "Nicaragua                          0.5                        NaN   \n",
       "Uganda                             0.0         Sub-Saharan Africa   \n",
       "Bangladesh                         0.0                 South Asia   \n",
       "Angola                             0.5         Sub-Saharan Africa   \n",
       "Myanmar                            0.0        East Asia & Pacific   \n",
       "Turkey                             1.0      Europe & Central Asia   \n",
       "Mozambique                         0.5         Sub-Saharan Africa   \n",
       "Madagascar                         0.5         Sub-Saharan Africa   \n",
       "Nigeria                            0.0         Sub-Saharan Africa   \n",
       "Guinea                             0.5         Sub-Saharan Africa   \n",
       "Niger                              0.5         Sub-Saharan Africa   \n",
       "Mali                               0.5         Sub-Saharan Africa   \n",
       "Iran                               0.0                        NaN   \n",
       "Kenya                              0.0         Sub-Saharan Africa   \n",
       "Togo                               0.5         Sub-Saharan Africa   \n",
       "Mexico                             1.0                        NaN   \n",
       "Sierra Leone                       0.5         Sub-Saharan Africa   \n",
       "Liberia                            0.5         Sub-Saharan Africa   \n",
       "\n",
       "                      IncomeGroup  Estimated Nominal GDP 2019  GDP Rank  \\\n",
       "Country                                                                   \n",
       "Venezuela     Upper middle income                      87.010      68.0   \n",
       "Cambodia      Lower middle income                      26.372     107.0   \n",
       "Congo         Lower middle income                     469.661      26.0   \n",
       "Afghanistan            Low income                      21.074     115.0   \n",
       "Mauritania    Lower middle income                       5.243     154.0   \n",
       "Egypt                         NaN                     298.153      44.0   \n",
       "Cameroon      Lower middle income                      40.125      98.0   \n",
       "Bolivia       Lower middle income                      45.045      93.0   \n",
       "Ethiopia               Low income                      88.170      67.0   \n",
       "Pakistan      Lower middle income                     298.310      43.0   \n",
       "Zimbabwe               Low income                      21.630     113.0   \n",
       "Honduras                      NaN                      24.496     111.0   \n",
       "Nicaragua                     NaN                      13.626     132.0   \n",
       "Uganda                 Low income                      29.869     104.0   \n",
       "Bangladesh    Lower middle income                     313.509      41.0   \n",
       "Angola        Lower middle income                     110.186      62.0   \n",
       "Myanmar       Lower middle income                      73.954      72.0   \n",
       "Turkey        Upper middle income                     631.163      20.0   \n",
       "Mozambique             Low income                      15.602     124.0   \n",
       "Madagascar             Low income                      13.553     133.0   \n",
       "Nigeria       Lower middle income                     447.013      29.0   \n",
       "Guinea                 Low income                      12.465     138.0   \n",
       "Niger                  Low income                      10.035     144.0   \n",
       "Mali                   Low income                      18.488     119.0   \n",
       "Iran                          NaN                         NaN       NaN   \n",
       "Kenya         Lower middle income                      98.264      65.0   \n",
       "Togo                   Low income                       5.673     151.0   \n",
       "Mexico                        NaN                    1242.390      15.0   \n",
       "Sierra Leone           Low income                       3.786     160.0   \n",
       "Liberia                Low income                       3.245     163.0   \n",
       "\n",
       "              GDP Growth (%) 2019  \n",
       "Country                            \n",
       "Venezuela                  -5.000  \n",
       "Cambodia                    6.778  \n",
       "Congo                       2.150  \n",
       "Afghanistan                 3.024  \n",
       "Mauritania                  5.237  \n",
       "Egypt                       5.464  \n",
       "Cameroon                    4.401  \n",
       "Bolivia                     4.200  \n",
       "Ethiopia                    8.494  \n",
       "Pakistan                    4.005  \n",
       "Zimbabwe                    4.202  \n",
       "Honduras                    3.600  \n",
       "Nicaragua                  -1.000  \n",
       "Uganda                      6.105  \n",
       "Bangladesh                  7.097  \n",
       "Angola                      3.055  \n",
       "Myanmar                     6.795  \n",
       "Turkey                      0.374  \n",
       "Mozambique                  4.000  \n",
       "Madagascar                  5.412  \n",
       "Nigeria                     2.260  \n",
       "Guinea                      5.932  \n",
       "Niger                       5.399  \n",
       "Mali                        4.830  \n",
       "Iran                          NaN  \n",
       "Kenya                       6.134  \n",
       "Togo                        5.049  \n",
       "Mexico                      2.524  \n",
       "Sierra Leone                5.546  \n",
       "Liberia                     4.513  "
      ]
     },
     "execution_count": 184,
     "metadata": {},
     "output_type": "execute_result"
    }
   ],
   "source": [
    "Final_df1"
   ]
  },
  {
   "cell_type": "code",
   "execution_count": 185,
   "metadata": {},
   "outputs": [],
   "source": [
    "Final1_matrix = Final_df1.corr()"
   ]
  },
  {
   "cell_type": "code",
   "execution_count": 186,
   "metadata": {
    "scrolled": false
   },
   "outputs": [
    {
     "data": {
      "text/plain": [
       "<AxesSubplot:>"
      ]
     },
     "execution_count": 186,
     "metadata": {},
     "output_type": "execute_result"
    },
    {
     "data": {
      "image/png": "[encoded data removed]",
      "text/plain": [
       "<Figure size 432x288 with 2 Axes>"
      ]
     },
     "metadata": {
      "needs_background": "light"
     },
     "output_type": "display_data"
    }
   ],
   "source": [
    "sns.heatmap(Final1_matrix)"
   ]
  },
  {
   "cell_type": "markdown",
   "metadata": {},
   "source": [
    "### Findings: ###"
   ]
  },
  {
   "cell_type": "code",
   "execution_count": 187,
   "metadata": {},
   "outputs": [
    {
     "data": {
      "text/plain": [
       "'\\nHigh value in one relates to high value in the other:\\n    GDP Growth vs Types of Surveillance, -> Rising countries are investing more heavily in Surveillance Tech\\n    GDP Growth vs BRI Participation, -> BRI participant nations are experiencing higher GDP growth rates in terms of %\\n    Estimated Nominal GDP 2019 vs Powered by American Tech, -> High Income Nations are likely to buy American Tech\\n    Estimated Nominal GDP 2019 vs Powered by Chinese Tech, -> High Income Nations are even more likely to buy Chinese Tech\\n    Types of Surveillance vs Agg. AIGS Score, -> Nations with more variety of surveillance measures have slightly higher scores\\n'"
      ]
     },
     "execution_count": 187,
     "metadata": {},
     "output_type": "execute_result"
    }
   ],
   "source": [
    "#Amongst the 30 Worst Offendors on the Rule of Law Index, the following seem to be inversely correlated:\n",
    "'''\n",
    "High value in one relates to low value in the other:\n",
    "    GDP Rank vs Estimated Nominal GDP for 2019, -> 'Smaller' Rank No. AKA Higher Ranked Countries have a larger Nominal GDP\n",
    "    GDP Rank vs Powered by Chinese Tech, -> Aside from a sizable handful of lower-income countries in Sub-Saharan Africa, \n",
    "                                            Chinese Tech is most prevelant in countries that are high-ranked in terms of GDP\n",
    "    BRI Participation vs Estimated Nominal GDP 2019, -> Again, China Powering mostly low-income countries\n",
    "    Powered by Chinese Tech vs Powered by American Tech, -> Most countries select one or the other but there is overlap\n",
    "    BRI Participation vs Agg. AIGS Score, -> BRI Participants are likely to have a lower score, indicating abuse of AI\n",
    "'''\n",
    "#Amongst the 30 Worst Offendors on the Rule of Law Index, the following seem to be directly correlated:\n",
    "'''\n",
    "High value in one relates to high value in the other:\n",
    "    GDP Growth vs Types of Surveillance, -> Rising countries are investing more heavily in Surveillance Tech\n",
    "    GDP Growth vs BRI Participation, -> BRI participant nations are experiencing higher GDP growth rates in terms of %\n",
    "    Estimated Nominal GDP 2019 vs Powered by American Tech, -> High Income Nations are likely to buy American Tech\n",
    "    Estimated Nominal GDP 2019 vs Powered by Chinese Tech, -> High Income Nations are even more likely to buy Chinese Tech\n",
    "    Types of Surveillance vs Agg. AIGS Score, -> Nations with more variety of surveillance measures have slightly higher scores\n",
    "'''"
   ]
  },
  {
   "cell_type": "code",
   "execution_count": 188,
   "metadata": {},
   "outputs": [],
   "source": [
    "# 30 Lowest rated countries on the Artificial Intelligence Global Surveillance (AIGS) Index\n",
    "# Indicative of greatest levels of abuse of AI tech\n",
    "Final_df2 = AI_df1.join(other=[bri_df2, gdp_2019_df1])"
   ]
  },
  {
   "cell_type": "code",
   "execution_count": 189,
   "metadata": {},
   "outputs": [
    {
     "data": {
      "text/html": [
       "<div>\n",
       "<style scoped>\n",
       "    .dataframe tbody tr th:only-of-type {\n",
       "        vertical-align: middle;\n",
       "    }\n",
       "\n",
       "    .dataframe tbody tr th {\n",
       "        vertical-align: top;\n",
       "    }\n",
       "\n",
       "    .dataframe thead th {\n",
       "        text-align: right;\n",
       "    }\n",
       "</style>\n",
       "<table border=\"1\" class=\"dataframe\">\n",
       "  <thead>\n",
       "    <tr style=\"text-align: right;\">\n",
       "      <th></th>\n",
       "      <th>Agg. AIGS Score</th>\n",
       "      <th>(BRI) Participant</th>\n",
       "      <th>Types of AI Surveillance</th>\n",
       "      <th>Powered by Chinese Tech</th>\n",
       "      <th>Powered by American Tech</th>\n",
       "      <th>Region</th>\n",
       "      <th>IncomeGroup</th>\n",
       "      <th>Estimated Nominal GDP 2019</th>\n",
       "      <th>GDP Rank</th>\n",
       "      <th>GDP Growth (%) 2019</th>\n",
       "    </tr>\n",
       "    <tr>\n",
       "      <th>Country</th>\n",
       "      <th></th>\n",
       "      <th></th>\n",
       "      <th></th>\n",
       "      <th></th>\n",
       "      <th></th>\n",
       "      <th></th>\n",
       "      <th></th>\n",
       "      <th></th>\n",
       "      <th></th>\n",
       "      <th></th>\n",
       "    </tr>\n",
       "  </thead>\n",
       "  <tbody>\n",
       "    <tr>\n",
       "      <th>Saudi Arabia</th>\n",
       "      <td>0.97</td>\n",
       "      <td>1.0</td>\n",
       "      <td>3.0</td>\n",
       "      <td>1.0</td>\n",
       "      <td>1.0</td>\n",
       "      <td>Middle East &amp; North Africa</td>\n",
       "      <td>High income</td>\n",
       "      <td>795.582</td>\n",
       "      <td>18.0</td>\n",
       "      <td>2.428</td>\n",
       "    </tr>\n",
       "    <tr>\n",
       "      <th>Tajikistan</th>\n",
       "      <td>1.52</td>\n",
       "      <td>1.0</td>\n",
       "      <td>2.0</td>\n",
       "      <td>1.0</td>\n",
       "      <td>0.0</td>\n",
       "      <td>Europe &amp; Central Asia</td>\n",
       "      <td>Low income</td>\n",
       "      <td>7.577</td>\n",
       "      <td>149.0</td>\n",
       "      <td>5.000</td>\n",
       "    </tr>\n",
       "    <tr>\n",
       "      <th>Uzbekistan</th>\n",
       "      <td>1.65</td>\n",
       "      <td>1.0</td>\n",
       "      <td>2.0</td>\n",
       "      <td>1.0</td>\n",
       "      <td>0.0</td>\n",
       "      <td>Europe &amp; Central Asia</td>\n",
       "      <td>Lower middle income</td>\n",
       "      <td>51.339</td>\n",
       "      <td>86.0</td>\n",
       "      <td>5.000</td>\n",
       "    </tr>\n",
       "    <tr>\n",
       "      <th>Bahrain</th>\n",
       "      <td>1.72</td>\n",
       "      <td>1.0</td>\n",
       "      <td>2.0</td>\n",
       "      <td>1.0</td>\n",
       "      <td>0.0</td>\n",
       "      <td>Middle East &amp; North Africa</td>\n",
       "      <td>High income</td>\n",
       "      <td>41.607</td>\n",
       "      <td>97.0</td>\n",
       "      <td>2.585</td>\n",
       "    </tr>\n",
       "    <tr>\n",
       "      <th>China</th>\n",
       "      <td>1.77</td>\n",
       "      <td>1.0</td>\n",
       "      <td>3.0</td>\n",
       "      <td>1.0</td>\n",
       "      <td>1.0</td>\n",
       "      <td>East Asia &amp; Pacific</td>\n",
       "      <td>Upper middle income</td>\n",
       "      <td>14172.200</td>\n",
       "      <td>2.0</td>\n",
       "      <td>6.176</td>\n",
       "    </tr>\n",
       "    <tr>\n",
       "      <th>United Arab Emirates</th>\n",
       "      <td>1.87</td>\n",
       "      <td>1.0</td>\n",
       "      <td>3.0</td>\n",
       "      <td>1.0</td>\n",
       "      <td>1.0</td>\n",
       "      <td>Middle East &amp; North Africa</td>\n",
       "      <td>High income</td>\n",
       "      <td>455.587</td>\n",
       "      <td>27.0</td>\n",
       "      <td>3.662</td>\n",
       "    </tr>\n",
       "    <tr>\n",
       "      <th>Qatar</th>\n",
       "      <td>2.21</td>\n",
       "      <td>1.0</td>\n",
       "      <td>3.0</td>\n",
       "      <td>0.0</td>\n",
       "      <td>0.0</td>\n",
       "      <td>Middle East &amp; North Africa</td>\n",
       "      <td>High income</td>\n",
       "      <td>204.306</td>\n",
       "      <td>54.0</td>\n",
       "      <td>2.816</td>\n",
       "    </tr>\n",
       "    <tr>\n",
       "      <th>Oman</th>\n",
       "      <td>2.41</td>\n",
       "      <td>1.0</td>\n",
       "      <td>2.0</td>\n",
       "      <td>1.0</td>\n",
       "      <td>1.0</td>\n",
       "      <td>Middle East &amp; North Africa</td>\n",
       "      <td>High income</td>\n",
       "      <td>86.525</td>\n",
       "      <td>69.0</td>\n",
       "      <td>5.045</td>\n",
       "    </tr>\n",
       "    <tr>\n",
       "      <th>Laos</th>\n",
       "      <td>2.46</td>\n",
       "      <td>1.0</td>\n",
       "      <td>2.0</td>\n",
       "      <td>1.0</td>\n",
       "      <td>0.0</td>\n",
       "      <td>NaN</td>\n",
       "      <td>NaN</td>\n",
       "      <td>NaN</td>\n",
       "      <td>NaN</td>\n",
       "      <td>NaN</td>\n",
       "    </tr>\n",
       "    <tr>\n",
       "      <th>Venezuela</th>\n",
       "      <td>2.49</td>\n",
       "      <td>1.0</td>\n",
       "      <td>1.0</td>\n",
       "      <td>1.0</td>\n",
       "      <td>0.0</td>\n",
       "      <td>Latin America &amp; Caribbean</td>\n",
       "      <td>Upper middle income</td>\n",
       "      <td>87.010</td>\n",
       "      <td>68.0</td>\n",
       "      <td>-5.000</td>\n",
       "    </tr>\n",
       "    <tr>\n",
       "      <th>Egypt</th>\n",
       "      <td>2.56</td>\n",
       "      <td>1.0</td>\n",
       "      <td>3.0</td>\n",
       "      <td>1.0</td>\n",
       "      <td>1.0</td>\n",
       "      <td>NaN</td>\n",
       "      <td>NaN</td>\n",
       "      <td>298.153</td>\n",
       "      <td>44.0</td>\n",
       "      <td>5.464</td>\n",
       "    </tr>\n",
       "    <tr>\n",
       "      <th>Russia</th>\n",
       "      <td>2.60</td>\n",
       "      <td>1.0</td>\n",
       "      <td>3.0</td>\n",
       "      <td>1.0</td>\n",
       "      <td>1.0</td>\n",
       "      <td>NaN</td>\n",
       "      <td>NaN</td>\n",
       "      <td>1649.210</td>\n",
       "      <td>12.0</td>\n",
       "      <td>1.797</td>\n",
       "    </tr>\n",
       "    <tr>\n",
       "      <th>Rwanda</th>\n",
       "      <td>2.75</td>\n",
       "      <td>1.0</td>\n",
       "      <td>1.0</td>\n",
       "      <td>1.0</td>\n",
       "      <td>0.0</td>\n",
       "      <td>Sub-Saharan Africa</td>\n",
       "      <td>Low income</td>\n",
       "      <td>10.532</td>\n",
       "      <td>142.0</td>\n",
       "      <td>7.800</td>\n",
       "    </tr>\n",
       "    <tr>\n",
       "      <th>Kazakhstan</th>\n",
       "      <td>3.01</td>\n",
       "      <td>1.0</td>\n",
       "      <td>3.0</td>\n",
       "      <td>1.0</td>\n",
       "      <td>1.0</td>\n",
       "      <td>Europe &amp; Central Asia</td>\n",
       "      <td>Upper middle income</td>\n",
       "      <td>195.738</td>\n",
       "      <td>56.0</td>\n",
       "      <td>3.130</td>\n",
       "    </tr>\n",
       "    <tr>\n",
       "      <th>Thailand</th>\n",
       "      <td>3.08</td>\n",
       "      <td>1.0</td>\n",
       "      <td>2.0</td>\n",
       "      <td>1.0</td>\n",
       "      <td>0.0</td>\n",
       "      <td>East Asia &amp; Pacific</td>\n",
       "      <td>Upper middle income</td>\n",
       "      <td>524.253</td>\n",
       "      <td>25.0</td>\n",
       "      <td>3.859</td>\n",
       "    </tr>\n",
       "    <tr>\n",
       "      <th>Zimbabwe</th>\n",
       "      <td>3.18</td>\n",
       "      <td>0.0</td>\n",
       "      <td>2.0</td>\n",
       "      <td>1.0</td>\n",
       "      <td>0.0</td>\n",
       "      <td>Sub-Saharan Africa</td>\n",
       "      <td>Low income</td>\n",
       "      <td>21.630</td>\n",
       "      <td>113.0</td>\n",
       "      <td>4.202</td>\n",
       "    </tr>\n",
       "    <tr>\n",
       "      <th>Algeria</th>\n",
       "      <td>3.32</td>\n",
       "      <td>0.0</td>\n",
       "      <td>1.0</td>\n",
       "      <td>1.0</td>\n",
       "      <td>0.0</td>\n",
       "      <td>Middle East &amp; North Africa</td>\n",
       "      <td>Upper middle income</td>\n",
       "      <td>200.171</td>\n",
       "      <td>55.0</td>\n",
       "      <td>2.708</td>\n",
       "    </tr>\n",
       "    <tr>\n",
       "      <th>Iraq</th>\n",
       "      <td>3.36</td>\n",
       "      <td>1.0</td>\n",
       "      <td>2.0</td>\n",
       "      <td>1.0</td>\n",
       "      <td>0.0</td>\n",
       "      <td>Middle East &amp; North Africa</td>\n",
       "      <td>Upper middle income</td>\n",
       "      <td>250.070</td>\n",
       "      <td>48.0</td>\n",
       "      <td>6.517</td>\n",
       "    </tr>\n",
       "    <tr>\n",
       "      <th>Iran</th>\n",
       "      <td>3.57</td>\n",
       "      <td>1.0</td>\n",
       "      <td>3.0</td>\n",
       "      <td>1.0</td>\n",
       "      <td>0.0</td>\n",
       "      <td>NaN</td>\n",
       "      <td>NaN</td>\n",
       "      <td>NaN</td>\n",
       "      <td>NaN</td>\n",
       "      <td>NaN</td>\n",
       "    </tr>\n",
       "    <tr>\n",
       "      <th>Lebanon</th>\n",
       "      <td>3.62</td>\n",
       "      <td>1.0</td>\n",
       "      <td>2.0</td>\n",
       "      <td>0.0</td>\n",
       "      <td>1.0</td>\n",
       "      <td>Middle East &amp; North Africa</td>\n",
       "      <td>Upper middle income</td>\n",
       "      <td>59.732</td>\n",
       "      <td>81.0</td>\n",
       "      <td>1.400</td>\n",
       "    </tr>\n",
       "    <tr>\n",
       "      <th>Turkey</th>\n",
       "      <td>3.65</td>\n",
       "      <td>1.0</td>\n",
       "      <td>2.0</td>\n",
       "      <td>1.0</td>\n",
       "      <td>1.0</td>\n",
       "      <td>Europe &amp; Central Asia</td>\n",
       "      <td>Upper middle income</td>\n",
       "      <td>631.163</td>\n",
       "      <td>20.0</td>\n",
       "      <td>0.374</td>\n",
       "    </tr>\n",
       "    <tr>\n",
       "      <th>Kenya</th>\n",
       "      <td>3.93</td>\n",
       "      <td>1.0</td>\n",
       "      <td>3.0</td>\n",
       "      <td>1.0</td>\n",
       "      <td>0.0</td>\n",
       "      <td>Sub-Saharan Africa</td>\n",
       "      <td>Lower middle income</td>\n",
       "      <td>98.264</td>\n",
       "      <td>65.0</td>\n",
       "      <td>6.134</td>\n",
       "    </tr>\n",
       "    <tr>\n",
       "      <th>Uganda</th>\n",
       "      <td>4.18</td>\n",
       "      <td>1.0</td>\n",
       "      <td>2.0</td>\n",
       "      <td>1.0</td>\n",
       "      <td>0.0</td>\n",
       "      <td>Sub-Saharan Africa</td>\n",
       "      <td>Low income</td>\n",
       "      <td>29.869</td>\n",
       "      <td>104.0</td>\n",
       "      <td>6.105</td>\n",
       "    </tr>\n",
       "    <tr>\n",
       "      <th>Myanmar</th>\n",
       "      <td>4.18</td>\n",
       "      <td>1.0</td>\n",
       "      <td>2.0</td>\n",
       "      <td>1.0</td>\n",
       "      <td>0.0</td>\n",
       "      <td>East Asia &amp; Pacific</td>\n",
       "      <td>Lower middle income</td>\n",
       "      <td>73.954</td>\n",
       "      <td>72.0</td>\n",
       "      <td>6.795</td>\n",
       "    </tr>\n",
       "    <tr>\n",
       "      <th>Bangladesh</th>\n",
       "      <td>4.36</td>\n",
       "      <td>1.0</td>\n",
       "      <td>3.0</td>\n",
       "      <td>1.0</td>\n",
       "      <td>0.0</td>\n",
       "      <td>South Asia</td>\n",
       "      <td>Lower middle income</td>\n",
       "      <td>313.509</td>\n",
       "      <td>41.0</td>\n",
       "      <td>7.097</td>\n",
       "    </tr>\n",
       "    <tr>\n",
       "      <th>Pakistan</th>\n",
       "      <td>4.44</td>\n",
       "      <td>1.0</td>\n",
       "      <td>3.0</td>\n",
       "      <td>1.0</td>\n",
       "      <td>0.0</td>\n",
       "      <td>South Asia</td>\n",
       "      <td>Lower middle income</td>\n",
       "      <td>298.310</td>\n",
       "      <td>43.0</td>\n",
       "      <td>4.005</td>\n",
       "    </tr>\n",
       "    <tr>\n",
       "      <th>Nigeria</th>\n",
       "      <td>4.47</td>\n",
       "      <td>0.0</td>\n",
       "      <td>1.0</td>\n",
       "      <td>1.0</td>\n",
       "      <td>0.0</td>\n",
       "      <td>Sub-Saharan Africa</td>\n",
       "      <td>Lower middle income</td>\n",
       "      <td>447.013</td>\n",
       "      <td>29.0</td>\n",
       "      <td>2.260</td>\n",
       "    </tr>\n",
       "    <tr>\n",
       "      <th>Kyrgyzstan</th>\n",
       "      <td>4.61</td>\n",
       "      <td>1.0</td>\n",
       "      <td>3.0</td>\n",
       "      <td>1.0</td>\n",
       "      <td>0.0</td>\n",
       "      <td>NaN</td>\n",
       "      <td>NaN</td>\n",
       "      <td>NaN</td>\n",
       "      <td>NaN</td>\n",
       "      <td>NaN</td>\n",
       "    </tr>\n",
       "    <tr>\n",
       "      <th>Zambia</th>\n",
       "      <td>4.83</td>\n",
       "      <td>0.0</td>\n",
       "      <td>1.0</td>\n",
       "      <td>1.0</td>\n",
       "      <td>0.0</td>\n",
       "      <td>Sub-Saharan Africa</td>\n",
       "      <td>Lower middle income</td>\n",
       "      <td>26.118</td>\n",
       "      <td>108.0</td>\n",
       "      <td>4.478</td>\n",
       "    </tr>\n",
       "    <tr>\n",
       "      <th>Armenia</th>\n",
       "      <td>4.94</td>\n",
       "      <td>1.0</td>\n",
       "      <td>2.0</td>\n",
       "      <td>1.0</td>\n",
       "      <td>0.0</td>\n",
       "      <td>Europe &amp; Central Asia</td>\n",
       "      <td>Upper middle income</td>\n",
       "      <td>13.302</td>\n",
       "      <td>134.0</td>\n",
       "      <td>4.800</td>\n",
       "    </tr>\n",
       "    <tr>\n",
       "      <th>Mexico</th>\n",
       "      <td>5.93</td>\n",
       "      <td>0.0</td>\n",
       "      <td>3.0</td>\n",
       "      <td>1.0</td>\n",
       "      <td>1.0</td>\n",
       "      <td>NaN</td>\n",
       "      <td>NaN</td>\n",
       "      <td>1242.390</td>\n",
       "      <td>15.0</td>\n",
       "      <td>2.524</td>\n",
       "    </tr>\n",
       "    <tr>\n",
       "      <th>Bolivia</th>\n",
       "      <td>6.27</td>\n",
       "      <td>1.0</td>\n",
       "      <td>3.0</td>\n",
       "      <td>1.0</td>\n",
       "      <td>0.0</td>\n",
       "      <td>Latin America &amp; Caribbean</td>\n",
       "      <td>Lower middle income</td>\n",
       "      <td>45.045</td>\n",
       "      <td>93.0</td>\n",
       "      <td>4.200</td>\n",
       "    </tr>\n",
       "  </tbody>\n",
       "</table>\n",
       "</div>"
      ],
      "text/plain": [
       "                      Agg. AIGS Score  (BRI) Participant  \\\n",
       "Country                                                    \n",
       "Saudi Arabia                     0.97                1.0   \n",
       "Tajikistan                       1.52                1.0   \n",
       "Uzbekistan                       1.65                1.0   \n",
       "Bahrain                          1.72                1.0   \n",
       "China                            1.77                1.0   \n",
       "United Arab Emirates             1.87                1.0   \n",
       "Qatar                            2.21                1.0   \n",
       "Oman                             2.41                1.0   \n",
       "Laos                             2.46                1.0   \n",
       "Venezuela                        2.49                1.0   \n",
       "Egypt                            2.56                1.0   \n",
       "Russia                           2.60                1.0   \n",
       "Rwanda                           2.75                1.0   \n",
       "Kazakhstan                       3.01                1.0   \n",
       "Thailand                         3.08                1.0   \n",
       "Zimbabwe                         3.18                0.0   \n",
       "Algeria                          3.32                0.0   \n",
       "Iraq                             3.36                1.0   \n",
       "Iran                             3.57                1.0   \n",
       "Lebanon                          3.62                1.0   \n",
       "Turkey                           3.65                1.0   \n",
       "Kenya                            3.93                1.0   \n",
       "Uganda                           4.18                1.0   \n",
       "Myanmar                          4.18                1.0   \n",
       "Bangladesh                       4.36                1.0   \n",
       "Pakistan                         4.44                1.0   \n",
       "Nigeria                          4.47                0.0   \n",
       "Kyrgyzstan                       4.61                1.0   \n",
       "Zambia                           4.83                0.0   \n",
       "Armenia                          4.94                1.0   \n",
       "Mexico                           5.93                0.0   \n",
       "Bolivia                          6.27                1.0   \n",
       "\n",
       "                      Types of AI Surveillance  Powered by Chinese Tech  \\\n",
       "Country                                                                   \n",
       "Saudi Arabia                               3.0                      1.0   \n",
       "Tajikistan                                 2.0                      1.0   \n",
       "Uzbekistan                                 2.0                      1.0   \n",
       "Bahrain                                    2.0                      1.0   \n",
       "China                                      3.0                      1.0   \n",
       "United Arab Emirates                       3.0                      1.0   \n",
       "Qatar                                      3.0                      0.0   \n",
       "Oman                                       2.0                      1.0   \n",
       "Laos                                       2.0                      1.0   \n",
       "Venezuela                                  1.0                      1.0   \n",
       "Egypt                                      3.0                      1.0   \n",
       "Russia                                     3.0                      1.0   \n",
       "Rwanda                                     1.0                      1.0   \n",
       "Kazakhstan                                 3.0                      1.0   \n",
       "Thailand                                   2.0                      1.0   \n",
       "Zimbabwe                                   2.0                      1.0   \n",
       "Algeria                                    1.0                      1.0   \n",
       "Iraq                                       2.0                      1.0   \n",
       "Iran                                       3.0                      1.0   \n",
       "Lebanon                                    2.0                      0.0   \n",
       "Turkey                                     2.0                      1.0   \n",
       "Kenya                                      3.0                      1.0   \n",
       "Uganda                                     2.0                      1.0   \n",
       "Myanmar                                    2.0                      1.0   \n",
       "Bangladesh                                 3.0                      1.0   \n",
       "Pakistan                                   3.0                      1.0   \n",
       "Nigeria                                    1.0                      1.0   \n",
       "Kyrgyzstan                                 3.0                      1.0   \n",
       "Zambia                                     1.0                      1.0   \n",
       "Armenia                                    2.0                      1.0   \n",
       "Mexico                                     3.0                      1.0   \n",
       "Bolivia                                    3.0                      1.0   \n",
       "\n",
       "                      Powered by American Tech                      Region  \\\n",
       "Country                                                                      \n",
       "Saudi Arabia                               1.0  Middle East & North Africa   \n",
       "Tajikistan                                 0.0       Europe & Central Asia   \n",
       "Uzbekistan                                 0.0       Europe & Central Asia   \n",
       "Bahrain                                    0.0  Middle East & North Africa   \n",
       "China                                      1.0         East Asia & Pacific   \n",
       "United Arab Emirates                       1.0  Middle East & North Africa   \n",
       "Qatar                                      0.0  Middle East & North Africa   \n",
       "Oman                                       1.0  Middle East & North Africa   \n",
       "Laos                                       0.0                         NaN   \n",
       "Venezuela                                  0.0   Latin America & Caribbean   \n",
       "Egypt                                      1.0                         NaN   \n",
       "Russia                                     1.0                         NaN   \n",
       "Rwanda                                     0.0          Sub-Saharan Africa   \n",
       "Kazakhstan                                 1.0       Europe & Central Asia   \n",
       "Thailand                                   0.0         East Asia & Pacific   \n",
       "Zimbabwe                                   0.0          Sub-Saharan Africa   \n",
       "Algeria                                    0.0  Middle East & North Africa   \n",
       "Iraq                                       0.0  Middle East & North Africa   \n",
       "Iran                                       0.0                         NaN   \n",
       "Lebanon                                    1.0  Middle East & North Africa   \n",
       "Turkey                                     1.0       Europe & Central Asia   \n",
       "Kenya                                      0.0          Sub-Saharan Africa   \n",
       "Uganda                                     0.0          Sub-Saharan Africa   \n",
       "Myanmar                                    0.0         East Asia & Pacific   \n",
       "Bangladesh                                 0.0                  South Asia   \n",
       "Pakistan                                   0.0                  South Asia   \n",
       "Nigeria                                    0.0          Sub-Saharan Africa   \n",
       "Kyrgyzstan                                 0.0                         NaN   \n",
       "Zambia                                     0.0          Sub-Saharan Africa   \n",
       "Armenia                                    0.0       Europe & Central Asia   \n",
       "Mexico                                     1.0                         NaN   \n",
       "Bolivia                                    0.0   Latin America & Caribbean   \n",
       "\n",
       "                              IncomeGroup  Estimated Nominal GDP 2019  \\\n",
       "Country                                                                 \n",
       "Saudi Arabia                  High income                     795.582   \n",
       "Tajikistan                     Low income                       7.577   \n",
       "Uzbekistan            Lower middle income                      51.339   \n",
       "Bahrain                       High income                      41.607   \n",
       "China                 Upper middle income                   14172.200   \n",
       "United Arab Emirates          High income                     455.587   \n",
       "Qatar                         High income                     204.306   \n",
       "Oman                          High income                      86.525   \n",
       "Laos                                  NaN                         NaN   \n",
       "Venezuela             Upper middle income                      87.010   \n",
       "Egypt                                 NaN                     298.153   \n",
       "Russia                                NaN                    1649.210   \n",
       "Rwanda                         Low income                      10.532   \n",
       "Kazakhstan            Upper middle income                     195.738   \n",
       "Thailand              Upper middle income                     524.253   \n",
       "Zimbabwe                       Low income                      21.630   \n",
       "Algeria               Upper middle income                     200.171   \n",
       "Iraq                  Upper middle income                     250.070   \n",
       "Iran                                  NaN                         NaN   \n",
       "Lebanon               Upper middle income                      59.732   \n",
       "Turkey                Upper middle income                     631.163   \n",
       "Kenya                 Lower middle income                      98.264   \n",
       "Uganda                         Low income                      29.869   \n",
       "Myanmar               Lower middle income                      73.954   \n",
       "Bangladesh            Lower middle income                     313.509   \n",
       "Pakistan              Lower middle income                     298.310   \n",
       "Nigeria               Lower middle income                     447.013   \n",
       "Kyrgyzstan                            NaN                         NaN   \n",
       "Zambia                Lower middle income                      26.118   \n",
       "Armenia               Upper middle income                      13.302   \n",
       "Mexico                                NaN                    1242.390   \n",
       "Bolivia               Lower middle income                      45.045   \n",
       "\n",
       "                      GDP Rank  GDP Growth (%) 2019  \n",
       "Country                                              \n",
       "Saudi Arabia              18.0                2.428  \n",
       "Tajikistan               149.0                5.000  \n",
       "Uzbekistan                86.0                5.000  \n",
       "Bahrain                   97.0                2.585  \n",
       "China                      2.0                6.176  \n",
       "United Arab Emirates      27.0                3.662  \n",
       "Qatar                     54.0                2.816  \n",
       "Oman                      69.0                5.045  \n",
       "Laos                       NaN                  NaN  \n",
       "Venezuela                 68.0               -5.000  \n",
       "Egypt                     44.0                5.464  \n",
       "Russia                    12.0                1.797  \n",
       "Rwanda                   142.0                7.800  \n",
       "Kazakhstan                56.0                3.130  \n",
       "Thailand                  25.0                3.859  \n",
       "Zimbabwe                 113.0                4.202  \n",
       "Algeria                   55.0                2.708  \n",
       "Iraq                      48.0                6.517  \n",
       "Iran                       NaN                  NaN  \n",
       "Lebanon                   81.0                1.400  \n",
       "Turkey                    20.0                0.374  \n",
       "Kenya                     65.0                6.134  \n",
       "Uganda                   104.0                6.105  \n",
       "Myanmar                   72.0                6.795  \n",
       "Bangladesh                41.0                7.097  \n",
       "Pakistan                  43.0                4.005  \n",
       "Nigeria                   29.0                2.260  \n",
       "Kyrgyzstan                 NaN                  NaN  \n",
       "Zambia                   108.0                4.478  \n",
       "Armenia                  134.0                4.800  \n",
       "Mexico                    15.0                2.524  \n",
       "Bolivia                   93.0                4.200  "
      ]
     },
     "execution_count": 189,
     "metadata": {},
     "output_type": "execute_result"
    }
   ],
   "source": [
    "Final_df2"
   ]
  },
  {
   "cell_type": "code",
   "execution_count": 190,
   "metadata": {},
   "outputs": [],
   "source": [
    "Final2_matrix = Final_df2.corr()"
   ]
  },
  {
   "cell_type": "code",
   "execution_count": 191,
   "metadata": {},
   "outputs": [
    {
     "data": {
      "text/plain": [
       "<AxesSubplot:>"
      ]
     },
     "execution_count": 191,
     "metadata": {},
     "output_type": "execute_result"
    },
    {
     "data": {
      "image/png": "[encoded data removed]",
      "text/plain": [
       "<Figure size 432x288 with 2 Axes>"
      ]
     },
     "metadata": {
      "needs_background": "light"
     },
     "output_type": "display_data"
    }
   ],
   "source": [
    "sns.heatmap(Final2_matrix, cmap=\"YlGnBu\")"
   ]
  },
  {
   "cell_type": "code",
   "execution_count": 192,
   "metadata": {},
   "outputs": [
    {
     "data": {
      "text/plain": [
       "\"\\nHigh value in one relates to high value in the other:\\n    BRI Participation vs Types of Surveillance, -> BRI Participants are more likely to use various types of surveillance measures\\n    Powered by American Tech vs Types of Surveillance, -> Countries powered by American Tech are also likely to use different types of surveillance measures\\n    Powered by American Tech vs Estimateed Nominal GDP 2019, -> Nations with High GDP are likely to buy American Tech\\n    GDP Rank vs GDP Growth, -> 'Larger' Rank AKA Low Ranked Nations are experience Higher Growth rates\\n\""
      ]
     },
     "execution_count": 192,
     "metadata": {},
     "output_type": "execute_result"
    }
   ],
   "source": [
    "#Amongst the 30 Worst Offendors on the AI Global Surveillance Index, the following seem to be inversely correlated:\n",
    "'''\n",
    "High value in one relates to low value in the other:\n",
    "    BRI Participant vs Agg. AIGS Score, \n",
    "    GDP Rank vs Types of Surveillance, -> 'Smaller' Rank AKA Higher Ranked Nations have a larger variety of Surveillance measures\n",
    "    GDP Rank vs Powered by American Tech, -> 'Smaller' Rank AKA Higher Ranked Nations are likely to be Powered by American Tech\n",
    "    GDP Rank vs Estimated Nominal GDP 2019, -> 'Smaller' Rank AKA Higher Ranked Nations have a larger estimated Nominal GDP\n",
    "    GDP Growth vs Powered by American Tech -> Countries Experiencing higher Growth Rates are more likely to have purchased American Tech\n",
    "'''\n",
    "#Amongst the 30 Worst Offendors on the AI Global Surveillance Index, the following seem to be directly correlated:\n",
    "'''\n",
    "High value in one relates to high value in the other:\n",
    "    BRI Participation vs Types of Surveillance, -> BRI Participants are more likely to use various types of surveillance measures\n",
    "    Powered by American Tech vs Types of Surveillance, -> Countries powered by American Tech are also likely to use different types of surveillance measures\n",
    "    Powered by American Tech vs Estimateed Nominal GDP 2019, -> Nations with High GDP are likely to buy American Tech\n",
    "    GDP Rank vs GDP Growth, -> 'Larger' Rank AKA Low Ranked Nations are experience Higher Growth rates\n",
    "'''"
   ]
  }
 ],
 "metadata": {
  "kernelspec": {
   "display_name": "Python 3",
   "language": "python",
   "name": "python3"
  },
  "language_info": {
   "codemirror_mode": {
    "name": "ipython",
    "version": 3
   },
   "file_extension": ".py",
   "mimetype": "text/x-python",
   "name": "python",
   "nbconvert_exporter": "python",
   "pygments_lexer": "ipython3",
   "version": "3.8.5"
  }
 },
 "nbformat": 4,
 "nbformat_minor": 2
}
